{
 "cells": [
  {
   "cell_type": "markdown",
   "metadata": {},
   "source": [
    "# Transactions Database\n",
    "Explore the Transactions Database using Python + SQL in the SCx Package"
   ]
  },
  {
   "cell_type": "code",
   "execution_count": 1,
   "metadata": {
    "execution": {
     "iopub.execute_input": "2025-10-06T19:41:02.020125Z",
     "iopub.status.busy": "2025-10-06T19:41:02.020022Z",
     "iopub.status.idle": "2025-10-06T19:41:03.026400Z",
     "shell.execute_reply": "2025-10-06T19:41:03.025968Z"
    }
   },
   "outputs": [
    {
     "name": "stdout",
     "output_type": "stream",
     "text": [
      "Note: you may need to restart the kernel to use updated packages.\n"
     ]
    }
   ],
   "source": [
    "pip install scx>=1.3.0 #Note: This may throw an Error in Google Colab since Colab uses an outdated duckdb package. This file should still work in Colab without issues."
   ]
  },
  {
   "cell_type": "code",
   "execution_count": 2,
   "metadata": {
    "execution": {
     "iopub.execute_input": "2025-10-06T19:41:03.055995Z",
     "iopub.status.busy": "2025-10-06T19:41:03.055864Z",
     "iopub.status.idle": "2025-10-06T19:41:03.124466Z",
     "shell.execute_reply": "2025-10-06T19:41:03.124073Z"
    }
   },
   "outputs": [],
   "source": [
    "# Import the Database class\n",
    "from scx.database import Database\n",
    "# Import the pretty print module\n",
    "from pprint import pprint"
   ]
  },
  {
   "cell_type": "code",
   "execution_count": 3,
   "metadata": {
    "execution": {
     "iopub.execute_input": "2025-10-06T19:41:03.125908Z",
     "iopub.status.busy": "2025-10-06T19:41:03.125797Z",
     "iopub.status.idle": "2025-10-06T19:41:06.026015Z",
     "shell.execute_reply": "2025-10-06T19:41:06.025673Z"
    }
   },
   "outputs": [],
   "source": [
    "# Specify the S3 path to the data\n",
    "data_folder = 's3://scx-dev/databases/supermarket/'\n",
    "# Create the database\n",
    "db = Database(f\"\"\"\n",
    "    CREATE TABLE Customers AS SELECT * FROM read_parquet('{data_folder}customers.parquet');\n",
    "    CREATE TABLE CustomerSurvey AS SELECT * FROM read_parquet('{data_folder}customer_survey.parquet');\n",
    "    CREATE TABLE Items AS SELECT * FROM read_parquet('{data_folder}items.parquet');\n",
    "    CREATE TABLE Sales AS SELECT * FROM read_parquet('{data_folder}sales.parquet');\n",
    "    CREATE TABLE Stores AS SELECT * FROM read_parquet('{data_folder}stores.parquet');\n",
    "    CREATE TABLE Transactions AS SELECT * FROM read_parquet('{data_folder}transactions.parquet');\n",
    "    CREATE TABLE ZipData AS SELECT * FROM read_parquet('{data_folder}zipdata.parquet');\n",
    "\"\"\")"
   ]
  },
  {
   "cell_type": "code",
   "execution_count": 4,
   "metadata": {
    "execution": {
     "iopub.execute_input": "2025-10-06T19:41:06.027439Z",
     "iopub.status.busy": "2025-10-06T19:41:06.027332Z",
     "iopub.status.idle": "2025-10-06T19:41:06.049354Z",
     "shell.execute_reply": "2025-10-06T19:41:06.048914Z"
    }
   },
   "outputs": [
    {
     "name": "stdout",
     "output_type": "stream",
     "text": [
      "=========================\n",
      "Table: CustomerSurvey\n",
      "  Customer_ID: BIGINT\n",
      "  Cust_Sex: VARCHAR\n",
      "  Cust_Income: BIGINT\n",
      "  Cust_Race: VARCHAR\n",
      "  Cust_Age: VARCHAR\n",
      "  Cust_Children: VARCHAR\n",
      "  Cust_Rel_Status: VARCHAR\n",
      "\n",
      "=========================\n",
      "Table: Customers\n",
      "  Customer_ID: BIGINT\n",
      "  First_Name: VARCHAR\n",
      "  Last_Name: VARCHAR\n",
      "  Customer_Address: VARCHAR\n",
      "  Customer_City: VARCHAR\n",
      "  Customer_State: VARCHAR\n",
      "  Customer_Zip: BIGINT\n",
      "  Customer_Phone_Number: VARCHAR\n",
      "\n",
      "=========================\n",
      "Table: Items\n",
      "  Item_ID: BIGINT\n",
      "  Item_Name: VARCHAR\n",
      "  Price_Per_Item: DOUBLE\n",
      "\n",
      "=========================\n",
      "Table: Sales\n",
      "  Sale_ID: BIGINT\n",
      "  Customer_ID: BIGINT\n",
      "  Store_ID: BIGINT\n",
      "  Sale_Week: BIGINT\n",
      "\n",
      "=========================\n",
      "Table: Stores\n",
      "  Store_ID: BIGINT\n",
      "  Store_Name: VARCHAR\n",
      "  Store_Size: VARCHAR\n",
      "  Store_Address: VARCHAR\n",
      "  Store_City: VARCHAR\n",
      "  Store_State: VARCHAR\n",
      "  Store_Zip: BIGINT\n",
      "  Store_Phone_Number: VARCHAR\n",
      "\n",
      "=========================\n",
      "Table: Transactions\n",
      "  Sale_ID: BIGINT\n",
      "  Item_ID: BIGINT\n",
      "  Amount_Purchased: BIGINT\n",
      "  Item_Discount: DOUBLE\n",
      "\n",
      "=========================\n",
      "Table: ZipData\n",
      "  zip_code: BIGINT\n",
      "  City: VARCHAR\n",
      "  State: VARCHAR\n",
      "  median_income: VARCHAR\n",
      "  N_Households: BIGINT\n",
      "  Pct_White: DOUBLE\n",
      "  Pct_Black: DOUBLE\n",
      "  Pct_Am_Indian: DOUBLE\n",
      "  Pct_Asian: DOUBLE\n",
      "  Pct_Pacific_Islander: DOUBLE\n",
      "  Pct_Other: DOUBLE\n",
      "  Pct_2Race: DOUBLE\n",
      "  Pct_15_24: DOUBLE\n",
      "  Pct_25_44: DOUBLE\n",
      "  Pct_45_64: DOUBLE\n",
      "  Pct_65_up: DOUBLE\n",
      "  Pct_Fam_Children: DOUBLE\n",
      "  Pct_Fam_No_Child: DOUBLE\n",
      "  Pct_Married: DOUBLE\n",
      "  Pct_Female_Single: DOUBLE\n",
      "  Pct_Male_Single: DOUBLE\n",
      "\n"
     ]
    }
   ],
   "source": [
    "# Show the Schema\n",
    "db.show_info()"
   ]
  },
  {
   "cell_type": "code",
   "execution_count": 5,
   "metadata": {
    "execution": {
     "iopub.execute_input": "2025-10-06T19:41:06.050922Z",
     "iopub.status.busy": "2025-10-06T19:41:06.050789Z",
     "iopub.status.idle": "2025-10-06T19:41:06.055874Z",
     "shell.execute_reply": "2025-10-06T19:41:06.055439Z"
    }
   },
   "outputs": [
    {
     "name": "stdout",
     "output_type": "stream",
     "text": [
      "[{'Item_ID': 799673, 'Item_Name': 'Cake', 'Price_Per_Item': 9.14}]\n"
     ]
    }
   ],
   "source": [
    "# Return the most expensive item in the Items table\n",
    "pprint(db.query(\"\"\"\n",
    "    SELECT * FROM Items\n",
    "    WHERE Price_Per_Item = (SELECT MAX(Price_Per_Item) FROM Items)\n",
    "    LIMIT 1;\n",
    "\"\"\"))"
   ]
  },
  {
   "cell_type": "code",
   "execution_count": 6,
   "metadata": {
    "execution": {
     "iopub.execute_input": "2025-10-06T19:41:06.057284Z",
     "iopub.status.busy": "2025-10-06T19:41:06.057138Z",
     "iopub.status.idle": "2025-10-06T19:41:06.065612Z",
     "shell.execute_reply": "2025-10-06T19:41:06.065200Z"
    }
   },
   "outputs": [
    {
     "name": "stdout",
     "output_type": "stream",
     "text": [
      "[{'Cost': 23.4, 'Item_Name': 'Watermelons', 'Item_Quantity': 4, 'Sale_ID': 1},\n",
      " {'Cost': 7.49, 'Item_Name': 'Blackberries', 'Item_Quantity': 2, 'Sale_ID': 1},\n",
      " {'Cost': 3.52, 'Item_Name': 'Beets', 'Item_Quantity': 1, 'Sale_ID': 1},\n",
      " {'Cost': 7.88, 'Item_Name': 'Bell Pepper', 'Item_Quantity': 2, 'Sale_ID': 1},\n",
      " {'Cost': 3.74, 'Item_Name': 'Broccoli', 'Item_Quantity': 1, 'Sale_ID': 1}]\n"
     ]
    }
   ],
   "source": [
    "# Select the first 5 rows of the Transactions table and join it \n",
    "# with the Items table to get the:\n",
    "# - Sale_ID\n",
    "# - Cost (Amount_Purchased * Price_Per_Item * (1-Item_Discount))\n",
    "#   - Round the Cost to 2 decimal places\n",
    "# - Item_Name\n",
    "# - Item_Quantity\n",
    "pprint(db.query(\"\"\"\n",
    "    SELECT \n",
    "        Transactions.Sale_ID,\n",
    "        Round(\n",
    "            Transactions.Amount_Purchased * Items.Price_Per_Item * (1-Transactions.Item_Discount)\n",
    "            ,2\n",
    "        ) AS Cost,\n",
    "        Items.Item_Name,\n",
    "        Transactions.Amount_Purchased AS Item_Quantity\n",
    "    FROM \n",
    "        Transactions, Items\n",
    "    WHERE\n",
    "        Transactions.Item_ID = Items.Item_ID\n",
    "    LIMIT 5;   \n",
    "\"\"\"))"
   ]
  },
  {
   "cell_type": "code",
   "execution_count": 7,
   "metadata": {
    "execution": {
     "iopub.execute_input": "2025-10-06T19:41:06.066835Z",
     "iopub.status.busy": "2025-10-06T19:41:06.066712Z",
     "iopub.status.idle": "2025-10-06T19:41:06.087096Z",
     "shell.execute_reply": "2025-10-06T19:41:06.086673Z"
    }
   },
   "outputs": [
    {
     "name": "stdout",
     "output_type": "stream",
     "text": [
      "[{'Sale_ID': 28832, 'Total_Cost': 149.55},\n",
      " {'Sale_ID': 28845, 'Total_Cost': 114.38},\n",
      " {'Sale_ID': 28859, 'Total_Cost': 208.32},\n",
      " {'Sale_ID': 28878, 'Total_Cost': 184.97},\n",
      " {'Sale_ID': 28916, 'Total_Cost': 200.46}]\n"
     ]
    }
   ],
   "source": [
    "# Select the total cost of each sale in the Transactions table\n",
    "# Round the total cost to 2 decimal places\n",
    "# Show only the first 5 rows\n",
    "\n",
    "pprint(db.query(\"\"\"\n",
    "    SELECT \n",
    "        Transactions.Sale_ID,\n",
    "        ROUND(\n",
    "            SUM(\n",
    "                Transactions.Amount_Purchased * \n",
    "                Items.Price_Per_Item * \n",
    "                (1-Transactions.Item_Discount)\n",
    "            )\n",
    "            ,2\n",
    "        ) AS Total_Cost\n",
    "    FROM\n",
    "        Transactions, Items\n",
    "    WHERE\n",
    "        Transactions.Item_ID = Items.Item_ID\n",
    "    GROUP BY\n",
    "        Transactions.Sale_ID\n",
    "    LIMIT 5;    \n",
    "\"\"\"))"
   ]
  },
  {
   "cell_type": "code",
   "execution_count": 8,
   "metadata": {
    "execution": {
     "iopub.execute_input": "2025-10-06T19:41:06.088355Z",
     "iopub.status.busy": "2025-10-06T19:41:06.088239Z",
     "iopub.status.idle": "2025-10-06T19:41:06.118555Z",
     "shell.execute_reply": "2025-10-06T19:41:06.118143Z"
    }
   },
   "outputs": [
    {
     "name": "stdout",
     "output_type": "stream",
     "text": [
      "[{'Store_Name': \"Brian's Bazaar\", 'Total_Sales': 849936.02},\n",
      " {'Store_Name': \"Sally's Shop\", 'Total_Sales': 824521.79},\n",
      " {'Store_Name': \"Eddy's Exchange\", 'Total_Sales': 720931.45},\n",
      " {'Store_Name': \"Bill's Barter\", 'Total_Sales': 638185.34},\n",
      " {'Store_Name': \"Chris's Corner\", 'Total_Sales': 431861.6},\n",
      " {'Store_Name': \"Marty's Mart\", 'Total_Sales': 372514.57},\n",
      " {'Store_Name': \"Mary's Market\", 'Total_Sales': 362563.64},\n",
      " {'Store_Name': \"Delio's Deli\", 'Total_Sales': 340409.11},\n",
      " {'Store_Name': \"Ahmad's Alley\", 'Total_Sales': 339852.21},\n",
      " {'Store_Name': \"Eva's Extravaganza\", 'Total_Sales': 296243.6},\n",
      " {'Store_Name': \"Emma's Emporium\", 'Total_Sales': 195622.17},\n",
      " {'Store_Name': \"Sheffi's Store\", 'Total_Sales': 102756.9}]\n"
     ]
    }
   ],
   "source": [
    "# Show the total sales for each store in the database\n",
    "# You should return the Store_Name and the Total_Sales\n",
    "# Round the total sales to 2 decimal places\n",
    "\n",
    "pprint(db.query(\"\"\"\n",
    "    SELECT\n",
    "        Stores.Store_Name,\n",
    "        ROUND(\n",
    "            SUM(\n",
    "                Transactions.Amount_Purchased * \n",
    "                Items.Price_Per_Item * \n",
    "                (1-Transactions.Item_Discount)\n",
    "            )\n",
    "            ,2\n",
    "        ) AS Total_Sales\n",
    "    FROM\n",
    "        Sales, Transactions, Items, Stores\n",
    "    WHERE\n",
    "        Sales.Sale_ID = Transactions.Sale_ID\n",
    "        AND Transactions.Item_ID = Items.Item_ID\n",
    "        AND Sales.Store_ID = Stores.Store_ID\n",
    "    GROUP BY\n",
    "        Sales.Store_ID, Stores.Store_Name\n",
    "    ORDER BY\n",
    "        Total_Sales DESC;\n",
    "\"\"\"))"
   ]
  },
  {
   "cell_type": "code",
   "execution_count": 9,
   "metadata": {
    "execution": {
     "iopub.execute_input": "2025-10-06T19:41:06.119780Z",
     "iopub.status.busy": "2025-10-06T19:41:06.119666Z",
     "iopub.status.idle": "2025-10-06T19:41:06.152006Z",
     "shell.execute_reply": "2025-10-06T19:41:06.151618Z"
    }
   },
   "outputs": [
    {
     "name": "stdout",
     "output_type": "stream",
     "text": [
      "[{'First_Name': 'Melody', 'Last_Name': 'Bunch', 'Total_Spend': 5085.33},\n",
      " {'First_Name': 'Delores', 'Last_Name': 'Mahoney', 'Total_Spend': 5056.23},\n",
      " {'First_Name': 'Daniel', 'Last_Name': 'Hawkins', 'Total_Spend': 4957.21},\n",
      " {'First_Name': 'Dong', 'Last_Name': 'Rasmussen', 'Total_Spend': 4890.16},\n",
      " {'First_Name': 'Rogelio', 'Last_Name': 'Schmidt', 'Total_Spend': 4599.15}]\n"
     ]
    }
   ],
   "source": [
    "# Show top 5 customers by total spend\n",
    "# You should return the Customer_Name, and Total_Spend\n",
    "# Use a WITH statement to create a temporary table to calculate the cost of each transaction\n",
    "\n",
    "pprint(db.query(\"\"\"\n",
    "    WITH TransactionCost AS (\n",
    "        SELECT\n",
    "            Transactions.Sale_ID,\n",
    "            SUM(\n",
    "                Transactions.Amount_Purchased * \n",
    "                Items.Price_Per_Item * \n",
    "                (1-Transactions.Item_Discount)\n",
    "            ) AS Cost\n",
    "        FROM\n",
    "            Transactions, Items\n",
    "        WHERE\n",
    "            Transactions.Item_ID = Items.Item_ID\n",
    "        GROUP BY\n",
    "            Transactions.Sale_ID\n",
    "    )      \n",
    "    SELECT\n",
    "        Customers.First_Name,\n",
    "        Customers.Last_Name,\n",
    "        ROUND(SUM(TransactionCost.Cost),2) AS Total_Spend\n",
    "    FROM\n",
    "        TransactionCost, Sales, Customers\n",
    "    WHERE\n",
    "        TransactionCost.Sale_ID = Sales.Sale_ID\n",
    "    AND\n",
    "        Sales.Customer_ID = Customers.Customer_ID\n",
    "    GROUP BY\n",
    "        Customers.Customer_ID, Customers.First_Name, Customers.Last_Name\n",
    "    ORDER BY\n",
    "        Total_Spend DESC\n",
    "    LIMIT 5;\n",
    "\"\"\"))"
   ]
  }
 ],
 "metadata": {
  "kernelspec": {
   "display_name": "venv",
   "language": "python",
   "name": "python3"
  },
  "language_info": {
   "codemirror_mode": {
    "name": "ipython",
    "version": 3
   },
   "file_extension": ".py",
   "mimetype": "text/x-python",
   "name": "python",
   "nbconvert_exporter": "python",
   "pygments_lexer": "ipython3",
   "version": "3.12.3"
  }
 },
 "nbformat": 4,
 "nbformat_minor": 2
}
