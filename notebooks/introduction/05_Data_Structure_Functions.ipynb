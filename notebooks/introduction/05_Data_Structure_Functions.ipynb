{
 "cells": [
  {
   "cell_type": "markdown",
   "metadata": {
    "id": "VBjvcZ9-gYXH"
   },
   "source": [
    "# Data Structure Functions\n",
    "\n",
    "To help with data structures, Python has a variety of built in functions that can help simplify code.\n",
    "\n",
    "Some common mathematical functions for lists include:\n",
    "- `sum`: The sum of a list of numbers\n",
    "- `min`: The minimum of a list of numbers\n",
    "- `max`: The maximum of a list of numbers\n",
    "\n",
    "For example:"
   ]
  },
  {
   "cell_type": "code",
   "execution_count": 1,
   "metadata": {
    "colab": {
     "base_uri": "https://localhost:8080/"
    },
    "execution": {
     "iopub.execute_input": "2022-12-19T18:50:15.062170Z",
     "iopub.status.busy": "2022-12-19T18:50:15.061614Z",
     "iopub.status.idle": "2022-12-19T18:50:15.069630Z",
     "shell.execute_reply": "2022-12-19T18:50:15.069218Z"
    },
    "executionInfo": {
     "elapsed": 5,
     "status": "ok",
     "timestamp": 1661355731584,
     "user": {
      "displayName": "connor makowski",
      "userId": "10315975988672690851"
     },
     "user_tz": 240
    },
    "id": "2AiPspCggTlY",
    "outputId": "89213ffe-8552-4b07-cb98-acafd1158697"
   },
   "outputs": [
    {
     "name": "stdout",
     "output_type": "stream",
     "text": [
      "15\n",
      "1\n",
      "5\n"
     ]
    }
   ],
   "source": [
    "x=[1,2,3,4,5]\n",
    "print(sum(x))\n",
    "print(min(x))\n",
    "print(max(x))"
   ]
  },
  {
   "cell_type": "markdown",
   "metadata": {
    "id": "B8T3rgQChNGM"
   },
   "source": [
    "Dictionaries also come with some additional functions to translate them into lists for usability.\n",
    "\n",
    "Some of the common functions (more specifically, methods attached to dictionaries) to convert dictionaries into lists include:\n",
    "- `values()`: Get the values as a list\n",
    "- `keys()`: Get the keys as a list\n",
    "- `items()`: Get a list of key value pairs as a tuple\n",
    "\n",
    "For example:"
   ]
  },
  {
   "cell_type": "code",
   "execution_count": 2,
   "metadata": {
    "execution": {
     "iopub.execute_input": "2022-12-19T18:50:15.094814Z",
     "iopub.status.busy": "2022-12-19T18:50:15.094335Z",
     "iopub.status.idle": "2022-12-19T18:50:15.097572Z",
     "shell.execute_reply": "2022-12-19T18:50:15.096964Z"
    },
    "id": "rf0h4aeNh9On"
   },
   "outputs": [],
   "source": [
    "y={\n",
    "  'a':1,\n",
    "  'b':2,\n",
    "  'c':3\n",
    "}"
   ]
  },
  {
   "cell_type": "code",
   "execution_count": 3,
   "metadata": {
    "colab": {
     "base_uri": "https://localhost:8080/"
    },
    "execution": {
     "iopub.execute_input": "2022-12-19T18:50:15.099715Z",
     "iopub.status.busy": "2022-12-19T18:50:15.099271Z",
     "iopub.status.idle": "2022-12-19T18:50:15.102760Z",
     "shell.execute_reply": "2022-12-19T18:50:15.102149Z"
    },
    "executionInfo": {
     "elapsed": 489,
     "status": "ok",
     "timestamp": 1661356055471,
     "user": {
      "displayName": "connor makowski",
      "userId": "10315975988672690851"
     },
     "user_tz": 240
    },
    "id": "FxoEhBeciIYH",
    "outputId": "b964a0a7-a546-4afb-ec4f-c431c0617f97"
   },
   "outputs": [
    {
     "name": "stdout",
     "output_type": "stream",
     "text": [
      "dict_keys(['a', 'b', 'c'])\n"
     ]
    }
   ],
   "source": [
    "# Get the keys\n",
    "print(y.keys())"
   ]
  },
  {
   "cell_type": "code",
   "execution_count": 4,
   "metadata": {
    "colab": {
     "base_uri": "https://localhost:8080/"
    },
    "execution": {
     "iopub.execute_input": "2022-12-19T18:50:15.104447Z",
     "iopub.status.busy": "2022-12-19T18:50:15.104340Z",
     "iopub.status.idle": "2022-12-19T18:50:15.106677Z",
     "shell.execute_reply": "2022-12-19T18:50:15.106277Z"
    },
    "executionInfo": {
     "elapsed": 320,
     "status": "ok",
     "timestamp": 1661356167385,
     "user": {
      "displayName": "connor makowski",
      "userId": "10315975988672690851"
     },
     "user_tz": 240
    },
    "id": "rC88c1RXibED",
    "outputId": "111f9524-c376-4c88-e9d8-9a2036a0e7dd"
   },
   "outputs": [
    {
     "name": "stdout",
     "output_type": "stream",
     "text": [
      "dict_values([1, 2, 3])\n"
     ]
    }
   ],
   "source": [
    "# Get the values\n",
    "print(y.values())"
   ]
  },
  {
   "cell_type": "code",
   "execution_count": 5,
   "metadata": {
    "colab": {
     "base_uri": "https://localhost:8080/"
    },
    "execution": {
     "iopub.execute_input": "2022-12-19T18:50:15.108445Z",
     "iopub.status.busy": "2022-12-19T18:50:15.108340Z",
     "iopub.status.idle": "2022-12-19T18:50:15.110691Z",
     "shell.execute_reply": "2022-12-19T18:50:15.110290Z"
    },
    "executionInfo": {
     "elapsed": 310,
     "status": "ok",
     "timestamp": 1661356239535,
     "user": {
      "displayName": "connor makowski",
      "userId": "10315975988672690851"
     },
     "user_tz": 240
    },
    "id": "Ujfn2srDibID",
    "outputId": "5239a207-8461-42b0-9209-0be3f6d86327"
   },
   "outputs": [
    {
     "name": "stdout",
     "output_type": "stream",
     "text": [
      "6\n"
     ]
    }
   ],
   "source": [
    "# Get the sum of values\n",
    "print(sum(y.values()))"
   ]
  },
  {
   "cell_type": "code",
   "execution_count": 6,
   "metadata": {
    "colab": {
     "base_uri": "https://localhost:8080/"
    },
    "execution": {
     "iopub.execute_input": "2022-12-19T18:50:15.112741Z",
     "iopub.status.busy": "2022-12-19T18:50:15.112384Z",
     "iopub.status.idle": "2022-12-19T18:50:15.115184Z",
     "shell.execute_reply": "2022-12-19T18:50:15.114698Z"
    },
    "executionInfo": {
     "elapsed": 334,
     "status": "ok",
     "timestamp": 1661356281482,
     "user": {
      "displayName": "connor makowski",
      "userId": "10315975988672690851"
     },
     "user_tz": 240
    },
    "id": "Vgh5J9oajIor",
    "outputId": "b2978c24-779f-44f6-c43d-65c66fe8ef9a"
   },
   "outputs": [
    {
     "name": "stdout",
     "output_type": "stream",
     "text": [
      "dict_items([('a', 1), ('b', 2), ('c', 3)])\n"
     ]
    }
   ],
   "source": [
    "# Get the items as a list of key value pair tuples\n",
    "print(y.items())"
   ]
  },
  {
   "cell_type": "markdown",
   "metadata": {
    "id": "mPvkiO81jnV1"
   },
   "source": [
    "**Note**: You will notice that the lists above are not exactly lists, but rather special iterable objects (that are very similar to lists).\n",
    "\n",
    "If for some reason, you need a list object, they can be converted into lists using the `list` function."
   ]
  },
  {
   "cell_type": "code",
   "execution_count": 7,
   "metadata": {
    "colab": {
     "base_uri": "https://localhost:8080/"
    },
    "execution": {
     "iopub.execute_input": "2022-12-19T18:50:15.117013Z",
     "iopub.status.busy": "2022-12-19T18:50:15.116654Z",
     "iopub.status.idle": "2022-12-19T18:50:15.119670Z",
     "shell.execute_reply": "2022-12-19T18:50:15.119182Z"
    },
    "executionInfo": {
     "elapsed": 3,
     "status": "ok",
     "timestamp": 1661356461427,
     "user": {
      "displayName": "connor makowski",
      "userId": "10315975988672690851"
     },
     "user_tz": 240
    },
    "id": "0AJbQwL1j0S3",
    "outputId": "d7d30888-ee8c-4091-cf7d-bcba9bd453dc"
   },
   "outputs": [
    {
     "name": "stdout",
     "output_type": "stream",
     "text": [
      "['a', 'b', 'c']\n"
     ]
    }
   ],
   "source": [
    "print(list(y.keys()))"
   ]
  }
 ],
 "metadata": {
  "colab": {
   "authorship_tag": "ABX9TyPvZsXc5rKpIMOZkiespQao",
   "collapsed_sections": [],
   "name": "05_Data_Structure_Operators.ipynb",
   "provenance": []
  },
  "kernelspec": {
   "display_name": "Python 3 (ipykernel)",
   "language": "python",
   "name": "python3"
  },
  "language_info": {
   "codemirror_mode": {
    "name": "ipython",
    "version": 3
   },
   "file_extension": ".py",
   "mimetype": "text/x-python",
   "name": "python",
   "nbconvert_exporter": "python",
   "pygments_lexer": "ipython3",
   "version": "3.10.9"
  }
 },
 "nbformat": 4,
 "nbformat_minor": 1
}
