{
 "cells": [
  {
   "cell_type": "markdown",
   "metadata": {
    "id": "6C1CeYtVUW9w"
   },
   "source": [
    "# Data Structures\n",
    "\n",
    "Data structures offer ways to store and access more complex data. For full reference, see the official Python docs on [Lists](https://docs.python.org/3/tutorial/introduction.html#lists) and [Data Structures](https://docs.python.org/3/tutorial/datastructures.html).\n",
    "\n",
    "Some of the most used Python data structures include:\n",
    "- `list`: An ordered mutable (changable) collection of elements\n",
    "- `dict`: A dictionary (or associative array) of key value pairs\n",
    "\n",
    "Other common data structures (that are not covered here) include:\n",
    "- `tuple`: An ordered immutable (unchangable) collection of elements\n",
    "- `set`: An unordered immutable (unchangable) collection of **unique** elements\n",
    "\n",
    "\n",
    "## Lists\n",
    "Lists offer a way to group together other Python values into a single value. A list is enclosed in brackets `[]` separated by commas.\n",
    "\n",
    "For example:\n"
   ]
  },
  {
   "cell_type": "code",
   "execution_count": 1,
   "metadata": {
    "colab": {
     "base_uri": "https://localhost:8080/"
    },
    "execution": {
     "iopub.execute_input": "2022-12-19T18:50:23.693653Z",
     "iopub.status.busy": "2022-12-19T18:50:23.693277Z",
     "iopub.status.idle": "2022-12-19T18:50:23.700786Z",
     "shell.execute_reply": "2022-12-19T18:50:23.700515Z"
    },
    "executionInfo": {
     "elapsed": 177,
     "status": "ok",
     "timestamp": 1661354010505,
     "user": {
      "displayName": "connor makowski",
      "userId": "10315975988672690851"
     },
     "user_tz": 240
    },
    "id": "nsjNkZoaUWDK",
    "outputId": "12f2635d-b3ed-47da-be97-74797f85d1d0"
   },
   "outputs": [
    {
     "name": "stdout",
     "output_type": "stream",
     "text": [
      "['a', 'b', 'c', 'd', 'e']\n"
     ]
    }
   ],
   "source": [
    "x=['a','b','c','d','e']\n",
    "print(x)"
   ]
  },
  {
   "cell_type": "markdown",
   "metadata": {
    "id": "jQZl6Zf_Xube"
   },
   "source": [
    "Lists are often comprised of items of the same type, but this is not a restriction.\n",
    "\n",
    "Lists have some helpful features.\n",
    "\n",
    "They can be indexed and sliced. \n",
    "\n",
    "You can access a specific item in the list by calling its index in a bracket. Note that Python uses a `0` based index system."
   ]
  },
  {
   "cell_type": "code",
   "execution_count": 2,
   "metadata": {
    "colab": {
     "base_uri": "https://localhost:8080/"
    },
    "execution": {
     "iopub.execute_input": "2022-12-19T18:50:23.727379Z",
     "iopub.status.busy": "2022-12-19T18:50:23.726937Z",
     "iopub.status.idle": "2022-12-19T18:50:23.730412Z",
     "shell.execute_reply": "2022-12-19T18:50:23.729833Z"
    },
    "executionInfo": {
     "elapsed": 192,
     "status": "ok",
     "timestamp": 1661354012532,
     "user": {
      "displayName": "connor makowski",
      "userId": "10315975988672690851"
     },
     "user_tz": 240
    },
    "id": "pqIIdbqJYPqr",
    "outputId": "8e66e273-50d1-4f97-ade4-4dc9794105e7"
   },
   "outputs": [
    {
     "name": "stdout",
     "output_type": "stream",
     "text": [
      "a\n"
     ]
    }
   ],
   "source": [
    "# Get the first item in the list specified as `x` above\n",
    "print(x[0])"
   ]
  },
  {
   "cell_type": "markdown",
   "metadata": {
    "id": "RC1VObbAYfN1"
   },
   "source": [
    "You can slice a list (cut it into parts) by using the slice notation of `[start:end]` Where `start` is **inclusive** and `end` is **exclusive**.\n",
    "\n",
    "For example:"
   ]
  },
  {
   "cell_type": "code",
   "execution_count": 3,
   "metadata": {
    "colab": {
     "base_uri": "https://localhost:8080/"
    },
    "execution": {
     "iopub.execute_input": "2022-12-19T18:50:23.732409Z",
     "iopub.status.busy": "2022-12-19T18:50:23.732107Z",
     "iopub.status.idle": "2022-12-19T18:50:23.735164Z",
     "shell.execute_reply": "2022-12-19T18:50:23.734604Z"
    },
    "executionInfo": {
     "elapsed": 3,
     "status": "ok",
     "timestamp": 1661354014412,
     "user": {
      "displayName": "connor makowski",
      "userId": "10315975988672690851"
     },
     "user_tz": 240
    },
    "id": "DQUyRfDPYefp",
    "outputId": "7b5dcad0-3a18-466e-bf15-ff3bd3db39ba"
   },
   "outputs": [
    {
     "name": "stdout",
     "output_type": "stream",
     "text": [
      "['a', 'b', 'c']\n"
     ]
    }
   ],
   "source": [
    "# Get the first 3 (positions 0, 1 and 2) elements in the list\n",
    "print(x[:3])"
   ]
  },
  {
   "cell_type": "code",
   "execution_count": 4,
   "metadata": {
    "colab": {
     "base_uri": "https://localhost:8080/"
    },
    "execution": {
     "iopub.execute_input": "2022-12-19T18:50:23.737066Z",
     "iopub.status.busy": "2022-12-19T18:50:23.736780Z",
     "iopub.status.idle": "2022-12-19T18:50:23.739817Z",
     "shell.execute_reply": "2022-12-19T18:50:23.739244Z"
    },
    "executionInfo": {
     "elapsed": 200,
     "status": "ok",
     "timestamp": 1661354016667,
     "user": {
      "displayName": "connor makowski",
      "userId": "10315975988672690851"
     },
     "user_tz": 240
    },
    "id": "DMWJFl_WZTG3",
    "outputId": "75c82714-f6ba-423d-babf-8be2922f2495"
   },
   "outputs": [
    {
     "name": "stdout",
     "output_type": "stream",
     "text": [
      "['c', 'd', 'e']\n"
     ]
    }
   ],
   "source": [
    "# Get all elements from position 2 on (positions 2, 3 and 4) elements in the list\n",
    "print(x[2:])"
   ]
  },
  {
   "cell_type": "code",
   "execution_count": 5,
   "metadata": {
    "colab": {
     "base_uri": "https://localhost:8080/"
    },
    "execution": {
     "iopub.execute_input": "2022-12-19T18:50:23.741583Z",
     "iopub.status.busy": "2022-12-19T18:50:23.741305Z",
     "iopub.status.idle": "2022-12-19T18:50:23.744475Z",
     "shell.execute_reply": "2022-12-19T18:50:23.743890Z"
    },
    "executionInfo": {
     "elapsed": 177,
     "status": "ok",
     "timestamp": 1661354019023,
     "user": {
      "displayName": "connor makowski",
      "userId": "10315975988672690851"
     },
     "user_tz": 240
    },
    "id": "fiycoM6zZzqo",
    "outputId": "1eb04426-ac1b-4aa4-bb99-a759e05b7be0"
   },
   "outputs": [
    {
     "name": "stdout",
     "output_type": "stream",
     "text": [
      "['b', 'c', 'd']\n"
     ]
    }
   ],
   "source": [
    "# Get the elements from position 1 to position 3 in the list\n",
    "print(x[1:4])"
   ]
  },
  {
   "cell_type": "markdown",
   "metadata": {
    "id": "4OSk9jqhZz32"
   },
   "source": [
    "If you want to start your position based on numbers from the end of the list, you can use negative indexing.\n",
    "\n",
    "NOTE: Negative indexing is not `0` based. This means that `-1` would equal the last item in the list."
   ]
  },
  {
   "cell_type": "code",
   "execution_count": 6,
   "metadata": {
    "colab": {
     "base_uri": "https://localhost:8080/"
    },
    "execution": {
     "iopub.execute_input": "2022-12-19T18:50:23.746037Z",
     "iopub.status.busy": "2022-12-19T18:50:23.745889Z",
     "iopub.status.idle": "2022-12-19T18:50:23.747994Z",
     "shell.execute_reply": "2022-12-19T18:50:23.747671Z"
    },
    "executionInfo": {
     "elapsed": 3,
     "status": "ok",
     "timestamp": 1661354022877,
     "user": {
      "displayName": "connor makowski",
      "userId": "10315975988672690851"
     },
     "user_tz": 240
    },
    "id": "6OWpt19xZTTK",
    "outputId": "1003b022-a7ad-4eca-ad71-4f4233eff9f9"
   },
   "outputs": [
    {
     "name": "stdout",
     "output_type": "stream",
     "text": [
      "['c', 'd', 'e']\n"
     ]
    }
   ],
   "source": [
    "# Get the last 3 elements in the list\n",
    "print(x[-3:])"
   ]
  },
  {
   "cell_type": "code",
   "execution_count": 7,
   "metadata": {
    "colab": {
     "base_uri": "https://localhost:8080/"
    },
    "execution": {
     "iopub.execute_input": "2022-12-19T18:50:23.750108Z",
     "iopub.status.busy": "2022-12-19T18:50:23.749888Z",
     "iopub.status.idle": "2022-12-19T18:50:23.752062Z",
     "shell.execute_reply": "2022-12-19T18:50:23.751729Z"
    },
    "executionInfo": {
     "elapsed": 195,
     "status": "ok",
     "timestamp": 1661354025453,
     "user": {
      "displayName": "connor makowski",
      "userId": "10315975988672690851"
     },
     "user_tz": 240
    },
    "id": "rs823NlGaSbk",
    "outputId": "38e09d17-a074-4eb5-86f7-2c00a36a001c"
   },
   "outputs": [
    {
     "name": "stdout",
     "output_type": "stream",
     "text": [
      "['a', 'b', 'c']\n"
     ]
    }
   ],
   "source": [
    "# Get everything except the last 2 items in the list\n",
    "print(x[:-2])"
   ]
  },
  {
   "cell_type": "markdown",
   "metadata": {
    "id": "VBa0j96pbOHw"
   },
   "source": [
    "Lists can also be concatenated like strings."
   ]
  },
  {
   "cell_type": "code",
   "execution_count": 8,
   "metadata": {
    "colab": {
     "base_uri": "https://localhost:8080/"
    },
    "execution": {
     "iopub.execute_input": "2022-12-19T18:50:23.754193Z",
     "iopub.status.busy": "2022-12-19T18:50:23.754034Z",
     "iopub.status.idle": "2022-12-19T18:50:23.756749Z",
     "shell.execute_reply": "2022-12-19T18:50:23.756249Z"
    },
    "executionInfo": {
     "elapsed": 213,
     "status": "ok",
     "timestamp": 1661354224255,
     "user": {
      "displayName": "connor makowski",
      "userId": "10315975988672690851"
     },
     "user_tz": 240
    },
    "id": "DoFrT2LrbSSe",
    "outputId": "28f374af-95b4-445d-8885-5a5ab9cdde4d"
   },
   "outputs": [
    {
     "name": "stdout",
     "output_type": "stream",
     "text": [
      "[1, 2, 3, 4, 5, 6]\n"
     ]
    }
   ],
   "source": [
    "y=[1,2,3]\n",
    "z=[4,5,6]\n",
    "print(y+z)"
   ]
  },
  {
   "cell_type": "markdown",
   "metadata": {
    "id": "JDGI1a14bk2J"
   },
   "source": [
    "Since lists are mutable, you can actively change their content on the fly. You can do this by combining indexing and assignment."
   ]
  },
  {
   "cell_type": "code",
   "execution_count": 9,
   "metadata": {
    "colab": {
     "base_uri": "https://localhost:8080/"
    },
    "execution": {
     "iopub.execute_input": "2022-12-19T18:50:23.758490Z",
     "iopub.status.busy": "2022-12-19T18:50:23.758219Z",
     "iopub.status.idle": "2022-12-19T18:50:23.761207Z",
     "shell.execute_reply": "2022-12-19T18:50:23.760710Z"
    },
    "executionInfo": {
     "elapsed": 233,
     "status": "ok",
     "timestamp": 1661355355063,
     "user": {
      "displayName": "connor makowski",
      "userId": "10315975988672690851"
     },
     "user_tz": 240
    },
    "id": "D6M-7Bp6buEq",
    "outputId": "3e4676f6-4b96-4bc6-a847-c54903cd41b2"
   },
   "outputs": [
    {
     "name": "stdout",
     "output_type": "stream",
     "text": [
      "['apple', 'bannana', 'pear']\n",
      "['peach', 'bannana', 'pear']\n"
     ]
    }
   ],
   "source": [
    "q=['apple','bannana','pear']\n",
    "print(q)\n",
    "q[0]='peach'\n",
    "print(q)"
   ]
  },
  {
   "cell_type": "code",
   "execution_count": 10,
   "metadata": {
    "colab": {
     "base_uri": "https://localhost:8080/"
    },
    "execution": {
     "iopub.execute_input": "2022-12-19T18:50:23.763060Z",
     "iopub.status.busy": "2022-12-19T18:50:23.762686Z",
     "iopub.status.idle": "2022-12-19T18:50:23.765143Z",
     "shell.execute_reply": "2022-12-19T18:50:23.764816Z"
    },
    "executionInfo": {
     "elapsed": 243,
     "status": "ok",
     "timestamp": 1661355357051,
     "user": {
      "displayName": "connor makowski",
      "userId": "10315975988672690851"
     },
     "user_tz": 240
    },
    "id": "UTSaoyWUcG20",
    "outputId": "fc9eb754-fbd6-4cdb-eee7-68da1981b801"
   },
   "outputs": [
    {
     "name": "stdout",
     "output_type": "stream",
     "text": [
      "['a', 'b', 'c', 'd']\n",
      "['a', 'm', 'n', 'd']\n"
     ]
    }
   ],
   "source": [
    "r=['a','b','c','d']\n",
    "print(r)\n",
    "# Replace positions 1 and 2 with m and n\n",
    "r[1:3]=['m','n']\n",
    "print(r)"
   ]
  },
  {
   "cell_type": "markdown",
   "metadata": {
    "id": "khVcb1mMIuv2"
   },
   "source": [
    "You can also add items to lists as you need, using concatenation (`+`) (to merge two lists) or appending (`.append(<item>)`) new items directly to the end of the list."
   ]
  },
  {
   "cell_type": "code",
   "execution_count": 11,
   "metadata": {
    "colab": {
     "base_uri": "https://localhost:8080/"
    },
    "execution": {
     "iopub.execute_input": "2022-12-19T18:50:23.767269Z",
     "iopub.status.busy": "2022-12-19T18:50:23.767058Z",
     "iopub.status.idle": "2022-12-19T18:50:23.769453Z",
     "shell.execute_reply": "2022-12-19T18:50:23.769127Z"
    },
    "executionInfo": {
     "elapsed": 227,
     "status": "ok",
     "timestamp": 1661366354043,
     "user": {
      "displayName": "connor makowski",
      "userId": "10315975988672690851"
     },
     "user_tz": 240
    },
    "id": "9ri4gCVKI1EB",
    "outputId": "46a96e74-b08f-4796-c0f4-ca10af1fdd6a"
   },
   "outputs": [
    {
     "name": "stdout",
     "output_type": "stream",
     "text": [
      "[1, 2, 3, 4]\n",
      "[1, 2, 3, 4, 5]\n"
     ]
    }
   ],
   "source": [
    "s=[1,2,3]\n",
    "s.append(4)\n",
    "print(s)\n",
    "t=[5]\n",
    "s+=t\n",
    "# The above statement is an in place statement\n",
    "# It is equivalent to `s = s+t`\n",
    "print(s)"
   ]
  },
  {
   "cell_type": "markdown",
   "metadata": {
    "id": "7o0qwXincytI"
   },
   "source": [
    "## Dictionaries\n",
    "\n",
    "Dictionaries offer a way to group key value pairs into a cohesive and easily accessable element.\n",
    "\n",
    "A dictionary is enclosed in curley brackets `{}` and is composed of `key:value` pairs separated by a comma where `key`s are strings and values represent any type of element.\n",
    "\n",
    "For example:"
   ]
  },
  {
   "cell_type": "code",
   "execution_count": 12,
   "metadata": {
    "execution": {
     "iopub.execute_input": "2022-12-19T18:50:23.771476Z",
     "iopub.status.busy": "2022-12-19T18:50:23.771372Z",
     "iopub.status.idle": "2022-12-19T18:50:23.773853Z",
     "shell.execute_reply": "2022-12-19T18:50:23.773351Z"
    },
    "id": "K2TbWIC-dad8"
   },
   "outputs": [],
   "source": [
    "translate_hi={\n",
    "    'spanish': 'hola',\n",
    "    'chinese': '你好',\n",
    "    'german': 'hallo'\n",
    "}"
   ]
  },
  {
   "cell_type": "markdown",
   "metadata": {
    "id": "4De3vKdGeJ5Y"
   },
   "source": [
    "The values in the dictionary can be accessed by calling their respective keys."
   ]
  },
  {
   "cell_type": "code",
   "execution_count": 13,
   "metadata": {
    "colab": {
     "base_uri": "https://localhost:8080/"
    },
    "execution": {
     "iopub.execute_input": "2022-12-19T18:50:23.775670Z",
     "iopub.status.busy": "2022-12-19T18:50:23.775372Z",
     "iopub.status.idle": "2022-12-19T18:50:23.778335Z",
     "shell.execute_reply": "2022-12-19T18:50:23.777834Z"
    },
    "executionInfo": {
     "elapsed": 224,
     "status": "ok",
     "timestamp": 1661355406536,
     "user": {
      "displayName": "connor makowski",
      "userId": "10315975988672690851"
     },
     "user_tz": 240
    },
    "id": "2Qa0NFMleQY8",
    "outputId": "dcd8a8c9-09e4-42b4-f933-7ccddcaeadcc"
   },
   "outputs": [
    {
     "name": "stdout",
     "output_type": "stream",
     "text": [
      "hola\n"
     ]
    }
   ],
   "source": [
    "print(translate_hi['spanish'])"
   ]
  },
  {
   "cell_type": "markdown",
   "metadata": {
    "id": "wPDfx23JegM4"
   },
   "source": [
    "Occasionally, you might not be sure if a key is in a dictionary. Using an index value will cause an error:"
   ]
  },
  {
   "cell_type": "code",
   "execution_count": 14,
   "metadata": {
    "colab": {
     "base_uri": "https://localhost:8080/",
     "height": 168
    },
    "execution": {
     "iopub.execute_input": "2022-12-19T18:50:23.779968Z",
     "iopub.status.busy": "2022-12-19T18:50:23.779845Z",
     "iopub.status.idle": "2022-12-19T18:50:23.888583Z",
     "shell.execute_reply": "2022-12-19T18:50:23.888227Z"
    },
    "executionInfo": {
     "elapsed": 243,
     "status": "error",
     "timestamp": 1661355429795,
     "user": {
      "displayName": "connor makowski",
      "userId": "10315975988672690851"
     },
     "user_tz": 240
    },
    "id": "RoYV1P-Heu0p",
    "outputId": "248a7251-71ab-4490-8a54-c37cbc9e37ab"
   },
   "outputs": [
    {
     "ename": "KeyError",
     "evalue": "'dutch'",
     "output_type": "error",
     "traceback": [
      "\u001b[0;31m---------------------------------------------------------------------------\u001b[0m",
      "\u001b[0;31mKeyError\u001b[0m                                  Traceback (most recent call last)",
      "Cell \u001b[0;32mIn[14], line 1\u001b[0m\n\u001b[0;32m----> 1\u001b[0m \u001b[38;5;28mprint\u001b[39m(\u001b[43mtranslate_hi\u001b[49m\u001b[43m[\u001b[49m\u001b[38;5;124;43m'\u001b[39;49m\u001b[38;5;124;43mdutch\u001b[39;49m\u001b[38;5;124;43m'\u001b[39;49m\u001b[43m]\u001b[49m)\n",
      "\u001b[0;31mKeyError\u001b[0m: 'dutch'"
     ]
    }
   ],
   "source": [
    "print(translate_hi['dutch'])"
   ]
  },
  {
   "cell_type": "markdown",
   "metadata": {
    "id": "_I-qgoRLe0gU"
   },
   "source": [
    "If you want to provide a default value to be used when a dictionary key is not present, you can use the `get` method."
   ]
  },
  {
   "cell_type": "code",
   "execution_count": 15,
   "metadata": {
    "colab": {
     "base_uri": "https://localhost:8080/"
    },
    "execution": {
     "iopub.execute_input": "2022-12-19T18:50:23.890956Z",
     "iopub.status.busy": "2022-12-19T18:50:23.890843Z",
     "iopub.status.idle": "2022-12-19T18:50:23.893345Z",
     "shell.execute_reply": "2022-12-19T18:50:23.892993Z"
    },
    "executionInfo": {
     "elapsed": 217,
     "status": "ok",
     "timestamp": 1661355214293,
     "user": {
      "displayName": "connor makowski",
      "userId": "10315975988672690851"
     },
     "user_tz": 240
    },
    "id": "VsHgaQODe0Hj",
    "outputId": "520bd95c-dbea-42a1-981f-af94c1f28427"
   },
   "outputs": [
    {
     "name": "stdout",
     "output_type": "stream",
     "text": [
      "hallo\n"
     ]
    }
   ],
   "source": [
    "print(translate_hi.get('german','Translation Not Found'))"
   ]
  },
  {
   "cell_type": "code",
   "execution_count": 16,
   "metadata": {
    "colab": {
     "base_uri": "https://localhost:8080/"
    },
    "execution": {
     "iopub.execute_input": "2022-12-19T18:50:23.895856Z",
     "iopub.status.busy": "2022-12-19T18:50:23.895429Z",
     "iopub.status.idle": "2022-12-19T18:50:23.898406Z",
     "shell.execute_reply": "2022-12-19T18:50:23.897891Z"
    },
    "executionInfo": {
     "elapsed": 208,
     "status": "ok",
     "timestamp": 1661355218943,
     "user": {
      "displayName": "connor makowski",
      "userId": "10315975988672690851"
     },
     "user_tz": 240
    },
    "id": "s56hcbYCfMph",
    "outputId": "402186de-fb08-439b-9a69-b455256aa1da"
   },
   "outputs": [
    {
     "name": "stdout",
     "output_type": "stream",
     "text": [
      "Translation Not Found\n"
     ]
    }
   ],
   "source": [
    "print(translate_hi.get('dutch','Translation Not Found'))"
   ]
  },
  {
   "cell_type": "markdown",
   "metadata": {
    "id": "rA2ZubbsHZu6"
   },
   "source": [
    "Dictionaries are mutable (changable). Once you have a dictionary, you can add values by using index assignment or remove values using the `del` statement."
   ]
  },
  {
   "cell_type": "code",
   "execution_count": 17,
   "metadata": {
    "colab": {
     "base_uri": "https://localhost:8080/"
    },
    "execution": {
     "iopub.execute_input": "2022-12-19T18:50:23.900188Z",
     "iopub.status.busy": "2022-12-19T18:50:23.900027Z",
     "iopub.status.idle": "2022-12-19T18:50:23.903059Z",
     "shell.execute_reply": "2022-12-19T18:50:23.902546Z"
    },
    "executionInfo": {
     "elapsed": 245,
     "status": "ok",
     "timestamp": 1661366069965,
     "user": {
      "displayName": "connor makowski",
      "userId": "10315975988672690851"
     },
     "user_tz": 240
    },
    "id": "4Fk61S6KHsfG",
    "outputId": "08ba78ea-0593-4722-82ad-52aff6206824"
   },
   "outputs": [
    {
     "name": "stdout",
     "output_type": "stream",
     "text": [
      "{'a': 1, 'b': 2, 'c': 3}\n"
     ]
    }
   ],
   "source": [
    "y={\n",
    "    'a':1,\n",
    "    'b':2,\n",
    "    'c':3\n",
    "}\n",
    "print(y)"
   ]
  },
  {
   "cell_type": "code",
   "execution_count": 18,
   "metadata": {
    "colab": {
     "base_uri": "https://localhost:8080/"
    },
    "execution": {
     "iopub.execute_input": "2022-12-19T18:50:23.904819Z",
     "iopub.status.busy": "2022-12-19T18:50:23.904497Z",
     "iopub.status.idle": "2022-12-19T18:50:23.906869Z",
     "shell.execute_reply": "2022-12-19T18:50:23.906534Z"
    },
    "executionInfo": {
     "elapsed": 328,
     "status": "ok",
     "timestamp": 1661366073173,
     "user": {
      "displayName": "connor makowski",
      "userId": "10315975988672690851"
     },
     "user_tz": 240
    },
    "id": "_4T--kZEH1xi",
    "outputId": "069feffd-d92a-43fd-e570-12cae5c0abee"
   },
   "outputs": [
    {
     "name": "stdout",
     "output_type": "stream",
     "text": [
      "{'a': 1, 'b': 2, 'c': 3, 'd': 4}\n"
     ]
    }
   ],
   "source": [
    "# Assign a new key of `d` with a value of `4`\n",
    "y['d']=4\n",
    "print(y)"
   ]
  },
  {
   "cell_type": "code",
   "execution_count": 19,
   "metadata": {
    "colab": {
     "base_uri": "https://localhost:8080/",
     "height": 204
    },
    "execution": {
     "iopub.execute_input": "2022-12-19T18:50:23.908579Z",
     "iopub.status.busy": "2022-12-19T18:50:23.908470Z",
     "iopub.status.idle": "2022-12-19T18:50:23.910684Z",
     "shell.execute_reply": "2022-12-19T18:50:23.910348Z"
    },
    "executionInfo": {
     "elapsed": 4,
     "status": "error",
     "timestamp": 1661366074174,
     "user": {
      "displayName": "connor makowski",
      "userId": "10315975988672690851"
     },
     "user_tz": 240
    },
    "id": "F9n5QcquIPW3",
    "outputId": "fd353838-54fa-486e-8a02-51176c2ea44a"
   },
   "outputs": [
    {
     "name": "stdout",
     "output_type": "stream",
     "text": [
      "{'b': 2, 'c': 3, 'd': 4}\n"
     ]
    }
   ],
   "source": [
    "# Remove the key `a`\n",
    "del y['a']\n",
    "print(y)"
   ]
  }
 ],
 "metadata": {
  "colab": {
   "authorship_tag": "ABX9TyNSe9SiBNNP873UYNB99LyC",
   "collapsed_sections": [],
   "name": "04_Data_Structures.ipynb",
   "provenance": []
  },
  "kernelspec": {
   "display_name": "Python 3",
   "name": "python3"
  },
  "language_info": {
   "codemirror_mode": {
    "name": "ipython",
    "version": 3
   },
   "file_extension": ".py",
   "mimetype": "text/x-python",
   "name": "python",
   "nbconvert_exporter": "python",
   "pygments_lexer": "ipython3",
   "version": "3.10.9"
  }
 },
 "nbformat": 4,
 "nbformat_minor": 0
}
