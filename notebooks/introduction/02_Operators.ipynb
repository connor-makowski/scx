{
 "cells": [
  {
   "cell_type": "markdown",
   "metadata": {
    "id": "LE1zbgKYxV55"
   },
   "source": [
    "# Operators\n",
    "\n",
    "Operators are processes that access and manipulate objects. In Python, there are many different built in operators. \n",
    "\n",
    "Some common `mathematical` operators include:\n",
    "- `+`: Addition\n",
    "- `-`: Subtraction (or numeric negation)\n",
    "- `*`: Multiplication\n",
    "- `/`: Division\n",
    "- `**`: Exponeniation\n",
    "- `//`: Floor Division\n",
    "- `%`: Modulo"
   ]
  },
  {
   "cell_type": "code",
   "execution_count": 1,
   "metadata": {
    "colab": {
     "base_uri": "https://localhost:8080/"
    },
    "execution": {
     "iopub.execute_input": "2025-06-06T17:07:43.487145Z",
     "iopub.status.busy": "2025-06-06T17:07:43.487013Z",
     "iopub.status.idle": "2025-06-06T17:07:43.490096Z",
     "shell.execute_reply": "2025-06-06T17:07:43.489816Z"
    },
    "executionInfo": {
     "elapsed": 179,
     "status": "ok",
     "timestamp": 1661288657070,
     "user": {
      "displayName": "connor makowski",
      "userId": "10315975988672690851"
     },
     "user_tz": 240
    },
    "id": "ErsjXqdZV-ZQ",
    "outputId": "7b3709a3-cc95-4a04-a5d6-3737103d55d4"
   },
   "outputs": [
    {
     "name": "stdout",
     "output_type": "stream",
     "text": [
      "5+3:   8\n",
      "5-3:   2\n",
      "5*3:   15\n",
      "5/3:   1.6666666666666667\n",
      "5**3:  125\n",
      "5//3:  1\n",
      "5%3:   2\n"
     ]
    }
   ],
   "source": [
    "print('5+3:  ', 5+3)\n",
    "print('5-3:  ', 5-3)\n",
    "print('5*3:  ', 5*3)\n",
    "print('5/3:  ', 5/3)\n",
    "print('5**3: ', 5**3)\n",
    "print('5//3: ', 5//3)\n",
    "print('5%3:  ', 5%3)"
   ]
  },
  {
   "cell_type": "markdown",
   "metadata": {
    "id": "QKNPDkUAgK7E"
   },
   "source": [
    "Some common mathematical operations include:\n",
    "- `int`: Integer (remove decimals and make integer)\n",
    "- `round`: Round"
   ]
  },
  {
   "cell_type": "code",
   "execution_count": 2,
   "metadata": {
    "colab": {
     "base_uri": "https://localhost:8080/"
    },
    "execution": {
     "iopub.execute_input": "2025-06-06T17:07:43.519404Z",
     "iopub.status.busy": "2025-06-06T17:07:43.519204Z",
     "iopub.status.idle": "2025-06-06T17:07:43.522128Z",
     "shell.execute_reply": "2025-06-06T17:07:43.521809Z"
    },
    "executionInfo": {
     "elapsed": 143,
     "status": "ok",
     "timestamp": 1661288506790,
     "user": {
      "displayName": "connor makowski",
      "userId": "10315975988672690851"
     },
     "user_tz": 240
    },
    "id": "Iu0puwe-gSKt",
    "outputId": "dfe8a4a7-3d79-43e5-c8ed-1e218b53692b"
   },
   "outputs": [
    {
     "name": "stdout",
     "output_type": "stream",
     "text": [
      "5\n",
      "-5\n",
      "6\n",
      "-6\n"
     ]
    }
   ],
   "source": [
    "print(int(5.789))\n",
    "print(int(-5.789))\n",
    "print(round(5.789))\n",
    "print(round(-5.789))"
   ]
  },
  {
   "cell_type": "markdown",
   "metadata": {
    "id": "4wg54WNodUJI"
   },
   "source": [
    "Some common `string` operators include:\n",
    "- `+` Concatenation"
   ]
  },
  {
   "cell_type": "code",
   "execution_count": 3,
   "metadata": {
    "colab": {
     "base_uri": "https://localhost:8080/"
    },
    "execution": {
     "iopub.execute_input": "2025-06-06T17:07:43.523469Z",
     "iopub.status.busy": "2025-06-06T17:07:43.523342Z",
     "iopub.status.idle": "2025-06-06T17:07:43.525526Z",
     "shell.execute_reply": "2025-06-06T17:07:43.525243Z"
    },
    "executionInfo": {
     "elapsed": 137,
     "status": "ok",
     "timestamp": 1661287816868,
     "user": {
      "displayName": "connor makowski",
      "userId": "10315975988672690851"
     },
     "user_tz": 240
    },
    "id": "V2IpE-2Dd6JJ",
    "outputId": "6cc91921-e307-449d-8750-d9166af5e200"
   },
   "outputs": [
    {
     "name": "stdout",
     "output_type": "stream",
     "text": [
      "ABC XYZ\n"
     ]
    }
   ],
   "source": [
    "print('ABC'+' '+'XYZ')"
   ]
  },
  {
   "cell_type": "markdown",
   "metadata": {
    "id": "SN4Q20lndWjv"
   },
   "source": [
    "Some common `logical` operators include:\n",
    "- `and`: And\n",
    "- `or`: Or\n",
    "- `not`: Not (or boolean negation)"
   ]
  },
  {
   "cell_type": "code",
   "execution_count": 4,
   "metadata": {
    "colab": {
     "base_uri": "https://localhost:8080/"
    },
    "execution": {
     "iopub.execute_input": "2025-06-06T17:07:43.526809Z",
     "iopub.status.busy": "2025-06-06T17:07:43.526666Z",
     "iopub.status.idle": "2025-06-06T17:07:43.529187Z",
     "shell.execute_reply": "2025-06-06T17:07:43.528906Z"
    },
    "executionInfo": {
     "elapsed": 152,
     "status": "ok",
     "timestamp": 1661287942086,
     "user": {
      "displayName": "connor makowski",
      "userId": "10315975988672690851"
     },
     "user_tz": 240
    },
    "id": "cVH0hb9LeH-3",
    "outputId": "0fc0f1cb-59da-4abc-d3c0-ec8e289a815c"
   },
   "outputs": [
    {
     "name": "stdout",
     "output_type": "stream",
     "text": [
      "True and False:  False\n",
      "True and True:   True\n",
      "True or False:   True\n",
      "False or False:  False\n",
      "not True:        False\n",
      "not False:       True\n"
     ]
    }
   ],
   "source": [
    "print('True and False: ', True and False)\n",
    "print('True and True:  ', True and True)\n",
    "print('True or False:  ', True or False)\n",
    "print('False or False: ', False or False)\n",
    "print('not True:       ', not True)\n",
    "print('not False:      ', not False)"
   ]
  },
  {
   "cell_type": "markdown",
   "metadata": {
    "id": "y525wS9vdWuO"
   },
   "source": [
    "Some common `comparison` operators include:\n",
    "- `<`: Is less than\n",
    "- `<=`: Is less than or equal to\n",
    "- `==`: Is equal to value\n",
    "- `is`: Is equal to reference object\n",
    "- `!=`: Is not equal to value\n",
    "- `is not`: Is not equal to reference object\n",
    "- `>`: Is greater than\n",
    "- `>=`: Is greater than or equal to"
   ]
  },
  {
   "cell_type": "code",
   "execution_count": 5,
   "metadata": {
    "colab": {
     "base_uri": "https://localhost:8080/"
    },
    "execution": {
     "iopub.execute_input": "2025-06-06T17:07:43.530440Z",
     "iopub.status.busy": "2025-06-06T17:07:43.530320Z",
     "iopub.status.idle": "2025-06-06T17:07:43.533433Z",
     "shell.execute_reply": "2025-06-06T17:07:43.533076Z"
    },
    "executionInfo": {
     "elapsed": 145,
     "status": "ok",
     "timestamp": 1661288207796,
     "user": {
      "displayName": "connor makowski",
      "userId": "10315975988672690851"
     },
     "user_tz": 240
    },
    "id": "98hb9Az6eqTc",
    "outputId": "96406d7c-9453-4924-bc48-85489c98bc0f"
   },
   "outputs": [
    {
     "name": "stdout",
     "output_type": "stream",
     "text": [
      "5<6:            True\n",
      "5<5:            False\n",
      "5<=5:           True\n",
      "5==5:           True\n",
      "5==5.0:         True\n",
      "5 is 5.0:       False\n",
      "5 is not 5.0:   True\n",
      "5!=5.0:         False\n",
      "6>5:            True\n",
      "6>=5:           True\n"
     ]
    },
    {
     "name": "stderr",
     "output_type": "stream",
     "text": [
      "<>:6: SyntaxWarning: \"is\" with 'int' literal. Did you mean \"==\"?\n",
      "<>:7: SyntaxWarning: \"is not\" with 'int' literal. Did you mean \"!=\"?\n",
      "/tmp/ipykernel_56/799635676.py:6: SyntaxWarning: \"is\" with 'int' literal. Did you mean \"==\"?\n",
      "  print('5 is 5.0:      ', 5 is 5.0)\n",
      "/tmp/ipykernel_56/799635676.py:7: SyntaxWarning: \"is not\" with 'int' literal. Did you mean \"!=\"?\n",
      "  print('5 is not 5.0:  ', 5 is not 5.0)\n"
     ]
    }
   ],
   "source": [
    "print('5<6:           ', 5<6)\n",
    "print('5<5:           ', 5<5)\n",
    "print('5<=5:          ', 5<=5)\n",
    "print('5==5:          ', 5==5)\n",
    "print('5==5.0:        ', 5==5.0)\n",
    "print('5 is 5.0:      ', 5 is 5.0)\n",
    "print('5 is not 5.0:  ', 5 is not 5.0)\n",
    "print('5!=5.0:        ', 5!=5.0)\n",
    "print('6>5:           ', 6>5)\n",
    "print('6>=5:          ', 6>=5)"
   ]
  },
  {
   "cell_type": "markdown",
   "metadata": {},
   "source": [
    "Notice that there are some warnings above. Depending on which notebook (jupyter, colab, ...) software you are using, you may or may not get warnings. These are simply helpful warnings that you can ignore if you are sure your code is correct."
   ]
  }
 ],
 "metadata": {
  "colab": {
   "authorship_tag": "ABX9TyNQ0oxVhvtq82Tm7tc7e7R8",
   "collapsed_sections": [],
   "name": "Operators.ipynb",
   "provenance": []
  },
  "kernelspec": {
   "display_name": "Python 3 (ipykernel)",
   "language": "python",
   "name": "python3"
  },
  "language_info": {
   "codemirror_mode": {
    "name": "ipython",
    "version": 3
   },
   "file_extension": ".py",
   "mimetype": "text/x-python",
   "name": "python",
   "nbconvert_exporter": "python",
   "pygments_lexer": "ipython3",
   "version": "3.13.4"
  }
 },
 "nbformat": 4,
 "nbformat_minor": 1
}
