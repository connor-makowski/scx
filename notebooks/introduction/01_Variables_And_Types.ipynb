{
 "cells": [
  {
   "cell_type": "markdown",
   "metadata": {
    "id": "6lzy_PZPNWNA"
   },
   "source": [
    "# Variables and Types"
   ]
  },
  {
   "cell_type": "markdown",
   "metadata": {
    "id": "T7vyqYMhqyrD"
   },
   "source": [
    "## Variables\n",
    "\n",
    "Variables are symbolic names that are used to refer to some arbitrary object. In Python, the object that is referenced can take different types. In one of the most simple forms, it can represent a numeric integer."
   ]
  },
  {
   "cell_type": "markdown",
   "metadata": {
    "id": "tmiss1rXq4CZ"
   },
   "source": [
    "For variable assignment purposes, an `=` sign is used.\n",
    "\n",
    "Variables must be made up of only alphanumeric characters or underscores (`a-Z`, `0-9`, `_`), but cannot start with a number. They are also case-sensitive, meaning that `abc`, `Abc`, `ABC` are all different variables."
   ]
  },
  {
   "cell_type": "markdown",
   "metadata": {
    "id": "tmiss1rXq4CZ"
   },
   "source": [
    "Let's see an example of variable assignment:"
   ]
  },
  {
   "cell_type": "code",
   "execution_count": 1,
   "metadata": {
    "execution": {
     "iopub.execute_input": "2022-12-02T16:36:53.879307Z",
     "iopub.status.busy": "2022-12-02T16:36:53.879064Z",
     "iopub.status.idle": "2022-12-02T16:36:53.886342Z",
     "shell.execute_reply": "2022-12-02T16:36:53.885838Z"
    },
    "executionInfo": {
     "elapsed": 4,
     "status": "ok",
     "timestamp": 1661425511006,
     "user": {
      "displayName": "connor makowski",
      "userId": "10315975988672690851"
     },
     "user_tz": 240
    },
    "id": "9BFL6n47MSmU"
   },
   "outputs": [],
   "source": [
    "x=1"
   ]
  },
  {
   "cell_type": "markdown",
   "metadata": {
    "id": "_6-JXWa9XALk"
   },
   "source": [
    "But wait, nothing happened... Actually something did happen. Variables are stored to be accessed later. In a notebook (like Google Colab or Jupyter), these variables are stored in a runtime and available to be called after code has been run that assigns a value to a variable.\n",
    "\n",
    "We can use a print statement to see the output of a variable. See the output below the code cell."
   ]
  },
  {
   "cell_type": "code",
   "execution_count": 2,
   "metadata": {
    "colab": {
     "base_uri": "https://localhost:8080/"
    },
    "execution": {
     "iopub.execute_input": "2022-12-02T16:36:53.888258Z",
     "iopub.status.busy": "2022-12-02T16:36:53.888152Z",
     "iopub.status.idle": "2022-12-02T16:36:53.890989Z",
     "shell.execute_reply": "2022-12-02T16:36:53.890526Z"
    },
    "executionInfo": {
     "elapsed": 7,
     "status": "ok",
     "timestamp": 1661425512841,
     "user": {
      "displayName": "connor makowski",
      "userId": "10315975988672690851"
     },
     "user_tz": 240
    },
    "id": "PFHkX0vrO_86",
    "outputId": "b2ed838e-7a1e-4c8d-bcc4-d9f6f4cbe40f"
   },
   "outputs": [
    {
     "name": "stdout",
     "output_type": "stream",
     "text": [
      "1\n"
     ]
    }
   ],
   "source": [
    "print(x)"
   ]
  },
  {
   "cell_type": "markdown",
   "metadata": {
    "id": "GtIMi2M6r6wP"
   },
   "source": [
    "## Printing\n",
    "A quick digression to explain how to output/print values in Python."
   ]
  },
  {
   "cell_type": "markdown",
   "metadata": {
    "id": "hi2xdnoVrDcV"
   },
   "source": [
    "In a notebook (and in interactive Python shells), if the last line in a cell returns a value, that value is printed automatically."
   ]
  },
  {
   "cell_type": "code",
   "execution_count": 3,
   "metadata": {
    "colab": {
     "base_uri": "https://localhost:8080/"
    },
    "execution": {
     "iopub.execute_input": "2022-12-02T16:36:53.915032Z",
     "iopub.status.busy": "2022-12-02T16:36:53.914509Z",
     "iopub.status.idle": "2022-12-02T16:36:53.923760Z",
     "shell.execute_reply": "2022-12-02T16:36:53.923312Z"
    },
    "executionInfo": {
     "elapsed": 322,
     "status": "ok",
     "timestamp": 1661425555091,
     "user": {
      "displayName": "connor makowski",
      "userId": "10315975988672690851"
     },
     "user_tz": 240
    },
    "id": "bCNr5e73rdwN",
    "outputId": "bbca715e-6ccb-4ffe-81d4-5ed547e495cc"
   },
   "outputs": [
    {
     "data": {
      "text/plain": [
       "7"
      ]
     },
     "execution_count": 3,
     "metadata": {},
     "output_type": "execute_result"
    }
   ],
   "source": [
    "y=7\n",
    "y"
   ]
  },
  {
   "cell_type": "markdown",
   "metadata": {
    "id": "p61p3XG_rkiD"
   },
   "source": [
    "If an object to be called is not the last line, it is not printed."
   ]
  },
  {
   "cell_type": "code",
   "execution_count": 4,
   "metadata": {
    "execution": {
     "iopub.execute_input": "2022-12-02T16:36:53.926227Z",
     "iopub.status.busy": "2022-12-02T16:36:53.926097Z",
     "iopub.status.idle": "2022-12-02T16:36:53.928439Z",
     "shell.execute_reply": "2022-12-02T16:36:53.928004Z"
    },
    "executionInfo": {
     "elapsed": 4,
     "status": "ok",
     "timestamp": 1661425601978,
     "user": {
      "displayName": "connor makowski",
      "userId": "10315975988672690851"
     },
     "user_tz": 240
    },
    "id": "lld-XtlZrqdW"
   },
   "outputs": [],
   "source": [
    "y\n",
    "z=2"
   ]
  },
  {
   "cell_type": "markdown",
   "metadata": {
    "id": "2RavIviArxNl"
   },
   "source": [
    "To print this, you would need to call the `print` statement."
   ]
  },
  {
   "cell_type": "code",
   "execution_count": 5,
   "metadata": {
    "colab": {
     "base_uri": "https://localhost:8080/"
    },
    "execution": {
     "iopub.execute_input": "2022-12-02T16:36:53.931293Z",
     "iopub.status.busy": "2022-12-02T16:36:53.931119Z",
     "iopub.status.idle": "2022-12-02T16:36:53.933745Z",
     "shell.execute_reply": "2022-12-02T16:36:53.933267Z"
    },
    "executionInfo": {
     "elapsed": 503,
     "status": "ok",
     "timestamp": 1661425650308,
     "user": {
      "displayName": "connor makowski",
      "userId": "10315975988672690851"
     },
     "user_tz": 240
    },
    "id": "fRLyLXSbr2pr",
    "outputId": "01e776e1-92d6-4c91-acf5-5728c1766f74"
   },
   "outputs": [
    {
     "name": "stdout",
     "output_type": "stream",
     "text": [
      "7\n"
     ]
    }
   ],
   "source": [
    "print(y)\n",
    "z=2"
   ]
  },
  {
   "cell_type": "markdown",
   "metadata": {
    "id": "UAgKbP4EeimJ"
   },
   "source": [
    "We can also print the output of operations."
   ]
  },
  {
   "cell_type": "code",
   "execution_count": 6,
   "metadata": {
    "colab": {
     "base_uri": "https://localhost:8080/"
    },
    "execution": {
     "iopub.execute_input": "2022-12-02T16:36:53.935930Z",
     "iopub.status.busy": "2022-12-02T16:36:53.935729Z",
     "iopub.status.idle": "2022-12-02T16:36:53.938490Z",
     "shell.execute_reply": "2022-12-02T16:36:53.938014Z"
    },
    "executionInfo": {
     "elapsed": 334,
     "status": "ok",
     "timestamp": 1661425516180,
     "user": {
      "displayName": "connor makowski",
      "userId": "10315975988672690851"
     },
     "user_tz": 240
    },
    "id": "oBuFFS13PFvx",
    "outputId": "48c2a959-8d7d-446c-ae6a-ce8bb7c84df6"
   },
   "outputs": [
    {
     "name": "stdout",
     "output_type": "stream",
     "text": [
      "3\n"
     ]
    }
   ],
   "source": [
    "print(x+2)"
   ]
  },
  {
   "cell_type": "markdown",
   "metadata": {
    "id": "CK0spaftevkN"
   },
   "source": [
    "## Back to Variables\n",
    "Moving back to variables, multiple variables can be assigned and used in conjunction to create new variables."
   ]
  },
  {
   "cell_type": "code",
   "execution_count": 7,
   "metadata": {
    "colab": {
     "base_uri": "https://localhost:8080/"
    },
    "execution": {
     "iopub.execute_input": "2022-12-02T16:36:53.940188Z",
     "iopub.status.busy": "2022-12-02T16:36:53.939991Z",
     "iopub.status.idle": "2022-12-02T16:36:53.942759Z",
     "shell.execute_reply": "2022-12-02T16:36:53.942292Z"
    },
    "executionInfo": {
     "elapsed": 9,
     "status": "ok",
     "timestamp": 1661275377647,
     "user": {
      "displayName": "connor makowski",
      "userId": "10315975988672690851"
     },
     "user_tz": 240
    },
    "id": "vhR-_Ou3T2ID",
    "outputId": "03179fe5-0328-49c2-863d-03131a37f162"
   },
   "outputs": [
    {
     "name": "stdout",
     "output_type": "stream",
     "text": [
      "6\n"
     ]
    }
   ],
   "source": [
    "y=5\n",
    "z=x+y\n",
    "print(z)"
   ]
  },
  {
   "cell_type": "markdown",
   "metadata": {
    "id": "VA3zwXv4vMUM"
   },
   "source": [
    "Variables can be overwritten as needed. If, after running the below code, you were to go to another cell (including a cell above this one) and use the variable `x` it would now be `-5`."
   ]
  },
  {
   "cell_type": "code",
   "execution_count": 8,
   "metadata": {
    "colab": {
     "base_uri": "https://localhost:8080/"
    },
    "execution": {
     "iopub.execute_input": "2022-12-02T16:36:53.944872Z",
     "iopub.status.busy": "2022-12-02T16:36:53.944662Z",
     "iopub.status.idle": "2022-12-02T16:36:53.947497Z",
     "shell.execute_reply": "2022-12-02T16:36:53.947014Z"
    },
    "executionInfo": {
     "elapsed": 218,
     "status": "ok",
     "timestamp": 1661275643081,
     "user": {
      "displayName": "connor makowski",
      "userId": "10315975988672690851"
     },
     "user_tz": 240
    },
    "id": "M8a0wjPXvPfY",
    "outputId": "8c319800-6720-4d4c-a15e-606de403e666"
   },
   "outputs": [
    {
     "name": "stdout",
     "output_type": "stream",
     "text": [
      "-5\n"
     ]
    }
   ],
   "source": [
    "x=-5\n",
    "print(x)"
   ]
  },
  {
   "cell_type": "markdown",
   "metadata": {
    "id": "jOnbPDc8PQr5"
   },
   "source": [
    "## Types\n",
    "\n",
    "Anything you assign to a variable has a type. Python has built in types, but you can use special code (classes) to create any arbitrary object type.\n",
    "\n",
    "You may sometimes see the term `built in`. This means *built into Python without the need to use any external or custom code*.\n",
    "\n",
    "Let's cover some basic and very common built in types.\n",
    "\n",
    "- `int`: A numeric integer\n",
    "- `float`: A floating point number (has decimal places)\n",
    "- `str`: A string (enclosed in single or double quotes)\n",
    "- `bool`: A boolean value (`True` or `False`)\n",
    "\n",
    "When you initialize (create) variables with certain inputs, Python will automatically determine the object type for you."
   ]
  },
  {
   "cell_type": "code",
   "execution_count": 9,
   "metadata": {
    "execution": {
     "iopub.execute_input": "2022-12-02T16:36:53.949552Z",
     "iopub.status.busy": "2022-12-02T16:36:53.949413Z",
     "iopub.status.idle": "2022-12-02T16:36:53.951610Z",
     "shell.execute_reply": "2022-12-02T16:36:53.951228Z"
    },
    "id": "TrKz0dKJPP2m"
   },
   "outputs": [],
   "source": [
    "my_int=5\n",
    "my_float=7.9\n",
    "my_str='Hi There'\n",
    "my_bool=True"
   ]
  },
  {
   "cell_type": "markdown",
   "metadata": {
    "id": "oN5ngf3etfP1"
   },
   "source": [
    "Type can be determined for any variable by calling `type(variable_name)`"
   ]
  },
  {
   "cell_type": "code",
   "execution_count": 10,
   "metadata": {
    "colab": {
     "base_uri": "https://localhost:8080/"
    },
    "execution": {
     "iopub.execute_input": "2022-12-02T16:36:53.953152Z",
     "iopub.status.busy": "2022-12-02T16:36:53.953000Z",
     "iopub.status.idle": "2022-12-02T16:36:53.955392Z",
     "shell.execute_reply": "2022-12-02T16:36:53.954993Z"
    },
    "executionInfo": {
     "elapsed": 8,
     "status": "ok",
     "timestamp": 1661275377648,
     "user": {
      "displayName": "connor makowski",
      "userId": "10315975988672690851"
     },
     "user_tz": 240
    },
    "id": "vQtFMd-JPPHJ",
    "outputId": "76a37ac4-da05-4713-bf32-99a56813b62e"
   },
   "outputs": [
    {
     "name": "stdout",
     "output_type": "stream",
     "text": [
      "<class 'float'>\n"
     ]
    }
   ],
   "source": [
    "print(type(my_float))"
   ]
  },
  {
   "cell_type": "code",
   "execution_count": 11,
   "metadata": {
    "colab": {
     "base_uri": "https://localhost:8080/"
    },
    "execution": {
     "iopub.execute_input": "2022-12-02T16:36:53.956787Z",
     "iopub.status.busy": "2022-12-02T16:36:53.956646Z",
     "iopub.status.idle": "2022-12-02T16:36:53.959361Z",
     "shell.execute_reply": "2022-12-02T16:36:53.958900Z"
    },
    "executionInfo": {
     "elapsed": 7,
     "status": "ok",
     "timestamp": 1661275377648,
     "user": {
      "displayName": "connor makowski",
      "userId": "10315975988672690851"
     },
     "user_tz": 240
    },
    "id": "VZ3FsKTygk5-",
    "outputId": "9dfe2d54-5086-4224-8a33-de615c614896"
   },
   "outputs": [
    {
     "name": "stdout",
     "output_type": "stream",
     "text": [
      "<class 'str'>\n"
     ]
    }
   ],
   "source": [
    "print(type(my_str))"
   ]
  },
  {
   "cell_type": "markdown",
   "metadata": {
    "id": "1bMPTZGtU08s"
   },
   "source": [
    "Certain types can interact with other types using operators (like `+`)"
   ]
  },
  {
   "cell_type": "code",
   "execution_count": 12,
   "metadata": {
    "colab": {
     "base_uri": "https://localhost:8080/"
    },
    "execution": {
     "iopub.execute_input": "2022-12-02T16:36:53.961286Z",
     "iopub.status.busy": "2022-12-02T16:36:53.960838Z",
     "iopub.status.idle": "2022-12-02T16:36:53.963713Z",
     "shell.execute_reply": "2022-12-02T16:36:53.963249Z"
    },
    "executionInfo": {
     "elapsed": 6,
     "status": "ok",
     "timestamp": 1661275377648,
     "user": {
      "displayName": "connor makowski",
      "userId": "10315975988672690851"
     },
     "user_tz": 240
    },
    "id": "eejnRtgSUSPI",
    "outputId": "8a95ea3e-2f20-405c-8e5f-b69c3e92b07f"
   },
   "outputs": [
    {
     "name": "stdout",
     "output_type": "stream",
     "text": [
      "12.9\n",
      "<class 'float'>\n"
     ]
    }
   ],
   "source": [
    "a=my_int+my_float\n",
    "print(a)\n",
    "print(type(a))"
   ]
  },
  {
   "cell_type": "markdown",
   "metadata": {
    "id": "thHX4PDUtpNI"
   },
   "source": [
    "At the same time some types can not interact depending on the operator used."
   ]
  },
  {
   "cell_type": "code",
   "execution_count": 13,
   "metadata": {
    "colab": {
     "base_uri": "https://localhost:8080/",
     "height": 168
    },
    "execution": {
     "iopub.execute_input": "2022-12-02T16:36:53.965537Z",
     "iopub.status.busy": "2022-12-02T16:36:53.965325Z",
     "iopub.status.idle": "2022-12-02T16:36:54.073002Z",
     "shell.execute_reply": "2022-12-02T16:36:54.072442Z"
    },
    "executionInfo": {
     "elapsed": 213,
     "status": "error",
     "timestamp": 1661275377856,
     "user": {
      "displayName": "connor makowski",
      "userId": "10315975988672690851"
     },
     "user_tz": 240
    },
    "id": "WOK6WS4FuLzz",
    "outputId": "7e17e675-d70a-4a72-e682-cf21e8d05e2b"
   },
   "outputs": [
    {
     "ename": "TypeError",
     "evalue": "unsupported operand type(s) for +: 'int' and 'str'",
     "output_type": "error",
     "traceback": [
      "\u001b[0;31m---------------------------------------------------------------------------\u001b[0m",
      "\u001b[0;31mTypeError\u001b[0m                                 Traceback (most recent call last)",
      "Cell \u001b[0;32mIn[13], line 1\u001b[0m\n\u001b[0;32m----> 1\u001b[0m \u001b[38;5;28mprint\u001b[39m(\u001b[43mmy_int\u001b[49m\u001b[38;5;241;43m+\u001b[39;49m\u001b[43mmy_str\u001b[49m)\n",
      "\u001b[0;31mTypeError\u001b[0m: unsupported operand type(s) for +: 'int' and 'str'"
     ]
    }
   ],
   "source": [
    "print(my_int+my_str)"
   ]
  },
  {
   "cell_type": "markdown",
   "metadata": {
    "id": "rXtbE3hTuSIQ"
   },
   "source": [
    "Luckily, Python has many helpful exception warnings to let you know where things did not work and why."
   ]
  }
 ],
 "metadata": {
  "colab": {
   "authorship_tag": "ABX9TyM6A2auQ3Z91jftukd+0Qxq",
   "collapsed_sections": [],
   "name": "01_Variables_And_Types.ipynb",
   "provenance": []
  },
  "kernelspec": {
   "display_name": "Python 3 (ipykernel)",
   "language": "python",
   "name": "python3"
  },
  "language_info": {
   "codemirror_mode": {
    "name": "ipython",
    "version": 3
   },
   "file_extension": ".py",
   "mimetype": "text/x-python",
   "name": "python",
   "nbconvert_exporter": "python",
   "pygments_lexer": "ipython3",
   "version": "3.10.8"
  }
 },
 "nbformat": 4,
 "nbformat_minor": 1
}
