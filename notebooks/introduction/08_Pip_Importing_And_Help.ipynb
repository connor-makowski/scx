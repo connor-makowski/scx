{
 "cells": [
  {
   "cell_type": "markdown",
   "metadata": {
    "id": "hG-n6SCFljkx"
   },
   "source": [
    "# Pip, Importing And Help"
   ]
  },
  {
   "cell_type": "markdown",
   "metadata": {
    "id": "Bksen9-JbRBn"
   },
   "source": [
    "## Pip\n",
    "\n",
    "Pip is the canonical Python package installer. It is used to easily install external packages. For full details on how to use `pip` see the [pip docs](https://pip.pypa.io/en/stable/)."
   ]
  },
  {
   "cell_type": "markdown",
   "metadata": {
    "id": "skP3CQ3qpoAB"
   },
   "source": [
    "In general, `pip` should be executed from a terminal on your machine to install packages. In the case of google colab, you can directly install packages using the same nomenclature.\n",
    "\n",
    "```\n",
    "pip install <package>\n",
    "```\n",
    "\n",
    "As an example, install the MIT SCx package from the MIT CTL."
   ]
  },
  {
   "cell_type": "code",
   "execution_count": 1,
   "metadata": {
    "colab": {
     "base_uri": "https://localhost:8080/"
    },
    "execution": {
     "iopub.execute_input": "2025-06-06T17:07:45.690018Z",
     "iopub.status.busy": "2025-06-06T17:07:45.689873Z",
     "iopub.status.idle": "2025-06-06T17:07:46.315880Z",
     "shell.execute_reply": "2025-06-06T17:07:46.315439Z"
    },
    "executionInfo": {
     "elapsed": 4217,
     "status": "ok",
     "timestamp": 1661425281046,
     "user": {
      "displayName": "connor makowski",
      "userId": "10315975988672690851"
     },
     "user_tz": 240
    },
    "id": "_BzHad80aYPr",
    "outputId": "3031a3ef-6b9a-47e3-cb0c-4912a7ede708"
   },
   "outputs": [
    {
     "name": "stdout",
     "output_type": "stream",
     "text": [
      "Requirement already satisfied: scx in /usr/local/lib/python3.13/site-packages (1.2.1)\r\n",
      "Requirement already satisfied: type_enforced<2.0.0,>=1.2.0 in /usr/local/lib/python3.13/site-packages (from scx) (1.10.2)\r\n",
      "Requirement already satisfied: PuLP==2.7.0 in /usr/local/lib/python3.13/site-packages (from scx) (2.7.0)\r\n",
      "Requirement already satisfied: duckdb==1.3.0 in /usr/local/lib/python3.13/site-packages (from scx) (1.3.0)\r\n"
     ]
    },
    {
     "name": "stdout",
     "output_type": "stream",
     "text": [
      "\u001b[33mWARNING: Running pip as the 'root' user can result in broken permissions and conflicting behaviour with the system package manager, possibly rendering your system unusable. It is recommended to use a virtual environment instead: https://pip.pypa.io/warnings/venv. Use the --root-user-action option if you know what you are doing and want to suppress this warning.\u001b[0m\u001b[33m\r\n",
      "\u001b[0m"
     ]
    },
    {
     "name": "stdout",
     "output_type": "stream",
     "text": [
      "Note: you may need to restart the kernel to use updated packages."
     ]
    },
    {
     "name": "stdout",
     "output_type": "stream",
     "text": [
      "\n"
     ]
    }
   ],
   "source": [
    "pip install scx"
   ]
  },
  {
   "cell_type": "markdown",
   "metadata": {
    "id": "VWT9AktfcvDN"
   },
   "source": [
    "## Importing\n",
    "\n",
    "Once a package is installed, it can be imported by calling the `import` statement. See the [import docs](https://docs.python.org/3/reference/import.html) for more info."
   ]
  },
  {
   "cell_type": "code",
   "execution_count": 2,
   "metadata": {
    "execution": {
     "iopub.execute_input": "2025-06-06T17:07:46.317480Z",
     "iopub.status.busy": "2025-06-06T17:07:46.317328Z",
     "iopub.status.idle": "2025-06-06T17:07:46.320074Z",
     "shell.execute_reply": "2025-06-06T17:07:46.319785Z"
    },
    "id": "vMPmc9Vwacc2"
   },
   "outputs": [],
   "source": [
    "import scx"
   ]
  },
  {
   "cell_type": "markdown",
   "metadata": {
    "id": "dcNxRyRomWrK"
   },
   "source": [
    "In general, most packages have an expected way to import them. This may vary from package to package and indications on how this is done should be found in the package's official docs.\n",
    "\n",
    "The `scx` package has the following docs:\n",
    "- [Code Repo](https://github.com/connor-makowski/scx)\n",
    "- [Technical Docs](https://connor-makowski.github.io/scx/index.html)\n",
    "\n",
    "In this case, it looks like the scx package has multiple modules. These would need to be imported from the package.\n",
    "\n",
    "The nomenclature to import modules from a package is:\n",
    "```\n",
    "from <package> import <module>\n",
    "```\n",
    "\n",
    "Or even further down:\n",
    "\n",
    "```\n",
    "from <package>.<module> import <module, class or function>\n",
    "```\n",
    "\n",
    "In the `scx` example, importing the `optimize` module would give access to it."
   ]
  },
  {
   "cell_type": "code",
   "execution_count": 3,
   "metadata": {
    "execution": {
     "iopub.execute_input": "2025-06-06T17:07:46.321480Z",
     "iopub.status.busy": "2025-06-06T17:07:46.321246Z",
     "iopub.status.idle": "2025-06-06T17:07:46.370362Z",
     "shell.execute_reply": "2025-06-06T17:07:46.369962Z"
    },
    "id": "PWQQqtlsmeuH"
   },
   "outputs": [],
   "source": [
    "from scx import optimize"
   ]
  },
  {
   "cell_type": "markdown",
   "metadata": {
    "id": "AKLCiGz0c8Zz"
   },
   "source": [
    "## Help\n",
    "\n",
    "All packages come with built in features for viewing package contents and accessing documentation. This can be accessed with the `help` function."
   ]
  },
  {
   "cell_type": "code",
   "execution_count": 4,
   "metadata": {
    "colab": {
     "base_uri": "https://localhost:8080/"
    },
    "execution": {
     "iopub.execute_input": "2025-06-06T17:07:46.371981Z",
     "iopub.status.busy": "2025-06-06T17:07:46.371846Z",
     "iopub.status.idle": "2025-06-06T17:07:46.374802Z",
     "shell.execute_reply": "2025-06-06T17:07:46.374427Z"
    },
    "executionInfo": {
     "elapsed": 11,
     "status": "ok",
     "timestamp": 1661425281048,
     "user": {
      "displayName": "connor makowski",
      "userId": "10315975988672690851"
     },
     "user_tz": 240
    },
    "id": "cx18QzWaapTo",
    "outputId": "5883ebb8-24cf-46e8-df6b-fa3be7c4c898"
   },
   "outputs": [
    {
     "name": "stdout",
     "output_type": "stream",
     "text": [
      "Help on package scx:\n",
      "\n",
      "NAME\n",
      "    scx\n",
      "\n",
      "PACKAGE CONTENTS\n",
      "    database\n",
      "    optimize\n",
      "    statistics\n",
      "    utils\n",
      "\n",
      "FILE\n",
      "    /app/scx/__init__.py\n",
      "\n",
      "\n"
     ]
    }
   ],
   "source": [
    "help(scx)"
   ]
  },
  {
   "cell_type": "markdown",
   "metadata": {
    "id": "28l-SEc-dqOK"
   },
   "source": [
    "As you can see the root level help provides some idea of what contents are in the package.\n",
    "\n",
    "In Python, you can normally find something akin to the above 'Technical Docs for the scx package' by calling `help` on each module in the package.\n",
    "\n",
    "For example:"
   ]
  },
  {
   "cell_type": "code",
   "execution_count": 5,
   "metadata": {
    "colab": {
     "base_uri": "https://localhost:8080/"
    },
    "execution": {
     "iopub.execute_input": "2025-06-06T17:07:46.376307Z",
     "iopub.status.busy": "2025-06-06T17:07:46.376015Z",
     "iopub.status.idle": "2025-06-06T17:07:46.381324Z",
     "shell.execute_reply": "2025-06-06T17:07:46.380928Z"
    },
    "executionInfo": {
     "elapsed": 8,
     "status": "ok",
     "timestamp": 1661425281048,
     "user": {
      "displayName": "connor makowski",
      "userId": "10315975988672690851"
     },
     "user_tz": 240
    },
    "id": "MQpmX8Oqaxyc",
    "outputId": "43a9b90b-655a-4013-d67c-201ba8d90553"
   },
   "outputs": [
    {
     "name": "stdout",
     "output_type": "stream",
     "text": [
      "Help on module scx.optimize in scx:\n",
      "\n",
      "NAME\n",
      "    scx.optimize\n",
      "\n",
      "CLASSES\n",
      "    scx.utils.Error(builtins.object)\n",
      "        ModelUtils\n",
      "            Model\n",
      "\n",
      "    class Model(ModelUtils)\n",
      "     |  Model(self, name: str, sense: [<class 'str'>, None])\n",
      "     |\n",
      "     |  Method resolution order:\n",
      "     |      Model\n",
      "     |      ModelUtils\n",
      "     |      scx.utils.Error\n",
      "     |      builtins.object\n",
      "     |\n",
      "     |  Methods defined here:\n",
      "     |\n",
      "     |  __init__(self, name: str, sense: [<class 'str'>, None])\n",
      "     |      Initialize a new optimization model object.\n",
      "     |\n",
      "     |      Requires:\n",
      "     |\n",
      "     |      - `name`:\n",
      "     |          - Type: str\n",
      "     |          - What: The name of this optimization model\n",
      "     |      - `sense`:\n",
      "     |          - Type: str\n",
      "     |          - What: The type of optimization to perform\n",
      "     |          - Options: ['maximize','minimize',None]\n",
      "     |          - Note: If None, no optimization is performed, but a feasible solution is searched for given the constraints\n",
      "     |\n",
      "     |  add_constraint(self, fn, name: [<class 'str'>, None] = None)\n",
      "     |      Add a constraint function to the current model object. Each model can have unlimited constraints.\n",
      "     |\n",
      "     |      Requires:\n",
      "     |\n",
      "     |      - `fn`:\n",
      "     |          - Type: function\n",
      "     |          - What: The pythonic version of a constraint function\n",
      "     |          - Note: This function should have pythonic [comparison operators](https://docs.python.org/3/reference/expressions.html#comparison)\n",
      "     |\n",
      "     |      Optional:\n",
      "     |\n",
      "     |      - `name`:\n",
      "     |          - Type: str\n",
      "     |          - What: The name of this constraint\n",
      "     |          - Default: None\n",
      "     |\n",
      "     |  add_objective(self, fn)\n",
      "     |      Add the objective function to the current model object. Each model can only have one objective function.\n",
      "     |\n",
      "     |      Requires:\n",
      "     |\n",
      "     |      - `fn`:\n",
      "     |          - Type: function\n",
      "     |          - What: The pythonic version of the objective function\n",
      "     |          - Note: This function should **not** have any pythonic [comparison operators](https://docs.python.org/3/reference/expressions.html#comparisons)\n",
      "     |\n",
      "     |  get_duals(self)\n",
      "     |      Adds dual values to the model outputs dictionary as `duals` and also returns those dual values as an dictonary.\n",
      "     |\n",
      "     |      Notes:\n",
      "     |\n",
      "     |          - The model must be solved before this method can be used\n",
      "     |          - Dual values will be 0 or None for non LP models (EG MILPs)\n",
      "     |          - Dual values might not be avaialable depending on the solver that is used\n",
      "     |\n",
      "     |  get_formulation(self)\n",
      "     |      Returns the current model formulation as a string in a human readable form.\n",
      "     |\n",
      "     |      Note: This aggregates variables where possible such that\n",
      "     |\n",
      "     |      - `variable_1*2 + variable_1*1` => `variable_1*3`\n",
      "     |\n",
      "     |  get_outputs(self)\n",
      "     |      Returns a solved model's outputs.\n",
      "     |\n",
      "     |      Note: A model must be solved before getting these outputs\n",
      "     |\n",
      "     |  get_slacks(self)\n",
      "     |      Adds slack values to the model outputs dictionary as `slacks` and also returns those slack values as an dictonary.\n",
      "     |\n",
      "     |      Notes:\n",
      "     |\n",
      "     |          - The model must be solved before this method can be used\n",
      "     |          - Slack values might not be avaialable depending on the solver that is used\n",
      "     |\n",
      "     |  show_formulation(self)\n",
      "     |      Shows the current model's formulation in the terminal (from self.get_formulation())\n",
      "     |\n",
      "     |  show_outputs(self, pretty=True)\n",
      "     |      Shows a solved model's outputs in the terminal (from self.get_outputs())\n",
      "     |\n",
      "     |      Optional:\n",
      "     |\n",
      "     |          - `pretty`:\n",
      "     |              - Type: bool\n",
      "     |              - What: Show the outputs in a pretty format\n",
      "     |              - Default: True\n",
      "     |\n",
      "     |  solve(\n",
      "     |      self,\n",
      "     |      pulp_log: bool = False,\n",
      "     |      except_on_infeasible: bool = True,\n",
      "     |      get_duals: bool = False,\n",
      "     |      get_slacks: bool = False\n",
      "     |  )\n",
      "     |      Solve the current model object.\n",
      "     |\n",
      "     |      Optional:\n",
      "     |\n",
      "     |      - `pulp_log`:\n",
      "     |          - Type: bool\n",
      "     |          - What: A flag to indicate if the relevant pulp / coinOr solver log should be logged in the console. This can be helpful for debugging.\n",
      "     |          - Default: False\n",
      "     |      - `except_on_infeasible`:\n",
      "     |          - Type: bool\n",
      "     |          - What: A flag to indicate if the model should throw an exception if the optimization model is infeasible. If false, the model will automatically relax constraints to generate an infeasible solution.\n",
      "     |          - Default: True\n",
      "     |      - `get_duals`:\n",
      "     |          - Type: bool\n",
      "     |          - What: A flag to indicate if the dual values for constraints should be added to the normal `outputs`.\n",
      "     |          - Default: False\n",
      "     |      - `get_slacks`:\n",
      "     |          - Type: bool\n",
      "     |          - What: A flag to indicate if the slack values for constraints should be added to the normal `outputs`.\n",
      "     |          - Default: False\n",
      "     |\n",
      "     |  validity_checks(self)\n",
      "     |      Runs validity checks on the model before solving it\n",
      "     |\n",
      "     |      - Checks to make sure the model has not already been solved\n",
      "     |      - Ensures that variables each have unique names\n",
      "     |      - Note: PuLP automatically verifies constraint name uniqueness\n",
      "     |\n",
      "     |  ----------------------------------------------------------------------\n",
      "     |  Static methods inherited from ModelUtils:\n",
      "     |\n",
      "     |  sum(vector: list)\n",
      "     |      Creates a function that can sum over a list to add as an objective or constraint on the model\n",
      "     |\n",
      "     |      Requires:\n",
      "     |\n",
      "     |      - `vector`:\n",
      "     |          - Type: list\n",
      "     |          - What: A list of items or functions to sum over\n",
      "     |\n",
      "     |  variable(\n",
      "     |      name: str,\n",
      "     |      lowBound: [<class 'float'>, <class 'int'>, None] = None,\n",
      "     |      upBound: [<class 'float'>, <class 'int'>, None] = None,\n",
      "     |      cat: [<class 'str'>, None] = 'Continuous'\n",
      "     |  )\n",
      "     |      Creates a variable object to be used in an optimize.Model object\n",
      "     |\n",
      "     |      Requires:\n",
      "     |\n",
      "     |      - `name`:\n",
      "     |          - Type: str\n",
      "     |          - What: The name of this variable\n",
      "     |\n",
      "     |      Optional:\n",
      "     |\n",
      "     |      - `lowBound`:\n",
      "     |          - Type: int | float\n",
      "     |          - What: A lower bound for this variable\n",
      "     |          - Default: -infinity\n",
      "     |      - `upBound`:\n",
      "     |          - Type: int | float\n",
      "     |          - What: An upper bound for this variable\n",
      "     |          - Default: infinity\n",
      "     |      - `cat`:\n",
      "     |          - Type: str\n",
      "     |          - What: The category of this variable\n",
      "     |          - Default: `Continuous`\n",
      "     |          - Options: ['Continuous','Binary','Integer']\n",
      "     |\n",
      "     |  ----------------------------------------------------------------------\n",
      "     |  Data and other attributes inherited from ModelUtils:\n",
      "     |\n",
      "     |  __type_enforced_enabled__ = True\n",
      "     |\n",
      "     |  ----------------------------------------------------------------------\n",
      "     |  Class methods inherited from scx.utils.Error:\n",
      "     |\n",
      "     |  exception(message, depth=0)\n",
      "     |      Usage:\n",
      "     |\n",
      "     |      - Creates a class based exception message\n",
      "     |\n",
      "     |      Requires:\n",
      "     |\n",
      "     |      - `message`:\n",
      "     |          - Type: str\n",
      "     |          - What: The message to raise an exception with\n",
      "     |\n",
      "     |      Optional:\n",
      "     |\n",
      "     |      - `depth`:\n",
      "     |          - Type: int\n",
      "     |          - What: The depth of the nth call below the top of the method stack\n",
      "     |          - Note: Depth starts at 0 (indicating the current method in the stack)\n",
      "     |          - Default: 0\n",
      "     |\n",
      "     |  warn(message, depth=0)\n",
      "     |      Usage:\n",
      "     |\n",
      "     |      - Creates a class based warning message\n",
      "     |\n",
      "     |      Requires:\n",
      "     |\n",
      "     |      - `message`:\n",
      "     |          - Type: str\n",
      "     |          - What: The message to warn users with\n",
      "     |\n",
      "     |      Optional:\n",
      "     |\n",
      "     |      - `depth`:\n",
      "     |          - Type: int\n",
      "     |          - What: The depth of the nth call below the top of the method stack\n",
      "     |          - Note: Depth starts at 0 (indicating the current method in the stack)\n",
      "     |          - Default: 0\n",
      "     |\n",
      "     |  ----------------------------------------------------------------------\n",
      "     |  Data descriptors inherited from scx.utils.Error:\n",
      "     |\n",
      "     |  __dict__\n",
      "     |      dictionary for instance variables\n",
      "     |\n",
      "     |  __weakref__\n",
      "     |      list of weak references to the object\n",
      "\n",
      "    class ModelUtils(scx.utils.Error)\n",
      "     |  Method resolution order:\n",
      "     |      ModelUtils\n",
      "     |      scx.utils.Error\n",
      "     |      builtins.object\n",
      "     |\n",
      "     |  Static methods defined here:\n",
      "     |\n",
      "     |  sum(vector: list)\n",
      "     |      Creates a function that can sum over a list to add as an objective or constraint on the model\n",
      "     |\n",
      "     |      Requires:\n",
      "     |\n",
      "     |      - `vector`:\n",
      "     |          - Type: list\n",
      "     |          - What: A list of items or functions to sum over\n",
      "     |\n",
      "     |  variable(\n",
      "     |      name: str,\n",
      "     |      lowBound: [<class 'float'>, <class 'int'>, None] = None,\n",
      "     |      upBound: [<class 'float'>, <class 'int'>, None] = None,\n",
      "     |      cat: [<class 'str'>, None] = 'Continuous'\n",
      "     |  )\n",
      "     |      Creates a variable object to be used in an optimize.Model object\n",
      "     |\n",
      "     |      Requires:\n",
      "     |\n",
      "     |      - `name`:\n",
      "     |          - Type: str\n",
      "     |          - What: The name of this variable\n",
      "     |\n",
      "     |      Optional:\n",
      "     |\n",
      "     |      - `lowBound`:\n",
      "     |          - Type: int | float\n",
      "     |          - What: A lower bound for this variable\n",
      "     |          - Default: -infinity\n",
      "     |      - `upBound`:\n",
      "     |          - Type: int | float\n",
      "     |          - What: An upper bound for this variable\n",
      "     |          - Default: infinity\n",
      "     |      - `cat`:\n",
      "     |          - Type: str\n",
      "     |          - What: The category of this variable\n",
      "     |          - Default: `Continuous`\n",
      "     |          - Options: ['Continuous','Binary','Integer']\n",
      "     |\n",
      "     |  ----------------------------------------------------------------------\n",
      "     |  Data and other attributes defined here:\n",
      "     |\n",
      "     |  __type_enforced_enabled__ = True\n",
      "     |\n",
      "     |  ----------------------------------------------------------------------\n",
      "     |  Class methods inherited from scx.utils.Error:\n",
      "     |\n",
      "     |  exception(message, depth=0)\n",
      "     |      Usage:\n",
      "     |\n",
      "     |      - Creates a class based exception message\n",
      "     |\n",
      "     |      Requires:\n",
      "     |\n",
      "     |      - `message`:\n",
      "     |          - Type: str\n",
      "     |          - What: The message to raise an exception with\n",
      "     |\n",
      "     |      Optional:\n",
      "     |\n",
      "     |      - `depth`:\n",
      "     |          - Type: int\n",
      "     |          - What: The depth of the nth call below the top of the method stack\n",
      "     |          - Note: Depth starts at 0 (indicating the current method in the stack)\n",
      "     |          - Default: 0\n",
      "     |\n",
      "     |  warn(message, depth=0)\n",
      "     |      Usage:\n",
      "     |\n",
      "     |      - Creates a class based warning message\n",
      "     |\n",
      "     |      Requires:\n",
      "     |\n",
      "     |      - `message`:\n",
      "     |          - Type: str\n",
      "     |          - What: The message to warn users with\n",
      "     |\n",
      "     |      Optional:\n",
      "     |\n",
      "     |      - `depth`:\n",
      "     |          - Type: int\n",
      "     |          - What: The depth of the nth call below the top of the method stack\n",
      "     |          - Note: Depth starts at 0 (indicating the current method in the stack)\n",
      "     |          - Default: 0\n",
      "     |\n",
      "     |  ----------------------------------------------------------------------\n",
      "     |  Data descriptors inherited from scx.utils.Error:\n",
      "     |\n",
      "     |  __dict__\n",
      "     |      dictionary for instance variables\n",
      "     |\n",
      "     |  __weakref__\n",
      "     |      list of weak references to the object\n",
      "\n",
      "FILE\n",
      "    /app/scx/optimize.py\n",
      "\n",
      "\n"
     ]
    }
   ],
   "source": [
    "help(scx.optimize)"
   ]
  },
  {
   "cell_type": "markdown",
   "metadata": {
    "id": "POdEZ1sjiV0A"
   },
   "source": [
    "Whoah, that is a lot of output...\n",
    "\n",
    "That's okay. At least you can get help to do what you need to do."
   ]
  }
 ],
 "metadata": {
  "colab": {
   "authorship_tag": "ABX9TyN44cOOIsw4xs5WDC6nO4TU",
   "collapsed_sections": [],
   "name": "08_Pip_Importing_And_Help.ipynb",
   "provenance": []
  },
  "kernelspec": {
   "display_name": "Python 3 (ipykernel)",
   "language": "python",
   "name": "python3"
  },
  "language_info": {
   "codemirror_mode": {
    "name": "ipython",
    "version": 3
   },
   "file_extension": ".py",
   "mimetype": "text/x-python",
   "name": "python",
   "nbconvert_exporter": "python",
   "pygments_lexer": "ipython3",
   "version": "3.13.4"
  }
 },
 "nbformat": 4,
 "nbformat_minor": 1
}
