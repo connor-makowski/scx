{
 "cells": [
  {
   "cell_type": "markdown",
   "metadata": {
    "id": "jTcq-AT9oWxd"
   },
   "source": [
    "# Methods\n",
    "\n",
    "Methods are functions attached to Python objects. They have access to the object state, can modify the object state, and return values.\n",
    "\n",
    "While programming classes and methods is out of the scope of this documentation, methods are often used as easy ways to access functionalities inside of installed packages."
   ]
  },
  {
   "cell_type": "markdown",
   "metadata": {
    "id": "W7zEPql-wdvG"
   },
   "source": [
    "Some built in Python features like strings come with helpful methods.\n",
    "\n",
    "For example, you can convert all characters in a string to uppercase or lowercase by calling the `upper` and `lower` methods on the string respectively. "
   ]
  },
  {
   "cell_type": "code",
   "execution_count": 1,
   "metadata": {
    "colab": {
     "base_uri": "https://localhost:8080/"
    },
    "execution": {
     "iopub.execute_input": "2024-07-26T20:12:06.786773Z",
     "iopub.status.busy": "2024-07-26T20:12:06.786666Z",
     "iopub.status.idle": "2024-07-26T20:12:06.789846Z",
     "shell.execute_reply": "2024-07-26T20:12:06.789348Z"
    },
    "executionInfo": {
     "elapsed": 5,
     "status": "ok",
     "timestamp": 1661435584340,
     "user": {
      "displayName": "connor makowski",
      "userId": "10315975988672690851"
     },
     "user_tz": 240
    },
    "id": "9KE6WE_VwkWI",
    "outputId": "19142e66-e45b-4b04-cb98-9c2aaad3e94b"
   },
   "outputs": [
    {
     "name": "stdout",
     "output_type": "stream",
     "text": [
      "A CAPITAL MESS!\n",
      "a capital mess!\n"
     ]
    }
   ],
   "source": [
    "my_string=\"A CaPiTaL MeSs!\"\n",
    "print(my_string.upper())\n",
    "print(my_string.lower())"
   ]
  },
  {
   "cell_type": "markdown",
   "metadata": {
    "id": "yzzqoxKSxSJq"
   },
   "source": [
    "How can you know when a method is available? Well, that can get a bit more tricky. Normally, this should be specified somewhere in the package documentation. In general, the webpage for the package (repo or docs) is the best place to get started.\n",
    "\n",
    "Alternatively, most packages have decent documentation built in. Go ahead and try the `help` function to see what your string can do."
   ]
  },
  {
   "cell_type": "code",
   "execution_count": 2,
   "metadata": {
    "colab": {
     "base_uri": "https://localhost:8080/"
    },
    "execution": {
     "iopub.execute_input": "2024-07-26T20:12:06.842923Z",
     "iopub.status.busy": "2024-07-26T20:12:06.842644Z",
     "iopub.status.idle": "2024-07-26T20:12:06.846614Z",
     "shell.execute_reply": "2024-07-26T20:12:06.845973Z"
    },
    "executionInfo": {
     "elapsed": 5,
     "status": "ok",
     "timestamp": 1661435584341,
     "user": {
      "displayName": "connor makowski",
      "userId": "10315975988672690851"
     },
     "user_tz": 240
    },
    "id": "ID8YXFcDxjCO",
    "outputId": "8c4abcc1-a30a-45b2-fb69-2f0dcccb5bc5"
   },
   "outputs": [
    {
     "name": "stdout",
     "output_type": "stream",
     "text": [
      "No Python documentation found for 'A CaPiTaL MeSs!'.\n",
      "Use help() to get the interactive help utility.\n",
      "Use help(str) for help on the str class.\n",
      "\n"
     ]
    }
   ],
   "source": [
    "help(my_string)"
   ]
  },
  {
   "cell_type": "markdown",
   "metadata": {
    "id": "kPp2oBOUxyd5"
   },
   "source": [
    "Oops, something went wrong, but python is helping us out. We should be looking at what the `str` class can do and not our specific string."
   ]
  },
  {
   "cell_type": "code",
   "execution_count": 3,
   "metadata": {
    "colab": {
     "base_uri": "https://localhost:8080/"
    },
    "execution": {
     "iopub.execute_input": "2024-07-26T20:12:06.848736Z",
     "iopub.status.busy": "2024-07-26T20:12:06.848500Z",
     "iopub.status.idle": "2024-07-26T20:12:06.868270Z",
     "shell.execute_reply": "2024-07-26T20:12:06.867643Z"
    },
    "executionInfo": {
     "elapsed": 4,
     "status": "ok",
     "timestamp": 1661435584341,
     "user": {
      "displayName": "connor makowski",
      "userId": "10315975988672690851"
     },
     "user_tz": 240
    },
    "id": "DwOZQyUEx7fk",
    "outputId": "25040ab9-66e4-4d51-d5a2-3d542d4eb250"
   },
   "outputs": [
    {
     "name": "stdout",
     "output_type": "stream",
     "text": [
      "Help on class str in module builtins:\n",
      "\n",
      "class str(object)\n",
      " |  str(object='') -> str\n",
      " |  str(bytes_or_buffer[, encoding[, errors]]) -> str\n",
      " |\n",
      " |  Create a new string object from the given object. If encoding or\n",
      " |  errors is specified, then the object must expose a data buffer\n",
      " |  that will be decoded using the given encoding and error handler.\n",
      " |  Otherwise, returns the result of object.__str__() (if defined)\n",
      " |  or repr(object).\n",
      " |  encoding defaults to sys.getdefaultencoding().\n",
      " |  errors defaults to 'strict'.\n",
      " |\n",
      " |  Methods defined here:\n",
      " |\n",
      " |  __add__(self, value, /)\n",
      " |      Return self+value.\n",
      " |\n",
      " |  __contains__(self, key, /)\n",
      " |      Return bool(key in self).\n",
      " |\n",
      " |  __eq__(self, value, /)\n",
      " |      Return self==value.\n",
      " |\n",
      " |  __format__(self, format_spec, /)\n",
      " |      Return a formatted version of the string as described by format_spec.\n",
      " |\n",
      " |  __ge__(self, value, /)\n",
      " |      Return self>=value.\n",
      " |\n",
      " |  __getattribute__(self, name, /)\n",
      " |      Return getattr(self, name).\n",
      " |\n",
      " |  __getitem__(self, key, /)\n",
      " |      Return self[key].\n",
      " |\n",
      " |  __getnewargs__(...)\n",
      " |\n",
      " |  __gt__(self, value, /)\n",
      " |      Return self>value.\n",
      " |\n",
      " |  __hash__(self, /)\n",
      " |      Return hash(self).\n",
      " |\n",
      " |  __iter__(self, /)\n",
      " |      Implement iter(self).\n",
      " |\n",
      " |  __le__(self, value, /)\n",
      " |      Return self<=value.\n",
      " |\n",
      " |  __len__(self, /)\n",
      " |      Return len(self).\n",
      " |\n",
      " |  __lt__(self, value, /)\n",
      " |      Return self<value.\n",
      " |\n",
      " |  __mod__(self, value, /)\n",
      " |      Return self%value.\n",
      " |\n",
      " |  __mul__(self, value, /)\n",
      " |      Return self*value.\n",
      " |\n",
      " |  __ne__(self, value, /)\n",
      " |      Return self!=value.\n",
      " |\n",
      " |  __repr__(self, /)\n",
      " |      Return repr(self).\n",
      " |\n",
      " |  __rmod__(self, value, /)\n",
      " |      Return value%self.\n",
      " |\n",
      " |  __rmul__(self, value, /)\n",
      " |      Return value*self.\n",
      " |\n",
      " |  __sizeof__(self, /)\n",
      " |      Return the size of the string in memory, in bytes.\n",
      " |\n",
      " |  __str__(self, /)\n",
      " |      Return str(self).\n",
      " |\n",
      " |  capitalize(self, /)\n",
      " |      Return a capitalized version of the string.\n",
      " |\n",
      " |      More specifically, make the first character have upper case and the rest lower\n",
      " |      case.\n",
      " |\n",
      " |  casefold(self, /)\n",
      " |      Return a version of the string suitable for caseless comparisons.\n",
      " |\n",
      " |  center(self, width, fillchar=' ', /)\n",
      " |      Return a centered string of length width.\n",
      " |\n",
      " |      Padding is done using the specified fill character (default is a space).\n",
      " |\n",
      " |  count(...)\n",
      " |      S.count(sub[, start[, end]]) -> int\n",
      " |\n",
      " |      Return the number of non-overlapping occurrences of substring sub in\n",
      " |      string S[start:end].  Optional arguments start and end are\n",
      " |      interpreted as in slice notation.\n",
      " |\n",
      " |  encode(self, /, encoding='utf-8', errors='strict')\n",
      " |      Encode the string using the codec registered for encoding.\n",
      " |\n",
      " |      encoding\n",
      " |        The encoding in which to encode the string.\n",
      " |      errors\n",
      " |        The error handling scheme to use for encoding errors.\n",
      " |        The default is 'strict' meaning that encoding errors raise a\n",
      " |        UnicodeEncodeError.  Other possible values are 'ignore', 'replace' and\n",
      " |        'xmlcharrefreplace' as well as any other name registered with\n",
      " |        codecs.register_error that can handle UnicodeEncodeErrors.\n",
      " |\n",
      " |  endswith(...)\n",
      " |      S.endswith(suffix[, start[, end]]) -> bool\n",
      " |\n",
      " |      Return True if S ends with the specified suffix, False otherwise.\n",
      " |      With optional start, test S beginning at that position.\n",
      " |      With optional end, stop comparing S at that position.\n",
      " |      suffix can also be a tuple of strings to try.\n",
      " |\n",
      " |  expandtabs(self, /, tabsize=8)\n",
      " |      Return a copy where all tab characters are expanded using spaces.\n",
      " |\n",
      " |      If tabsize is not given, a tab size of 8 characters is assumed.\n",
      " |\n",
      " |  find(...)\n",
      " |      S.find(sub[, start[, end]]) -> int\n",
      " |\n",
      " |      Return the lowest index in S where substring sub is found,\n",
      " |      such that sub is contained within S[start:end].  Optional\n",
      " |      arguments start and end are interpreted as in slice notation.\n",
      " |\n",
      " |      Return -1 on failure.\n",
      " |\n",
      " |  format(...)\n",
      " |      S.format(*args, **kwargs) -> str\n",
      " |\n",
      " |      Return a formatted version of S, using substitutions from args and kwargs.\n",
      " |      The substitutions are identified by braces ('{' and '}').\n",
      " |\n",
      " |  format_map(...)\n",
      " |      S.format_map(mapping) -> str\n",
      " |\n",
      " |      Return a formatted version of S, using substitutions from mapping.\n",
      " |      The substitutions are identified by braces ('{' and '}').\n",
      " |\n",
      " |  index(...)\n",
      " |      S.index(sub[, start[, end]]) -> int\n",
      " |\n",
      " |      Return the lowest index in S where substring sub is found,\n",
      " |      such that sub is contained within S[start:end].  Optional\n",
      " |      arguments start and end are interpreted as in slice notation.\n",
      " |\n",
      " |      Raises ValueError when the substring is not found.\n",
      " |\n",
      " |  isalnum(self, /)\n",
      " |      Return True if the string is an alpha-numeric string, False otherwise.\n",
      " |\n",
      " |      A string is alpha-numeric if all characters in the string are alpha-numeric and\n",
      " |      there is at least one character in the string.\n",
      " |\n",
      " |  isalpha(self, /)\n",
      " |      Return True if the string is an alphabetic string, False otherwise.\n",
      " |\n",
      " |      A string is alphabetic if all characters in the string are alphabetic and there\n",
      " |      is at least one character in the string.\n",
      " |\n",
      " |  isascii(self, /)\n",
      " |      Return True if all characters in the string are ASCII, False otherwise.\n",
      " |\n",
      " |      ASCII characters have code points in the range U+0000-U+007F.\n",
      " |      Empty string is ASCII too.\n",
      " |\n",
      " |  isdecimal(self, /)\n",
      " |      Return True if the string is a decimal string, False otherwise.\n",
      " |\n",
      " |      A string is a decimal string if all characters in the string are decimal and\n",
      " |      there is at least one character in the string.\n",
      " |\n",
      " |  isdigit(self, /)\n",
      " |      Return True if the string is a digit string, False otherwise.\n",
      " |\n",
      " |      A string is a digit string if all characters in the string are digits and there\n",
      " |      is at least one character in the string.\n",
      " |\n",
      " |  isidentifier(self, /)\n",
      " |      Return True if the string is a valid Python identifier, False otherwise.\n",
      " |\n",
      " |      Call keyword.iskeyword(s) to test whether string s is a reserved identifier,\n",
      " |      such as \"def\" or \"class\".\n",
      " |\n",
      " |  islower(self, /)\n",
      " |      Return True if the string is a lowercase string, False otherwise.\n",
      " |\n",
      " |      A string is lowercase if all cased characters in the string are lowercase and\n",
      " |      there is at least one cased character in the string.\n",
      " |\n",
      " |  isnumeric(self, /)\n",
      " |      Return True if the string is a numeric string, False otherwise.\n",
      " |\n",
      " |      A string is numeric if all characters in the string are numeric and there is at\n",
      " |      least one character in the string.\n",
      " |\n",
      " |  isprintable(self, /)\n",
      " |      Return True if the string is printable, False otherwise.\n",
      " |\n",
      " |      A string is printable if all of its characters are considered printable in\n",
      " |      repr() or if it is empty.\n",
      " |\n",
      " |  isspace(self, /)\n",
      " |      Return True if the string is a whitespace string, False otherwise.\n",
      " |\n",
      " |      A string is whitespace if all characters in the string are whitespace and there\n",
      " |      is at least one character in the string.\n",
      " |\n",
      " |  istitle(self, /)\n",
      " |      Return True if the string is a title-cased string, False otherwise.\n",
      " |\n",
      " |      In a title-cased string, upper- and title-case characters may only\n",
      " |      follow uncased characters and lowercase characters only cased ones.\n",
      " |\n",
      " |  isupper(self, /)\n",
      " |      Return True if the string is an uppercase string, False otherwise.\n",
      " |\n",
      " |      A string is uppercase if all cased characters in the string are uppercase and\n",
      " |      there is at least one cased character in the string.\n",
      " |\n",
      " |  join(self, iterable, /)\n",
      " |      Concatenate any number of strings.\n",
      " |\n",
      " |      The string whose method is called is inserted in between each given string.\n",
      " |      The result is returned as a new string.\n",
      " |\n",
      " |      Example: '.'.join(['ab', 'pq', 'rs']) -> 'ab.pq.rs'\n",
      " |\n",
      " |  ljust(self, width, fillchar=' ', /)\n",
      " |      Return a left-justified string of length width.\n",
      " |\n",
      " |      Padding is done using the specified fill character (default is a space).\n",
      " |\n",
      " |  lower(self, /)\n",
      " |      Return a copy of the string converted to lowercase.\n",
      " |\n",
      " |  lstrip(self, chars=None, /)\n",
      " |      Return a copy of the string with leading whitespace removed.\n",
      " |\n",
      " |      If chars is given and not None, remove characters in chars instead.\n",
      " |\n",
      " |  partition(self, sep, /)\n",
      " |      Partition the string into three parts using the given separator.\n",
      " |\n",
      " |      This will search for the separator in the string.  If the separator is found,\n",
      " |      returns a 3-tuple containing the part before the separator, the separator\n",
      " |      itself, and the part after it.\n",
      " |\n",
      " |      If the separator is not found, returns a 3-tuple containing the original string\n",
      " |      and two empty strings.\n",
      " |\n",
      " |  removeprefix(self, prefix, /)\n",
      " |      Return a str with the given prefix string removed if present.\n",
      " |\n",
      " |      If the string starts with the prefix string, return string[len(prefix):].\n",
      " |      Otherwise, return a copy of the original string.\n",
      " |\n",
      " |  removesuffix(self, suffix, /)\n",
      " |      Return a str with the given suffix string removed if present.\n",
      " |\n",
      " |      If the string ends with the suffix string and that suffix is not empty,\n",
      " |      return string[:-len(suffix)]. Otherwise, return a copy of the original\n",
      " |      string.\n",
      " |\n",
      " |  replace(self, old, new, count=-1, /)\n",
      " |      Return a copy with all occurrences of substring old replaced by new.\n",
      " |\n",
      " |        count\n",
      " |          Maximum number of occurrences to replace.\n",
      " |          -1 (the default value) means replace all occurrences.\n",
      " |\n",
      " |      If the optional argument count is given, only the first count occurrences are\n",
      " |      replaced.\n",
      " |\n",
      " |  rfind(...)\n",
      " |      S.rfind(sub[, start[, end]]) -> int\n",
      " |\n",
      " |      Return the highest index in S where substring sub is found,\n",
      " |      such that sub is contained within S[start:end].  Optional\n",
      " |      arguments start and end are interpreted as in slice notation.\n",
      " |\n",
      " |      Return -1 on failure.\n",
      " |\n",
      " |  rindex(...)\n",
      " |      S.rindex(sub[, start[, end]]) -> int\n",
      " |\n",
      " |      Return the highest index in S where substring sub is found,\n",
      " |      such that sub is contained within S[start:end].  Optional\n",
      " |      arguments start and end are interpreted as in slice notation.\n",
      " |\n",
      " |      Raises ValueError when the substring is not found.\n",
      " |\n",
      " |  rjust(self, width, fillchar=' ', /)\n",
      " |      Return a right-justified string of length width.\n",
      " |\n",
      " |      Padding is done using the specified fill character (default is a space).\n",
      " |\n",
      " |  rpartition(self, sep, /)\n",
      " |      Partition the string into three parts using the given separator.\n",
      " |\n",
      " |      This will search for the separator in the string, starting at the end. If\n",
      " |      the separator is found, returns a 3-tuple containing the part before the\n",
      " |      separator, the separator itself, and the part after it.\n",
      " |\n",
      " |      If the separator is not found, returns a 3-tuple containing two empty strings\n",
      " |      and the original string.\n",
      " |\n",
      " |  rsplit(self, /, sep=None, maxsplit=-1)\n",
      " |      Return a list of the substrings in the string, using sep as the separator string.\n",
      " |\n",
      " |        sep\n",
      " |          The separator used to split the string.\n",
      " |\n",
      " |          When set to None (the default value), will split on any whitespace\n",
      " |          character (including \\n \\r \\t \\f and spaces) and will discard\n",
      " |          empty strings from the result.\n",
      " |        maxsplit\n",
      " |          Maximum number of splits.\n",
      " |          -1 (the default value) means no limit.\n",
      " |\n",
      " |      Splitting starts at the end of the string and works to the front.\n",
      " |\n",
      " |  rstrip(self, chars=None, /)\n",
      " |      Return a copy of the string with trailing whitespace removed.\n",
      " |\n",
      " |      If chars is given and not None, remove characters in chars instead.\n",
      " |\n",
      " |  split(self, /, sep=None, maxsplit=-1)\n",
      " |      Return a list of the substrings in the string, using sep as the separator string.\n",
      " |\n",
      " |        sep\n",
      " |          The separator used to split the string.\n",
      " |\n",
      " |          When set to None (the default value), will split on any whitespace\n",
      " |          character (including \\n \\r \\t \\f and spaces) and will discard\n",
      " |          empty strings from the result.\n",
      " |        maxsplit\n",
      " |          Maximum number of splits.\n",
      " |          -1 (the default value) means no limit.\n",
      " |\n",
      " |      Splitting starts at the front of the string and works to the end.\n",
      " |\n",
      " |      Note, str.split() is mainly useful for data that has been intentionally\n",
      " |      delimited.  With natural text that includes punctuation, consider using\n",
      " |      the regular expression module.\n",
      " |\n",
      " |  splitlines(self, /, keepends=False)\n",
      " |      Return a list of the lines in the string, breaking at line boundaries.\n",
      " |\n",
      " |      Line breaks are not included in the resulting list unless keepends is given and\n",
      " |      true.\n",
      " |\n",
      " |  startswith(...)\n",
      " |      S.startswith(prefix[, start[, end]]) -> bool\n",
      " |\n",
      " |      Return True if S starts with the specified prefix, False otherwise.\n",
      " |      With optional start, test S beginning at that position.\n",
      " |      With optional end, stop comparing S at that position.\n",
      " |      prefix can also be a tuple of strings to try.\n",
      " |\n",
      " |  strip(self, chars=None, /)\n",
      " |      Return a copy of the string with leading and trailing whitespace removed.\n",
      " |\n",
      " |      If chars is given and not None, remove characters in chars instead.\n",
      " |\n",
      " |  swapcase(self, /)\n",
      " |      Convert uppercase characters to lowercase and lowercase characters to uppercase.\n",
      " |\n",
      " |  title(self, /)\n",
      " |      Return a version of the string where each word is titlecased.\n",
      " |\n",
      " |      More specifically, words start with uppercased characters and all remaining\n",
      " |      cased characters have lower case.\n",
      " |\n",
      " |  translate(self, table, /)\n",
      " |      Replace each character in the string using the given translation table.\n",
      " |\n",
      " |        table\n",
      " |          Translation table, which must be a mapping of Unicode ordinals to\n",
      " |          Unicode ordinals, strings, or None.\n",
      " |\n",
      " |      The table must implement lookup/indexing via __getitem__, for instance a\n",
      " |      dictionary or list.  If this operation raises LookupError, the character is\n",
      " |      left untouched.  Characters mapped to None are deleted.\n",
      " |\n",
      " |  upper(self, /)\n",
      " |      Return a copy of the string converted to uppercase.\n",
      " |\n",
      " |  zfill(self, width, /)\n",
      " |      Pad a numeric string with zeros on the left, to fill a field of the given width.\n",
      " |\n",
      " |      The string is never truncated.\n",
      " |\n",
      " |  ----------------------------------------------------------------------\n",
      " |  Static methods defined here:\n",
      " |\n",
      " |  __new__(*args, **kwargs)\n",
      " |      Create and return a new object.  See help(type) for accurate signature.\n",
      " |\n",
      " |  maketrans(...)\n",
      " |      Return a translation table usable for str.translate().\n",
      " |\n",
      " |      If there is only one argument, it must be a dictionary mapping Unicode\n",
      " |      ordinals (integers) or characters to Unicode ordinals, strings or None.\n",
      " |      Character keys will be then converted to ordinals.\n",
      " |      If there are two arguments, they must be strings of equal length, and\n",
      " |      in the resulting dictionary, each character in x will be mapped to the\n",
      " |      character at the same position in y. If there is a third argument, it\n",
      " |      must be a string, whose characters will be mapped to None in the result.\n",
      "\n"
     ]
    }
   ],
   "source": [
    "help(str)"
   ]
  },
  {
   "cell_type": "markdown",
   "metadata": {
    "id": "bmWetTkeyHFd"
   },
   "source": [
    "Wow! Strings have a lot of methods.\n",
    "\n",
    "Try out the `title` method:"
   ]
  },
  {
   "cell_type": "code",
   "execution_count": 4,
   "metadata": {
    "colab": {
     "base_uri": "https://localhost:8080/"
    },
    "execution": {
     "iopub.execute_input": "2024-07-26T20:12:06.870585Z",
     "iopub.status.busy": "2024-07-26T20:12:06.870368Z",
     "iopub.status.idle": "2024-07-26T20:12:06.873608Z",
     "shell.execute_reply": "2024-07-26T20:12:06.873091Z"
    },
    "executionInfo": {
     "elapsed": 545,
     "status": "ok",
     "timestamp": 1661435584884,
     "user": {
      "displayName": "connor makowski",
      "userId": "10315975988672690851"
     },
     "user_tz": 240
    },
    "id": "q0_xkRDRLJ99",
    "outputId": "a445f00b-cfdd-4f0e-c174-abb013dc67bf"
   },
   "outputs": [
    {
     "name": "stdout",
     "output_type": "stream",
     "text": [
      "A Capital Mess!\n"
     ]
    }
   ],
   "source": [
    "print(my_string.title())"
   ]
  },
  {
   "cell_type": "markdown",
   "metadata": {
    "id": "rMVQWBFS2sUJ"
   },
   "source": [
    "# Class With Methods Example"
   ]
  },
  {
   "cell_type": "markdown",
   "metadata": {
    "id": "bJEZ4Tty2cCe"
   },
   "source": [
    "An example can help to illustrate how methods work. To do this, we will define a class with our own methods.\n",
    "\n",
    "NOTE: Classes can be challenging when you are just getting started in Python. The code below is not to convey understanding to you at this point, but included only to create some example methods. This would normally be tucked behind a much easier to understand Python package."
   ]
  },
  {
   "cell_type": "code",
   "execution_count": 5,
   "metadata": {
    "execution": {
     "iopub.execute_input": "2024-07-26T20:12:06.876033Z",
     "iopub.status.busy": "2024-07-26T20:12:06.875838Z",
     "iopub.status.idle": "2024-07-26T20:12:06.879551Z",
     "shell.execute_reply": "2024-07-26T20:12:06.879036Z"
    },
    "executionInfo": {
     "elapsed": 590,
     "status": "ok",
     "timestamp": 1661435926617,
     "user": {
      "displayName": "connor makowski",
      "userId": "10315975988672690851"
     },
     "user_tz": 240
    },
    "id": "Fo52JKgVpJDS"
   },
   "outputs": [],
   "source": [
    "# The following code defines a Car class and some methods attached to it.\n",
    "class Car:\n",
    "    def __init__(self, model, cost):\n",
    "        \"\"\"\n",
    "        Creates a new Car object.\n",
    "\n",
    "        Requires \n",
    "\n",
    "        - `model`:\n",
    "          - Type: str\n",
    "          - What: The make and model of the car\n",
    "        - `cost`:\n",
    "          - Type: int | float\n",
    "          - What: The cost of the car\n",
    "        \"\"\"\n",
    "        self.model=model\n",
    "        self.cost=cost\n",
    "    \n",
    "    def modify_cost(self, amount):\n",
    "        \"\"\"\n",
    "        Modifies the current car object to adjust cost by a provided `amount`\n",
    "\n",
    "        Adjusts the `cost` variable in place and also returns the updated cost\n",
    "\n",
    "        Requires \n",
    "\n",
    "        - `amount`:\n",
    "          - Type: int | float\n",
    "          - What: The amount to modify the cost by. Positive increases cost and negative decreases cost.\n",
    "        \"\"\"\n",
    "        self.cost+=amount"
   ]
  },
  {
   "cell_type": "markdown",
   "metadata": {
    "id": "CzIAxPfCs_iL"
   },
   "source": [
    "Essentially the code above says we can create a new type of object called a `Car`. \n",
    "\n",
    "For now, lets just jump into how to use this class and these methods.\n",
    "\n",
    "Since `Car` is a class, you can call the `help` function on it."
   ]
  },
  {
   "cell_type": "code",
   "execution_count": 6,
   "metadata": {
    "colab": {
     "base_uri": "https://localhost:8080/"
    },
    "execution": {
     "iopub.execute_input": "2024-07-26T20:12:06.881871Z",
     "iopub.status.busy": "2024-07-26T20:12:06.881676Z",
     "iopub.status.idle": "2024-07-26T20:12:06.885391Z",
     "shell.execute_reply": "2024-07-26T20:12:06.884883Z"
    },
    "executionInfo": {
     "elapsed": 171,
     "status": "ok",
     "timestamp": 1661435931454,
     "user": {
      "displayName": "connor makowski",
      "userId": "10315975988672690851"
     },
     "user_tz": 240
    },
    "id": "cghPpQNQtqci",
    "outputId": "49ce4b59-264e-474c-8ddb-bd6d79656fcb"
   },
   "outputs": [
    {
     "name": "stdout",
     "output_type": "stream",
     "text": [
      "Help on class Car in module __main__:\n",
      "\n",
      "class Car(builtins.object)\n",
      " |  Car(model, cost)\n",
      " |\n",
      " |  Methods defined here:\n",
      " |\n",
      " |  __init__(self, model, cost)\n",
      " |      Creates a new Car object.\n",
      " |\n",
      " |      Requires\n",
      " |\n",
      " |      - `model`:\n",
      " |        - Type: str\n",
      " |        - What: The make and model of the car\n",
      " |      - `cost`:\n",
      " |        - Type: int | float\n",
      " |        - What: The cost of the car\n",
      " |\n",
      " |  modify_cost(self, amount)\n",
      " |      Modifies the current car object to adjust cost by a provided `amount`\n",
      " |\n",
      " |      Adjusts the `cost` variable in place and also returns the updated cost\n",
      " |\n",
      " |      Requires\n",
      " |\n",
      " |      - `amount`:\n",
      " |        - Type: int | float\n",
      " |        - What: The amount to modify the cost by. Positive increases cost and negative decreases cost.\n",
      " |\n",
      " |  ----------------------------------------------------------------------\n",
      " |  Data descriptors defined here:\n",
      " |\n",
      " |  __dict__\n",
      " |      dictionary for instance variables\n",
      " |\n",
      " |  __weakref__\n",
      " |      list of weak references to the object\n",
      "\n"
     ]
    }
   ],
   "source": [
    "help(Car)"
   ]
  },
  {
   "cell_type": "markdown",
   "metadata": {
    "id": "ZJj-c4X0p9XE"
   },
   "source": [
    "In Python class objects are created with the `__init__` method. There is special code to allow this to be called using the name of the class itself.\n",
    "\n",
    "Python classes always pass `self` as a first argument to each method (except static methods - which are out of scope here). This lets the method have access to all the data in the object.\n",
    "\n",
    "To create a new `Car` object you would pass the arguments (except `self`) that are specified by `__init__`.\n",
    "\n",
    "```\n",
    " |  __init__(self, model, cost)\n",
    " |      Creates a new Car object.\n",
    " |      \n",
    " |      Requres \n",
    " |      \n",
    " |      - `model`:\n",
    " |        - Type: str\n",
    " |        - What: The make and model of the car\n",
    " |      - `cost`:\n",
    " |        - Type: int | float\n",
    " |        - What: The cost of the car\n",
    "```\n",
    "\n",
    "In this case, you can initialize a car class by providing a `model` and `cost`  keyword arguments. \n",
    "\n",
    "Remember, that class methods pass themselves `self` so you can skip that input. "
   ]
  },
  {
   "cell_type": "code",
   "execution_count": 7,
   "metadata": {
    "execution": {
     "iopub.execute_input": "2024-07-26T20:12:06.887725Z",
     "iopub.status.busy": "2024-07-26T20:12:06.887529Z",
     "iopub.status.idle": "2024-07-26T20:12:06.890300Z",
     "shell.execute_reply": "2024-07-26T20:12:06.889810Z"
    },
    "executionInfo": {
     "elapsed": 9,
     "status": "ok",
     "timestamp": 1661435584885,
     "user": {
      "displayName": "connor makowski",
      "userId": "10315975988672690851"
     },
     "user_tz": 240
    },
    "id": "TXPybtoUrX69"
   },
   "outputs": [],
   "source": [
    "my_car=Car(model='Ford F150', cost=11000)"
   ]
  },
  {
   "cell_type": "markdown",
   "metadata": {
    "id": "GJ9guikrv8HM"
   },
   "source": [
    "To show the current instance variables of `my_car`:"
   ]
  },
  {
   "cell_type": "code",
   "execution_count": 8,
   "metadata": {
    "colab": {
     "base_uri": "https://localhost:8080/"
    },
    "execution": {
     "iopub.execute_input": "2024-07-26T20:12:06.892773Z",
     "iopub.status.busy": "2024-07-26T20:12:06.892368Z",
     "iopub.status.idle": "2024-07-26T20:12:06.898500Z",
     "shell.execute_reply": "2024-07-26T20:12:06.898035Z"
    },
    "executionInfo": {
     "elapsed": 8,
     "status": "ok",
     "timestamp": 1661435584886,
     "user": {
      "displayName": "connor makowski",
      "userId": "10315975988672690851"
     },
     "user_tz": 240
    },
    "id": "gjObGF8RsYs8",
    "outputId": "0567b3de-b2fa-43a6-e23e-542ab098c984"
   },
   "outputs": [
    {
     "data": {
      "text/plain": [
       "{'model': 'Ford F150', 'cost': 11000}"
      ]
     },
     "execution_count": 8,
     "metadata": {},
     "output_type": "execute_result"
    }
   ],
   "source": [
    "my_car.__dict__"
   ]
  },
  {
   "cell_type": "markdown",
   "metadata": {
    "id": "90OP0TZ2uG-T"
   },
   "source": [
    "Assuming that the cost should be changed, changing the cost is as easy as calling the method `modify_cost`.\n",
    "\n",
    "The documentation is:\n",
    "\n",
    "```\n",
    " |  modify_cost(self, amount)\n",
    " |      Modifies the current car object to adjust cost by a provided `amount`\n",
    " |      \n",
    " |      Adjusts the `cost` variable in place and also returns the updated cost\n",
    " |      \n",
    " |      Requires \n",
    " |      \n",
    " |      - `amount`:\n",
    " |        - Type: int | float\n",
    " |        - What: The amount to modify the cost by. Positive increases cost and negative decreases cost.\n",
    "```\n",
    "\n",
    "We need to provide an `amount` to modify the cost (remember again that `self` is passed automatically).\n",
    "\n",
    "NOTE: Since this is actually modifying the current object, we expect the state of the object to change. Some methods do not modify state, but rather just return relevant outputs while others do modify the underlying state.\n",
    "\n",
    "We can call the `modify_cost` method and show the changes with:"
   ]
  },
  {
   "cell_type": "code",
   "execution_count": 9,
   "metadata": {
    "colab": {
     "base_uri": "https://localhost:8080/"
    },
    "execution": {
     "iopub.execute_input": "2024-07-26T20:12:06.900817Z",
     "iopub.status.busy": "2024-07-26T20:12:06.900621Z",
     "iopub.status.idle": "2024-07-26T20:12:06.903726Z",
     "shell.execute_reply": "2024-07-26T20:12:06.903220Z"
    },
    "executionInfo": {
     "elapsed": 7,
     "status": "ok",
     "timestamp": 1661435584886,
     "user": {
      "displayName": "connor makowski",
      "userId": "10315975988672690851"
     },
     "user_tz": 240
    },
    "id": "X9UQmkkyuYXc",
    "outputId": "49a36f91-d322-4695-aad7-540f6ee7430a"
   },
   "outputs": [
    {
     "name": "stdout",
     "output_type": "stream",
     "text": [
      "{'model': 'Ford F150', 'cost': 11500}\n"
     ]
    }
   ],
   "source": [
    "my_car.modify_cost(500)\n",
    "print(my_car.__dict__)"
   ]
  },
  {
   "cell_type": "markdown",
   "metadata": {
    "id": "Dazmzr4dRRnc"
   },
   "source": [
    "Since we are modifying the underlying variable, if we run the same code again, we will see that `cost` increase again:"
   ]
  },
  {
   "cell_type": "code",
   "execution_count": 10,
   "metadata": {
    "colab": {
     "base_uri": "https://localhost:8080/"
    },
    "execution": {
     "iopub.execute_input": "2024-07-26T20:12:06.906022Z",
     "iopub.status.busy": "2024-07-26T20:12:06.905831Z",
     "iopub.status.idle": "2024-07-26T20:12:06.908966Z",
     "shell.execute_reply": "2024-07-26T20:12:06.908449Z"
    },
    "executionInfo": {
     "elapsed": 6,
     "status": "ok",
     "timestamp": 1661435584886,
     "user": {
      "displayName": "connor makowski",
      "userId": "10315975988672690851"
     },
     "user_tz": 240
    },
    "id": "U89guAt-RRMV",
    "outputId": "43e5da8f-1353-4ec3-cd6a-bd3a14cad6af"
   },
   "outputs": [
    {
     "name": "stdout",
     "output_type": "stream",
     "text": [
      "{'model': 'Ford F150', 'cost': 12000}\n"
     ]
    }
   ],
   "source": [
    "my_car.modify_cost(500)\n",
    "print(my_car.__dict__)"
   ]
  },
  {
   "cell_type": "markdown",
   "metadata": {
    "id": "T4SyAskPwOle"
   },
   "source": [
    "You can also access instance variables directly by calling them as `<object>.<variable>` as needed."
   ]
  },
  {
   "cell_type": "code",
   "execution_count": 11,
   "metadata": {
    "colab": {
     "base_uri": "https://localhost:8080/"
    },
    "execution": {
     "iopub.execute_input": "2024-07-26T20:12:06.911232Z",
     "iopub.status.busy": "2024-07-26T20:12:06.911041Z",
     "iopub.status.idle": "2024-07-26T20:12:06.914041Z",
     "shell.execute_reply": "2024-07-26T20:12:06.913535Z"
    },
    "executionInfo": {
     "elapsed": 6,
     "status": "ok",
     "timestamp": 1661435584887,
     "user": {
      "displayName": "connor makowski",
      "userId": "10315975988672690851"
     },
     "user_tz": 240
    },
    "id": "M5iS48W9wNrz",
    "outputId": "44f60589-32b4-44f9-c0a6-66a305ae1d4a"
   },
   "outputs": [
    {
     "name": "stdout",
     "output_type": "stream",
     "text": [
      "12000\n"
     ]
    }
   ],
   "source": [
    "print(my_car.cost)"
   ]
  }
 ],
 "metadata": {
  "colab": {
   "authorship_tag": "ABX9TyNMG3ASN/8QNVjogwqvKIOs",
   "collapsed_sections": [],
   "name": "09_Methods_And_Classes.ipynb",
   "provenance": []
  },
  "kernelspec": {
   "display_name": "Python 3 (ipykernel)",
   "language": "python",
   "name": "python3"
  },
  "language_info": {
   "codemirror_mode": {
    "name": "ipython",
    "version": 3
   },
   "file_extension": ".py",
   "mimetype": "text/x-python",
   "name": "python",
   "nbconvert_exporter": "python",
   "pygments_lexer": "ipython3",
   "version": "3.12.3"
  }
 },
 "nbformat": 4,
 "nbformat_minor": 1
}
