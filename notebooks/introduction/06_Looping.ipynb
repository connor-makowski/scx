{
 "cells": [
  {
   "cell_type": "markdown",
   "metadata": {
    "id": "wySDuaFok21e"
   },
   "source": [
    "# Looping and Iteration\n",
    "\n",
    "Looping and iteration are foundational parts of programming in Python. They allow you to access or modify items given an iterable entity (list, dict, tuple...). "
   ]
  },
  {
   "cell_type": "markdown",
   "metadata": {
    "id": "6R5hc49Jg8hO"
   },
   "source": [
    "## For and While Loops\n",
    "\n",
    "Some of the common loop and iteration processes include:\n",
    "- `for` loops: Loop over an iteratable entity\n",
    "- `while` loops: Loop while a condition is met\n",
    "\n",
    "These loops start as a statement followed by a colon (`:`) and loop over all content indented (4 spaces) after the initial statement. The basic nomenclature is:\n",
    "\n",
    "```\n",
    "for <variable> in <iterator>:\n",
    "    <do something>\n",
    "    <do something else>\n",
    "    ...\n",
    "\n",
    "<code that runs after loop>\n",
    "```\n",
    "\n",
    "NOTE: Python officially recommends 4 spaces for indentation style, however, Google recommends 2. If you use two spaces, your code may work with Google products, but possibly not on other platforms. If you use 4 spaces, it should work on both.\n",
    "\n",
    "Loops allow creating a loop variable that is assigned each item in the iterable as the loop progresses.\n",
    "\n",
    "An example `for` loop:"
   ]
  },
  {
   "cell_type": "code",
   "execution_count": 1,
   "metadata": {
    "colab": {
     "base_uri": "https://localhost:8080/"
    },
    "execution": {
     "iopub.execute_input": "2022-12-02T16:37:02.488300Z",
     "iopub.status.busy": "2022-12-02T16:37:02.487749Z",
     "iopub.status.idle": "2022-12-02T16:37:02.495642Z",
     "shell.execute_reply": "2022-12-02T16:37:02.495183Z"
    },
    "executionInfo": {
     "elapsed": 4,
     "status": "ok",
     "timestamp": 1661362704990,
     "user": {
      "displayName": "connor makowski",
      "userId": "10315975988672690851"
     },
     "user_tz": 240
    },
    "id": "RiJg1yXCk0bD",
    "outputId": "e44c52d8-65cb-41bc-f4cc-fe36bf20da8c"
   },
   "outputs": [
    {
     "name": "stdout",
     "output_type": "stream",
     "text": [
      "a\n",
      "b\n",
      "c\n"
     ]
    }
   ],
   "source": [
    "for i in ['a','b','c']:\n",
    "    print(i)"
   ]
  },
  {
   "cell_type": "markdown",
   "metadata": {
    "id": "dbA-25ZQ71rC"
   },
   "source": [
    "Notice how we are actually calling the print statement for each item in the list. \n",
    "\n",
    "This would be equivalent to:"
   ]
  },
  {
   "cell_type": "code",
   "execution_count": 2,
   "metadata": {
    "colab": {
     "base_uri": "https://localhost:8080/"
    },
    "execution": {
     "iopub.execute_input": "2022-12-02T16:37:02.517957Z",
     "iopub.status.busy": "2022-12-02T16:37:02.517746Z",
     "iopub.status.idle": "2022-12-02T16:37:02.521155Z",
     "shell.execute_reply": "2022-12-02T16:37:02.520626Z"
    },
    "executionInfo": {
     "elapsed": 323,
     "status": "ok",
     "timestamp": 1661362771232,
     "user": {
      "displayName": "connor makowski",
      "userId": "10315975988672690851"
     },
     "user_tz": 240
    },
    "id": "45U2HjL67-Gh",
    "outputId": "622ece10-d867-4b60-a05d-95683fa84113"
   },
   "outputs": [
    {
     "name": "stdout",
     "output_type": "stream",
     "text": [
      "a\n",
      "b\n",
      "c\n"
     ]
    }
   ],
   "source": [
    "print('a')\n",
    "print('b')\n",
    "print('c')"
   ]
  },
  {
   "cell_type": "markdown",
   "metadata": {
    "id": "UzcooKZ_8EHK"
   },
   "source": [
    "Considering that most lists are more than 3 items, you can save yourself from writing a lot of code this way.\n",
    "\n",
    "Inside of each loop (indented area) you can do more complicated functions as needed. When the loop finishes, code execution proceeds to the next step outside of the loop."
   ]
  },
  {
   "cell_type": "code",
   "execution_count": 3,
   "metadata": {
    "colab": {
     "base_uri": "https://localhost:8080/"
    },
    "execution": {
     "iopub.execute_input": "2022-12-02T16:37:02.523248Z",
     "iopub.status.busy": "2022-12-02T16:37:02.522845Z",
     "iopub.status.idle": "2022-12-02T16:37:02.526012Z",
     "shell.execute_reply": "2022-12-02T16:37:02.525493Z"
    },
    "executionInfo": {
     "elapsed": 691,
     "status": "ok",
     "timestamp": 1661362991951,
     "user": {
      "displayName": "connor makowski",
      "userId": "10315975988672690851"
     },
     "user_tz": 240
    },
    "id": "_3781oCR8QUh",
    "outputId": "bc9b4f00-24a9-47d9-c54e-0e9257f1deb8"
   },
   "outputs": [
    {
     "name": "stdout",
     "output_type": "stream",
     "text": [
      "4\n",
      "9\n",
      "16\n",
      "Loop Finished\n"
     ]
    }
   ],
   "source": [
    "for i in [1,2,3]:\n",
    "    temp_item = i+1\n",
    "    temp_item_squared = temp_item**2\n",
    "    print(temp_item_squared)\n",
    "\n",
    "print(\"Loop Finished\")"
   ]
  },
  {
   "cell_type": "markdown",
   "metadata": {
    "id": "ub_INDnn89d_"
   },
   "source": [
    "As for `while` loops, they operate very similar to `for` loops, except they continue to loop while some conditional argument is satisfied. This requires some type of logical operator in the loop statement.\n",
    "\n",
    "This logical operator is tested after completing each iteration given the current variables in the runtime. Using this allows you edit variables as you go to check if a condition is met.\n",
    "\n",
    "A simple `while` loop:"
   ]
  },
  {
   "cell_type": "code",
   "execution_count": 4,
   "metadata": {
    "colab": {
     "base_uri": "https://localhost:8080/"
    },
    "execution": {
     "iopub.execute_input": "2022-12-02T16:37:02.527750Z",
     "iopub.status.busy": "2022-12-02T16:37:02.527589Z",
     "iopub.status.idle": "2022-12-02T16:37:02.530742Z",
     "shell.execute_reply": "2022-12-02T16:37:02.530236Z"
    },
    "executionInfo": {
     "elapsed": 250,
     "status": "ok",
     "timestamp": 1661363364265,
     "user": {
      "displayName": "connor makowski",
      "userId": "10315975988672690851"
     },
     "user_tz": 240
    },
    "id": "RII2JsWT9L5N",
    "outputId": "cc054a1a-a24d-4f2b-e639-2914b1a226b8"
   },
   "outputs": [
    {
     "name": "stdout",
     "output_type": "stream",
     "text": [
      "1\n",
      "2\n",
      "3\n",
      "4\n",
      "5\n",
      "Loop Finished\n"
     ]
    }
   ],
   "source": [
    "x=0\n",
    "while x<5:\n",
    "    # Add one to x in place\n",
    "    # The below function is equivalent to `x=x+1`\n",
    "    x+=1\n",
    "    print(x)\n",
    "\n",
    "print(\"Loop Finished\")\n",
    "\n"
   ]
  },
  {
   "cell_type": "markdown",
   "metadata": {
    "id": "d60e4oxV-YCB"
   },
   "source": [
    "Moving back to `for` loops, you can use any iterator object to loop over. This can include ranges or dictionaries."
   ]
  },
  {
   "cell_type": "code",
   "execution_count": 5,
   "metadata": {
    "colab": {
     "base_uri": "https://localhost:8080/"
    },
    "execution": {
     "iopub.execute_input": "2022-12-02T16:37:02.533589Z",
     "iopub.status.busy": "2022-12-02T16:37:02.533173Z",
     "iopub.status.idle": "2022-12-02T16:37:02.536149Z",
     "shell.execute_reply": "2022-12-02T16:37:02.535572Z"
    },
    "executionInfo": {
     "elapsed": 495,
     "status": "ok",
     "timestamp": 1661363469429,
     "user": {
      "displayName": "connor makowski",
      "userId": "10315975988672690851"
     },
     "user_tz": 240
    },
    "id": "tj7Lx_U9-nkS",
    "outputId": "5405d1db-4f1f-4ee9-ba13-b052af6d14af"
   },
   "outputs": [
    {
     "name": "stdout",
     "output_type": "stream",
     "text": [
      "1\n",
      "2\n",
      "3\n",
      "4\n"
     ]
    }
   ],
   "source": [
    "for i in range(1,5):\n",
    "    print(i)"
   ]
  },
  {
   "cell_type": "code",
   "execution_count": 6,
   "metadata": {
    "colab": {
     "base_uri": "https://localhost:8080/"
    },
    "execution": {
     "iopub.execute_input": "2022-12-02T16:37:02.538438Z",
     "iopub.status.busy": "2022-12-02T16:37:02.538315Z",
     "iopub.status.idle": "2022-12-02T16:37:02.541088Z",
     "shell.execute_reply": "2022-12-02T16:37:02.540682Z"
    },
    "executionInfo": {
     "elapsed": 256,
     "status": "ok",
     "timestamp": 1661363547444,
     "user": {
      "displayName": "connor makowski",
      "userId": "10315975988672690851"
     },
     "user_tz": 240
    },
    "id": "UNOWTqXC-ryy",
    "outputId": "79d2722d-6700-431f-bf58-da65254bf1be"
   },
   "outputs": [
    {
     "name": "stdout",
     "output_type": "stream",
     "text": [
      "a\n",
      "b\n",
      "c\n"
     ]
    }
   ],
   "source": [
    "y={\n",
    "  'a':1,\n",
    "  'b':2,\n",
    "  'c':3\n",
    "}\n",
    "for i in y.keys():\n",
    "    print(i)"
   ]
  },
  {
   "cell_type": "code",
   "execution_count": 7,
   "metadata": {
    "colab": {
     "base_uri": "https://localhost:8080/"
    },
    "execution": {
     "iopub.execute_input": "2022-12-02T16:37:02.542802Z",
     "iopub.status.busy": "2022-12-02T16:37:02.542422Z",
     "iopub.status.idle": "2022-12-02T16:37:02.544891Z",
     "shell.execute_reply": "2022-12-02T16:37:02.544496Z"
    },
    "executionInfo": {
     "elapsed": 3,
     "status": "ok",
     "timestamp": 1661363563601,
     "user": {
      "displayName": "connor makowski",
      "userId": "10315975988672690851"
     },
     "user_tz": 240
    },
    "id": "VWLWO0V5-_1Y",
    "outputId": "4441bb62-eb63-4497-be1d-7aa7c21a7679"
   },
   "outputs": [
    {
     "name": "stdout",
     "output_type": "stream",
     "text": [
      "1\n",
      "2\n",
      "3\n"
     ]
    }
   ],
   "source": [
    "for i in y.values():\n",
    "    print(i)"
   ]
  },
  {
   "cell_type": "markdown",
   "metadata": {
    "id": "hAHdkF4D_IQp"
   },
   "source": [
    "If you you are looping over a list of tuples, you can use positional assignment to loop multiple variables at once."
   ]
  },
  {
   "cell_type": "code",
   "execution_count": 8,
   "metadata": {
    "colab": {
     "base_uri": "https://localhost:8080/"
    },
    "execution": {
     "iopub.execute_input": "2022-12-02T16:37:02.546657Z",
     "iopub.status.busy": "2022-12-02T16:37:02.546426Z",
     "iopub.status.idle": "2022-12-02T16:37:02.549629Z",
     "shell.execute_reply": "2022-12-02T16:37:02.549156Z"
    },
    "executionInfo": {
     "elapsed": 414,
     "status": "ok",
     "timestamp": 1661363714211,
     "user": {
      "displayName": "connor makowski",
      "userId": "10315975988672690851"
     },
     "user_tz": 240
    },
    "id": "wZATCm6l_OzW",
    "outputId": "466883f7-6483-4ae1-87e1-8b4f05f26fd1"
   },
   "outputs": [
    {
     "name": "stdout",
     "output_type": "stream",
     "text": [
      "i: a\n",
      "j: z\n",
      "i: b\n",
      "j: y\n",
      "i: c\n",
      "j: x\n"
     ]
    }
   ],
   "source": [
    "data = [('a','z'),('b','y'),('c','x')]\n",
    "for i, j in data:\n",
    "    print('i:',i)\n",
    "    print('j:',j)"
   ]
  },
  {
   "cell_type": "markdown",
   "metadata": {
    "id": "kiuwF9-F_ps9"
   },
   "source": [
    "This can be very useful in certain circumstances. A very common circumstance where this is useful is looping over dictionary items."
   ]
  },
  {
   "cell_type": "code",
   "execution_count": 9,
   "metadata": {
    "colab": {
     "base_uri": "https://localhost:8080/"
    },
    "execution": {
     "iopub.execute_input": "2022-12-02T16:37:02.551450Z",
     "iopub.status.busy": "2022-12-02T16:37:02.551142Z",
     "iopub.status.idle": "2022-12-02T16:37:02.554210Z",
     "shell.execute_reply": "2022-12-02T16:37:02.553809Z"
    },
    "executionInfo": {
     "elapsed": 242,
     "status": "ok",
     "timestamp": 1661363844069,
     "user": {
      "displayName": "connor makowski",
      "userId": "10315975988672690851"
     },
     "user_tz": 240
    },
    "id": "Zgi0uxov_yyx",
    "outputId": "ce710ec0-dabf-4d8a-9fcd-20401621c28f"
   },
   "outputs": [
    {
     "name": "stdout",
     "output_type": "stream",
     "text": [
      "key:  a\n",
      "value:  1\n",
      "key:  b\n",
      "value:  2\n",
      "key:  c\n",
      "value:  3\n"
     ]
    }
   ],
   "source": [
    "y={\n",
    "  'a':1,\n",
    "  'b':2,\n",
    "  'c':3\n",
    "}\n",
    "for key, value in y.items():\n",
    "    print(\"key: \",key)\n",
    "    print(\"value: \", value)"
   ]
  },
  {
   "cell_type": "markdown",
   "metadata": {
    "id": "eNJ0Mi0CC8Cx"
   },
   "source": [
    "## List Comprehension\n",
    "\n",
    "List comprehension allows you to create lists using iterators with minimal code.\n",
    "\n",
    "The basic syntax is:\n",
    "\n",
    "```\n",
    "[<statement> for <variable> in <iterator>]\n",
    "```\n",
    "\n",
    "As an example:"
   ]
  },
  {
   "cell_type": "code",
   "execution_count": 10,
   "metadata": {
    "colab": {
     "base_uri": "https://localhost:8080/"
    },
    "execution": {
     "iopub.execute_input": "2022-12-02T16:37:02.556374Z",
     "iopub.status.busy": "2022-12-02T16:37:02.555990Z",
     "iopub.status.idle": "2022-12-02T16:37:02.558618Z",
     "shell.execute_reply": "2022-12-02T16:37:02.558221Z"
    },
    "executionInfo": {
     "elapsed": 315,
     "status": "ok",
     "timestamp": 1661365155310,
     "user": {
      "displayName": "connor makowski",
      "userId": "10315975988672690851"
     },
     "user_tz": 240
    },
    "id": "P92L2F1KDvLS",
    "outputId": "b46925c3-5d7b-4150-9a19-d0d4842dad8c"
   },
   "outputs": [
    {
     "name": "stdout",
     "output_type": "stream",
     "text": [
      "[0, 1, 2, 3, 4]\n"
     ]
    }
   ],
   "source": [
    "x=[i for i in range(5)]\n",
    "print(x)"
   ]
  },
  {
   "cell_type": "markdown",
   "metadata": {
    "id": "8PCkXZUBD5u9"
   },
   "source": [
    "This would be equivalent to:"
   ]
  },
  {
   "cell_type": "code",
   "execution_count": 11,
   "metadata": {
    "colab": {
     "base_uri": "https://localhost:8080/"
    },
    "execution": {
     "iopub.execute_input": "2022-12-02T16:37:02.560586Z",
     "iopub.status.busy": "2022-12-02T16:37:02.560483Z",
     "iopub.status.idle": "2022-12-02T16:37:02.563142Z",
     "shell.execute_reply": "2022-12-02T16:37:02.562672Z"
    },
    "executionInfo": {
     "elapsed": 410,
     "status": "ok",
     "timestamp": 1661364896287,
     "user": {
      "displayName": "connor makowski",
      "userId": "10315975988672690851"
     },
     "user_tz": 240
    },
    "id": "tHZoE0pCD77d",
    "outputId": "114702ec-d3db-40f0-b086-b84daa06e080"
   },
   "outputs": [
    {
     "name": "stdout",
     "output_type": "stream",
     "text": [
      "[0, 1, 2, 3, 4]\n"
     ]
    }
   ],
   "source": [
    "x=[]\n",
    "for i in range(5):\n",
    "    x.append(i)\n",
    "\n",
    "print(x)"
   ]
  },
  {
   "cell_type": "markdown",
   "metadata": {
    "id": "aTChqe5dELze"
   },
   "source": [
    "Taking that a bit further, we can do a more complicated example like storing the square of each number in a range."
   ]
  },
  {
   "cell_type": "code",
   "execution_count": 12,
   "metadata": {
    "colab": {
     "base_uri": "https://localhost:8080/"
    },
    "execution": {
     "iopub.execute_input": "2022-12-02T16:37:02.565491Z",
     "iopub.status.busy": "2022-12-02T16:37:02.565083Z",
     "iopub.status.idle": "2022-12-02T16:37:02.568020Z",
     "shell.execute_reply": "2022-12-02T16:37:02.567530Z"
    },
    "executionInfo": {
     "elapsed": 5,
     "status": "ok",
     "timestamp": 1661365036600,
     "user": {
      "displayName": "connor makowski",
      "userId": "10315975988672690851"
     },
     "user_tz": 240
    },
    "id": "mDPAztSBETED",
    "outputId": "6ee6b67d-5165-40a2-e8fe-8447356f7dae"
   },
   "outputs": [
    {
     "name": "stdout",
     "output_type": "stream",
     "text": [
      "[0, 1, 4, 9, 16]\n"
     ]
    }
   ],
   "source": [
    "# Get the square numbers in a range\n",
    "x=[i**2 for i in range(5)]\n",
    "print(x)"
   ]
  },
  {
   "cell_type": "markdown",
   "metadata": {
    "id": "z7f9_EfIExPf"
   },
   "source": [
    "List comprehensions also support `if` statements. The basic syntax is:\n",
    "\n",
    "```\n",
    "[<statement> for <variable> in <iterator> if <condition>]\n",
    "```\n",
    "\n",
    "As an example, to only collect even numbers:"
   ]
  },
  {
   "cell_type": "code",
   "execution_count": 13,
   "metadata": {
    "colab": {
     "base_uri": "https://localhost:8080/"
    },
    "execution": {
     "iopub.execute_input": "2022-12-02T16:37:02.569958Z",
     "iopub.status.busy": "2022-12-02T16:37:02.569553Z",
     "iopub.status.idle": "2022-12-02T16:37:02.572544Z",
     "shell.execute_reply": "2022-12-02T16:37:02.572078Z"
    },
    "executionInfo": {
     "elapsed": 286,
     "status": "ok",
     "timestamp": 1661365247800,
     "user": {
      "displayName": "connor makowski",
      "userId": "10315975988672690851"
     },
     "user_tz": 240
    },
    "id": "Bgn-CKu7Eshw",
    "outputId": "73265720-ebd3-4eb5-9639-54375d8ef22a"
   },
   "outputs": [
    {
     "name": "stdout",
     "output_type": "stream",
     "text": [
      "[0, 2, 4]\n"
     ]
    }
   ],
   "source": [
    "# Remember that the `%` operator means modulo (or remainder after division)\n",
    "# We only store numbers if the remainder of dividing by 2 is 0 or `i%2==0`\n",
    "x=[i for i in range(5) if i%2==0]\n",
    "print(x)"
   ]
  }
 ],
 "metadata": {
  "colab": {
   "authorship_tag": "ABX9TyO/jgO4rDI8cFNpmGlWGbyf",
   "collapsed_sections": [],
   "name": "06_Looping.ipynb",
   "provenance": []
  },
  "kernelspec": {
   "display_name": "Python 3",
   "name": "python3"
  },
  "language_info": {
   "codemirror_mode": {
    "name": "ipython",
    "version": 3
   },
   "file_extension": ".py",
   "mimetype": "text/x-python",
   "name": "python",
   "nbconvert_exporter": "python",
   "pygments_lexer": "ipython3",
   "version": "3.10.8"
  }
 },
 "nbformat": 4,
 "nbformat_minor": 0
}
