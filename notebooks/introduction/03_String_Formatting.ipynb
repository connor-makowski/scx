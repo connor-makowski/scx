{
 "cells": [
  {
   "cell_type": "markdown",
   "metadata": {
    "id": "668DO8ARJf97"
   },
   "source": [
    "# String Formatting\n",
    "\n",
    "In Python, the ability to format strings allows for a wide swath of functionaility.\n",
    "\n",
    "\n",
    "## How Strings Work\n",
    "\n",
    "Lets first dive into how strings work.\n",
    "\n",
    "Some common string enclosures you mihgt see include:\n",
    "- `'`: Single Quotes\n",
    "- `\"`: Double Quotes\n",
    "- `'''`: Triple Single Quotes (allows multi line strings)\n",
    "- `\"\"\"`: Triple Double Quotes (allows multi line strings)\n",
    "\n",
    "While all of the string enclosures operate similar, there a few differences. Triple double quotes and triple single quotes both allow multi line strings, while single and double quotes do not."
   ]
  },
  {
   "cell_type": "code",
   "execution_count": 1,
   "metadata": {
    "colab": {
     "base_uri": "https://localhost:8080/"
    },
    "execution": {
     "iopub.execute_input": "2024-07-26T20:12:23.621445Z",
     "iopub.status.busy": "2024-07-26T20:12:23.621334Z",
     "iopub.status.idle": "2024-07-26T20:12:23.625742Z",
     "shell.execute_reply": "2024-07-26T20:12:23.625125Z"
    },
    "executionInfo": {
     "elapsed": 515,
     "status": "ok",
     "timestamp": 1661350394739,
     "user": {
      "displayName": "connor makowski",
      "userId": "10315975988672690851"
     },
     "user_tz": 240
    },
    "id": "TVtqlX5GJdad",
    "outputId": "c00fb0cc-da1d-4aac-85e6-864dffd2593f"
   },
   "outputs": [
    {
     "name": "stdout",
     "output_type": "stream",
     "text": [
      "abc\n",
      "def\n",
      "\n",
      "\n",
      "ghi\n",
      "\n",
      "\n",
      "\n",
      "\n",
      "jkl\n",
      "\n",
      "\n"
     ]
    }
   ],
   "source": [
    "x='abc'\n",
    "y=\"def\"\n",
    "z=\"\"\"\n",
    "\n",
    "ghi\n",
    "\n",
    "\"\"\"\n",
    "q='''\n",
    "\n",
    "jkl\n",
    "\n",
    "'''\n",
    "print(x)\n",
    "print(y)\n",
    "print(z)\n",
    "print(q)"
   ]
  },
  {
   "cell_type": "markdown",
   "metadata": {
    "id": "JL0pTbi2LX1D"
   },
   "source": [
    "The other key difference is which quotes need escaped in the string. The term `escape` is used to indicate which items in the string are not part of the code but instead part of the inner string. \n",
    "\n",
    "For example if you have double quotes inside of a double quoted string, the python interpreter is not sure where the string should end and will error out:"
   ]
  },
  {
   "cell_type": "code",
   "execution_count": 2,
   "metadata": {
    "colab": {
     "base_uri": "https://localhost:8080/",
     "height": 133
    },
    "execution": {
     "iopub.execute_input": "2024-07-26T20:12:23.677525Z",
     "iopub.status.busy": "2024-07-26T20:12:23.677306Z",
     "iopub.status.idle": "2024-07-26T20:12:23.680767Z",
     "shell.execute_reply": "2024-07-26T20:12:23.680242Z"
    },
    "executionInfo": {
     "elapsed": 275,
     "status": "error",
     "timestamp": 1661350113831,
     "user": {
      "displayName": "connor makowski",
      "userId": "10315975988672690851"
     },
     "user_tz": 240
    },
    "id": "AqhnzrORLkCP",
    "outputId": "7927f59e-e828-48dc-d4a6-83cfb3fb1944"
   },
   "outputs": [
    {
     "ename": "SyntaxError",
     "evalue": "invalid syntax (1243192177.py, line 1)",
     "output_type": "error",
     "traceback": [
      "\u001b[0;36m  Cell \u001b[0;32mIn[2], line 1\u001b[0;36m\u001b[0m\n\u001b[0;31m    x=\"She said \"hi\"\"\u001b[0m\n\u001b[0m                 ^\u001b[0m\n\u001b[0;31mSyntaxError\u001b[0m\u001b[0;31m:\u001b[0m invalid syntax\n"
     ]
    }
   ],
   "source": [
    "x=\"She said \"hi\"\"\n",
    "print(x)"
   ]
  },
  {
   "cell_type": "markdown",
   "metadata": {
    "id": "3YSvGS6-LydR"
   },
   "source": [
    "Since the string is a double quote string, it can not have double quotes in itself. If it does, P\n",
    "\n",
    "ython does not know which double quotes end the string. To fix this, you can *escape* (using `\\`) the double quotes inside of the string."
   ]
  },
  {
   "cell_type": "code",
   "execution_count": 3,
   "metadata": {
    "colab": {
     "base_uri": "https://localhost:8080/"
    },
    "execution": {
     "iopub.execute_input": "2024-07-26T20:12:23.682884Z",
     "iopub.status.busy": "2024-07-26T20:12:23.682687Z",
     "iopub.status.idle": "2024-07-26T20:12:23.685887Z",
     "shell.execute_reply": "2024-07-26T20:12:23.685339Z"
    },
    "executionInfo": {
     "elapsed": 169,
     "status": "ok",
     "timestamp": 1661350348539,
     "user": {
      "displayName": "connor makowski",
      "userId": "10315975988672690851"
     },
     "user_tz": 240
    },
    "id": "k2y0ojcvLtMI",
    "outputId": "22bf17d0-d707-4103-f7ac-ac506b5343df"
   },
   "outputs": [
    {
     "name": "stdout",
     "output_type": "stream",
     "text": [
      "She said \"hi\"\n"
     ]
    }
   ],
   "source": [
    "x=\"She said \\\"hi\\\"\"\n",
    "print(x)"
   ]
  },
  {
   "cell_type": "markdown",
   "metadata": {
    "id": "YFLqdwWkMO9S"
   },
   "source": [
    "Alternatively, you could use single quotes."
   ]
  },
  {
   "cell_type": "code",
   "execution_count": 4,
   "metadata": {
    "colab": {
     "base_uri": "https://localhost:8080/"
    },
    "execution": {
     "iopub.execute_input": "2024-07-26T20:12:23.688101Z",
     "iopub.status.busy": "2024-07-26T20:12:23.687905Z",
     "iopub.status.idle": "2024-07-26T20:12:23.691028Z",
     "shell.execute_reply": "2024-07-26T20:12:23.690495Z"
    },
    "executionInfo": {
     "elapsed": 252,
     "status": "ok",
     "timestamp": 1661350351894,
     "user": {
      "displayName": "connor makowski",
      "userId": "10315975988672690851"
     },
     "user_tz": 240
    },
    "id": "KpvXoUTOMSHO",
    "outputId": "bacfcc96-adbf-419d-c00c-1e456ac3371b"
   },
   "outputs": [
    {
     "name": "stdout",
     "output_type": "stream",
     "text": [
      "She said \"hi\"\n"
     ]
    }
   ],
   "source": [
    "x='She said \"hi\"'\n",
    "print(x)"
   ]
  },
  {
   "cell_type": "markdown",
   "metadata": {
    "id": "VnqmRd_PM-j7"
   },
   "source": [
    "## String Formatting\n",
    "\n",
    "There are a number of ways to format strings in Python. \n",
    "\n",
    "Some of the more common ways include:\n",
    "- `+`: String concatenation\n",
    "  - Combines strings together\n",
    "- `f`: F strings \n",
    "  - Substitues anything in `{...}` as the executed Python code it contains\n",
    "- `format`: Format\n",
    "  - Allows specifying variables in `{...}` that can be passed as arguments to be formatted\n",
    "\n",
    "Occasionally, you might also see the old format method:\n",
    "- `%`: Printf-style formatting via operator `%`\n",
    "\n"
   ]
  },
  {
   "cell_type": "code",
   "execution_count": 5,
   "metadata": {
    "colab": {
     "base_uri": "https://localhost:8080/"
    },
    "execution": {
     "iopub.execute_input": "2024-07-26T20:12:23.693305Z",
     "iopub.status.busy": "2024-07-26T20:12:23.693110Z",
     "iopub.status.idle": "2024-07-26T20:12:23.696143Z",
     "shell.execute_reply": "2024-07-26T20:12:23.695635Z"
    },
    "executionInfo": {
     "elapsed": 384,
     "status": "ok",
     "timestamp": 1661351023029,
     "user": {
      "displayName": "connor makowski",
      "userId": "10315975988672690851"
     },
     "user_tz": 240
    },
    "id": "1r5GOw_5O7e0",
    "outputId": "c9aafa0b-bee6-4353-9e2a-233afa90247b"
   },
   "outputs": [
    {
     "name": "stdout",
     "output_type": "stream",
     "text": [
      "Hello World!\n"
     ]
    }
   ],
   "source": [
    "# Using concatenation\n",
    "print(\"Hello\"+' '+'World!')"
   ]
  },
  {
   "cell_type": "code",
   "execution_count": 6,
   "metadata": {
    "colab": {
     "base_uri": "https://localhost:8080/"
    },
    "execution": {
     "iopub.execute_input": "2024-07-26T20:12:23.698699Z",
     "iopub.status.busy": "2024-07-26T20:12:23.698189Z",
     "iopub.status.idle": "2024-07-26T20:12:23.701394Z",
     "shell.execute_reply": "2024-07-26T20:12:23.700894Z"
    },
    "executionInfo": {
     "elapsed": 200,
     "status": "ok",
     "timestamp": 1661351096141,
     "user": {
      "displayName": "connor makowski",
      "userId": "10315975988672690851"
     },
     "user_tz": 240
    },
    "id": "Jm9oBDnBPPXo",
    "outputId": "24fecbc5-5672-41c1-e0e4-e447c2c0f1c7"
   },
   "outputs": [
    {
     "name": "stdout",
     "output_type": "stream",
     "text": [
      "Goodbye and thanks for all the Fish!\n"
     ]
    }
   ],
   "source": [
    "# Using F strings\n",
    "animal='Fish'\n",
    "print(f\"Goodbye and thanks for all the {animal}!\")"
   ]
  },
  {
   "cell_type": "code",
   "execution_count": 7,
   "metadata": {
    "colab": {
     "base_uri": "https://localhost:8080/"
    },
    "execution": {
     "iopub.execute_input": "2024-07-26T20:12:23.703775Z",
     "iopub.status.busy": "2024-07-26T20:12:23.703355Z",
     "iopub.status.idle": "2024-07-26T20:12:23.706457Z",
     "shell.execute_reply": "2024-07-26T20:12:23.705959Z"
    },
    "executionInfo": {
     "elapsed": 540,
     "status": "ok",
     "timestamp": 1661351495980,
     "user": {
      "displayName": "connor makowski",
      "userId": "10315975988672690851"
     },
     "user_tz": 240
    },
    "id": "TA_boquEPgKa",
    "outputId": "0f391dad-00fd-4859-a533-03f0687073b5"
   },
   "outputs": [
    {
     "name": "stdout",
     "output_type": "stream",
     "text": [
      "The answer to life, the universe, and everything is 42.\n"
     ]
    }
   ],
   "source": [
    "# Using Format\n",
    "print(\"The answer to life, the universe, and everything is {answer}.\".format(answer=42))"
   ]
  },
  {
   "cell_type": "code",
   "execution_count": 8,
   "metadata": {
    "colab": {
     "base_uri": "https://localhost:8080/"
    },
    "execution": {
     "iopub.execute_input": "2024-07-26T20:12:23.708638Z",
     "iopub.status.busy": "2024-07-26T20:12:23.708430Z",
     "iopub.status.idle": "2024-07-26T20:12:23.711428Z",
     "shell.execute_reply": "2024-07-26T20:12:23.710922Z"
    },
    "executionInfo": {
     "elapsed": 233,
     "status": "ok",
     "timestamp": 1661351740512,
     "user": {
      "displayName": "connor makowski",
      "userId": "10315975988672690851"
     },
     "user_tz": 240
    },
    "id": "UiXUiajmRCKJ",
    "outputId": "da24faa6-fe65-4109-9d71-bd35eff1363f"
   },
   "outputs": [
    {
     "name": "stdout",
     "output_type": "stream",
     "text": [
      "The gate is locked! We will have to go around!\n"
     ]
    }
   ],
   "source": [
    "# Using the operator %\n",
    "print(\"The gate is %s! We will have to go around!\" % 'locked')"
   ]
  }
 ],
 "metadata": {
  "colab": {
   "authorship_tag": "ABX9TyPL4x3nJJ0DvTBRfrmjfw7K",
   "collapsed_sections": [],
   "name": "String_Formatting.ipynb",
   "provenance": []
  },
  "kernelspec": {
   "display_name": "Python 3 (ipykernel)",
   "language": "python",
   "name": "python3"
  },
  "language_info": {
   "codemirror_mode": {
    "name": "ipython",
    "version": 3
   },
   "file_extension": ".py",
   "mimetype": "text/x-python",
   "name": "python",
   "nbconvert_exporter": "python",
   "pygments_lexer": "ipython3",
   "version": "3.12.3"
  }
 },
 "nbformat": 4,
 "nbformat_minor": 1
}
