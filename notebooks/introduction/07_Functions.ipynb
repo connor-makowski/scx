{
 "cells": [
  {
   "cell_type": "markdown",
   "metadata": {
    "id": "ag0jIfjzh5Hx"
   },
   "source": [
    "# Functions\n",
    "\n",
    "Functions in Python are used to execute a block of code when called. They can take in input arguments (parameters / inputs) and may or may not return an output variable.\n"
   ]
  },
  {
   "cell_type": "markdown",
   "metadata": {
    "id": "0ljs6zLaqRJl"
   },
   "source": [
    "A function is defined using the `def` keyword. \n",
    "\n",
    "The basic nomenclature for functions is: \n",
    "```\n",
    "def <function name>(<input_1>, ..., <input_n>):\n",
    "    <do something>\n",
    "    <do something else>\n",
    "    return <some return value>\n",
    "```\n",
    "\n",
    "Functions are called with the following nomenclature:\n",
    "```\n",
    "<function name>(<input_1>, ..., <input_n>)\n",
    "```\n",
    "\n",
    "A simple function to square any input number would look like:"
   ]
  },
  {
   "cell_type": "code",
   "execution_count": 1,
   "metadata": {
    "colab": {
     "base_uri": "https://localhost:8080/"
    },
    "execution": {
     "iopub.execute_input": "2022-12-19T18:50:18.407551Z",
     "iopub.status.busy": "2022-12-19T18:50:18.406914Z",
     "iopub.status.idle": "2022-12-19T18:50:18.418413Z",
     "shell.execute_reply": "2022-12-19T18:50:18.417982Z"
    },
    "executionInfo": {
     "elapsed": 3,
     "status": "ok",
     "timestamp": 1661420099887,
     "user": {
      "displayName": "connor makowski",
      "userId": "10315975988672690851"
     },
     "user_tz": 240
    },
    "id": "_o0crAa0ixfF",
    "outputId": "b7a700d9-b541-48ba-f322-56b5b59a4c6e"
   },
   "outputs": [
    {
     "data": {
      "text/plain": [
       "9"
      ]
     },
     "execution_count": 1,
     "metadata": {},
     "output_type": "execute_result"
    }
   ],
   "source": [
    "def square(x):\n",
    "  return x**2\n",
    "\n",
    "square(3)"
   ]
  },
  {
   "cell_type": "markdown",
   "metadata": {
    "id": "WRge3l7CjNe7"
   },
   "source": [
    "Function inputs can be given as **positional arguments** or as **keyword arguments**.\n",
    "\n",
    "In the example above, the `square` function is called using a provided first positional argument of 3. When calling the function, the input value of `x` can be directly specified to remove ambiguity.\n",
    "\n",
    "To call the square function with a keyword argument:"
   ]
  },
  {
   "cell_type": "code",
   "execution_count": 2,
   "metadata": {
    "colab": {
     "base_uri": "https://localhost:8080/"
    },
    "execution": {
     "iopub.execute_input": "2022-12-19T18:50:18.443906Z",
     "iopub.status.busy": "2022-12-19T18:50:18.443680Z",
     "iopub.status.idle": "2022-12-19T18:50:18.448015Z",
     "shell.execute_reply": "2022-12-19T18:50:18.447533Z"
    },
    "executionInfo": {
     "elapsed": 254,
     "status": "ok",
     "timestamp": 1661420113199,
     "user": {
      "displayName": "connor makowski",
      "userId": "10315975988672690851"
     },
     "user_tz": 240
    },
    "id": "b775M7bCjztv",
    "outputId": "d73b6922-df66-4499-b5f8-46cfa66c7c2d"
   },
   "outputs": [
    {
     "data": {
      "text/plain": [
       "16"
      ]
     },
     "execution_count": 2,
     "metadata": {},
     "output_type": "execute_result"
    }
   ],
   "source": [
    "square(x=4)"
   ]
  },
  {
   "cell_type": "markdown",
   "metadata": {
    "id": "bvu63MLwkCdi"
   },
   "source": [
    "Functions can take in `n` different arguments and have `n` lines of content."
   ]
  },
  {
   "cell_type": "code",
   "execution_count": 3,
   "metadata": {
    "colab": {
     "base_uri": "https://localhost:8080/"
    },
    "execution": {
     "iopub.execute_input": "2022-12-19T18:50:18.450194Z",
     "iopub.status.busy": "2022-12-19T18:50:18.449853Z",
     "iopub.status.idle": "2022-12-19T18:50:18.453203Z",
     "shell.execute_reply": "2022-12-19T18:50:18.452807Z"
    },
    "executionInfo": {
     "elapsed": 164,
     "status": "ok",
     "timestamp": 1661420121570,
     "user": {
      "displayName": "connor makowski",
      "userId": "10315975988672690851"
     },
     "user_tz": 240
    },
    "id": "BXRdBchKkN8L",
    "outputId": "e6432480-d969-4b93-8171-e5cb1b837530"
   },
   "outputs": [
    {
     "data": {
      "text/plain": [
       "81"
      ]
     },
     "execution_count": 3,
     "metadata": {},
     "output_type": "execute_result"
    }
   ],
   "source": [
    "def power(x, y):\n",
    "  answer = x**y\n",
    "  return answer\n",
    "\n",
    "power(3,4)"
   ]
  },
  {
   "cell_type": "markdown",
   "metadata": {
    "id": "Ec9_JVHKkzzU"
   },
   "source": [
    "Positional arguments must be in the same order as the arguments specified in the function definition, while keyword arguments are assigned to a specifc argument. In the `power` function above, you would not be able to give `y` as a positional argument and `x` as a keyword argument.\n",
    "\n",
    "NOTE: In Python, positional arguments must always precede keyword arguments when defining and calling functions."
   ]
  },
  {
   "cell_type": "code",
   "execution_count": 4,
   "metadata": {
    "colab": {
     "base_uri": "https://localhost:8080/",
     "height": 166
    },
    "execution": {
     "iopub.execute_input": "2022-12-19T18:50:18.455379Z",
     "iopub.status.busy": "2022-12-19T18:50:18.454978Z",
     "iopub.status.idle": "2022-12-19T18:50:18.574352Z",
     "shell.execute_reply": "2022-12-19T18:50:18.573930Z"
    },
    "executionInfo": {
     "elapsed": 215,
     "status": "error",
     "timestamp": 1661420130418,
     "user": {
      "displayName": "connor makowski",
      "userId": "10315975988672690851"
     },
     "user_tz": 240
    },
    "id": "Y2KxNxJqlI53",
    "outputId": "cc44c6f7-8e4a-42a8-e1ad-445d0009984c"
   },
   "outputs": [
    {
     "ename": "TypeError",
     "evalue": "power() got multiple values for argument 'x'",
     "output_type": "error",
     "traceback": [
      "\u001b[0;31m---------------------------------------------------------------------------\u001b[0m",
      "\u001b[0;31mTypeError\u001b[0m                                 Traceback (most recent call last)",
      "Cell \u001b[0;32mIn[4], line 1\u001b[0m\n\u001b[0;32m----> 1\u001b[0m \u001b[43mpower\u001b[49m\u001b[43m(\u001b[49m\u001b[38;5;241;43m4\u001b[39;49m\u001b[43m,\u001b[49m\u001b[43m \u001b[49m\u001b[43mx\u001b[49m\u001b[38;5;241;43m=\u001b[39;49m\u001b[38;5;241;43m3\u001b[39;49m\u001b[43m)\u001b[49m\n",
      "\u001b[0;31mTypeError\u001b[0m: power() got multiple values for argument 'x'"
     ]
    }
   ],
   "source": [
    "power(4, x=3)"
   ]
  },
  {
   "cell_type": "markdown",
   "metadata": {
    "id": "C-lvm8zcltjA"
   },
   "source": [
    "Keyword arguments, however, can be called in any order if all arguments are passed using keywords."
   ]
  },
  {
   "cell_type": "code",
   "execution_count": 5,
   "metadata": {
    "colab": {
     "base_uri": "https://localhost:8080/"
    },
    "execution": {
     "iopub.execute_input": "2022-12-19T18:50:18.577079Z",
     "iopub.status.busy": "2022-12-19T18:50:18.576880Z",
     "iopub.status.idle": "2022-12-19T18:50:18.580166Z",
     "shell.execute_reply": "2022-12-19T18:50:18.579770Z"
    },
    "executionInfo": {
     "elapsed": 191,
     "status": "ok",
     "timestamp": 1661420137285,
     "user": {
      "displayName": "connor makowski",
      "userId": "10315975988672690851"
     },
     "user_tz": 240
    },
    "id": "RPVaF5aPl7M3",
    "outputId": "2b45ae74-1d0d-46f7-f1b6-61bf1c72da10"
   },
   "outputs": [
    {
     "data": {
      "text/plain": [
       "81"
      ]
     },
     "execution_count": 5,
     "metadata": {},
     "output_type": "execute_result"
    }
   ],
   "source": [
    "power(y=4, x=3)"
   ]
  },
  {
   "cell_type": "markdown",
   "metadata": {
    "id": "mzqPbRifmZjT"
   },
   "source": [
    "Input arguments can be given default values when defining a function. Arguments with default values must come after arguments without a default value. \n",
    "\n",
    "When a default value is provided, the function will use this value when the keyword argument is not provided."
   ]
  },
  {
   "cell_type": "code",
   "execution_count": 6,
   "metadata": {
    "colab": {
     "base_uri": "https://localhost:8080/"
    },
    "execution": {
     "iopub.execute_input": "2022-12-19T18:50:18.582709Z",
     "iopub.status.busy": "2022-12-19T18:50:18.582404Z",
     "iopub.status.idle": "2022-12-19T18:50:18.585483Z",
     "shell.execute_reply": "2022-12-19T18:50:18.585092Z"
    },
    "executionInfo": {
     "elapsed": 165,
     "status": "ok",
     "timestamp": 1661420146878,
     "user": {
      "displayName": "connor makowski",
      "userId": "10315975988672690851"
     },
     "user_tz": 240
    },
    "id": "rDs3w_j7mmXZ",
    "outputId": "c0c201eb-b3e3-4f64-f7f6-1776fb4db554"
   },
   "outputs": [
    {
     "data": {
      "text/plain": [
       "6"
      ]
     },
     "execution_count": 6,
     "metadata": {},
     "output_type": "execute_result"
    }
   ],
   "source": [
    "# Notice how the default value of y is 2\n",
    "# If not provided when the function is called, y will be 2.\n",
    "def multiply(x, y=2):\n",
    "    return x*y\n",
    "\n",
    "multiply(3)"
   ]
  },
  {
   "cell_type": "code",
   "execution_count": 7,
   "metadata": {
    "colab": {
     "base_uri": "https://localhost:8080/"
    },
    "execution": {
     "iopub.execute_input": "2022-12-19T18:50:18.586959Z",
     "iopub.status.busy": "2022-12-19T18:50:18.586782Z",
     "iopub.status.idle": "2022-12-19T18:50:18.589696Z",
     "shell.execute_reply": "2022-12-19T18:50:18.589297Z"
    },
    "executionInfo": {
     "elapsed": 222,
     "status": "ok",
     "timestamp": 1661420153836,
     "user": {
      "displayName": "connor makowski",
      "userId": "10315975988672690851"
     },
     "user_tz": 240
    },
    "id": "0HEfye4jmyCB",
    "outputId": "6c1ca3bf-d8f2-4bd9-9a6f-36a18f67e2c0"
   },
   "outputs": [
    {
     "data": {
      "text/plain": [
       "12"
      ]
     },
     "execution_count": 7,
     "metadata": {},
     "output_type": "execute_result"
    }
   ],
   "source": [
    "multiply(3,4)"
   ]
  }
 ],
 "metadata": {
  "colab": {
   "authorship_tag": "ABX9TyNh2oX5o22qOgZEVth6A8wG",
   "collapsed_sections": [],
   "name": "07_Functions.ipynb",
   "provenance": []
  },
  "kernelspec": {
   "display_name": "Python 3 (ipykernel)",
   "language": "python",
   "name": "python3"
  },
  "language_info": {
   "codemirror_mode": {
    "name": "ipython",
    "version": 3
   },
   "file_extension": ".py",
   "mimetype": "text/x-python",
   "name": "python",
   "nbconvert_exporter": "python",
   "pygments_lexer": "ipython3",
   "version": "3.10.9"
  }
 },
 "nbformat": 4,
 "nbformat_minor": 1
}
