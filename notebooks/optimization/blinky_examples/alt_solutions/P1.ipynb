{
 "cells": [
  {
   "cell_type": "code",
   "execution_count": 1,
   "metadata": {
    "execution": {
     "iopub.execute_input": "2024-07-26T20:12:53.994755Z",
     "iopub.status.busy": "2024-07-26T20:12:53.994555Z",
     "iopub.status.idle": "2024-07-26T20:12:55.012561Z",
     "shell.execute_reply": "2024-07-26T20:12:55.011822Z"
    },
    "executionInfo": {
     "elapsed": 24004,
     "status": "ok",
     "timestamp": 1662571017093,
     "user": {
      "displayName": "connor makowski",
      "userId": "10315975988672690851"
     },
     "user_tz": 240
    },
    "id": "dtAZbhYzc4Tl"
   },
   "outputs": [
    {
     "name": "stdout",
     "output_type": "stream",
     "text": [
      "Note: you may need to restart the kernel to use updated packages.\n"
     ]
    }
   ],
   "source": [
    "pip install scx>=1.2.0 #Note: This may throw an Error in Google Colab since Colab uses an outdated duckdb package. This file should still work in Colab without issues."
   ]
  },
  {
   "attachments": {},
   "cell_type": "markdown",
   "metadata": {},
   "source": [
    "<h1>Blinky P1</h1>\n",
    "<p>After years of work, your friend Robert, and you launched the brand Blink. Blink's business includes assembling, selling, and distributing a smart pet wearable device, the Blinky22. This device has multiple functions; it monitors pet activity levels, tracks health indicators, provides wellness recommendations, records veterinarian visits, tracks location, and shares this all in real-time through a mobile app. Blinky22 is waterproof and light-weight. The collar is adjustable so that any pet can wear it.</p>\n",
    "<p>Blinky is manufactured in two assembly plants and it is sold in three regions. Monthly demand per region is shared in Table 1. Currently, assembly plants have no capacity restrictions and can source as many items as needed. Blink’s 3PL carrier charges a transportation cost of (USD)0.12 per unit per mile.</p>\n",
    "<p><b>Table 1: Demand in units</b></p>\n",
    "<table width=\"90%\">\n",
    "<tbody>\n",
    "<tr>\n",
    "<td width=\"20%\" style=\"text-align: center; border: 1px solid black;\">Demand</td>\n",
    "<td width=\"10%\" style=\"text-align: center; border: 1px solid black;\">Region 1</td>\n",
    "<td width=\"10%\" style=\"text-align: center; border: 1px solid black;\">Region 2</td>\n",
    "<td width=\"10%\" style=\"text-align: center; border: 1px solid black;\">Region 3</td>\n",
    "</tr>\n",
    "<tr>\n",
    "<td width=\"15%\" style=\"text-align: center; border: 1px solid black;\">Units per month</td>\n",
    "<td width=\"10%\" style=\"text-align: center; border: 1px solid black;\">2500</td>\n",
    "<td width=\"10%\" style=\"text-align: center; border: 1px solid black;\">4350</td>\n",
    "<td width=\"10%\" style=\"text-align: center; border: 1px solid black;\">3296</td>\n",
    "</tr>\n",
    "</tbody>\n",
    "</table>\n",
    "<p><b>Table 2: Distance in Miles</b></p>\n",
    "<table width=\"90%\" style=\"height: 76.7814px;\">\n",
    "<tbody>\n",
    "<tr style=\"height: 25.5938px;\">\n",
    "<td width=\"15%\" style=\"text-align: center; border: 1px solid black; height: 25.5938px;\">Miles</td>\n",
    "<td width=\"10%\" style=\"text-align: center; border: 1px solid black; height: 25.5938px;\">Region 1</td>\n",
    "<td width=\"10%\" style=\"text-align: center; border: 1px solid black; height: 25.5938px;\">Region 2</td>\n",
    "<td width=\"10%\" style=\"text-align: center; border: 1px solid black; height: 25.5938px;\">Region 3</td>\n",
    "</tr>\n",
    "<tr style=\"height: 25.5938px;\">\n",
    "<td width=\"15%\" style=\"text-align: center; border: 1px solid black; height: 25.5938px;\">Assembly Plant 1</td>\n",
    "<td width=\"10%\" style=\"text-align: center; border: 1px solid black; height: 25.5938px;\">105</td>\n",
    "<td width=\"10%\" style=\"text-align: center; border: 1px solid black; height: 25.5938px;\">256</td>\n",
    "<td width=\"10%\" style=\"text-align: center; border: 1px solid black; height: 25.5938px;\">86</td>\n",
    "</tr>\n",
    "<tr style=\"height: 25.5938px;\">\n",
    "<td width=\"15%\" style=\"text-align: center; border: 1px solid black; height: 25.5938px;\">Assembly Plant 2</td>\n",
    "<td width=\"10%\" style=\"text-align: center; border: 1px solid black; height: 25.5938px;\">240</td>\n",
    "<td width=\"10%\" style=\"text-align: center; border: 1px solid black; height: 25.5938px;\">136</td>\n",
    "<td width=\"10%\" style=\"text-align: center; border: 1px solid black; height: 25.5938px;\">198</td>\n",
    "</tr>\n",
    "</tbody>\n",
    "</table>\n",
    "<p></p>\n",
    "<p><strong>Formulate a model using the available information. Your goal is to minimize the total transportation cost.</strong></p>"
   ]
  },
  {
   "cell_type": "code",
   "execution_count": 2,
   "metadata": {
    "execution": {
     "iopub.execute_input": "2024-07-26T20:12:55.040437Z",
     "iopub.status.busy": "2024-07-26T20:12:55.039839Z",
     "iopub.status.idle": "2024-07-26T20:12:55.062318Z",
     "shell.execute_reply": "2024-07-26T20:12:55.061780Z"
    },
    "executionInfo": {
     "elapsed": 10,
     "status": "ok",
     "timestamp": 1662571017094,
     "user": {
      "displayName": "connor makowski",
      "userId": "10315975988672690851"
     },
     "user_tz": 240
    },
    "id": "SFdM7adidA5O"
   },
   "outputs": [],
   "source": [
    "from scx.optimize import Model"
   ]
  },
  {
   "cell_type": "code",
   "execution_count": 3,
   "metadata": {
    "execution": {
     "iopub.execute_input": "2024-07-26T20:12:55.064326Z",
     "iopub.status.busy": "2024-07-26T20:12:55.063879Z",
     "iopub.status.idle": "2024-07-26T20:12:55.068132Z",
     "shell.execute_reply": "2024-07-26T20:12:55.067622Z"
    },
    "executionInfo": {
     "elapsed": 9,
     "status": "ok",
     "timestamp": 1662571017094,
     "user": {
      "displayName": "connor makowski",
      "userId": "10315975988672690851"
     },
     "user_tz": 240
    },
    "id": "rqwrp08wdCdT"
   },
   "outputs": [],
   "source": [
    "distances=[\n",
    "    [105, 256, 86],\n",
    "    [240, 136, 198],\n",
    "]\n",
    "cost_per_mi=0.12\n",
    "\n",
    "demand=[2500,4350,3296]\n",
    "\n",
    "assembly_plants=['A1','A2']\n",
    "demand_regions=['R1','R2','R3']\n",
    "\n",
    "decision_variables=[[Model.variable(name=f\"{a}__{d}__amt\", lowBound=0) for d in demand_regions] for a in assembly_plants]\n"
   ]
  },
  {
   "cell_type": "code",
   "execution_count": 4,
   "metadata": {
    "execution": {
     "iopub.execute_input": "2024-07-26T20:12:55.069743Z",
     "iopub.status.busy": "2024-07-26T20:12:55.069546Z",
     "iopub.status.idle": "2024-07-26T20:12:55.079036Z",
     "shell.execute_reply": "2024-07-26T20:12:55.078538Z"
    },
    "executionInfo": {
     "elapsed": 116,
     "status": "ok",
     "timestamp": 1662571122971,
     "user": {
      "displayName": "connor makowski",
      "userId": "10315975988672690851"
     },
     "user_tz": 240
    },
    "id": "UyYaJ7YcetBD"
   },
   "outputs": [],
   "source": [
    "# Initialize the model\n",
    "my_model = Model(name=\"Blinky22\", sense='minimize')\n",
    "\n",
    "# Add the Objective Fn\n",
    "my_model.add_objective(\n",
    "    fn=Model.sum([distances[i][j]*decision_variables[i][j]*cost_per_mi for i in range(len(assembly_plants)) for j in range(len(demand_regions))]),\n",
    ")\n",
    "\n",
    "# Add the Constraints\n",
    "## Demand Constraint\n",
    "for j in range(len(demand_regions)):\n",
    "    my_model.add_constraint(\n",
    "        name=f\"Constraint__{demand_regions[j]}\",\n",
    "        fn=Model.sum([decision_variables[i][j] for i in range(len(assembly_plants))])>=demand[j]\n",
    "    )\n",
    "\n",
    "my_model.solve()"
   ]
  },
  {
   "cell_type": "code",
   "execution_count": 5,
   "metadata": {
    "colab": {
     "base_uri": "https://localhost:8080/"
    },
    "execution": {
     "iopub.execute_input": "2024-07-26T20:12:55.080928Z",
     "iopub.status.busy": "2024-07-26T20:12:55.080463Z",
     "iopub.status.idle": "2024-07-26T20:12:55.083633Z",
     "shell.execute_reply": "2024-07-26T20:12:55.083120Z"
    },
    "executionInfo": {
     "elapsed": 215,
     "status": "ok",
     "timestamp": 1662571842935,
     "user": {
      "displayName": "connor makowski",
      "userId": "10315975988672690851"
     },
     "user_tz": 240
    },
    "id": "eYyjYe14AAWA",
    "outputId": "900f0bb7-0b1e-4af3-c18b-9c07183e4e6d"
   },
   "outputs": [
    {
     "name": "stdout",
     "output_type": "stream",
     "text": [
      "Blinky22:\n",
      "MINIMIZE\n",
      "12.6*A1__R1__amt + 30.72*A1__R2__amt + 10.32*A1__R3__amt + 28.799999999999997*A2__R1__amt + 16.32*A2__R2__amt + 23.759999999999998*A2__R3__amt + 0.0\n",
      "SUBJECT TO\n",
      "Constraint__R1: A1__R1__amt + A2__R1__amt >= 2500\n",
      "\n",
      "Constraint__R2: A1__R2__amt + A2__R2__amt >= 4350\n",
      "\n",
      "Constraint__R3: A1__R3__amt + A2__R3__amt >= 3296\n",
      "\n",
      "VARIABLES\n",
      "A1__R1__amt Continuous\n",
      "A1__R2__amt Continuous\n",
      "A1__R3__amt Continuous\n",
      "A2__R1__amt Continuous\n",
      "A2__R2__amt Continuous\n",
      "A2__R3__amt Continuous\n",
      "\n"
     ]
    }
   ],
   "source": [
    "# Show the formulation\n",
    "my_model.show_formulation()"
   ]
  },
  {
   "cell_type": "code",
   "execution_count": 6,
   "metadata": {
    "colab": {
     "base_uri": "https://localhost:8080/"
    },
    "execution": {
     "iopub.execute_input": "2024-07-26T20:12:55.085215Z",
     "iopub.status.busy": "2024-07-26T20:12:55.085023Z",
     "iopub.status.idle": "2024-07-26T20:12:55.088240Z",
     "shell.execute_reply": "2024-07-26T20:12:55.087741Z"
    },
    "executionInfo": {
     "elapsed": 233,
     "status": "ok",
     "timestamp": 1662571124783,
     "user": {
      "displayName": "connor makowski",
      "userId": "10315975988672690851"
     },
     "user_tz": 240
    },
    "id": "a5F_36LGgOpA",
    "outputId": "0a3f6668-b47d-48ff-f140-93140740f861"
   },
   "outputs": [
    {
     "name": "stdout",
     "output_type": "stream",
     "text": [
      "{'objective': 136506.72,\n",
      " 'status': 'Optimal',\n",
      " 'variables': {'A1__R1__amt': 2500.0,\n",
      "               'A1__R2__amt': 0.0,\n",
      "               'A1__R3__amt': 3296.0,\n",
      "               'A2__R1__amt': 0.0,\n",
      "               'A2__R2__amt': 4350.0,\n",
      "               'A2__R3__amt': 0.0}}\n"
     ]
    }
   ],
   "source": [
    "# Show the outputs\n",
    "my_model.show_outputs()"
   ]
  }
 ],
 "metadata": {
  "colab": {
   "authorship_tag": "ABX9TyMLQ0NMOIoOvmYc1neNUFlP",
   "collapsed_sections": [],
   "provenance": []
  },
  "kernelspec": {
   "display_name": "Python 3 (ipykernel)",
   "language": "python",
   "name": "python3"
  },
  "language_info": {
   "codemirror_mode": {
    "name": "ipython",
    "version": 3
   },
   "file_extension": ".py",
   "mimetype": "text/x-python",
   "name": "python",
   "nbconvert_exporter": "python",
   "pygments_lexer": "ipython3",
   "version": "3.12.3"
  }
 },
 "nbformat": 4,
 "nbformat_minor": 1
}
