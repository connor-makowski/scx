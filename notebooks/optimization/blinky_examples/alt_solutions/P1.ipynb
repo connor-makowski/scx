{
 "cells": [
  {
   "cell_type": "code",
   "execution_count": 1,
   "metadata": {
    "execution": {
     "iopub.execute_input": "2022-12-05T21:31:31.775696Z",
     "iopub.status.busy": "2022-12-05T21:31:31.775210Z",
     "iopub.status.idle": "2022-12-05T21:31:32.563817Z",
     "shell.execute_reply": "2022-12-05T21:31:32.563031Z"
    },
    "executionInfo": {
     "elapsed": 24004,
     "status": "ok",
     "timestamp": 1662571017093,
     "user": {
      "displayName": "connor makowski",
      "userId": "10315975988672690851"
     },
     "user_tz": 240
    },
    "id": "dtAZbhYzc4Tl"
   },
   "outputs": [
    {
     "name": "stdout",
     "output_type": "stream",
     "text": [
      "Note: you may need to restart the kernel to use updated packages.\n"
     ]
    }
   ],
   "source": [
    "pip install scx>=1.0.7"
   ]
  },
  {
   "cell_type": "code",
   "execution_count": 2,
   "metadata": {
    "execution": {
     "iopub.execute_input": "2022-12-05T21:31:32.590127Z",
     "iopub.status.busy": "2022-12-05T21:31:32.589943Z",
     "iopub.status.idle": "2022-12-05T21:31:32.603846Z",
     "shell.execute_reply": "2022-12-05T21:31:32.603306Z"
    },
    "executionInfo": {
     "elapsed": 10,
     "status": "ok",
     "timestamp": 1662571017094,
     "user": {
      "displayName": "connor makowski",
      "userId": "10315975988672690851"
     },
     "user_tz": 240
    },
    "id": "SFdM7adidA5O"
   },
   "outputs": [],
   "source": [
    "from scx.optimize import Model"
   ]
  },
  {
   "cell_type": "code",
   "execution_count": 3,
   "metadata": {
    "execution": {
     "iopub.execute_input": "2022-12-05T21:31:32.605643Z",
     "iopub.status.busy": "2022-12-05T21:31:32.605336Z",
     "iopub.status.idle": "2022-12-05T21:31:32.608501Z",
     "shell.execute_reply": "2022-12-05T21:31:32.608005Z"
    },
    "executionInfo": {
     "elapsed": 9,
     "status": "ok",
     "timestamp": 1662571017094,
     "user": {
      "displayName": "connor makowski",
      "userId": "10315975988672690851"
     },
     "user_tz": 240
    },
    "id": "rqwrp08wdCdT"
   },
   "outputs": [],
   "source": [
    "distances=[\n",
    "    [105, 256, 86],\n",
    "    [240, 136, 198],\n",
    "]\n",
    "cost_per_mi=0.12\n",
    "\n",
    "demand=[2500,4350,3296]\n",
    "\n",
    "assembly_plants=['A1','A2']\n",
    "demand_regions=['R1','R2','R3']\n",
    "\n",
    "decision_variables=[[Model.variable(name=f\"{a}__{d}__amt\", lowBound=0) for d in demand_regions] for a in assembly_plants]\n"
   ]
  },
  {
   "cell_type": "code",
   "execution_count": 4,
   "metadata": {
    "execution": {
     "iopub.execute_input": "2022-12-05T21:31:32.610438Z",
     "iopub.status.busy": "2022-12-05T21:31:32.610326Z",
     "iopub.status.idle": "2022-12-05T21:31:32.618363Z",
     "shell.execute_reply": "2022-12-05T21:31:32.617955Z"
    },
    "executionInfo": {
     "elapsed": 116,
     "status": "ok",
     "timestamp": 1662571122971,
     "user": {
      "displayName": "connor makowski",
      "userId": "10315975988672690851"
     },
     "user_tz": 240
    },
    "id": "UyYaJ7YcetBD"
   },
   "outputs": [],
   "source": [
    "# Initialize the model\n",
    "my_model = Model(name=\"Blinky22\", sense='minimize')\n",
    "\n",
    "# Add the Objective Fn\n",
    "my_model.add_objective(\n",
    "    fn=Model.sum([distances[i][j]*decision_variables[i][j]*cost_per_mi for i in range(len(assembly_plants)) for j in range(len(demand_regions))]),\n",
    ")\n",
    "\n",
    "# Add the Constraints\n",
    "## Demand Constraint\n",
    "for j in range(len(demand_regions)):\n",
    "    my_model.add_constraint(\n",
    "        name=f\"Constraint__{demand_regions[j]}\",\n",
    "        fn=Model.sum([decision_variables[i][j] for i in range(len(assembly_plants))])>=demand[j],\n",
    "    )\n",
    "\n",
    "my_model.solve()"
   ]
  },
  {
   "cell_type": "code",
   "execution_count": 5,
   "metadata": {
    "colab": {
     "base_uri": "https://localhost:8080/"
    },
    "execution": {
     "iopub.execute_input": "2022-12-05T21:31:32.620285Z",
     "iopub.status.busy": "2022-12-05T21:31:32.620018Z",
     "iopub.status.idle": "2022-12-05T21:31:32.622501Z",
     "shell.execute_reply": "2022-12-05T21:31:32.622089Z"
    },
    "executionInfo": {
     "elapsed": 215,
     "status": "ok",
     "timestamp": 1662571842935,
     "user": {
      "displayName": "connor makowski",
      "userId": "10315975988672690851"
     },
     "user_tz": 240
    },
    "id": "eYyjYe14AAWA",
    "outputId": "900f0bb7-0b1e-4af3-c18b-9c07183e4e6d"
   },
   "outputs": [
    {
     "name": "stdout",
     "output_type": "stream",
     "text": [
      "Blinky22:\n",
      "MINIMIZE\n",
      "12.6*A1__R1__amt + 30.72*A1__R2__amt + 10.32*A1__R3__amt + 28.799999999999997*A2__R1__amt + 16.32*A2__R2__amt + 23.759999999999998*A2__R3__amt + 0.0\n",
      "SUBJECT TO\n",
      "Constraint__R1: A1__R1__amt + A2__R1__amt >= 2500\n",
      "\n",
      "Constraint__R2: A1__R2__amt + A2__R2__amt >= 4350\n",
      "\n",
      "Constraint__R3: A1__R3__amt + A2__R3__amt >= 3296\n",
      "\n",
      "VARIABLES\n",
      "A1__R1__amt Continuous\n",
      "A1__R2__amt Continuous\n",
      "A1__R3__amt Continuous\n",
      "A2__R1__amt Continuous\n",
      "A2__R2__amt Continuous\n",
      "A2__R3__amt Continuous\n",
      "\n"
     ]
    }
   ],
   "source": [
    "# Show the formulation\n",
    "my_model.show_formulation()"
   ]
  },
  {
   "cell_type": "code",
   "execution_count": 6,
   "metadata": {
    "colab": {
     "base_uri": "https://localhost:8080/"
    },
    "execution": {
     "iopub.execute_input": "2022-12-05T21:31:32.624509Z",
     "iopub.status.busy": "2022-12-05T21:31:32.624334Z",
     "iopub.status.idle": "2022-12-05T21:31:32.626890Z",
     "shell.execute_reply": "2022-12-05T21:31:32.626468Z"
    },
    "executionInfo": {
     "elapsed": 233,
     "status": "ok",
     "timestamp": 1662571124783,
     "user": {
      "displayName": "connor makowski",
      "userId": "10315975988672690851"
     },
     "user_tz": 240
    },
    "id": "a5F_36LGgOpA",
    "outputId": "0a3f6668-b47d-48ff-f140-93140740f861"
   },
   "outputs": [
    {
     "name": "stdout",
     "output_type": "stream",
     "text": [
      "{'objective': 136506.72,\n",
      " 'status': 'Optimal',\n",
      " 'variables': {'A1__R1__amt': 2500.0,\n",
      "               'A1__R2__amt': 0.0,\n",
      "               'A1__R3__amt': 3296.0,\n",
      "               'A2__R1__amt': 0.0,\n",
      "               'A2__R2__amt': 4350.0,\n",
      "               'A2__R3__amt': 0.0}}\n"
     ]
    }
   ],
   "source": [
    "# Show the outputs\n",
    "my_model.show_outputs()"
   ]
  }
 ],
 "metadata": {
  "colab": {
   "authorship_tag": "ABX9TyMLQ0NMOIoOvmYc1neNUFlP",
   "collapsed_sections": [],
   "provenance": []
  },
  "kernelspec": {
   "display_name": "Python 3 (ipykernel)",
   "language": "python",
   "name": "python3"
  },
  "language_info": {
   "codemirror_mode": {
    "name": "ipython",
    "version": 3
   },
   "file_extension": ".py",
   "mimetype": "text/x-python",
   "name": "python",
   "nbconvert_exporter": "python",
   "pygments_lexer": "ipython3",
   "version": "3.10.8"
  }
 },
 "nbformat": 4,
 "nbformat_minor": 1
}
