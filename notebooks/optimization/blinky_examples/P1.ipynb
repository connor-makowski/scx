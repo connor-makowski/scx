{
 "cells": [
  {
   "cell_type": "code",
   "execution_count": 1,
   "metadata": {
    "execution": {
     "iopub.execute_input": "2022-12-06T18:55:41.470945Z",
     "iopub.status.busy": "2022-12-06T18:55:41.470439Z",
     "iopub.status.idle": "2022-12-06T18:55:42.266872Z",
     "shell.execute_reply": "2022-12-06T18:55:42.266154Z"
    },
    "executionInfo": {
     "elapsed": 24004,
     "status": "ok",
     "timestamp": 1662571017093,
     "user": {
      "displayName": "connor makowski",
      "userId": "10315975988672690851"
     },
     "user_tz": 240
    },
    "id": "dtAZbhYzc4Tl"
   },
   "outputs": [
    {
     "name": "stdout",
     "output_type": "stream",
     "text": [
      "Note: you may need to restart the kernel to use updated packages.\n"
     ]
    }
   ],
   "source": [
    "pip install scx>=1.0.7"
   ]
  },
  {
   "cell_type": "markdown",
   "metadata": {},
   "source": [
    "<h1>Blinky P1</h1>\n",
    "<p>After years of work, your friend Robert, and you launched the brand Blink. Blink's business includes assembling, selling, and distributing a smart pet wearable device, the Blinky22. This device has multiple functions; it monitors pet activity levels, tracks health indicators, provides wellness recommendations, records veterinarian visits, tracks location, and shares this all in real-time through a mobile app. Blinky22 is waterproof and light-weight. The collar is adjustable so that any pet can wear it.</p>\n",
    "<p>Blinky is manufactured in two assembly plants and it is sold in three regions. Monthly demand per region is shared in Table 1. Currently, assembly plants have no capacity restrictions and can source as many items as needed. Blink’s 3PL carrier charges a transportation cost of $0.12 per unit per mile.</p>\n",
    "<p><b>Table 1: Demand in units</b></p>\n",
    "<table width=\"90%\">\n",
    "<tbody>\n",
    "<tr>\n",
    "<td width=\"20%\" style=\"text-align: center; border: 1px solid black;\">Demand</td>\n",
    "<td width=\"10%\" style=\"text-align: center; border: 1px solid black;\">Region 1</td>\n",
    "<td width=\"10%\" style=\"text-align: center; border: 1px solid black;\">Region 2</td>\n",
    "<td width=\"10%\" style=\"text-align: center; border: 1px solid black;\">Region 3</td>\n",
    "</tr>\n",
    "<tr>\n",
    "<td width=\"15%\" style=\"text-align: center; border: 1px solid black;\">Units per month</td>\n",
    "<td width=\"10%\" style=\"text-align: center; border: 1px solid black;\">2500</td>\n",
    "<td width=\"10%\" style=\"text-align: center; border: 1px solid black;\">4350</td>\n",
    "<td width=\"10%\" style=\"text-align: center; border: 1px solid black;\">3296</td>\n",
    "</tr>\n",
    "</tbody>\n",
    "</table>\n",
    "<p><b>Table 2: Distance in Miles</b></p>\n",
    "<table width=\"90%\" style=\"height: 76.7814px;\">\n",
    "<tbody>\n",
    "<tr style=\"height: 25.5938px;\">\n",
    "<td width=\"15%\" style=\"text-align: center; border: 1px solid black; height: 25.5938px;\">Miles</td>\n",
    "<td width=\"10%\" style=\"text-align: center; border: 1px solid black; height: 25.5938px;\">Region 1</td>\n",
    "<td width=\"10%\" style=\"text-align: center; border: 1px solid black; height: 25.5938px;\">Region 2</td>\n",
    "<td width=\"10%\" style=\"text-align: center; border: 1px solid black; height: 25.5938px;\">Region 3</td>\n",
    "</tr>\n",
    "<tr style=\"height: 25.5938px;\">\n",
    "<td width=\"15%\" style=\"text-align: center; border: 1px solid black; height: 25.5938px;\">Assembly Plant 1</td>\n",
    "<td width=\"10%\" style=\"text-align: center; border: 1px solid black; height: 25.5938px;\">105</td>\n",
    "<td width=\"10%\" style=\"text-align: center; border: 1px solid black; height: 25.5938px;\">256</td>\n",
    "<td width=\"10%\" style=\"text-align: center; border: 1px solid black; height: 25.5938px;\">86</td>\n",
    "</tr>\n",
    "<tr style=\"height: 25.5938px;\">\n",
    "<td width=\"15%\" style=\"text-align: center; border: 1px solid black; height: 25.5938px;\">Assembly Plant 2</td>\n",
    "<td width=\"10%\" style=\"text-align: center; border: 1px solid black; height: 25.5938px;\">240</td>\n",
    "<td width=\"10%\" style=\"text-align: center; border: 1px solid black; height: 25.5938px;\">136</td>\n",
    "<td width=\"10%\" style=\"text-align: center; border: 1px solid black; height: 25.5938px;\">198</td>\n",
    "</tr>\n",
    "</tbody>\n",
    "</table>\n",
    "<p></p>\n",
    "<p><strong>Formulate a model using the available information. Your goal is to minimize the total transportation cost.</strong></p>\n",
    "<a href=\"https://youtu.be/uNaJ9FcWt_s\">Blinky P1 Video Walkthrough Link</a><br/>\n",
    "<iframe width=\"560\" height=\"315\"\n",
    "    src=\"//www.youtube.com/embed/uNaJ9FcWt_s\" frameborder=\"0\" allowfullscreen>\n",
    "</iframe>"
   ]
  },
  {
   "cell_type": "code",
   "execution_count": 2,
   "metadata": {
    "execution": {
     "iopub.execute_input": "2022-12-06T18:55:42.293929Z",
     "iopub.status.busy": "2022-12-06T18:55:42.293750Z",
     "iopub.status.idle": "2022-12-06T18:55:42.306503Z",
     "shell.execute_reply": "2022-12-06T18:55:42.306019Z"
    },
    "executionInfo": {
     "elapsed": 10,
     "status": "ok",
     "timestamp": 1662571017094,
     "user": {
      "displayName": "connor makowski",
      "userId": "10315975988672690851"
     },
     "user_tz": 240
    },
    "id": "SFdM7adidA5O"
   },
   "outputs": [],
   "source": [
    "from scx.optimize import Model"
   ]
  },
  {
   "cell_type": "code",
   "execution_count": 3,
   "metadata": {
    "execution": {
     "iopub.execute_input": "2022-12-06T18:55:42.308759Z",
     "iopub.status.busy": "2022-12-06T18:55:42.308630Z",
     "iopub.status.idle": "2022-12-06T18:55:42.312717Z",
     "shell.execute_reply": "2022-12-06T18:55:42.312350Z"
    },
    "executionInfo": {
     "elapsed": 9,
     "status": "ok",
     "timestamp": 1662571017094,
     "user": {
      "displayName": "connor makowski",
      "userId": "10315975988672690851"
     },
     "user_tz": 240
    },
    "id": "rqwrp08wdCdT"
   },
   "outputs": [],
   "source": [
    "transport = [\n",
    "    {\n",
    "        'origin_name':'A1',\n",
    "        'destination_name':'R1',\n",
    "        'distance': 105,\n",
    "        'cost_per_mile':0.12,\n",
    "    },\n",
    "    {\n",
    "        'origin_name':'A1',\n",
    "        'destination_name':'R2',\n",
    "        'distance': 256,\n",
    "        'cost_per_mile':0.12,\n",
    "    },\n",
    "    {\n",
    "        'origin_name':'A1',\n",
    "        'destination_name':'R3',\n",
    "        'distance': 86,\n",
    "        'cost_per_mile':0.12,\n",
    "    },\n",
    "    {\n",
    "        'origin_name':'A2',\n",
    "        'destination_name':'R1',\n",
    "        'distance': 240,\n",
    "        'cost_per_mile':0.12,\n",
    "    },\n",
    "    {\n",
    "        'origin_name':'A2',\n",
    "        'destination_name':'R2',\n",
    "        'distance': 136,\n",
    "        'cost_per_mile':0.12,\n",
    "    },\n",
    "    {\n",
    "        'origin_name':'A2',\n",
    "        'destination_name':'R3',\n",
    "        'distance': 198,\n",
    "        'cost_per_mile':0.12,\n",
    "    },\n",
    "]\n",
    "\n",
    "demand = [\n",
    "    {\n",
    "        'name':'R1', \n",
    "        'demand':2500\n",
    "    },\n",
    "    {\n",
    "        'name':'R2', \n",
    "        'demand':4350\n",
    "    },\n",
    "    {\n",
    "        'name':'R3', \n",
    "        'demand':3296\n",
    "    },\n",
    "]"
   ]
  },
  {
   "cell_type": "code",
   "execution_count": 4,
   "metadata": {
    "execution": {
     "iopub.execute_input": "2022-12-06T18:55:42.314829Z",
     "iopub.status.busy": "2022-12-06T18:55:42.314700Z",
     "iopub.status.idle": "2022-12-06T18:55:42.317316Z",
     "shell.execute_reply": "2022-12-06T18:55:42.316981Z"
    },
    "executionInfo": {
     "elapsed": 118,
     "status": "ok",
     "timestamp": 1662571121203,
     "user": {
      "displayName": "connor makowski",
      "userId": "10315975988672690851"
     },
     "user_tz": 240
    },
    "id": "t2p2iCc5eaZH"
   },
   "outputs": [],
   "source": [
    "for t in transport:\n",
    "    # Create decision variables for each item in transport\n",
    "    t['amt']=Model.variable(name=f\"{t['origin_name']}__{t['destination_name']}__amt\", lowBound=0)\n",
    "    # Calculate the variable cost of shipping for each item in tranport\n",
    "    t['cost']=t['distance']*t['cost_per_mile']"
   ]
  },
  {
   "cell_type": "code",
   "execution_count": 5,
   "metadata": {
    "execution": {
     "iopub.execute_input": "2022-12-06T18:55:42.318653Z",
     "iopub.status.busy": "2022-12-06T18:55:42.318549Z",
     "iopub.status.idle": "2022-12-06T18:55:42.326941Z",
     "shell.execute_reply": "2022-12-06T18:55:42.326377Z"
    },
    "executionInfo": {
     "elapsed": 116,
     "status": "ok",
     "timestamp": 1662571122971,
     "user": {
      "displayName": "connor makowski",
      "userId": "10315975988672690851"
     },
     "user_tz": 240
    },
    "id": "UyYaJ7YcetBD"
   },
   "outputs": [],
   "source": [
    "# Initialize the model\n",
    "my_model = Model(name=\"Blinky22\", sense='minimize')\n",
    "\n",
    "\n",
    "# Add the Objective Fn\n",
    "my_model.add_objective(\n",
    "    fn=Model.sum([t['amt']*t['cost'] for t in transport])\n",
    ")\n",
    "\n",
    "# Add Constraints\n",
    "## Demand Constraint\n",
    "for d in demand:\n",
    "    my_model.add_constraint(\n",
    "        name=f\"{d['name']}__demand\",\n",
    "        fn=Model.sum([t['amt'] for t in transport if t['destination_name']==d['name']]) >= d['demand'],\n",
    "    )\n",
    "\n",
    "# Solve the model\n",
    "my_model.solve()"
   ]
  },
  {
   "cell_type": "code",
   "execution_count": 6,
   "metadata": {
    "colab": {
     "base_uri": "https://localhost:8080/"
    },
    "execution": {
     "iopub.execute_input": "2022-12-06T18:55:42.329201Z",
     "iopub.status.busy": "2022-12-06T18:55:42.328843Z",
     "iopub.status.idle": "2022-12-06T18:55:42.331979Z",
     "shell.execute_reply": "2022-12-06T18:55:42.331505Z"
    },
    "executionInfo": {
     "elapsed": 215,
     "status": "ok",
     "timestamp": 1662571842935,
     "user": {
      "displayName": "connor makowski",
      "userId": "10315975988672690851"
     },
     "user_tz": 240
    },
    "id": "eYyjYe14AAWA",
    "outputId": "900f0bb7-0b1e-4af3-c18b-9c07183e4e6d"
   },
   "outputs": [
    {
     "name": "stdout",
     "output_type": "stream",
     "text": [
      "Blinky22:\n",
      "MINIMIZE\n",
      "12.6*A1__R1__amt + 30.72*A1__R2__amt + 10.32*A1__R3__amt + 28.799999999999997*A2__R1__amt + 16.32*A2__R2__amt + 23.759999999999998*A2__R3__amt + 0.0\n",
      "SUBJECT TO\n",
      "R1__demand: A1__R1__amt + A2__R1__amt >= 2500\n",
      "\n",
      "R2__demand: A1__R2__amt + A2__R2__amt >= 4350\n",
      "\n",
      "R3__demand: A1__R3__amt + A2__R3__amt >= 3296\n",
      "\n",
      "VARIABLES\n",
      "A1__R1__amt Continuous\n",
      "A1__R2__amt Continuous\n",
      "A1__R3__amt Continuous\n",
      "A2__R1__amt Continuous\n",
      "A2__R2__amt Continuous\n",
      "A2__R3__amt Continuous\n",
      "\n"
     ]
    }
   ],
   "source": [
    "my_model.show_formulation()"
   ]
  },
  {
   "cell_type": "code",
   "execution_count": 7,
   "metadata": {
    "colab": {
     "base_uri": "https://localhost:8080/"
    },
    "execution": {
     "iopub.execute_input": "2022-12-06T18:55:42.333905Z",
     "iopub.status.busy": "2022-12-06T18:55:42.333752Z",
     "iopub.status.idle": "2022-12-06T18:55:42.336490Z",
     "shell.execute_reply": "2022-12-06T18:55:42.336140Z"
    },
    "executionInfo": {
     "elapsed": 233,
     "status": "ok",
     "timestamp": 1662571124783,
     "user": {
      "displayName": "connor makowski",
      "userId": "10315975988672690851"
     },
     "user_tz": 240
    },
    "id": "a5F_36LGgOpA",
    "outputId": "0a3f6668-b47d-48ff-f140-93140740f861"
   },
   "outputs": [
    {
     "name": "stdout",
     "output_type": "stream",
     "text": [
      "{'objective': 136506.72,\n",
      " 'status': 'Optimal',\n",
      " 'variables': {'A1__R1__amt': 2500.0,\n",
      "               'A1__R2__amt': 0.0,\n",
      "               'A1__R3__amt': 3296.0,\n",
      "               'A2__R1__amt': 0.0,\n",
      "               'A2__R2__amt': 4350.0,\n",
      "               'A2__R3__amt': 0.0}}\n"
     ]
    }
   ],
   "source": [
    "# Show the outputs\n",
    "my_model.show_outputs()"
   ]
  }
 ],
 "metadata": {
  "colab": {
   "authorship_tag": "ABX9TyMLQ0NMOIoOvmYc1neNUFlP",
   "collapsed_sections": [],
   "provenance": []
  },
  "kernelspec": {
   "display_name": "Python 3 (ipykernel)",
   "language": "python",
   "name": "python3"
  },
  "language_info": {
   "codemirror_mode": {
    "name": "ipython",
    "version": 3
   },
   "file_extension": ".py",
   "mimetype": "text/x-python",
   "name": "python",
   "nbconvert_exporter": "python",
   "pygments_lexer": "ipython3",
   "version": "3.10.8"
  }
 },
 "nbformat": 4,
 "nbformat_minor": 1
}
