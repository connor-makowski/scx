{
 "cells": [
  {
   "cell_type": "code",
   "execution_count": 1,
   "metadata": {
    "execution": {
     "iopub.execute_input": "2022-12-19T18:50:04.248663Z",
     "iopub.status.busy": "2022-12-19T18:50:04.248430Z",
     "iopub.status.idle": "2022-12-19T18:50:05.047210Z",
     "shell.execute_reply": "2022-12-19T18:50:05.046355Z"
    },
    "executionInfo": {
     "elapsed": 24547,
     "status": "ok",
     "timestamp": 1662572701503,
     "user": {
      "displayName": "connor makowski",
      "userId": "10315975988672690851"
     },
     "user_tz": 240
    },
    "id": "dtAZbhYzc4Tl"
   },
   "outputs": [
    {
     "name": "stdout",
     "output_type": "stream",
     "text": [
      "Note: you may need to restart the kernel to use updated packages.\n"
     ]
    }
   ],
   "source": [
    "pip install scx>=1.0.7"
   ]
  },
  {
   "attachments": {},
   "cell_type": "markdown",
   "metadata": {},
   "source": [
    "<h1>Blinky P4</h1>\n",
    "<p>A continuation of P3</p>\n",
    "<p>You are considering adding a distribution center (DC) to your network. The transportation cost from the Assembly plants to this new DC is (USD)0.04 (inbound) and from DC to regions is (USD)0.08 (outbound). Note that the DC cannot keep any inventory. <b></b></p>\n",
    "<p><b>Table 3: Distance in Miles - Assembly plants to DC</b></p>\n",
    "<table width=\"570\" height=\"137\" style=\"width: 26.3852%; height: 68px;\">\n",
    "<tbody>\n",
    "<tr style=\"height: 39px;\">\n",
    "<td width=\"20%\" style=\"text-align: center; border: 1px solid black; width: 66.4133%; height: 39px;\">Miles</td>\n",
    "<td width=\"10%\" style=\"text-align: center; border: 1px solid black; width: 33.0794%; height: 39px;\">DC</td>\n",
    "</tr>\n",
    "<tr style=\"height: 39px;\">\n",
    "<td width=\"15%\" style=\"text-align: center; border: 1px solid black; width: 66.4133%; height: 39px;\">Assembly Plant 1</td>\n",
    "<td width=\"10%\" style=\"text-align: center; border: 1px solid black; width: 33.0794%; height: 39px;\">190</td>\n",
    "</tr>\n",
    "<tr style=\"height: 39px;\">\n",
    "<td width=\"15%\" style=\"text-align: center; border: 1px solid black; width: 66.4133%; height: 39px;\">Assembly Plant 2</td>\n",
    "<td width=\"10%\" style=\"text-align: center; border: 1px solid black; width: 33.0794%; height: 39px;\">150</td>\n",
    "</tr>\n",
    "</tbody>\n",
    "</table>\n",
    "<p><b>Table 4: Distance in Miles - DC to Regions</b></p>\n",
    "<table width=\"1283\" height=\"79\" style=\"width: 36.2587%;\">\n",
    "<tbody>\n",
    "<tr>\n",
    "<td width=\"20%\" style=\"text-align: center; border: 1px solid black; width: 40.1816%;\">Miles</td>\n",
    "<td width=\"10%\" style=\"text-align: center; border: 1px solid black; width: 19.7069%;\">Region 1</td>\n",
    "<td width=\"10%\" style=\"text-align: center; border: 1px solid black; width: 19.7069%;\">Region 2</td>\n",
    "<td width=\"10%\" style=\"text-align: center; border: 1px solid black; width: 19.7069%;\">Region 3</td>\n",
    "</tr>\n",
    "<tr>\n",
    "<td width=\"20%\" style=\"text-align: center; border: 1px solid black; width: 40.1816%;\">DC</td>\n",
    "<td width=\"10%\" style=\"text-align: center; border: 1px solid black; width: 19.7069%;\">15</td>\n",
    "<td width=\"10%\" style=\"text-align: center; border: 1px solid black; width: 19.7069%;\">59</td>\n",
    "<td width=\"10%\" style=\"text-align: center; border: 1px solid black; width: 19.7069%;\">79</td>\n",
    "</tr>\n",
    "</tbody>\n",
    "</table>\n",
    "<p><strong></strong></p>\n",
    "<p><strong>Adjust your model considering the newly available information. Your goal is to minimize the total transportation cost.</strong></p>\n",
    "<a href=\"https://youtu.be/3Ihka255Kus\">Blinky P4 Video Walkthrough Link</a><br/>\n",
    "<iframe width=\"560\" height=\"315\"\n",
    "    src=\"//www.youtube.com/embed/3Ihka255Kus\" frameborder=\"0\" allowfullscreen>\n",
    "</iframe>"
   ]
  },
  {
   "cell_type": "code",
   "execution_count": 2,
   "metadata": {
    "execution": {
     "iopub.execute_input": "2022-12-19T18:50:05.073200Z",
     "iopub.status.busy": "2022-12-19T18:50:05.073013Z",
     "iopub.status.idle": "2022-12-19T18:50:05.086613Z",
     "shell.execute_reply": "2022-12-19T18:50:05.086076Z"
    },
    "executionInfo": {
     "elapsed": 9,
     "status": "ok",
     "timestamp": 1662572701503,
     "user": {
      "displayName": "connor makowski",
      "userId": "10315975988672690851"
     },
     "user_tz": 240
    },
    "id": "SFdM7adidA5O"
   },
   "outputs": [],
   "source": [
    "from scx.optimize import Model"
   ]
  },
  {
   "cell_type": "code",
   "execution_count": 3,
   "metadata": {
    "execution": {
     "iopub.execute_input": "2022-12-19T18:50:05.088238Z",
     "iopub.status.busy": "2022-12-19T18:50:05.088126Z",
     "iopub.status.idle": "2022-12-19T18:50:05.092427Z",
     "shell.execute_reply": "2022-12-19T18:50:05.091982Z"
    },
    "executionInfo": {
     "elapsed": 7,
     "status": "ok",
     "timestamp": 1662572701503,
     "user": {
      "displayName": "connor makowski",
      "userId": "10315975988672690851"
     },
     "user_tz": 240
    },
    "id": "rqwrp08wdCdT"
   },
   "outputs": [],
   "source": [
    "transport = [\n",
    "    {\n",
    "        'origin_name':'A1',\n",
    "        'destination_name':'DC1',\n",
    "        'distance': 190,\n",
    "        'cost_per_mile':0.04,\n",
    "    },\n",
    "    {\n",
    "        'origin_name':'A2',\n",
    "        'destination_name':'DC1',\n",
    "        'distance': 150,\n",
    "        'cost_per_mile':0.04,\n",
    "    },\n",
    "    {\n",
    "        'origin_name':'DC1',\n",
    "        'destination_name':'R1',\n",
    "        'distance': 15,\n",
    "        'cost_per_mile':0.08,\n",
    "    },\n",
    "    {\n",
    "        'origin_name':'DC1',\n",
    "        'destination_name':'R2',\n",
    "        'distance': 59,\n",
    "        'cost_per_mile':0.08,\n",
    "    },\n",
    "    {\n",
    "        'origin_name':'DC1',\n",
    "        'destination_name':'R3',\n",
    "        'distance': 79,\n",
    "        'cost_per_mile':0.08,\n",
    "    },\n",
    "]\n",
    "\n",
    "demand = [\n",
    "    {\n",
    "        'name':'R1', \n",
    "        'demand':2500\n",
    "    },\n",
    "    {\n",
    "        'name':'R2', \n",
    "        'demand':4350\n",
    "    },\n",
    "    {\n",
    "        'name':'R3', \n",
    "        'demand':3296\n",
    "    },\n",
    "]\n",
    "\n",
    "assembly = [\n",
    "    {\n",
    "        'name':'A1',\n",
    "        'limit':13000,\n",
    "    },\n",
    "    {\n",
    "        'name':'A2',\n",
    "        'limit':3500,\n",
    "    },\n",
    "]\n",
    "\n",
    "distribution_center = [\n",
    "    {\n",
    "        'name': 'DC1'\n",
    "    }\n",
    "]"
   ]
  },
  {
   "cell_type": "code",
   "execution_count": 4,
   "metadata": {
    "execution": {
     "iopub.execute_input": "2022-12-19T18:50:05.094193Z",
     "iopub.status.busy": "2022-12-19T18:50:05.094082Z",
     "iopub.status.idle": "2022-12-19T18:50:05.096534Z",
     "shell.execute_reply": "2022-12-19T18:50:05.096143Z"
    },
    "executionInfo": {
     "elapsed": 8,
     "status": "ok",
     "timestamp": 1662572701504,
     "user": {
      "displayName": "connor makowski",
      "userId": "10315975988672690851"
     },
     "user_tz": 240
    },
    "id": "t2p2iCc5eaZH"
   },
   "outputs": [],
   "source": [
    "for t in transport:\n",
    "    # Create decision variables for each item in transport\n",
    "    t['amt']=Model.variable(name=f\"{t['origin_name']}__{t['destination_name']}__amt\", lowBound=0)\n",
    "    # Calculate the variable cost of shipping for each item in tranport\n",
    "    t['cost']=t['distance']*t['cost_per_mile']"
   ]
  },
  {
   "cell_type": "code",
   "execution_count": 5,
   "metadata": {
    "execution": {
     "iopub.execute_input": "2022-12-19T18:50:05.098276Z",
     "iopub.status.busy": "2022-12-19T18:50:05.098169Z",
     "iopub.status.idle": "2022-12-19T18:50:05.107395Z",
     "shell.execute_reply": "2022-12-19T18:50:05.106863Z"
    },
    "executionInfo": {
     "elapsed": 7,
     "status": "ok",
     "timestamp": 1662572701504,
     "user": {
      "displayName": "connor makowski",
      "userId": "10315975988672690851"
     },
     "user_tz": 240
    },
    "id": "UyYaJ7YcetBD"
   },
   "outputs": [],
   "source": [
    "# Initialize the my_model\n",
    "my_model = Model(name=\"Blinky22\", sense='minimize')\n",
    "\n",
    "\n",
    "# Add the Objective Fn\n",
    "my_model.add_objective(\n",
    "    fn=Model.sum([t['amt']*t['cost'] for t in transport])\n",
    ")\n",
    "\n",
    "# Add Constraints\n",
    "## Demand Constraint\n",
    "for d in demand:\n",
    "    my_model.add_constraint(\n",
    "        name=f\"{d['name']}__demand\",\n",
    "        fn=Model.sum([t['amt'] for t in transport if t['destination_name']==d['name']]) >= d['demand']\n",
    "    )\n",
    "\n",
    "## Supply Constraint\n",
    "for a in assembly:\n",
    "    my_model.add_constraint(\n",
    "        name=f\"{a['name']}__assembly_supply\",\n",
    "        fn=Model.sum([t['amt'] for t in transport if t['origin_name']==a['name']]) <= a['limit']\n",
    "    )\n",
    "\n",
    "## Conservation of Flow Constraint\n",
    "for dc in distribution_center:\n",
    "    my_model.add_constraint(\n",
    "        name=f\"{dc['name']}__conservation_of_flow\",\n",
    "        # Set inbound flows for the DC equal to outbound flows\n",
    "        fn=Model.sum(\n",
    "            [t['amt'] for t in transport if t['destination_name']==dc['name']]\n",
    "        ) == Model.sum(\n",
    "            [t['amt'] for t in transport if t['origin_name']==dc['name']]\n",
    "        )\n",
    "    )\n",
    "\n",
    "# Solve the my_model\n",
    "my_model.solve()"
   ]
  },
  {
   "cell_type": "code",
   "execution_count": 6,
   "metadata": {
    "execution": {
     "iopub.execute_input": "2022-12-19T18:50:05.109828Z",
     "iopub.status.busy": "2022-12-19T18:50:05.109367Z",
     "iopub.status.idle": "2022-12-19T18:50:05.112686Z",
     "shell.execute_reply": "2022-12-19T18:50:05.112191Z"
    }
   },
   "outputs": [
    {
     "name": "stdout",
     "output_type": "stream",
     "text": [
      "Blinky22:\n",
      "MINIMIZE\n",
      "7.6000000000000005*A1__DC1__amt + 6.0*A2__DC1__amt + 1.2*DC1__R1__amt + 4.72*DC1__R2__amt + 6.32*DC1__R3__amt + 0.0\n",
      "SUBJECT TO\n",
      "R1__demand: DC1__R1__amt >= 2500\n",
      "\n",
      "R2__demand: DC1__R2__amt >= 4350\n",
      "\n",
      "R3__demand: DC1__R3__amt >= 3296\n",
      "\n",
      "A1__assembly_supply: A1__DC1__amt <= 13000\n",
      "\n",
      "A2__assembly_supply: A2__DC1__amt <= 3500\n",
      "\n",
      "DC1__conservation_of_flow: A1__DC1__amt + A2__DC1__amt - DC1__R1__amt\n",
      " - DC1__R2__amt - DC1__R3__amt = 0\n",
      "\n",
      "VARIABLES\n",
      "A1__DC1__amt Continuous\n",
      "A2__DC1__amt Continuous\n",
      "DC1__R1__amt Continuous\n",
      "DC1__R2__amt Continuous\n",
      "DC1__R3__amt Continuous\n",
      "\n"
     ]
    }
   ],
   "source": [
    "my_model.show_formulation()"
   ]
  },
  {
   "cell_type": "code",
   "execution_count": 7,
   "metadata": {
    "colab": {
     "base_uri": "https://localhost:8080/"
    },
    "execution": {
     "iopub.execute_input": "2022-12-19T18:50:05.114923Z",
     "iopub.status.busy": "2022-12-19T18:50:05.114533Z",
     "iopub.status.idle": "2022-12-19T18:50:05.117464Z",
     "shell.execute_reply": "2022-12-19T18:50:05.116976Z"
    },
    "executionInfo": {
     "elapsed": 5,
     "status": "ok",
     "timestamp": 1662047899209,
     "user": {
      "displayName": "connor makowski",
      "userId": "10315975988672690851"
     },
     "user_tz": 240
    },
    "id": "a5F_36LGgOpA",
    "outputId": "7b35d2cf-ac9b-4cd5-ffdf-2012e4b67ca2"
   },
   "outputs": [
    {
     "name": "stdout",
     "output_type": "stream",
     "text": [
      "{'objective': 115872.32,\n",
      " 'status': 'Optimal',\n",
      " 'variables': {'A1__DC1__amt': 6646.0,\n",
      "               'A2__DC1__amt': 3500.0,\n",
      "               'DC1__R1__amt': 2500.0,\n",
      "               'DC1__R2__amt': 4350.0,\n",
      "               'DC1__R3__amt': 3296.0}}\n"
     ]
    }
   ],
   "source": [
    "# Show the outputs\n",
    "my_model.show_outputs()"
   ]
  }
 ],
 "metadata": {
  "colab": {
   "authorship_tag": "ABX9TyOOgATniNSkX+1XrzNgJSIs",
   "collapsed_sections": [],
   "provenance": []
  },
  "kernelspec": {
   "display_name": "Python 3 (ipykernel)",
   "language": "python",
   "name": "python3"
  },
  "language_info": {
   "codemirror_mode": {
    "name": "ipython",
    "version": 3
   },
   "file_extension": ".py",
   "mimetype": "text/x-python",
   "name": "python",
   "nbconvert_exporter": "python",
   "pygments_lexer": "ipython3",
   "version": "3.10.9"
  }
 },
 "nbformat": 4,
 "nbformat_minor": 1
}
