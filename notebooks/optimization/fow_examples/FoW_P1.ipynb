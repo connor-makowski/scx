{
 "cells": [
  {
   "cell_type": "code",
   "execution_count": 1,
   "metadata": {
    "execution": {
     "iopub.execute_input": "2024-07-26T20:12:42.050017Z",
     "iopub.status.busy": "2024-07-26T20:12:42.049912Z",
     "iopub.status.idle": "2024-07-26T20:12:43.073073Z",
     "shell.execute_reply": "2024-07-26T20:12:43.072307Z"
    },
    "executionInfo": {
     "elapsed": 4835,
     "status": "ok",
     "timestamp": 1688403145002,
     "user": {
      "displayName": "connor makowski",
      "userId": "10315975988672690851"
     },
     "user_tz": 240
    },
    "id": "dtAZbhYzc4Tl"
   },
   "outputs": [
    {
     "name": "stdout",
     "output_type": "stream",
     "text": [
      "Note: you may need to restart the kernel to use updated packages."
     ]
    },
    {
     "name": "stdout",
     "output_type": "stream",
     "text": [
      "\n"
     ]
    }
   ],
   "source": [
    "pip install scx>=1.2.1 #Note: This may throw an Error in Google Colab since Colab uses an outdated duckdb package. This file should still work in Colab without issues."
   ]
  },
  {
   "attachments": {},
   "cell_type": "markdown",
   "metadata": {},
   "source": [
    "<p class=\"MsoNormal\">Food-On-Wheels is a food delivery company operating in Alabama. They sell standard boxes containing eight full healthy meals. Boxes are prepared in two kitchens and delivered by bike to five city areas. <o:p></o:p></p>\n",
    "<p><b>Table 1: Demand in boxes</b></p>\n",
    "<table width=\"617\" height=\"203\" style=\"width: 30%;\">\n",
    "<tbody>\n",
    "<tr>\n",
    "<td width=\"10%\" style=\"text-align: center; border: 1px solid black;\"></td>\n",
    "<td width=\"30%\" style=\"text-align: center; border: 1px solid black;\">Demand (in boxes per day)</td>\n",
    "</tr>\n",
    "<tr>\n",
    "<td width=\"10%\" style=\"text-align: center; border: 1px solid black;\">Area 1</td>\n",
    "<td width=\"30%\" style=\"text-align: center; border: 1px solid black;\">101</td>\n",
    "</tr>\n",
    "<tr>\n",
    "<td width=\"10%\" style=\"text-align: center; border: 1px solid black;\">Area 2</td>\n",
    "<td width=\"30%\" style=\"text-align: center; border: 1px solid black;\">61</td>\n",
    "</tr>\n",
    "<tr>\n",
    "<td width=\"10%\" style=\"text-align: center; border: 1px solid black;\">Area 3</td>\n",
    "<td width=\"30%\" style=\"text-align: center; border: 1px solid black;\">101</td>\n",
    "</tr>\n",
    "<tr>\n",
    "<td width=\"10%\" style=\"text-align: center; border: 1px solid black;\">Area 4</td>\n",
    "<td width=\"30%\" style=\"text-align: center; border: 1px solid black;\">87</td>\n",
    "</tr>\n",
    "<tr>\n",
    "<td width=\"10%\" style=\"text-align: center; border: 1px solid black;\">Area 5</td>\n",
    "<td width=\"30%\" style=\"text-align: center; border: 1px solid black;\">50</td>\n",
    "</tr>\n",
    "</tbody>\n",
    "</table>\n",
    "<p class=\"MsoNormal\"></p>\n",
    "<p class=\"MsoNormal\">Each kitchen has a limited daily capacity to prepare boxes. Kitchen 1 can prepare 250 boxes a day, and Kitchen 2 can prepare 350 boxes per day.<o:p></o:p></p>\n",
    "<p></p>\n",
    "<p class=\"MsoNormal\">Boxes are bulky, therefore a bike can only deliver one box at a time. There are many bikers in the city that work for Food-On-Wheels on call, so availability of bikes to do the deliveries can be considered unlimited. <o:p></o:p></p>\n",
    "<p><b>Table 2: Delivery time from kitchen to city area (in minutes)</b></p>\n",
    "<table width=\"447\" height=\"201\" style=\"width: 40%;\">\n",
    "<tbody>\n",
    "<tr>\n",
    "<td width=\"10%\" style=\"text-align: center; border: 1px solid black;\"></td>\n",
    "<td width=\"10%\" style=\"text-align: center; border: 1px solid black;\">Kitchen 1</td>\n",
    "<td width=\"10%\" style=\"text-align: center; border: 1px solid black;\">Kitchen 2</td>\n",
    "</tr>\n",
    "<tr>\n",
    "<td width=\"10%\" style=\"text-align: center; border: 1px solid black;\">Area 1</td>\n",
    "<td width=\"10%\" style=\"text-align: center; border: 1px solid black;\">17</td>\n",
    "<td width=\"10%\" style=\"text-align: center; border: 1px solid black;\">7</td>\n",
    "</tr>\n",
    "<tr>\n",
    "<td width=\"10%\" style=\"text-align: center; border: 1px solid black;\">Area 2</td>\n",
    "<td width=\"10%\" style=\"text-align: center; border: 1px solid black;\">5</td>\n",
    "<td width=\"10%\" style=\"text-align: center; border: 1px solid black;\">8</td>\n",
    "</tr>\n",
    "<tr>\n",
    "<td width=\"10%\" style=\"text-align: center; border: 1px solid black;\">Area 3</td>\n",
    "<td width=\"10%\" style=\"text-align: center; border: 1px solid black;\">16</td>\n",
    "<td width=\"10%\" style=\"text-align: center; border: 1px solid black;\">19</td>\n",
    "</tr>\n",
    "<tr>\n",
    "<td width=\"10%\" style=\"text-align: center; border: 1px solid black;\">Area 4</td>\n",
    "<td width=\"10%\" style=\"text-align: center; border: 1px solid black;\">16</td>\n",
    "<td width=\"10%\" style=\"text-align: center; border: 1px solid black;\">5</td>\n",
    "</tr>\n",
    "<tr>\n",
    "<td width=\"10%\" style=\"text-align: center; border: 1px solid black;\">Area 5</td>\n",
    "<td width=\"10%\" style=\"text-align: center; border: 1px solid black;\">12</td>\n",
    "<td width=\"10%\" style=\"text-align: center; border: 1px solid black;\">15</td>\n",
    "</tr>\n",
    "</tbody>\n",
    "</table>\n",
    "<p></p>\n",
    "<p>Minimizing delivery time is of utmost importance to keep customers happy. Food-On-Wheels has hired you to help them optimize their last-mile logistics. <strong> Your first task is to create a model that helps them decide which area to serve from which kitchen to minimize total delivery time.</strong></p>\n",
    "<a href=\"https://youtu.be/ah0zjr2YPfM\">FOW P1 Video Walkthrough Link</a><br/>\n",
    "<iframe width=\"560\" height=\"315\"\n",
    "    src=\"https://www.youtube.com/embed/ah0zjr2YPfM\" frameborder=\"0\" allowfullscreen>\n",
    "</iframe>"
   ]
  },
  {
   "cell_type": "code",
   "execution_count": 2,
   "metadata": {
    "execution": {
     "iopub.execute_input": "2024-07-26T20:12:43.125627Z",
     "iopub.status.busy": "2024-07-26T20:12:43.125388Z",
     "iopub.status.idle": "2024-07-26T20:12:43.148105Z",
     "shell.execute_reply": "2024-07-26T20:12:43.147481Z"
    },
    "executionInfo": {
     "elapsed": 97,
     "status": "ok",
     "timestamp": 1688403176185,
     "user": {
      "displayName": "connor makowski",
      "userId": "10315975988672690851"
     },
     "user_tz": 240
    },
    "id": "SFdM7adidA5O"
   },
   "outputs": [],
   "source": [
    "from scx.optimize import Model"
   ]
  },
  {
   "cell_type": "code",
   "execution_count": 3,
   "metadata": {
    "execution": {
     "iopub.execute_input": "2024-07-26T20:12:43.150484Z",
     "iopub.status.busy": "2024-07-26T20:12:43.150061Z",
     "iopub.status.idle": "2024-07-26T20:12:43.155982Z",
     "shell.execute_reply": "2024-07-26T20:12:43.155389Z"
    },
    "executionInfo": {
     "elapsed": 127,
     "status": "ok",
     "timestamp": 1688403408392,
     "user": {
      "displayName": "connor makowski",
      "userId": "10315975988672690851"
     },
     "user_tz": 240
    },
    "id": "rqwrp08wdCdT"
   },
   "outputs": [],
   "source": [
    "transport = [\n",
    "    {\n",
    "        'origin_name':'K1',\n",
    "        'destination_name':'A1',\n",
    "        'time': 17,\n",
    "    },\n",
    "    {\n",
    "        'origin_name':'K1',\n",
    "        'destination_name':'A2',\n",
    "        'time': 5,\n",
    "    },\n",
    "    {\n",
    "        'origin_name':'K1',\n",
    "        'destination_name':'A3',\n",
    "        'time': 16,\n",
    "    },\n",
    "    {\n",
    "        'origin_name':'K1',\n",
    "        'destination_name':'A4',\n",
    "        'time': 16,\n",
    "    },\n",
    "    {\n",
    "        'origin_name':'K1',\n",
    "        'destination_name':'A5',\n",
    "        'time': 12,\n",
    "    },\n",
    "    {\n",
    "        'origin_name':'K2',\n",
    "        'destination_name':'A1',\n",
    "        'time': 7,\n",
    "    },\n",
    "    {\n",
    "        'origin_name':'K2',\n",
    "        'destination_name':'A2',\n",
    "        'time': 8,\n",
    "    },\n",
    "    {\n",
    "        'origin_name':'K2',\n",
    "        'destination_name':'A3',\n",
    "        'time': 19,\n",
    "    },\n",
    "    {\n",
    "        'origin_name':'K2',\n",
    "        'destination_name':'A4',\n",
    "        'time': 5,\n",
    "    },\n",
    "    {\n",
    "        'origin_name':'K2',\n",
    "        'destination_name':'A5',\n",
    "        'time': 15,\n",
    "    },\n",
    "]\n",
    "\n",
    "kitchens = [\n",
    "    {\n",
    "        'name': 'K1',\n",
    "        'limit': 250\n",
    "    },\n",
    "    {\n",
    "        'name': 'K2',\n",
    "        'limit': 350\n",
    "    },\n",
    "]\n",
    "\n",
    "demand = [\n",
    "    {\n",
    "        'name':'A1',\n",
    "        'demand':101\n",
    "    },\n",
    "    {\n",
    "        'name':'A2',\n",
    "        'demand':61\n",
    "    },\n",
    "    {\n",
    "        'name':'A3',\n",
    "        'demand':101\n",
    "    },\n",
    "    {\n",
    "        'name':'A4',\n",
    "        'demand':87\n",
    "    },\n",
    "    {\n",
    "        'name':'A5',\n",
    "        'demand':50\n",
    "    },\n",
    "]"
   ]
  },
  {
   "cell_type": "code",
   "execution_count": 4,
   "metadata": {
    "execution": {
     "iopub.execute_input": "2024-07-26T20:12:43.158372Z",
     "iopub.status.busy": "2024-07-26T20:12:43.157977Z",
     "iopub.status.idle": "2024-07-26T20:12:43.161372Z",
     "shell.execute_reply": "2024-07-26T20:12:43.160796Z"
    },
    "executionInfo": {
     "elapsed": 98,
     "status": "ok",
     "timestamp": 1688403508802,
     "user": {
      "displayName": "connor makowski",
      "userId": "10315975988672690851"
     },
     "user_tz": 240
    },
    "id": "t2p2iCc5eaZH"
   },
   "outputs": [],
   "source": [
    "for t in transport:\n",
    "    # Create decision variables for each item in transport\n",
    "    t['amt']=Model.variable(name=f\"{t['origin_name']}__{t['destination_name']}__amt\", lowBound=0)"
   ]
  },
  {
   "cell_type": "code",
   "execution_count": 5,
   "metadata": {
    "execution": {
     "iopub.execute_input": "2024-07-26T20:12:43.163658Z",
     "iopub.status.busy": "2024-07-26T20:12:43.163448Z",
     "iopub.status.idle": "2024-07-26T20:12:43.173724Z",
     "shell.execute_reply": "2024-07-26T20:12:43.173116Z"
    },
    "executionInfo": {
     "elapsed": 98,
     "status": "ok",
     "timestamp": 1688403976582,
     "user": {
      "displayName": "connor makowski",
      "userId": "10315975988672690851"
     },
     "user_tz": 240
    },
    "id": "UyYaJ7YcetBD"
   },
   "outputs": [],
   "source": [
    "# Initialize the model\n",
    "my_model = Model(name=\"FoW\", sense='minimize')\n",
    "\n",
    "\n",
    "# Add the Objective Fn\n",
    "my_model.add_objective(\n",
    "    fn=Model.sum([t['amt']*t['time'] for t in transport])\n",
    ")\n",
    "\n",
    "# Add Constraints\n",
    "## Demand Constraint\n",
    "for d in demand:\n",
    "    my_model.add_constraint(\n",
    "        name=f\"{d['name']}__demand\",\n",
    "        fn=Model.sum([t['amt'] for t in transport if t['destination_name']==d['name']]) >= d['demand']\n",
    "    )\n",
    "\n",
    "## Kitchen Capacity Constraint\n",
    "for k in kitchens:\n",
    "    my_model.add_constraint(\n",
    "        name=f\"{k['name']}__kitchen_capacity\",\n",
    "        fn=Model.sum([t['amt'] for t in transport if t['origin_name']==k['name']]) <= k['limit']\n",
    "    )\n",
    "\n",
    "# Solve the model\n",
    "my_model.solve()"
   ]
  },
  {
   "cell_type": "code",
   "execution_count": 6,
   "metadata": {
    "colab": {
     "base_uri": "https://localhost:8080/"
    },
    "execution": {
     "iopub.execute_input": "2024-07-26T20:12:43.175961Z",
     "iopub.status.busy": "2024-07-26T20:12:43.175768Z",
     "iopub.status.idle": "2024-07-26T20:12:43.179034Z",
     "shell.execute_reply": "2024-07-26T20:12:43.178536Z"
    },
    "executionInfo": {
     "elapsed": 180,
     "status": "ok",
     "timestamp": 1688403990152,
     "user": {
      "displayName": "connor makowski",
      "userId": "10315975988672690851"
     },
     "user_tz": 240
    },
    "id": "eYyjYe14AAWA",
    "outputId": "fd02539a-5163-4904-abcf-3f5988310606"
   },
   "outputs": [
    {
     "name": "stdout",
     "output_type": "stream",
     "text": [
      "FoW:\n",
      "MINIMIZE\n",
      "17*K1__A1__amt + 5*K1__A2__amt + 16*K1__A3__amt + 16*K1__A4__amt + 12*K1__A5__amt + 7*K2__A1__amt + 8*K2__A2__amt + 19*K2__A3__amt + 5*K2__A4__amt + 15*K2__A5__amt + 0\n",
      "SUBJECT TO\n",
      "A1__demand: K1__A1__amt + K2__A1__amt >= 101\n",
      "\n",
      "A2__demand: K1__A2__amt + K2__A2__amt >= 61\n",
      "\n",
      "A3__demand: K1__A3__amt + K2__A3__amt >= 101\n",
      "\n",
      "A4__demand: K1__A4__amt + K2__A4__amt >= 87\n",
      "\n",
      "A5__demand: K1__A5__amt + K2__A5__amt >= 50\n",
      "\n",
      "K1__kitchen_capacity: K1__A1__amt + K1__A2__amt + K1__A3__amt + K1__A4__amt\n",
      " + K1__A5__amt <= 250\n",
      "\n",
      "K2__kitchen_capacity: K2__A1__amt + K2__A2__amt + K2__A3__amt + K2__A4__amt\n",
      " + K2__A5__amt <= 350\n",
      "\n",
      "VARIABLES\n",
      "K1__A1__amt Continuous\n",
      "K1__A2__amt Continuous\n",
      "K1__A3__amt Continuous\n",
      "K1__A4__amt Continuous\n",
      "K1__A5__amt Continuous\n",
      "K2__A1__amt Continuous\n",
      "K2__A2__amt Continuous\n",
      "K2__A3__amt Continuous\n",
      "K2__A4__amt Continuous\n",
      "K2__A5__amt Continuous\n",
      "\n"
     ]
    }
   ],
   "source": [
    "my_model.show_formulation()"
   ]
  },
  {
   "cell_type": "code",
   "execution_count": 7,
   "metadata": {
    "colab": {
     "base_uri": "https://localhost:8080/"
    },
    "execution": {
     "iopub.execute_input": "2024-07-26T20:12:43.181370Z",
     "iopub.status.busy": "2024-07-26T20:12:43.180988Z",
     "iopub.status.idle": "2024-07-26T20:12:43.184354Z",
     "shell.execute_reply": "2024-07-26T20:12:43.183852Z"
    },
    "executionInfo": {
     "elapsed": 151,
     "status": "ok",
     "timestamp": 1688404058594,
     "user": {
      "displayName": "connor makowski",
      "userId": "10315975988672690851"
     },
     "user_tz": 240
    },
    "id": "a5F_36LGgOpA",
    "outputId": "3ce39c6b-42c1-4ad8-a21b-ae20dd98c668"
   },
   "outputs": [
    {
     "name": "stdout",
     "output_type": "stream",
     "text": [
      "{'objective': 3663.0,\n",
      " 'status': 'Optimal',\n",
      " 'variables': {'K1__A1__amt': 0.0,\n",
      "               'K1__A2__amt': 61.0,\n",
      "               'K1__A3__amt': 101.0,\n",
      "               'K1__A4__amt': 0.0,\n",
      "               'K1__A5__amt': 50.0,\n",
      "               'K2__A1__amt': 101.0,\n",
      "               'K2__A2__amt': 0.0,\n",
      "               'K2__A3__amt': 0.0,\n",
      "               'K2__A4__amt': 87.0,\n",
      "               'K2__A5__amt': 0.0}}\n"
     ]
    }
   ],
   "source": [
    "# Show the outputs\n",
    "my_model.show_outputs()"
   ]
  }
 ],
 "metadata": {
  "colab": {
   "provenance": [
    {
     "file_id": "1pueb2EbtYVRALrnIYG8tjSKwUW-35H5h",
     "timestamp": 1688135558263
    },
    {
     "file_id": "https://github.com/connor-makowski/python_for_scx/blob/main/notebooks/optimization/Q1.ipynb",
     "timestamp": 1667855346547
    }
   ]
  },
  "kernelspec": {
   "display_name": "Python 3 (ipykernel)",
   "language": "python",
   "name": "python3"
  },
  "language_info": {
   "codemirror_mode": {
    "name": "ipython",
    "version": 3
   },
   "file_extension": ".py",
   "mimetype": "text/x-python",
   "name": "python",
   "nbconvert_exporter": "python",
   "pygments_lexer": "ipython3",
   "version": "3.12.3"
  }
 },
 "nbformat": 4,
 "nbformat_minor": 0
}
