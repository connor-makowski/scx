{
 "cells": [
  {
   "cell_type": "code",
   "execution_count": 1,
   "metadata": {
    "execution": {
     "iopub.execute_input": "2025-06-06T17:08:10.626166Z",
     "iopub.status.busy": "2025-06-06T17:08:10.626028Z",
     "iopub.status.idle": "2025-06-06T17:08:11.231609Z",
     "shell.execute_reply": "2025-06-06T17:08:11.231008Z"
    },
    "executionInfo": {
     "elapsed": 26106,
     "status": "ok",
     "timestamp": 1662053389785,
     "user": {
      "displayName": "connor makowski",
      "userId": "10315975988672690851"
     },
     "user_tz": 240
    },
    "id": "dtAZbhYzc4Tl"
   },
   "outputs": [
    {
     "name": "stdout",
     "output_type": "stream",
     "text": [
      "\u001b[33mWARNING: Running pip as the 'root' user can result in broken permissions and conflicting behaviour with the system package manager, possibly rendering your system unusable. It is recommended to use a virtual environment instead: https://pip.pypa.io/warnings/venv. Use the --root-user-action option if you know what you are doing and want to suppress this warning.\u001b[0m\u001b[33m\r\n",
      "\u001b[0m"
     ]
    },
    {
     "name": "stdout",
     "output_type": "stream",
     "text": [
      "Note: you may need to restart the kernel to use updated packages.\n"
     ]
    }
   ],
   "source": [
    "pip install scx>=1.2.1 #Note: This may throw an Error in Google Colab since Colab uses an outdated duckdb package. This file should still work in Colab without issues."
   ]
  },
  {
   "cell_type": "markdown",
   "metadata": {},
   "source": [
    "<p><strong>Formulate a sudoku solver that has a value of 7 in row 1 column 1 and a value of 6 in row 1 column 2.</strong></p>"
   ]
  },
  {
   "cell_type": "code",
   "execution_count": 2,
   "metadata": {
    "execution": {
     "iopub.execute_input": "2025-06-06T17:08:11.233231Z",
     "iopub.status.busy": "2025-06-06T17:08:11.233041Z",
     "iopub.status.idle": "2025-06-06T17:08:11.249598Z",
     "shell.execute_reply": "2025-06-06T17:08:11.249217Z"
    },
    "executionInfo": {
     "elapsed": 12,
     "status": "ok",
     "timestamp": 1662053389786,
     "user": {
      "displayName": "connor makowski",
      "userId": "10315975988672690851"
     },
     "user_tz": 240
    },
    "id": "SFdM7adidA5O"
   },
   "outputs": [],
   "source": [
    "from scx.optimize import Model"
   ]
  },
  {
   "cell_type": "code",
   "execution_count": 3,
   "metadata": {
    "execution": {
     "iopub.execute_input": "2025-06-06T17:08:11.251048Z",
     "iopub.status.busy": "2025-06-06T17:08:11.250904Z",
     "iopub.status.idle": "2025-06-06T17:08:11.258791Z",
     "shell.execute_reply": "2025-06-06T17:08:11.258424Z"
    },
    "executionInfo": {
     "elapsed": 130,
     "status": "ok",
     "timestamp": 1662053958411,
     "user": {
      "displayName": "connor makowski",
      "userId": "10315975988672690851"
     },
     "user_tz": 240
    },
    "id": "rqwrp08wdCdT"
   },
   "outputs": [],
   "source": [
    "# Create variables\n",
    "data = [{\n",
    "        'row':row+1,\n",
    "        'col':col+1,\n",
    "        'box':(row//3)*3+(col//3)+1,\n",
    "        'value':value+1,\n",
    "        'use':Model.variable(name=f\"sq_{row+1}_{col+1}_{value+1}\", cat=\"Binary\")\n",
    "    } for row in range(9) for col in range(9) for value in range(9)]\n",
    "\n",
    "constraints=[\n",
    "    {'row':1, 'col':1, 'value':7},\n",
    "    {'row':1, 'col':2, 'value':6},\n",
    "]"
   ]
  },
  {
   "cell_type": "code",
   "execution_count": 4,
   "metadata": {
    "execution": {
     "iopub.execute_input": "2025-06-06T17:08:11.259960Z",
     "iopub.status.busy": "2025-06-06T17:08:11.259829Z",
     "iopub.status.idle": "2025-06-06T17:08:11.328329Z",
     "shell.execute_reply": "2025-06-06T17:08:11.327867Z"
    },
    "executionInfo": {
     "elapsed": 257,
     "status": "ok",
     "timestamp": 1662053961504,
     "user": {
      "displayName": "connor makowski",
      "userId": "10315975988672690851"
     },
     "user_tz": 240
    },
    "id": "bMLVtmKs2vu2"
   },
   "outputs": [],
   "source": [
    "# Initialize the my_model\n",
    "my_model = Model(name=\"Sudoku\", sense=None)\n",
    "\n",
    "\n",
    "# Add the Objective Fn\n",
    "## No is objective needed. We just need to solve for the constraints.\n",
    "\n",
    "# Add Constraints\n",
    "\n",
    "## Ensure that each square gets assigned exactly one value\n",
    "for row_i in range(1,10):\n",
    "    for col_j in range(1,10):\n",
    "        my_model.add_constraint(\n",
    "            Model.sum([d['use'] for d in data if d['row']==row_i and d['col']==col_j])==1\n",
    "        )\n",
    "\n",
    "## Add in constraints such that each row, col and box will only have a value once\n",
    "for key_name in ['row','col','box']:\n",
    "    for key_value in range(1,10):\n",
    "        for data_value in range(1,10):\n",
    "            my_model.add_constraint(\n",
    "                Model.sum([d['use'] for d in data if d[key_name]==key_value and d['value']==data_value])==1\n",
    "            )\n",
    "\n",
    "# Add in constraints such that each square must match the provided inputs\n",
    "for j in constraints:\n",
    "    my_model.add_constraint(\n",
    "        Model.sum([d['use'] for d in data if d['row']==j['row'] and d['col']==j['col'] and d['value']==j['value']])==1\n",
    "    )\n",
    "\n",
    "\n",
    "# Solve the my_model\n",
    "my_model.solve()"
   ]
  },
  {
   "cell_type": "code",
   "execution_count": 5,
   "metadata": {
    "colab": {
     "base_uri": "https://localhost:8080/"
    },
    "execution": {
     "iopub.execute_input": "2025-06-06T17:08:11.329861Z",
     "iopub.status.busy": "2025-06-06T17:08:11.329694Z",
     "iopub.status.idle": "2025-06-06T17:08:11.333436Z",
     "shell.execute_reply": "2025-06-06T17:08:11.333073Z"
    },
    "executionInfo": {
     "elapsed": 144,
     "status": "ok",
     "timestamp": 1662053964014,
     "user": {
      "displayName": "connor makowski",
      "userId": "10315975988672690851"
     },
     "user_tz": 240
    },
    "id": "jPO7N7u-GSNf",
    "outputId": "2afa0617-567e-480e-bd8e-6647044f2780"
   },
   "outputs": [
    {
     "name": "stdout",
     "output_type": "stream",
     "text": [
      "[[7, 6, 9, 1, 5, 3, 4, 2, 8],\n",
      " [2, 3, 5, 9, 4, 8, 7, 6, 1],\n",
      " [1, 4, 8, 6, 2, 7, 5, 9, 3],\n",
      " [3, 8, 6, 5, 1, 4, 2, 7, 9],\n",
      " [9, 7, 2, 3, 8, 6, 1, 5, 4],\n",
      " [5, 1, 4, 2, 7, 9, 3, 8, 6],\n",
      " [4, 2, 1, 8, 9, 5, 6, 3, 7],\n",
      " [6, 9, 7, 4, 3, 2, 8, 1, 5],\n",
      " [8, 5, 3, 7, 6, 1, 9, 4, 2]]\n"
     ]
    }
   ],
   "source": [
    "matrix = [[0 for row in range(9)] for col in range(9)]\n",
    "used = [i for i in data if (i['use'].value())==1]\n",
    "for item in used:\n",
    "  matrix[item['row']-1][item['col']-1]=item['value']\n",
    "\n",
    "from pprint import pprint\n",
    "pprint(matrix)"
   ]
  }
 ],
 "metadata": {
  "colab": {
   "authorship_tag": "ABX9TyO4HPMOSGIs/YPyNnw6x+l0",
   "collapsed_sections": [],
   "provenance": []
  },
  "kernelspec": {
   "display_name": "Python 3 (ipykernel)",
   "language": "python",
   "name": "python3"
  },
  "language_info": {
   "codemirror_mode": {
    "name": "ipython",
    "version": 3
   },
   "file_extension": ".py",
   "mimetype": "text/x-python",
   "name": "python",
   "nbconvert_exporter": "python",
   "pygments_lexer": "ipython3",
   "version": "3.13.4"
  }
 },
 "nbformat": 4,
 "nbformat_minor": 1
}
