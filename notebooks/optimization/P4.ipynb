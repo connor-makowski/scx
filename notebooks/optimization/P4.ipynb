{
 "cells": [
  {
   "cell_type": "code",
   "execution_count": 1,
   "metadata": {
    "execution": {
     "iopub.execute_input": "2022-12-02T16:37:25.011959Z",
     "iopub.status.busy": "2022-12-02T16:37:25.011456Z",
     "iopub.status.idle": "2022-12-02T16:37:25.803971Z",
     "shell.execute_reply": "2022-12-02T16:37:25.803168Z"
    },
    "executionInfo": {
     "elapsed": 24547,
     "status": "ok",
     "timestamp": 1662572701503,
     "user": {
      "displayName": "connor makowski",
      "userId": "10315975988672690851"
     },
     "user_tz": 240
    },
    "id": "dtAZbhYzc4Tl"
   },
   "outputs": [
    {
     "name": "stdout",
     "output_type": "stream",
     "text": [
      "Note: you may need to restart the kernel to use updated packages.\n"
     ]
    }
   ],
   "source": [
    "pip install scx>=1.0.7"
   ]
  },
  {
   "cell_type": "code",
   "execution_count": 2,
   "metadata": {
    "execution": {
     "iopub.execute_input": "2022-12-02T16:37:25.832233Z",
     "iopub.status.busy": "2022-12-02T16:37:25.832000Z",
     "iopub.status.idle": "2022-12-02T16:37:25.846682Z",
     "shell.execute_reply": "2022-12-02T16:37:25.846122Z"
    },
    "executionInfo": {
     "elapsed": 9,
     "status": "ok",
     "timestamp": 1662572701503,
     "user": {
      "displayName": "connor makowski",
      "userId": "10315975988672690851"
     },
     "user_tz": 240
    },
    "id": "SFdM7adidA5O"
   },
   "outputs": [],
   "source": [
    "from scx.optimize import Model"
   ]
  },
  {
   "cell_type": "code",
   "execution_count": 3,
   "metadata": {
    "execution": {
     "iopub.execute_input": "2022-12-02T16:37:25.848323Z",
     "iopub.status.busy": "2022-12-02T16:37:25.848209Z",
     "iopub.status.idle": "2022-12-02T16:37:25.852474Z",
     "shell.execute_reply": "2022-12-02T16:37:25.852013Z"
    },
    "executionInfo": {
     "elapsed": 7,
     "status": "ok",
     "timestamp": 1662572701503,
     "user": {
      "displayName": "connor makowski",
      "userId": "10315975988672690851"
     },
     "user_tz": 240
    },
    "id": "rqwrp08wdCdT"
   },
   "outputs": [],
   "source": [
    "transport = [\n",
    "    {\n",
    "        'origin_name':'A1',\n",
    "        'destination_name':'DC1',\n",
    "        'distance': 190,\n",
    "        'cost_per_mile':0.04,\n",
    "    },\n",
    "    {\n",
    "        'origin_name':'A2',\n",
    "        'destination_name':'DC1',\n",
    "        'distance': 150,\n",
    "        'cost_per_mile':0.04,\n",
    "    },\n",
    "    {\n",
    "        'origin_name':'DC1',\n",
    "        'destination_name':'R1',\n",
    "        'distance': 15,\n",
    "        'cost_per_mile':0.08,\n",
    "    },\n",
    "    {\n",
    "        'origin_name':'DC1',\n",
    "        'destination_name':'R2',\n",
    "        'distance': 59,\n",
    "        'cost_per_mile':0.08,\n",
    "    },\n",
    "    {\n",
    "        'origin_name':'DC1',\n",
    "        'destination_name':'R3',\n",
    "        'distance': 79,\n",
    "        'cost_per_mile':0.08,\n",
    "    },\n",
    "]\n",
    "\n",
    "demand = [\n",
    "    {\n",
    "        'name':'R1', \n",
    "        'demand':2500\n",
    "    },\n",
    "    {\n",
    "        'name':'R2', \n",
    "        'demand':4350\n",
    "    },\n",
    "    {\n",
    "        'name':'R3', \n",
    "        'demand':3296\n",
    "    },\n",
    "]\n",
    "\n",
    "assembly = [\n",
    "    {\n",
    "        'name':'A1',\n",
    "        'limit':13000,\n",
    "    },\n",
    "    {\n",
    "        'name':'A2',\n",
    "        'limit':3500,\n",
    "    },\n",
    "]\n",
    "\n",
    "distribution_center = [\n",
    "    {\n",
    "        'name': 'DC1'\n",
    "    }\n",
    "]"
   ]
  },
  {
   "cell_type": "code",
   "execution_count": 4,
   "metadata": {
    "execution": {
     "iopub.execute_input": "2022-12-02T16:37:25.854478Z",
     "iopub.status.busy": "2022-12-02T16:37:25.854342Z",
     "iopub.status.idle": "2022-12-02T16:37:25.857103Z",
     "shell.execute_reply": "2022-12-02T16:37:25.856688Z"
    },
    "executionInfo": {
     "elapsed": 8,
     "status": "ok",
     "timestamp": 1662572701504,
     "user": {
      "displayName": "connor makowski",
      "userId": "10315975988672690851"
     },
     "user_tz": 240
    },
    "id": "t2p2iCc5eaZH"
   },
   "outputs": [],
   "source": [
    "for t in transport:\n",
    "    # Create decision variables for each item in transport\n",
    "    t['amt']=Model.variable(name=f\"{t['origin_name']}__{t['destination_name']}__amt\", lowBound=0)\n",
    "    # Calculate the variable cost of shipping for each item in tranport\n",
    "    t['cost']=t['distance']*t['cost_per_mile']"
   ]
  },
  {
   "cell_type": "code",
   "execution_count": 5,
   "metadata": {
    "execution": {
     "iopub.execute_input": "2022-12-02T16:37:25.858874Z",
     "iopub.status.busy": "2022-12-02T16:37:25.858766Z",
     "iopub.status.idle": "2022-12-02T16:37:25.868784Z",
     "shell.execute_reply": "2022-12-02T16:37:25.868296Z"
    },
    "executionInfo": {
     "elapsed": 7,
     "status": "ok",
     "timestamp": 1662572701504,
     "user": {
      "displayName": "connor makowski",
      "userId": "10315975988672690851"
     },
     "user_tz": 240
    },
    "id": "UyYaJ7YcetBD"
   },
   "outputs": [],
   "source": [
    "# Initialize the my_model\n",
    "my_model = Model(name=\"Blinky22\", sense='minimize')\n",
    "\n",
    "\n",
    "# Add the Objective Fn\n",
    "my_model.add_objective(\n",
    "    fn=Model.sum([t['amt']*t['cost'] for t in transport])\n",
    ")\n",
    "\n",
    "# Add Constraints\n",
    "## Demand Constraint\n",
    "for d in demand:\n",
    "    my_model.add_constraint(\n",
    "        name=f\"{d['name']}__demand\",\n",
    "        fn=Model.sum([t['amt'] for t in transport if t['destination_name']==d['name']]) >= d['demand']\n",
    "    )\n",
    "\n",
    "## Supply Constraint\n",
    "for a in assembly:\n",
    "    my_model.add_constraint(\n",
    "        name=f\"{a['name']}__assembly_supply\",\n",
    "        fn=Model.sum([t['amt'] for t in transport if t['origin_name']==a['name']]) <= a['limit']\n",
    "    )\n",
    "\n",
    "## Conservation of Flow Constraint\n",
    "for dc in distribution_center:\n",
    "    my_model.add_constraint(\n",
    "        name=f\"{dc['name']}__conservation_of_flow\",\n",
    "        # Set inbound flows for the DC equal to outbound flows\n",
    "        fn=Model.sum(\n",
    "            [t['amt'] for t in transport if t['destination_name']==dc['name']]\n",
    "        ) == Model.sum(\n",
    "            [t['amt'] for t in transport if t['origin_name']==dc['name']]\n",
    "        )\n",
    "    )\n",
    "\n",
    "# Solve the my_model\n",
    "my_model.solve()"
   ]
  },
  {
   "cell_type": "code",
   "execution_count": 6,
   "metadata": {
    "execution": {
     "iopub.execute_input": "2022-12-02T16:37:25.870735Z",
     "iopub.status.busy": "2022-12-02T16:37:25.870412Z",
     "iopub.status.idle": "2022-12-02T16:37:25.873599Z",
     "shell.execute_reply": "2022-12-02T16:37:25.873022Z"
    }
   },
   "outputs": [
    {
     "name": "stdout",
     "output_type": "stream",
     "text": [
      "Blinky22:\n",
      "MINIMIZE\n",
      "7.6000000000000005*A1__DC1__amt + 6.0*A2__DC1__amt + 1.2*DC1__R1__amt + 4.72*DC1__R2__amt + 6.32*DC1__R3__amt + 0.0\n",
      "SUBJECT TO\n",
      "R1__demand: DC1__R1__amt >= 2500\n",
      "\n",
      "R2__demand: DC1__R2__amt >= 4350\n",
      "\n",
      "R3__demand: DC1__R3__amt >= 3296\n",
      "\n",
      "A1__assembly_supply: A1__DC1__amt <= 13000\n",
      "\n",
      "A2__assembly_supply: A2__DC1__amt <= 3500\n",
      "\n",
      "DC1__conservation_of_flow: A1__DC1__amt + A2__DC1__amt - DC1__R1__amt\n",
      " - DC1__R2__amt - DC1__R3__amt = 0\n",
      "\n",
      "VARIABLES\n",
      "A1__DC1__amt Continuous\n",
      "A2__DC1__amt Continuous\n",
      "DC1__R1__amt Continuous\n",
      "DC1__R2__amt Continuous\n",
      "DC1__R3__amt Continuous\n",
      "\n"
     ]
    }
   ],
   "source": [
    "my_model.show_formulation()"
   ]
  },
  {
   "cell_type": "code",
   "execution_count": 7,
   "metadata": {
    "colab": {
     "base_uri": "https://localhost:8080/"
    },
    "execution": {
     "iopub.execute_input": "2022-12-02T16:37:25.875305Z",
     "iopub.status.busy": "2022-12-02T16:37:25.875196Z",
     "iopub.status.idle": "2022-12-02T16:37:25.878269Z",
     "shell.execute_reply": "2022-12-02T16:37:25.877694Z"
    },
    "executionInfo": {
     "elapsed": 5,
     "status": "ok",
     "timestamp": 1662047899209,
     "user": {
      "displayName": "connor makowski",
      "userId": "10315975988672690851"
     },
     "user_tz": 240
    },
    "id": "a5F_36LGgOpA",
    "outputId": "7b35d2cf-ac9b-4cd5-ffdf-2012e4b67ca2"
   },
   "outputs": [
    {
     "name": "stdout",
     "output_type": "stream",
     "text": [
      "{'objective': 115872.32,\n",
      " 'status': 'Optimal',\n",
      " 'variables': {'A1__DC1__amt': 6646.0,\n",
      "               'A2__DC1__amt': 3500.0,\n",
      "               'DC1__R1__amt': 2500.0,\n",
      "               'DC1__R2__amt': 4350.0,\n",
      "               'DC1__R3__amt': 3296.0}}\n"
     ]
    }
   ],
   "source": [
    "# Show the outputs\n",
    "my_model.show_outputs()"
   ]
  }
 ],
 "metadata": {
  "colab": {
   "authorship_tag": "ABX9TyOOgATniNSkX+1XrzNgJSIs",
   "collapsed_sections": [],
   "provenance": []
  },
  "kernelspec": {
   "display_name": "Python 3 (ipykernel)",
   "language": "python",
   "name": "python3"
  },
  "language_info": {
   "codemirror_mode": {
    "name": "ipython",
    "version": 3
   },
   "file_extension": ".py",
   "mimetype": "text/x-python",
   "name": "python",
   "nbconvert_exporter": "python",
   "pygments_lexer": "ipython3",
   "version": "3.10.8"
  }
 },
 "nbformat": 4,
 "nbformat_minor": 1
}
