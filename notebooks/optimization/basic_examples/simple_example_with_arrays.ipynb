{
 "cells": [
  {
   "cell_type": "code",
   "execution_count": 1,
   "metadata": {
    "execution": {
     "iopub.execute_input": "2022-12-06T18:55:21.014984Z",
     "iopub.status.busy": "2022-12-06T18:55:21.014450Z",
     "iopub.status.idle": "2022-12-06T18:55:21.802028Z",
     "shell.execute_reply": "2022-12-06T18:55:21.801153Z"
    },
    "executionInfo": {
     "elapsed": 24004,
     "status": "ok",
     "timestamp": 1662571017093,
     "user": {
      "displayName": "connor makowski",
      "userId": "10315975988672690851"
     },
     "user_tz": 240
    },
    "id": "dtAZbhYzc4Tl"
   },
   "outputs": [
    {
     "name": "stdout",
     "output_type": "stream",
     "text": [
      "Note: you may need to restart the kernel to use updated packages.\n"
     ]
    }
   ],
   "source": [
    "pip install scx>=1.0.7"
   ]
  },
  {
   "cell_type": "markdown",
   "metadata": {},
   "source": [
    "<p>The manager of Crazy Cereal, a company that sells both sugary and regular corn flake cereals, is analyzing sales from the previous year. He finds that the most popular sugary cereal has at least 66% sugar, while the most popular regular cereal contains at least 79% corn flakes. Because of this, he decides that, moving forward, the composition of each product will always be exactly as follows:</p>\n",
    "<div align=\"center\">\n",
    "    <table style=\"width: 75%; border: 1px solid black; border-spacing: 10px; border-collapse: separate\">\n",
    "    <tr>\n",
    "        <th style=\"text-align:center\">Cereal Type</th>\n",
    "        <th style=\"text-align:center\">Sugar Content</th>\n",
    "        <th style=\"text-align:center\">Corn Flake Content</th>\n",
    "    </tr>\n",
    "    <tr>\n",
    "        <td style=\"text-align:center\">Sugary</td>\n",
    "        <td style=\"text-align:center\">66%</td>\n",
    "        <td style=\"text-align:center\">34%</td>\n",
    "    </tr>\n",
    "    <tr>\n",
    "        <td style=\"text-align:center\">Regular</td>\n",
    "        <td style=\"text-align:center\">21%</td>\n",
    "        <td style=\"text-align:center\">79%</td>\n",
    "    </tr>\n",
    "    </table>\n",
    "</div>\n",
    "<p>Upon investigating revenue, the manager has also found that each pound of sugary cereal sold yields a $0.94 profit and that each pound of regular corn flake cereal sold yields a $0.82 profit.</p>\n",
    "<p>Currently, Crazy Cereal has 2000 pounds of sugar and 4000 pounds of corn flakes, and must find out how many pounds of each cereal it should sell to maximize its profit.</p>\n",
    "<p><strong>Formulate a model that can help Crazy Cereal optimize for profit.</strong></p>"
   ]
  },
  {
   "cell_type": "code",
   "execution_count": 2,
   "metadata": {
    "execution": {
     "iopub.execute_input": "2022-12-06T18:55:21.830177Z",
     "iopub.status.busy": "2022-12-06T18:55:21.829988Z",
     "iopub.status.idle": "2022-12-06T18:55:21.849545Z",
     "shell.execute_reply": "2022-12-06T18:55:21.848982Z"
    },
    "executionInfo": {
     "elapsed": 10,
     "status": "ok",
     "timestamp": 1662571017094,
     "user": {
      "displayName": "connor makowski",
      "userId": "10315975988672690851"
     },
     "user_tz": 240
    },
    "id": "SFdM7adidA5O"
   },
   "outputs": [
    {
     "name": "stdout",
     "output_type": "stream",
     "text": [
      "{'objective': 5117.333328,\n",
      " 'status': 'Optimal',\n",
      " 'variables': {'regular_amt': 4355.5556, 'sugary_amt': 1644.4444}}\n"
     ]
    }
   ],
   "source": [
    "from scx.optimize import Model\n",
    "\n",
    "# Create variables\n",
    "data=[\n",
    "    {\n",
    "        'name': 'sugary',\n",
    "        'sugar': 0.66,\n",
    "        'corn_flakes': 0.34,\n",
    "        'profit': 0.94,\n",
    "        'amt': Model.variable(name=\"sugary_amt\", lowBound=0)\n",
    "    },\n",
    "    {\n",
    "        'name': 'sugary',\n",
    "        'sugar': 0.21,\n",
    "        'corn_flakes': 0.79,\n",
    "        'profit': 0.82,\n",
    "        'amt': Model.variable(name=\"regular_amt\", lowBound=0)\n",
    "    }\n",
    "]\n",
    "\n",
    "constraints = [\n",
    "    {\n",
    "        'name':'sugar',\n",
    "        'max_amt':2000\n",
    "    },\n",
    "    {\n",
    "        'name':'corn_flakes',\n",
    "        'max_amt':4000\n",
    "    }\n",
    "]\n",
    "\n",
    "# Initialize the model\n",
    "my_model = Model(name=\"Array_Problem\", sense='maximize')\n",
    "\n",
    "\n",
    "# Add the Objective Fn\n",
    "my_model.add_objective(\n",
    "    fn=Model.sum([i['amt']*i['profit'] for i in data])\n",
    ")\n",
    "\n",
    "# Add Constraints\n",
    "for j in constraints:\n",
    "    my_model.add_constraint(\n",
    "        name=f'{j[\"name\"]}_constraint',\n",
    "        fn=Model.sum([i['amt']*i[j['name']] for i in data]) <= j['max_amt']\n",
    "    )\n",
    "\n",
    "# Solve the model\n",
    "my_model.solve()\n",
    "\n",
    "# Show the outputs\n",
    "# NOTE: outputs can be fetched directly as a dictionary with `my_model.get_outputs()`\n",
    "my_model.show_outputs()"
   ]
  },
  {
   "cell_type": "code",
   "execution_count": 3,
   "metadata": {
    "execution": {
     "iopub.execute_input": "2022-12-06T18:55:21.851021Z",
     "iopub.status.busy": "2022-12-06T18:55:21.850910Z",
     "iopub.status.idle": "2022-12-06T18:55:21.853666Z",
     "shell.execute_reply": "2022-12-06T18:55:21.853214Z"
    }
   },
   "outputs": [
    {
     "name": "stdout",
     "output_type": "stream",
     "text": [
      "Array_Problem:\n",
      "MAXIMIZE\n",
      "0.82*regular_amt + 0.94*sugary_amt + 0.0\n",
      "SUBJECT TO\n",
      "sugar_constraint: 0.21 regular_amt + 0.66 sugary_amt <= 2000\n",
      "\n",
      "corn_flakes_constraint: 0.79 regular_amt + 0.34 sugary_amt <= 4000\n",
      "\n",
      "VARIABLES\n",
      "regular_amt Continuous\n",
      "sugary_amt Continuous\n",
      "\n"
     ]
    }
   ],
   "source": [
    "my_model.show_formulation()"
   ]
  }
 ],
 "metadata": {
  "colab": {
   "authorship_tag": "ABX9TyMLQ0NMOIoOvmYc1neNUFlP",
   "collapsed_sections": [],
   "provenance": []
  },
  "kernelspec": {
   "display_name": "Python 3 (ipykernel)",
   "language": "python",
   "name": "python3"
  },
  "language_info": {
   "codemirror_mode": {
    "name": "ipython",
    "version": 3
   },
   "file_extension": ".py",
   "mimetype": "text/x-python",
   "name": "python",
   "nbconvert_exporter": "python",
   "pygments_lexer": "ipython3",
   "version": "3.10.8"
  }
 },
 "nbformat": 4,
 "nbformat_minor": 1
}
