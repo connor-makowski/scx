{
 "cells": [
  {
   "cell_type": "code",
   "execution_count": 1,
   "metadata": {
    "execution": {
     "iopub.execute_input": "2022-12-02T16:37:17.558751Z",
     "iopub.status.busy": "2022-12-02T16:37:17.558272Z",
     "iopub.status.idle": "2022-12-02T16:37:18.348092Z",
     "shell.execute_reply": "2022-12-02T16:37:18.347297Z"
    },
    "executionInfo": {
     "elapsed": 24004,
     "status": "ok",
     "timestamp": 1662571017093,
     "user": {
      "displayName": "connor makowski",
      "userId": "10315975988672690851"
     },
     "user_tz": 240
    },
    "id": "dtAZbhYzc4Tl"
   },
   "outputs": [
    {
     "name": "stdout",
     "output_type": "stream",
     "text": [
      "Note: you may need to restart the kernel to use updated packages.\n"
     ]
    }
   ],
   "source": [
    "pip install scx>=1.0.7"
   ]
  },
  {
   "cell_type": "code",
   "execution_count": 2,
   "metadata": {
    "execution": {
     "iopub.execute_input": "2022-12-02T16:37:18.376610Z",
     "iopub.status.busy": "2022-12-02T16:37:18.376297Z",
     "iopub.status.idle": "2022-12-02T16:37:18.389393Z",
     "shell.execute_reply": "2022-12-02T16:37:18.388920Z"
    },
    "executionInfo": {
     "elapsed": 10,
     "status": "ok",
     "timestamp": 1662571017094,
     "user": {
      "displayName": "connor makowski",
      "userId": "10315975988672690851"
     },
     "user_tz": 240
    },
    "id": "SFdM7adidA5O"
   },
   "outputs": [],
   "source": [
    "from scx.optimize import Model"
   ]
  },
  {
   "cell_type": "code",
   "execution_count": 3,
   "metadata": {
    "execution": {
     "iopub.execute_input": "2022-12-02T16:37:18.391018Z",
     "iopub.status.busy": "2022-12-02T16:37:18.390906Z",
     "iopub.status.idle": "2022-12-02T16:37:18.394866Z",
     "shell.execute_reply": "2022-12-02T16:37:18.394409Z"
    },
    "executionInfo": {
     "elapsed": 9,
     "status": "ok",
     "timestamp": 1662571017094,
     "user": {
      "displayName": "connor makowski",
      "userId": "10315975988672690851"
     },
     "user_tz": 240
    },
    "id": "rqwrp08wdCdT"
   },
   "outputs": [],
   "source": [
    "transport = [\n",
    "    {\n",
    "        'origin_name':'A1',\n",
    "        'destination_name':'R1',\n",
    "        'distance': 105,\n",
    "        'cost_per_mile':0.12,\n",
    "    },\n",
    "    {\n",
    "        'origin_name':'A1',\n",
    "        'destination_name':'R2',\n",
    "        'distance': 256,\n",
    "        'cost_per_mile':0.12,\n",
    "    },\n",
    "    {\n",
    "        'origin_name':'A1',\n",
    "        'destination_name':'R3',\n",
    "        'distance': 86,\n",
    "        'cost_per_mile':0.12,\n",
    "    },\n",
    "    {\n",
    "        'origin_name':'A2',\n",
    "        'destination_name':'R1',\n",
    "        'distance': 240,\n",
    "        'cost_per_mile':0.12,\n",
    "    },\n",
    "    {\n",
    "        'origin_name':'A2',\n",
    "        'destination_name':'R2',\n",
    "        'distance': 136,\n",
    "        'cost_per_mile':0.12,\n",
    "    },\n",
    "    {\n",
    "        'origin_name':'A2',\n",
    "        'destination_name':'R3',\n",
    "        'distance': 198,\n",
    "        'cost_per_mile':0.12,\n",
    "    },\n",
    "]\n",
    "\n",
    "demand = [\n",
    "    {\n",
    "        'name':'R1', \n",
    "        'demand':2500\n",
    "    },\n",
    "    {\n",
    "        'name':'R2', \n",
    "        'demand':4350\n",
    "    },\n",
    "    {\n",
    "        'name':'R3', \n",
    "        'demand':3296\n",
    "    },\n",
    "]"
   ]
  },
  {
   "cell_type": "code",
   "execution_count": 4,
   "metadata": {
    "execution": {
     "iopub.execute_input": "2022-12-02T16:37:18.396958Z",
     "iopub.status.busy": "2022-12-02T16:37:18.396846Z",
     "iopub.status.idle": "2022-12-02T16:37:18.399529Z",
     "shell.execute_reply": "2022-12-02T16:37:18.399073Z"
    },
    "executionInfo": {
     "elapsed": 118,
     "status": "ok",
     "timestamp": 1662571121203,
     "user": {
      "displayName": "connor makowski",
      "userId": "10315975988672690851"
     },
     "user_tz": 240
    },
    "id": "t2p2iCc5eaZH"
   },
   "outputs": [],
   "source": [
    "for t in transport:\n",
    "    # Create decision variables for each item in transport\n",
    "    t['amt']=Model.variable(name=f\"{t['origin_name']}__{t['destination_name']}__amt\", lowBound=0)\n",
    "    # Calculate the variable cost of shipping for each item in tranport\n",
    "    t['cost']=t['distance']*t['cost_per_mile']"
   ]
  },
  {
   "cell_type": "code",
   "execution_count": 5,
   "metadata": {
    "execution": {
     "iopub.execute_input": "2022-12-02T16:37:18.401480Z",
     "iopub.status.busy": "2022-12-02T16:37:18.401211Z",
     "iopub.status.idle": "2022-12-02T16:37:18.409515Z",
     "shell.execute_reply": "2022-12-02T16:37:18.408929Z"
    },
    "executionInfo": {
     "elapsed": 116,
     "status": "ok",
     "timestamp": 1662571122971,
     "user": {
      "displayName": "connor makowski",
      "userId": "10315975988672690851"
     },
     "user_tz": 240
    },
    "id": "UyYaJ7YcetBD"
   },
   "outputs": [],
   "source": [
    "# Initialize the model\n",
    "my_model = Model(name=\"Blinky22\", sense='minimize')\n",
    "\n",
    "\n",
    "# Add the Objective Fn\n",
    "my_model.add_objective(\n",
    "    fn=Model.sum([t['amt']*t['cost'] for t in transport])\n",
    ")\n",
    "\n",
    "# Add Constraints\n",
    "## Demand Constraint\n",
    "for d in demand:\n",
    "    my_model.add_constraint(\n",
    "        name=f\"{d['name']}__demand\",\n",
    "        fn=Model.sum([t['amt'] for t in transport if t['destination_name']==d['name']]) >= d['demand']\n",
    "    )\n",
    "\n",
    "# Solve the model\n",
    "my_model.solve()"
   ]
  },
  {
   "cell_type": "code",
   "execution_count": 6,
   "metadata": {
    "colab": {
     "base_uri": "https://localhost:8080/"
    },
    "execution": {
     "iopub.execute_input": "2022-12-02T16:37:18.411940Z",
     "iopub.status.busy": "2022-12-02T16:37:18.411496Z",
     "iopub.status.idle": "2022-12-02T16:37:18.414689Z",
     "shell.execute_reply": "2022-12-02T16:37:18.414148Z"
    },
    "executionInfo": {
     "elapsed": 215,
     "status": "ok",
     "timestamp": 1662571842935,
     "user": {
      "displayName": "connor makowski",
      "userId": "10315975988672690851"
     },
     "user_tz": 240
    },
    "id": "eYyjYe14AAWA",
    "outputId": "900f0bb7-0b1e-4af3-c18b-9c07183e4e6d"
   },
   "outputs": [
    {
     "name": "stdout",
     "output_type": "stream",
     "text": [
      "Blinky22:\n",
      "MINIMIZE\n",
      "12.6*A1__R1__amt + 30.72*A1__R2__amt + 10.32*A1__R3__amt + 28.799999999999997*A2__R1__amt + 16.32*A2__R2__amt + 23.759999999999998*A2__R3__amt + 0.0\n",
      "SUBJECT TO\n",
      "R1__demand: A1__R1__amt + A2__R1__amt >= 2500\n",
      "\n",
      "R2__demand: A1__R2__amt + A2__R2__amt >= 4350\n",
      "\n",
      "R3__demand: A1__R3__amt + A2__R3__amt >= 3296\n",
      "\n",
      "VARIABLES\n",
      "A1__R1__amt Continuous\n",
      "A1__R2__amt Continuous\n",
      "A1__R3__amt Continuous\n",
      "A2__R1__amt Continuous\n",
      "A2__R2__amt Continuous\n",
      "A2__R3__amt Continuous\n",
      "\n"
     ]
    }
   ],
   "source": [
    "my_model.show_formulation()"
   ]
  },
  {
   "cell_type": "code",
   "execution_count": 7,
   "metadata": {
    "colab": {
     "base_uri": "https://localhost:8080/"
    },
    "execution": {
     "iopub.execute_input": "2022-12-02T16:37:18.416757Z",
     "iopub.status.busy": "2022-12-02T16:37:18.416439Z",
     "iopub.status.idle": "2022-12-02T16:37:18.419314Z",
     "shell.execute_reply": "2022-12-02T16:37:18.418828Z"
    },
    "executionInfo": {
     "elapsed": 233,
     "status": "ok",
     "timestamp": 1662571124783,
     "user": {
      "displayName": "connor makowski",
      "userId": "10315975988672690851"
     },
     "user_tz": 240
    },
    "id": "a5F_36LGgOpA",
    "outputId": "0a3f6668-b47d-48ff-f140-93140740f861"
   },
   "outputs": [
    {
     "name": "stdout",
     "output_type": "stream",
     "text": [
      "{'objective': 136506.72,\n",
      " 'status': 'Optimal',\n",
      " 'variables': {'A1__R1__amt': 2500.0,\n",
      "               'A1__R2__amt': 0.0,\n",
      "               'A1__R3__amt': 3296.0,\n",
      "               'A2__R1__amt': 0.0,\n",
      "               'A2__R2__amt': 4350.0,\n",
      "               'A2__R3__amt': 0.0}}\n"
     ]
    }
   ],
   "source": [
    "# Show the outputs\n",
    "my_model.show_outputs()"
   ]
  }
 ],
 "metadata": {
  "colab": {
   "authorship_tag": "ABX9TyMLQ0NMOIoOvmYc1neNUFlP",
   "collapsed_sections": [],
   "provenance": []
  },
  "kernelspec": {
   "display_name": "Python 3 (ipykernel)",
   "language": "python",
   "name": "python3"
  },
  "language_info": {
   "codemirror_mode": {
    "name": "ipython",
    "version": 3
   },
   "file_extension": ".py",
   "mimetype": "text/x-python",
   "name": "python",
   "nbconvert_exporter": "python",
   "pygments_lexer": "ipython3",
   "version": "3.10.8"
  }
 },
 "nbformat": 4,
 "nbformat_minor": 1
}
