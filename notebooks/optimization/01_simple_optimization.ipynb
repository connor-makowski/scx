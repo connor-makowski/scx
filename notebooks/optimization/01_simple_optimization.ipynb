{
 "cells": [
  {
   "cell_type": "code",
   "execution_count": 1,
   "metadata": {
    "execution": {
     "iopub.execute_input": "2022-12-02T16:37:12.592219Z",
     "iopub.status.busy": "2022-12-02T16:37:12.591647Z",
     "iopub.status.idle": "2022-12-02T16:37:13.394813Z",
     "shell.execute_reply": "2022-12-02T16:37:13.394017Z"
    },
    "executionInfo": {
     "elapsed": 24004,
     "status": "ok",
     "timestamp": 1662571017093,
     "user": {
      "displayName": "connor makowski",
      "userId": "10315975988672690851"
     },
     "user_tz": 240
    },
    "id": "dtAZbhYzc4Tl"
   },
   "outputs": [
    {
     "name": "stdout",
     "output_type": "stream",
     "text": [
      "Note: you may need to restart the kernel to use updated packages.\n"
     ]
    }
   ],
   "source": [
    "pip install scx>=1.0.7"
   ]
  },
  {
   "cell_type": "code",
   "execution_count": 2,
   "metadata": {
    "execution": {
     "iopub.execute_input": "2022-12-02T16:37:13.422850Z",
     "iopub.status.busy": "2022-12-02T16:37:13.422627Z",
     "iopub.status.idle": "2022-12-02T16:37:13.444683Z",
     "shell.execute_reply": "2022-12-02T16:37:13.444127Z"
    },
    "executionInfo": {
     "elapsed": 10,
     "status": "ok",
     "timestamp": 1662571017094,
     "user": {
      "displayName": "connor makowski",
      "userId": "10315975988672690851"
     },
     "user_tz": 240
    },
    "id": "SFdM7adidA5O"
   },
   "outputs": [
    {
     "name": "stdout",
     "output_type": "stream",
     "text": [
      "{'duals': {'input_1_constraint': 0.4, 'input_2_constraint': 0.2},\n",
      " 'objective': 80.0,\n",
      " 'slacks': {'input_1_constraint': -0.0, 'input_2_constraint': -0.0},\n",
      " 'status': 'Optimal',\n",
      " 'variables': {'product_1': 60.0, 'product_2': 20.0}}\n"
     ]
    }
   ],
   "source": [
    "from scx.optimize import Model\n",
    "\n",
    "# Create variables\n",
    "product_1_amt = Model.variable(name=\"product_1\", lowBound=0)\n",
    "product_2_amt = Model.variable(name=\"product_2\", lowBound=0)\n",
    "\n",
    "# Initialize the model\n",
    "my_model = Model(name=\"Generic_Problem\", sense='maximize')\n",
    "\n",
    "# Add the Objective Fn\n",
    "my_model.add_objective(\n",
    "    fn = (product_1_amt*1)+(product_2_amt*1)\n",
    ")\n",
    "\n",
    "# Add Constraints\n",
    "my_model.add_constraint(\n",
    "    name = 'input_1_constraint',\n",
    "    fn = product_1_amt*1+product_2_amt*2 <= 100\n",
    ")\n",
    "my_model.add_constraint(\n",
    "    name = 'input_2_constraint',\n",
    "    fn = product_1_amt*3+product_2_amt*1 <= 200\n",
    ")\n",
    "\n",
    "# Solve the model\n",
    "my_model.solve(get_duals=True, get_slacks=True)\n",
    "\n",
    "# Show the outputs\n",
    "# NOTE: outputs can be fetched directly as a dictionary with `my_model.get_outputs()`\n",
    "my_model.show_outputs()"
   ]
  },
  {
   "cell_type": "code",
   "execution_count": 3,
   "metadata": {
    "execution": {
     "iopub.execute_input": "2022-12-02T16:37:13.447429Z",
     "iopub.status.busy": "2022-12-02T16:37:13.446874Z",
     "iopub.status.idle": "2022-12-02T16:37:13.450310Z",
     "shell.execute_reply": "2022-12-02T16:37:13.449711Z"
    }
   },
   "outputs": [
    {
     "name": "stdout",
     "output_type": "stream",
     "text": [
      "Generic_Problem:\n",
      "MAXIMIZE\n",
      "1*product_1 + 1*product_2 + 0\n",
      "SUBJECT TO\n",
      "input_1_constraint: product_1 + 2 product_2 <= 100\n",
      "\n",
      "input_2_constraint: 3 product_1 + product_2 <= 200\n",
      "\n",
      "VARIABLES\n",
      "product_1 Continuous\n",
      "product_2 Continuous\n",
      "\n"
     ]
    }
   ],
   "source": [
    "my_model.show_formulation()"
   ]
  }
 ],
 "metadata": {
  "colab": {
   "authorship_tag": "ABX9TyMLQ0NMOIoOvmYc1neNUFlP",
   "collapsed_sections": [],
   "provenance": []
  },
  "kernelspec": {
   "display_name": "Python 3 (ipykernel)",
   "language": "python",
   "name": "python3"
  },
  "language_info": {
   "codemirror_mode": {
    "name": "ipython",
    "version": 3
   },
   "file_extension": ".py",
   "mimetype": "text/x-python",
   "name": "python",
   "nbconvert_exporter": "python",
   "pygments_lexer": "ipython3",
   "version": "3.10.8"
  }
 },
 "nbformat": 4,
 "nbformat_minor": 1
}
