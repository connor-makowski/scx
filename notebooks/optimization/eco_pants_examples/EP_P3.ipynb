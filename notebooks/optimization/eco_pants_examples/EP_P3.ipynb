{
 "cells": [
  {
   "cell_type": "code",
   "execution_count": 1,
   "metadata": {
    "execution": {
     "iopub.execute_input": "2025-10-06T19:41:21.141540Z",
     "iopub.status.busy": "2025-10-06T19:41:21.141433Z",
     "iopub.status.idle": "2025-10-06T19:41:22.149681Z",
     "shell.execute_reply": "2025-10-06T19:41:22.149285Z"
    },
    "executionInfo": {
     "elapsed": 24004,
     "status": "ok",
     "timestamp": 1662571017093,
     "user": {
      "displayName": "connor makowski",
      "userId": "10315975988672690851"
     },
     "user_tz": 240
    },
    "id": "dtAZbhYzc4Tl"
   },
   "outputs": [
    {
     "name": "stdout",
     "output_type": "stream",
     "text": [
      "Note: you may need to restart the kernel to use updated packages.\n"
     ]
    }
   ],
   "source": [
    "pip install scx>=1.3.0 #Note: This may throw an Error in Google Colab since Colab uses an outdated duckdb package. This file should still work in Colab without issues."
   ]
  },
  {
   "cell_type": "markdown",
   "metadata": {},
   "source": [
    "<h1>Eco Pants P3</h1>\n",
    "<p class=\"MsoNormal\" style=\"margin-bottom: 17.0pt; line-height: normal;\">You presented the model’s results to Barbara, who pointed out that you didn't include the set-up cost to be paid to a supplier every time you place a new order. Barbara requests you adjust the model to include these costs.</p>\n",
    "<p><b>Table 4:</b><strong> Set-up cost per supplier (in $ per order).</strong></p>\n",
    "<table width=\"444\" height=\"66\" style=\"height: 83px; width: 378px;\">\n",
    "<tbody>\n",
    "<tr style=\"height: 51.2px;\">\n",
    "<td style=\"text-align: center; border: 1px solid; width: 166.891px; height: 25.6px;\"></td>\n",
    "<td style=\"text-align: center; border: 1px solid; width: 197.109px; height: 25.6px;\">Set-up cost</td>\n",
    "</tr>\n",
    "<tr>\n",
    "<td style=\"text-align: center; border: 1px solid; width: 166.891px;\">Supplier 1</td>\n",
    "<td style=\"text-align: center; border: 1px solid; width: 197.109px;\">1500</td>\n",
    "</tr>\n",
    "<tr>\n",
    "<td style=\"text-align: center; border: 1px solid; width: 166.891px;\">Supplier 2</td>\n",
    "<td style=\"text-align: center; border: 1px solid; width: 197.109px;\">2500</td>\n",
    "</tr>\n",
    "<tr>\n",
    "<td style=\"text-align: center; border: 1px solid; width: 166.891px;\">Supplier 3</td>\n",
    "<td style=\"text-align: center; border: 1px solid; width: 197.109px;\">800</td>\n",
    "</tr>\n",
    "<tr>\n",
    "<td style=\"text-align: center; border: 1px solid; width: 166.891px;\">Supplier 4</td>\n",
    "<td style=\"text-align: center; border: 1px solid; width: 197.109px;\">1200</td>\n",
    "</tr>\n",
    "</tbody>\n",
    "</table>\n",
    "<p><strong style=\"background: transparent; margin-top: 0pt; margin-bottom: 0pt;\"><span></span></strong></p>\n",
    "<p><strong style=\"background: transparent; margin-top: 0pt; margin-bottom: 0pt;\"><span>Adjust your model from Part 2 to incorporate suppliers' set-up costs.</span></strong></p>\n",
    "<a href=\"https://youtu.be/ArhPAOxwdG4\">Eco Pants P3 Video Walkthrough Link</a><br/>\n",
    "<iframe width=\"560\" height=\"315\"\n",
    "    src=\"https://www.youtube.com/embed/ArhPAOxwdG4\" frameborder=\"0\" allowfullscreen>\n",
    "</iframe>"
   ]
  },
  {
   "cell_type": "code",
   "execution_count": 2,
   "metadata": {
    "execution": {
     "iopub.execute_input": "2025-10-06T19:41:22.178699Z",
     "iopub.status.busy": "2025-10-06T19:41:22.178512Z",
     "iopub.status.idle": "2025-10-06T19:41:22.191873Z",
     "shell.execute_reply": "2025-10-06T19:41:22.191584Z"
    },
    "executionInfo": {
     "elapsed": 10,
     "status": "ok",
     "timestamp": 1662571017094,
     "user": {
      "displayName": "connor makowski",
      "userId": "10315975988672690851"
     },
     "user_tz": 240
    },
    "id": "SFdM7adidA5O"
   },
   "outputs": [],
   "source": [
    "from scx.optimize import Model"
   ]
  },
  {
   "cell_type": "code",
   "execution_count": 3,
   "metadata": {
    "execution": {
     "iopub.execute_input": "2025-10-06T19:41:22.192968Z",
     "iopub.status.busy": "2025-10-06T19:41:22.192864Z",
     "iopub.status.idle": "2025-10-06T19:41:22.197238Z",
     "shell.execute_reply": "2025-10-06T19:41:22.196995Z"
    },
    "executionInfo": {
     "elapsed": 9,
     "status": "ok",
     "timestamp": 1662571017094,
     "user": {
      "displayName": "connor makowski",
      "userId": "10315975988672690851"
     },
     "user_tz": 240
    },
    "id": "rqwrp08wdCdT"
   },
   "outputs": [],
   "source": [
    "\n",
    "supply = [\n",
    "    {\n",
    "        'name': 'S1',\n",
    "        'capacity': 500,\n",
    "        'location': 'local',\n",
    "        'setup_cost': 1500,\n",
    "    },\n",
    "    {\n",
    "        'name': 'S2',\n",
    "        'capacity': 300,\n",
    "        'location': 'local',\n",
    "        'setup_cost': 2500,\n",
    "    },\n",
    "    {\n",
    "        'name': 'S3',\n",
    "        'capacity': 0,\n",
    "        'location': 'foreign',\n",
    "        'setup_cost': 800,\n",
    "    },\n",
    "    {\n",
    "        'name': 'S4',\n",
    "        'capacity': 600,\n",
    "        'location': 'local',\n",
    "        'setup_cost': 1200,\n",
    "    },\n",
    "]\n",
    "\n",
    "demand = [\n",
    "    {\n",
    "        'name':'F1',\n",
    "        'demand':396\n",
    "    },\n",
    "    {\n",
    "        'name':'F2',\n",
    "        'demand':255\n",
    "    },\n",
    "    {\n",
    "        'name':'F3',\n",
    "        'demand':289\n",
    "    },\n",
    "    {\n",
    "        'name':'F4',\n",
    "        'demand':15\n",
    "    },\n",
    "    {\n",
    "        'name':'F5',\n",
    "        'demand':61\n",
    "    },\n",
    "]\n",
    "\n",
    "cost = [\n",
    "    {\n",
    "        'material_name': 'F1',\n",
    "        'supplier_name': 'S1',\n",
    "        'cost': 167\n",
    "    },\n",
    "    {\n",
    "        'material_name': 'F1',\n",
    "        'supplier_name': 'S2',\n",
    "        'cost': 154\n",
    "    },\n",
    "    {\n",
    "        'material_name': 'F1',\n",
    "        'supplier_name': 'S3',\n",
    "        'cost': 70\n",
    "    },\n",
    "    {\n",
    "        'material_name': 'F1',\n",
    "        'supplier_name': 'S4',\n",
    "        'cost': 68\n",
    "    },\n",
    "    {\n",
    "        'material_name': 'F2',\n",
    "        'supplier_name': 'S1',\n",
    "        'cost': 63\n",
    "    },\n",
    "    {\n",
    "        'material_name': 'F2',\n",
    "        'supplier_name': 'S2',\n",
    "        'cost': 196\n",
    "    },\n",
    "    {\n",
    "        'material_name': 'F2',\n",
    "        'supplier_name': 'S3',\n",
    "        'cost': 170\n",
    "    },\n",
    "    {\n",
    "        'material_name': 'F2',\n",
    "        'supplier_name': 'S4',\n",
    "        'cost': 87\n",
    "    },\n",
    "    {\n",
    "        'material_name': 'F3',\n",
    "        'supplier_name': 'S1',\n",
    "        'cost': 93\n",
    "    },\n",
    "    {\n",
    "        'material_name': 'F3',\n",
    "        'supplier_name': 'S2',\n",
    "        'cost': 151\n",
    "    },\n",
    "    {\n",
    "        'material_name': 'F3',\n",
    "        'supplier_name': 'S3',\n",
    "        'cost': 165\n",
    "    },\n",
    "    {\n",
    "        'material_name': 'F3',\n",
    "        'supplier_name': 'S4',\n",
    "        'cost': 73\n",
    "    },\n",
    "    {\n",
    "        'material_name': 'F4',\n",
    "        'supplier_name': 'S1',\n",
    "        'cost': 148\n",
    "    },\n",
    "    {\n",
    "        'material_name': 'F4',\n",
    "        'supplier_name': 'S2',\n",
    "        'cost': 136\n",
    "    },\n",
    "    {\n",
    "        'material_name': 'F4',\n",
    "        'supplier_name': 'S3',\n",
    "        'cost': 72\n",
    "    },\n",
    "    {\n",
    "        'material_name': 'F4',\n",
    "        'supplier_name': 'S4',\n",
    "        'cost': 64\n",
    "    },\n",
    "    {\n",
    "        'material_name': 'F5',\n",
    "        'supplier_name': 'S1',\n",
    "        'cost': 189\n",
    "    },\n",
    "    {\n",
    "        'material_name': 'F5',\n",
    "        'supplier_name': 'S2',\n",
    "        'cost': 106\n",
    "    },\n",
    "    {\n",
    "        'material_name': 'F5',\n",
    "        'supplier_name': 'S3',\n",
    "        'cost': 195\n",
    "    },\n",
    "    {\n",
    "        'material_name': 'F5',\n",
    "        'supplier_name': 'S4',\n",
    "        'cost': 125\n",
    "    },\n",
    "]"
   ]
  },
  {
   "cell_type": "code",
   "execution_count": 4,
   "metadata": {
    "execution": {
     "iopub.execute_input": "2025-10-06T19:41:22.198214Z",
     "iopub.status.busy": "2025-10-06T19:41:22.198115Z",
     "iopub.status.idle": "2025-10-06T19:41:22.200055Z",
     "shell.execute_reply": "2025-10-06T19:41:22.199815Z"
    },
    "executionInfo": {
     "elapsed": 118,
     "status": "ok",
     "timestamp": 1662571121203,
     "user": {
      "displayName": "connor makowski",
      "userId": "10315975988672690851"
     },
     "user_tz": 240
    },
    "id": "t2p2iCc5eaZH"
   },
   "outputs": [],
   "source": [
    "for c in cost:\n",
    "    c['amt']=Model.variable(name=f\"{c['supplier_name']}__{c['material_name']}__amt\", lowBound=0)"
   ]
  },
  {
   "cell_type": "code",
   "execution_count": 5,
   "metadata": {
    "execution": {
     "iopub.execute_input": "2025-10-06T19:41:22.201045Z",
     "iopub.status.busy": "2025-10-06T19:41:22.200946Z",
     "iopub.status.idle": "2025-10-06T19:41:22.202636Z",
     "shell.execute_reply": "2025-10-06T19:41:22.202394Z"
    }
   },
   "outputs": [],
   "source": [
    "for s in supply:\n",
    "    s['use']=Model.variable(name=f\"{s['name']}__use\", cat=\"Binary\")"
   ]
  },
  {
   "cell_type": "code",
   "execution_count": 6,
   "metadata": {
    "execution": {
     "iopub.execute_input": "2025-10-06T19:41:22.203583Z",
     "iopub.status.busy": "2025-10-06T19:41:22.203486Z",
     "iopub.status.idle": "2025-10-06T19:41:22.204972Z",
     "shell.execute_reply": "2025-10-06T19:41:22.204738Z"
    }
   },
   "outputs": [],
   "source": [
    "M=99999999"
   ]
  },
  {
   "cell_type": "code",
   "execution_count": 7,
   "metadata": {
    "execution": {
     "iopub.execute_input": "2025-10-06T19:41:22.205910Z",
     "iopub.status.busy": "2025-10-06T19:41:22.205811Z",
     "iopub.status.idle": "2025-10-06T19:41:22.218019Z",
     "shell.execute_reply": "2025-10-06T19:41:22.217744Z"
    },
    "executionInfo": {
     "elapsed": 116,
     "status": "ok",
     "timestamp": 1662571122971,
     "user": {
      "displayName": "connor makowski",
      "userId": "10315975988672690851"
     },
     "user_tz": 240
    },
    "id": "UyYaJ7YcetBD"
   },
   "outputs": [],
   "source": [
    "# Initialize the model\n",
    "my_model = Model(name=\"EcoPantsP1\", sense='minimize')\n",
    "\n",
    "\n",
    "# Add the Objective Fn\n",
    "my_model.add_objective(\n",
    "    fn=Model.sum([c['amt']*c['cost'] for c in cost]) + Model.sum([s['setup_cost']*s['use'] for s in supply]),\n",
    ")\n",
    "\n",
    "# Add Constraints\n",
    "## Demand Constraint\n",
    "for d in demand:\n",
    "    my_model.add_constraint(\n",
    "        name=f\"{d['name']}__demand\",\n",
    "        fn=Model.sum([c['amt'] for c in cost if c['material_name']==d['name']]) >= d['demand'],\n",
    "    )\n",
    "\n",
    "## Supply Constraints\n",
    "for s in supply:\n",
    "    # Capacity Constraint\n",
    "    my_model.add_constraint(\n",
    "        name=f\"{s['name']}__supply\",\n",
    "        fn=Model.sum([c['amt'] for c in cost if c['supplier_name']==s['name']]) <= (s['capacity'] if s['location']=='local' else 0),\n",
    "    )\n",
    "    # Setup Cost Constraint\n",
    "    my_model.add_constraint(\n",
    "        name=f\"{s['name']}__setup\",\n",
    "        fn=Model.sum([c['amt'] for c in cost if c['supplier_name']==s['name']]) <= s['use']*M,\n",
    "    )\n",
    "\n",
    "# Solve the model\n",
    "my_model.solve()"
   ]
  },
  {
   "cell_type": "code",
   "execution_count": 8,
   "metadata": {
    "colab": {
     "base_uri": "https://localhost:8080/"
    },
    "execution": {
     "iopub.execute_input": "2025-10-06T19:41:22.219027Z",
     "iopub.status.busy": "2025-10-06T19:41:22.218929Z",
     "iopub.status.idle": "2025-10-06T19:41:22.220848Z",
     "shell.execute_reply": "2025-10-06T19:41:22.220590Z"
    },
    "executionInfo": {
     "elapsed": 215,
     "status": "ok",
     "timestamp": 1662571842935,
     "user": {
      "displayName": "connor makowski",
      "userId": "10315975988672690851"
     },
     "user_tz": 240
    },
    "id": "eYyjYe14AAWA",
    "outputId": "900f0bb7-0b1e-4af3-c18b-9c07183e4e6d"
   },
   "outputs": [
    {
     "name": "stdout",
     "output_type": "stream",
     "text": [
      "EcoPantsP1:\n",
      "MINIMIZE\n",
      "167*S1__F1__amt + 63*S1__F2__amt + 93*S1__F3__amt + 148*S1__F4__amt + 189*S1__F5__amt + 1500*S1__use + 154*S2__F1__amt + 196*S2__F2__amt + 151*S2__F3__amt + 136*S2__F4__amt + 106*S2__F5__amt + 2500*S2__use + 70*S3__F1__amt + 170*S3__F2__amt + 165*S3__F3__amt + 72*S3__F4__amt + 195*S3__F5__amt + 800*S3__use + 68*S4__F1__amt + 87*S4__F2__amt + 73*S4__F3__amt + 64*S4__F4__amt + 125*S4__F5__amt + 1200*S4__use + 0.0\n",
      "SUBJECT TO\n",
      "F1__demand: S1__F1__amt + S2__F1__amt + S3__F1__amt + S4__F1__amt >= 396\n",
      "\n",
      "F2__demand: S1__F2__amt + S2__F2__amt + S3__F2__amt + S4__F2__amt >= 255\n",
      "\n",
      "F3__demand: S1__F3__amt + S2__F3__amt + S3__F3__amt + S4__F3__amt >= 289\n",
      "\n",
      "F4__demand: S1__F4__amt + S2__F4__amt + S3__F4__amt + S4__F4__amt >= 15\n",
      "\n",
      "F5__demand: S1__F5__amt + S2__F5__amt + S3__F5__amt + S4__F5__amt >= 61\n",
      "\n",
      "S1__supply: S1__F1__amt + S1__F2__amt + S1__F3__amt + S1__F4__amt\n",
      " + S1__F5__amt <= 500\n",
      "\n",
      "S1__setup: S1__F1__amt + S1__F2__amt + S1__F3__amt + S1__F4__amt + S1__F5__amt\n",
      " - 99999999 S1__use <= 0\n",
      "\n",
      "S2__supply: S2__F1__amt + S2__F2__amt + S2__F3__amt + S2__F4__amt\n",
      " + S2__F5__amt <= 300\n",
      "\n",
      "S2__setup: S2__F1__amt + S2__F2__amt + S2__F3__amt + S2__F4__amt + S2__F5__amt\n",
      " - 99999999 S2__use <= 0\n",
      "\n",
      "S3__supply: S3__F1__amt + S3__F2__amt + S3__F3__amt + S3__F4__amt\n",
      " + S3__F5__amt <= 0\n",
      "\n",
      "S3__setup: S3__F1__amt + S3__F2__amt + S3__F3__amt + S3__F4__amt + S3__F5__amt\n",
      " - 99999999 S3__use <= 0\n",
      "\n",
      "S4__supply: S4__F1__amt + S4__F2__amt + S4__F3__amt + S4__F4__amt\n",
      " + S4__F5__amt <= 600\n",
      "\n",
      "S4__setup: S4__F1__amt + S4__F2__amt + S4__F3__amt + S4__F4__amt + S4__F5__amt\n",
      " - 99999999 S4__use <= 0\n",
      "\n",
      "VARIABLES\n",
      "S1__F1__amt Continuous\n",
      "S1__F2__amt Continuous\n",
      "S1__F3__amt Continuous\n",
      "S1__F4__amt Continuous\n",
      "S1__F5__amt Continuous\n",
      "0 <= S1__use <= 1 Integer\n",
      "S2__F1__amt Continuous\n",
      "S2__F2__amt Continuous\n",
      "S2__F3__amt Continuous\n",
      "S2__F4__amt Continuous\n",
      "S2__F5__amt Continuous\n",
      "0 <= S2__use <= 1 Integer\n",
      "S3__F1__amt Continuous\n",
      "S3__F2__amt Continuous\n",
      "S3__F3__amt Continuous\n",
      "S3__F4__amt Continuous\n",
      "S3__F5__amt Continuous\n",
      "0 <= S3__use <= 1 Integer\n",
      "S4__F1__amt Continuous\n",
      "S4__F2__amt Continuous\n",
      "S4__F3__amt Continuous\n",
      "S4__F4__amt Continuous\n",
      "S4__F5__amt Continuous\n",
      "0 <= S4__use <= 1 Integer\n",
      "\n"
     ]
    }
   ],
   "source": [
    "my_model.show_formulation()"
   ]
  },
  {
   "cell_type": "code",
   "execution_count": 9,
   "metadata": {
    "colab": {
     "base_uri": "https://localhost:8080/"
    },
    "execution": {
     "iopub.execute_input": "2025-10-06T19:41:22.221835Z",
     "iopub.status.busy": "2025-10-06T19:41:22.221738Z",
     "iopub.status.idle": "2025-10-06T19:41:22.223919Z",
     "shell.execute_reply": "2025-10-06T19:41:22.223676Z"
    },
    "executionInfo": {
     "elapsed": 233,
     "status": "ok",
     "timestamp": 1662571124783,
     "user": {
      "displayName": "connor makowski",
      "userId": "10315975988672690851"
     },
     "user_tz": 240
    },
    "id": "a5F_36LGgOpA",
    "outputId": "0a3f6668-b47d-48ff-f140-93140740f861"
   },
   "outputs": [
    {
     "name": "stdout",
     "output_type": "stream",
     "text": [
      "{'objective': 78595.0,\n",
      " 'status': 'Optimal',\n",
      " 'variables': {'S1__F1__amt': 0.0,\n",
      "               'S1__F2__amt': 255.0,\n",
      "               'S1__F3__amt': 161.0,\n",
      "               'S1__F4__amt': 0.0,\n",
      "               'S1__F5__amt': 0.0,\n",
      "               'S1__use': 1.0,\n",
      "               'S2__F1__amt': 0.0,\n",
      "               'S2__F2__amt': 0.0,\n",
      "               'S2__F3__amt': 0.0,\n",
      "               'S2__F4__amt': 0.0,\n",
      "               'S2__F5__amt': 0.0,\n",
      "               'S2__use': 0.0,\n",
      "               'S3__F1__amt': 0.0,\n",
      "               'S3__F2__amt': 0.0,\n",
      "               'S3__F3__amt': 0.0,\n",
      "               'S3__F4__amt': 0.0,\n",
      "               'S3__F5__amt': 0.0,\n",
      "               'S3__use': 0.0,\n",
      "               'S4__F1__amt': 396.0,\n",
      "               'S4__F2__amt': 0.0,\n",
      "               'S4__F3__amt': 128.0,\n",
      "               'S4__F4__amt': 15.0,\n",
      "               'S4__F5__amt': 61.0,\n",
      "               'S4__use': 1.0}}\n"
     ]
    }
   ],
   "source": [
    "# Show the outputs\n",
    "my_model.show_outputs()"
   ]
  }
 ],
 "metadata": {
  "colab": {
   "authorship_tag": "ABX9TyMLQ0NMOIoOvmYc1neNUFlP",
   "collapsed_sections": [],
   "provenance": []
  },
  "kernelspec": {
   "display_name": "Python 3 (ipykernel)",
   "language": "python",
   "name": "python3"
  },
  "language_info": {
   "codemirror_mode": {
    "name": "ipython",
    "version": 3
   },
   "file_extension": ".py",
   "mimetype": "text/x-python",
   "name": "python",
   "nbconvert_exporter": "python",
   "pygments_lexer": "ipython3",
   "version": "3.12.3"
  }
 },
 "nbformat": 4,
 "nbformat_minor": 1
}
