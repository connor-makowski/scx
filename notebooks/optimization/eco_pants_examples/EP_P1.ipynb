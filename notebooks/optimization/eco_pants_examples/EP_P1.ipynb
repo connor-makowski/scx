{
 "cells": [
  {
   "cell_type": "code",
   "execution_count": 1,
   "metadata": {
    "execution": {
     "iopub.execute_input": "2023-08-01T15:21:29.008074Z",
     "iopub.status.busy": "2023-08-01T15:21:29.007918Z",
     "iopub.status.idle": "2023-08-01T15:21:29.928372Z",
     "shell.execute_reply": "2023-08-01T15:21:29.927547Z"
    },
    "executionInfo": {
     "elapsed": 24004,
     "status": "ok",
     "timestamp": 1662571017093,
     "user": {
      "displayName": "connor makowski",
      "userId": "10315975988672690851"
     },
     "user_tz": 240
    },
    "id": "dtAZbhYzc4Tl"
   },
   "outputs": [
    {
     "name": "stdout",
     "output_type": "stream",
     "text": [
      "Note: you may need to restart the kernel to use updated packages.\n"
     ]
    }
   ],
   "source": [
    "pip install scx>=1.0.7"
   ]
  },
  {
   "cell_type": "markdown",
   "metadata": {},
   "source": [
    "<h1>Eco Pants P1</h1>\n",
    "<p class=\"MsoNormal\" style=\"margin-bottom: 17.0pt; line-height: normal;\">Barbara Lewis is the new procurement manager of EcoPants, a company that manufactures pants made with organic fabric and dyes. EcoPants purchases 5 different types of fabrics from a group of trusted suppliers to create their unique designs.</p>\n",
    "<p class=\"MsoNormal\" style=\"line-height: normal; margin: 15.0pt 0in 17.0pt 0in;\">Barbara has been looking at the purchasing costs recently and believes that their current procurement is not optimized. <span style=\"color: #0e101a;\">Minimizing the procurement cost is her main goal, and you have been hired to support her. </span></p>\n",
    "<p class=\"MsoNormal\" style=\"line-height: normal; margin: 15.0pt 0in 17.0pt 0in;\"><span style=\"color: #0e101a;\">The information received in the latest request for quotation is below.</span></p>\n",
    "<p><strong>Table 1: Meters of each type of fabric needed by EcoPants (per month)</strong><span style=\"color: #222222; font-family: Calibri, sans-serif; font-size: 10pt;\"></span></p>\n",
    "<table width=\"617\" height=\"208\" style=\"width: 30.3659%; height: 170px;\">\n",
    "<tbody>\n",
    "<tr style=\"height: 28.3281px;\">\n",
    "<td width=\"10%\" style=\"text-align: center; border: 1px solid black; width: 34.9405%; height: 28.3281px;\">Fabric Type</td>\n",
    "<td width=\"30%\" style=\"text-align: center; border: 1px solid black; width: 54.6382%; height: 28.3281px;\">Meters of fabric required per month</td>\n",
    "</tr>\n",
    "<tr style=\"height: 28.3281px;\">\n",
    "<td width=\"10%\" style=\"text-align: center; border: 1px solid black; width: 34.9405%; height: 28.3281px;\">Fabric 1</td>\n",
    "<td width=\"30%\" style=\"text-align: center; border: 1px solid black; width: 54.6382%; height: 28.3281px;\">396</td>\n",
    "</tr>\n",
    "<tr style=\"height: 28.3281px;\">\n",
    "<td width=\"10%\" style=\"text-align: center; border: 1px solid black; width: 34.9405%; height: 28.3281px;\">Fabric 2</td>\n",
    "<td width=\"30%\" style=\"text-align: center; border: 1px solid black; width: 54.6382%; height: 28.3281px;\">255</td>\n",
    "</tr>\n",
    "<tr style=\"height: 28.3281px;\">\n",
    "<td width=\"10%\" style=\"text-align: center; border: 1px solid black; width: 34.9405%; height: 28.3281px;\">Fabric 3</td>\n",
    "<td width=\"30%\" style=\"text-align: center; border: 1px solid black; width: 54.6382%; height: 28.3281px;\">289</td>\n",
    "</tr>\n",
    "<tr style=\"height: 28.3281px;\">\n",
    "<td width=\"10%\" style=\"text-align: center; border: 1px solid black; width: 34.9405%; height: 28.3281px;\">Fabric 4</td>\n",
    "<td width=\"30%\" style=\"text-align: center; border: 1px solid black; width: 54.6382%; height: 28.3281px;\">15</td>\n",
    "</tr>\n",
    "<tr style=\"height: 28.3594px;\">\n",
    "<td width=\"10%\" style=\"text-align: center; border: 1px solid black; width: 34.9405%; height: 28.3594px;\">Fabric 5</td>\n",
    "<td width=\"30%\" style=\"text-align: center; border: 1px solid black; width: 54.6382%; height: 28.3594px;\">61</td>\n",
    "</tr>\n",
    "</tbody>\n",
    "</table>\n",
    "<p class=\"MsoNormal\"> <o:p></o:p></p>\n",
    "<p><b>Table 2: Price per type of fabric per supplier (in $ per meter)</b></p>\n",
    "<table width=\"447\" height=\"190\" style=\"width: 60.8957%; height: 224px;\">\n",
    "<tbody>\n",
    "<tr style=\"height: 53.5781px;\">\n",
    "<td width=\"10%\" style=\"text-align: center; border: 1px solid black; width: 32.9173%; height: 53.5781px;\">Fabric Type</td>\n",
    "<td width=\"10%\" style=\"text-align: center; border: 1px solid black; width: 16.5032%; height: 53.5781px;\">Supplier 1</td>\n",
    "<td width=\"10%\" style=\"text-align: center; border: 1px solid black; width: 16.5032%; height: 53.5781px;\">Supplier 2</td>\n",
    "<td style=\"text-align: center; border: 1px solid black; width: 16.5032%; height: 53.5781px;\">Supplier 3</td>\n",
    "<td style=\"text-align: center; border: 1px solid black; width: 16.5032%; height: 53.5781px;\">Supplier 4</td>\n",
    "</tr>\n",
    "<tr style=\"height: 26.875px;\">\n",
    "<td width=\"10%\" style=\"text-align: center; border: 1px solid black; width: 32.9173%; height: 26.875px;\">Fabric 1</td>\n",
    "<td width=\"10%\" style=\"text-align: center; border: 1px solid black; width: 16.5032%; height: 26.875px;\">167</td>\n",
    "<td width=\"10%\" style=\"text-align: center; border: 1px solid black; width: 16.5032%; height: 26.875px;\">154</td>\n",
    "<td width=\"10%\" style=\"text-align: center; border: 1px solid black; width: 16.5032%; height: 26.875px;\">70</td>\n",
    "<td width=\"10%\" style=\"text-align: center; border: 1px solid black; width: 16.5032%; height: 26.875px;\">68</td>\n",
    "</tr>\n",
    "<tr style=\"height: 26.875px;\">\n",
    "<td width=\"10%\" style=\"text-align: center; border: 1px solid black; width: 32.9173%; height: 26.875px;\">Fabric 2</td>\n",
    "<td width=\"10%\" style=\"text-align: center; border: 1px solid black; width: 16.5032%; height: 26.875px;\">63</td>\n",
    "<td width=\"10%\" style=\"text-align: center; border: 1px solid black; width: 16.5032%; height: 26.875px;\">196</td>\n",
    "<td style=\"text-align: center; border: 1px solid black; width: 16.5032%; height: 26.875px;\">170</td>\n",
    "<td style=\"text-align: center; border: 1px solid black; width: 16.5032%; height: 26.875px;\">87</td>\n",
    "</tr>\n",
    "<tr style=\"height: 26.875px;\">\n",
    "<td width=\"10%\" style=\"text-align: center; border: 1px solid black; width: 32.9173%; height: 26.875px;\">Fabric 3</td>\n",
    "<td width=\"10%\" style=\"text-align: center; border: 1px solid black; width: 16.5032%; height: 26.875px;\">93</td>\n",
    "<td width=\"10%\" style=\"text-align: center; border: 1px solid black; width: 16.5032%; height: 26.875px;\">151</td>\n",
    "<td style=\"text-align: center; border: 1px solid black; width: 16.5032%; height: 26.875px;\">165</td>\n",
    "<td style=\"text-align: center; border: 1px solid black; width: 16.5032%; height: 26.875px;\">73</td>\n",
    "</tr>\n",
    "<tr style=\"height: 26.875px;\">\n",
    "<td width=\"10%\" style=\"text-align: center; border: 1px solid black; width: 32.9173%; height: 26.875px;\">Fabric 4</td>\n",
    "<td width=\"10%\" style=\"text-align: center; border: 1px solid black; width: 16.5032%; height: 26.875px;\">148</td>\n",
    "<td width=\"10%\" style=\"text-align: center; border: 1px solid black; width: 16.5032%; height: 26.875px;\">136</td>\n",
    "<td style=\"text-align: center; border: 1px solid black; width: 16.5032%; height: 26.875px;\">72</td>\n",
    "<td style=\"text-align: center; border: 1px solid black; width: 16.5032%; height: 26.875px;\">64</td>\n",
    "</tr>\n",
    "<tr style=\"height: 26.9141px;\">\n",
    "<td width=\"10%\" style=\"text-align: center; border: 1px solid black; width: 32.9173%; height: 26.9141px;\">Fabric 5</td>\n",
    "<td width=\"10%\" style=\"text-align: center; border: 1px solid black; width: 16.5032%%; height: 26.9141px;\">189</td>\n",
    "<td width=\"10%\" style=\"text-align: center; border: 1px solid black; width: 16.5032%; height: 26.9141px;\">106</td>\n",
    "<td style=\"text-align: center; border: 1px solid black; width: 16.5032%; height: 26.9141px;\">195</td>\n",
    "<td style=\"text-align: center; border: 1px solid black; width: 16.5032%; height: 26.9141px;\">125</td>\n",
    "</tr>\n",
    "</tbody>\n",
    "</table>\n",
    "<p></p>\n",
    "<p><b>Table 3: Supplier capacity (in meters of fabric per month)</b></p>\n",
    "<table width=\"617\" height=\"208\" style=\"width: 30.3659%; height: 170px;\">\n",
    "<tbody>\n",
    "<tr style=\"height: 28.3281px;\">\n",
    "<td width=\"10%\" style=\"text-align: center; border: 1px solid black; width: 24.9405%; height: 28.3281px;\"></td>\n",
    "<td width=\"30%\" style=\"text-align: center; border: 1px solid black; width: 54.6382%; height: 28.3281px;\">Capacity</td>\n",
    "</tr>\n",
    "<tr style=\"height: 28.3281px;\">\n",
    "<td width=\"10%\" style=\"text-align: center; border: 1px solid black; width: 24.9405%; height: 28.3281px;\">Supplier 1</td>\n",
    "<td width=\"30%\" style=\"text-align: center; border: 1px solid black; width: 54.6382%; height: 28.3281px;\">500</td>\n",
    "</tr>\n",
    "<tr style=\"height: 28.3281px;\">\n",
    "<td width=\"10%\" style=\"text-align: center; border: 1px solid black; width: 24.9405%; height: 28.3281px;\">Supplier 2</td>\n",
    "<td width=\"30%\" style=\"text-align: center; border: 1px solid black; width: 54.6382%; height: 28.3281px;\">300</td>\n",
    "</tr>\n",
    "<tr style=\"height: 28.3281px;\">\n",
    "<td width=\"10%\" style=\"text-align: center; border: 1px solid black; width: 24.9405%; height: 28.3281px;\">Supplier 3</td>\n",
    "<td width=\"30%\" style=\"text-align: center; border: 1px solid black; width: 54.6382%; height: 28.3281px;\">400</td>\n",
    "</tr>\n",
    "<tr style=\"height: 28.3281px;\">\n",
    "<td width=\"10%\" style=\"text-align: center; border: 1px solid black; width: 24.9405%; height: 28.3281px;\">Supplier 4</td>\n",
    "<td width=\"30%\" style=\"text-align: center; border: 1px solid black; width: 54.6382%; height: 28.3281px;\">600</td>\n",
    "</tr>\n",
    "</tbody>\n",
    "</table>\n",
    "<p></p>\n",
    "<p><strong style=\"color: #0e101a; background: transparent; margin-top: 0pt; margin-bottom: 0pt;\">Your first task is to create a model that helps EcoPants decide how much fabric to source from each supplier to minimize the total</strong><strong style=\"color: #0e101a; background: transparent; margin-top: 0pt; margin-bottom: 0pt;\"> </strong><strong style=\"color: #0e101a; background: transparent; margin-top: 0pt; margin-bottom: 0pt;\">procurement cost.</strong></p>\n",
    "<a href=\"https://youtu.be/uNaJ9FcWt_s\">Eco Pants P1 Video Walkthrough Link</a><br/>\n",
    "<iframe width=\"560\" height=\"315\"\n",
    "    src=\"https://www.youtube.com/embed/uNaJ9FcWt_s\" frameborder=\"0\" allowfullscreen>\n",
    "</iframe>"
   ]
  },
  {
   "cell_type": "code",
   "execution_count": 2,
   "metadata": {
    "execution": {
     "iopub.execute_input": "2023-08-01T15:21:29.971439Z",
     "iopub.status.busy": "2023-08-01T15:21:29.971088Z",
     "iopub.status.idle": "2023-08-01T15:21:29.989353Z",
     "shell.execute_reply": "2023-08-01T15:21:29.988681Z"
    },
    "executionInfo": {
     "elapsed": 10,
     "status": "ok",
     "timestamp": 1662571017094,
     "user": {
      "displayName": "connor makowski",
      "userId": "10315975988672690851"
     },
     "user_tz": 240
    },
    "id": "SFdM7adidA5O"
   },
   "outputs": [],
   "source": [
    "from scx.optimize import Model"
   ]
  },
  {
   "cell_type": "code",
   "execution_count": 3,
   "metadata": {
    "execution": {
     "iopub.execute_input": "2023-08-01T15:21:29.992177Z",
     "iopub.status.busy": "2023-08-01T15:21:29.991643Z",
     "iopub.status.idle": "2023-08-01T15:21:30.000953Z",
     "shell.execute_reply": "2023-08-01T15:21:30.000308Z"
    },
    "executionInfo": {
     "elapsed": 9,
     "status": "ok",
     "timestamp": 1662571017094,
     "user": {
      "displayName": "connor makowski",
      "userId": "10315975988672690851"
     },
     "user_tz": 240
    },
    "id": "rqwrp08wdCdT"
   },
   "outputs": [],
   "source": [
    "supply = [\n",
    "    {\n",
    "        'name': 'S1',\n",
    "        'capacity': 500,\n",
    "    },\n",
    "    {\n",
    "        'name': 'S2',\n",
    "        'capacity': 300,\n",
    "    },\n",
    "    {\n",
    "        'name': 'S3',\n",
    "        'capacity': 400,\n",
    "    },\n",
    "    {\n",
    "        'name': 'S4',\n",
    "        'capacity': 600,\n",
    "    },\n",
    "]\n",
    "\n",
    "demand = [\n",
    "    {\n",
    "        'name':'F1',\n",
    "        'demand':396\n",
    "    },\n",
    "    {\n",
    "        'name':'F2',\n",
    "        'demand':255\n",
    "    },\n",
    "    {\n",
    "        'name':'F3',\n",
    "        'demand':289\n",
    "    },\n",
    "    {\n",
    "        'name':'F4',\n",
    "        'demand':15\n",
    "    },\n",
    "    {\n",
    "        'name':'F5',\n",
    "        'demand':61\n",
    "    },\n",
    "]\n",
    "\n",
    "cost = [\n",
    "    {\n",
    "        'fabric_name': 'F1',\n",
    "        'supplier_name': 'S1',\n",
    "        'cost': 167\n",
    "    },\n",
    "    {\n",
    "        'fabric_name': 'F1',\n",
    "        'supplier_name': 'S2',\n",
    "        'cost': 154\n",
    "    },\n",
    "    {\n",
    "        'fabric_name': 'F1',\n",
    "        'supplier_name': 'S3',\n",
    "        'cost': 70\n",
    "    },\n",
    "    {\n",
    "        'fabric_name': 'F1',\n",
    "        'supplier_name': 'S4',\n",
    "        'cost': 68\n",
    "    },\n",
    "    {\n",
    "        'fabric_name': 'F2',\n",
    "        'supplier_name': 'S1',\n",
    "        'cost': 63\n",
    "    },\n",
    "    {\n",
    "        'fabric_name': 'F2',\n",
    "        'supplier_name': 'S2',\n",
    "        'cost': 196\n",
    "    },\n",
    "    {\n",
    "        'fabric_name': 'F2',\n",
    "        'supplier_name': 'S3',\n",
    "        'cost': 170\n",
    "    },\n",
    "    {\n",
    "        'fabric_name': 'F2',\n",
    "        'supplier_name': 'S4',\n",
    "        'cost': 87\n",
    "    },\n",
    "    {\n",
    "        'fabric_name': 'F3',\n",
    "        'supplier_name': 'S1',\n",
    "        'cost': 93\n",
    "    },\n",
    "    {\n",
    "        'fabric_name': 'F3',\n",
    "        'supplier_name': 'S2',\n",
    "        'cost': 151\n",
    "    },\n",
    "    {\n",
    "        'fabric_name': 'F3',\n",
    "        'supplier_name': 'S3',\n",
    "        'cost': 165\n",
    "    },\n",
    "    {\n",
    "        'fabric_name': 'F3',\n",
    "        'supplier_name': 'S4',\n",
    "        'cost': 73\n",
    "    },\n",
    "    {\n",
    "        'fabric_name': 'F4',\n",
    "        'supplier_name': 'S1',\n",
    "        'cost': 148\n",
    "    },\n",
    "    {\n",
    "        'fabric_name': 'F4',\n",
    "        'supplier_name': 'S2',\n",
    "        'cost': 136\n",
    "    },\n",
    "    {\n",
    "        'fabric_name': 'F4',\n",
    "        'supplier_name': 'S3',\n",
    "        'cost': 72\n",
    "    },\n",
    "    {\n",
    "        'fabric_name': 'F4',\n",
    "        'supplier_name': 'S4',\n",
    "        'cost': 64\n",
    "    },\n",
    "    {\n",
    "        'fabric_name': 'F5',\n",
    "        'supplier_name': 'S1',\n",
    "        'cost': 189\n",
    "    },\n",
    "    {\n",
    "        'fabric_name': 'F5',\n",
    "        'supplier_name': 'S2',\n",
    "        'cost': 106\n",
    "    },\n",
    "    {\n",
    "        'fabric_name': 'F5',\n",
    "        'supplier_name': 'S3',\n",
    "        'cost': 195\n",
    "    },\n",
    "    {\n",
    "        'fabric_name': 'F5',\n",
    "        'supplier_name': 'S4',\n",
    "        'cost': 125\n",
    "    },\n",
    "]"
   ]
  },
  {
   "cell_type": "code",
   "execution_count": 4,
   "metadata": {
    "execution": {
     "iopub.execute_input": "2023-08-01T15:21:30.003414Z",
     "iopub.status.busy": "2023-08-01T15:21:30.003216Z",
     "iopub.status.idle": "2023-08-01T15:21:30.006820Z",
     "shell.execute_reply": "2023-08-01T15:21:30.006247Z"
    },
    "executionInfo": {
     "elapsed": 118,
     "status": "ok",
     "timestamp": 1662571121203,
     "user": {
      "displayName": "connor makowski",
      "userId": "10315975988672690851"
     },
     "user_tz": 240
    },
    "id": "t2p2iCc5eaZH"
   },
   "outputs": [],
   "source": [
    "for c in cost:\n",
    "    # Create decision variables for each item in transport\n",
    "    c['amt']=Model.variable(name=f\"{c['supplier_name']}__{c['fabric_name']}__amt\", lowBound=0)"
   ]
  },
  {
   "cell_type": "code",
   "execution_count": 5,
   "metadata": {
    "execution": {
     "iopub.execute_input": "2023-08-01T15:21:30.009181Z",
     "iopub.status.busy": "2023-08-01T15:21:30.008983Z",
     "iopub.status.idle": "2023-08-01T15:21:30.020155Z",
     "shell.execute_reply": "2023-08-01T15:21:30.019570Z"
    },
    "executionInfo": {
     "elapsed": 116,
     "status": "ok",
     "timestamp": 1662571122971,
     "user": {
      "displayName": "connor makowski",
      "userId": "10315975988672690851"
     },
     "user_tz": 240
    },
    "id": "UyYaJ7YcetBD"
   },
   "outputs": [],
   "source": [
    "# Initialize the model\n",
    "my_model = Model(name=\"EcoPantsP1\", sense='minimize')\n",
    "\n",
    "\n",
    "# Add the Objective Fn\n",
    "my_model.add_objective(\n",
    "    fn=Model.sum([c['amt']*c['cost'] for c in cost])\n",
    ")\n",
    "\n",
    "# Add Constraints\n",
    "## Demand Constraint\n",
    "for d in demand:\n",
    "    my_model.add_constraint(\n",
    "        name=f\"{d['name']}__demand\",\n",
    "        fn=Model.sum([c['amt'] for c in cost if c['fabric_name']==d['name']]) >= d['demand'],\n",
    "    )\n",
    "\n",
    "## Supply Constraints\n",
    "for s in supply:\n",
    "    # Capacity Constraint\n",
    "    my_model.add_constraint(\n",
    "        name=f\"{s['name']}__supply\",\n",
    "        fn=Model.sum([c['amt'] for c in cost if c['supplier_name']==s['name']]) <= s['capacity'],\n",
    "    )\n",
    "\n",
    "# Solve the model\n",
    "my_model.solve()"
   ]
  },
  {
   "cell_type": "code",
   "execution_count": 6,
   "metadata": {
    "colab": {
     "base_uri": "https://localhost:8080/"
    },
    "execution": {
     "iopub.execute_input": "2023-08-01T15:21:30.022578Z",
     "iopub.status.busy": "2023-08-01T15:21:30.022377Z",
     "iopub.status.idle": "2023-08-01T15:21:30.026011Z",
     "shell.execute_reply": "2023-08-01T15:21:30.025408Z"
    },
    "executionInfo": {
     "elapsed": 215,
     "status": "ok",
     "timestamp": 1662571842935,
     "user": {
      "displayName": "connor makowski",
      "userId": "10315975988672690851"
     },
     "user_tz": 240
    },
    "id": "eYyjYe14AAWA",
    "outputId": "900f0bb7-0b1e-4af3-c18b-9c07183e4e6d"
   },
   "outputs": [
    {
     "name": "stdout",
     "output_type": "stream",
     "text": [
      "EcoPantsP1:\n",
      "MINIMIZE\n",
      "167*S1__F1__amt + 63*S1__F2__amt + 93*S1__F3__amt + 148*S1__F4__amt + 189*S1__F5__amt + 154*S2__F1__amt + 196*S2__F2__amt + 151*S2__F3__amt + 136*S2__F4__amt + 106*S2__F5__amt + 70*S3__F1__amt + 170*S3__F2__amt + 165*S3__F3__amt + 72*S3__F4__amt + 195*S3__F5__amt + 68*S4__F1__amt + 87*S4__F2__amt + 73*S4__F3__amt + 64*S4__F4__amt + 125*S4__F5__amt + 0\n",
      "SUBJECT TO\n",
      "F1__demand: S1__F1__amt + S2__F1__amt + S3__F1__amt + S4__F1__amt >= 396\n",
      "\n",
      "F2__demand: S1__F2__amt + S2__F2__amt + S3__F2__amt + S4__F2__amt >= 255\n",
      "\n",
      "F3__demand: S1__F3__amt + S2__F3__amt + S3__F3__amt + S4__F3__amt >= 289\n",
      "\n",
      "F4__demand: S1__F4__amt + S2__F4__amt + S3__F4__amt + S4__F4__amt >= 15\n",
      "\n",
      "F5__demand: S1__F5__amt + S2__F5__amt + S3__F5__amt + S4__F5__amt >= 61\n",
      "\n",
      "S1__supply: S1__F1__amt + S1__F2__amt + S1__F3__amt + S1__F4__amt\n",
      " + S1__F5__amt <= 500\n",
      "\n",
      "S2__supply: S2__F1__amt + S2__F2__amt + S2__F3__amt + S2__F4__amt\n",
      " + S2__F5__amt <= 300\n",
      "\n",
      "S3__supply: S3__F1__amt + S3__F2__amt + S3__F3__amt + S3__F4__amt\n",
      " + S3__F5__amt <= 400\n",
      "\n",
      "S4__supply: S4__F1__amt + S4__F2__amt + S4__F3__amt + S4__F4__amt\n",
      " + S4__F5__amt <= 600\n",
      "\n",
      "VARIABLES\n",
      "S1__F1__amt Continuous\n",
      "S1__F2__amt Continuous\n",
      "S1__F3__amt Continuous\n",
      "S1__F4__amt Continuous\n",
      "S1__F5__amt Continuous\n",
      "S2__F1__amt Continuous\n",
      "S2__F2__amt Continuous\n",
      "S2__F3__amt Continuous\n",
      "S2__F4__amt Continuous\n",
      "S2__F5__amt Continuous\n",
      "S3__F1__amt Continuous\n",
      "S3__F2__amt Continuous\n",
      "S3__F3__amt Continuous\n",
      "S3__F4__amt Continuous\n",
      "S3__F5__amt Continuous\n",
      "S4__F1__amt Continuous\n",
      "S4__F2__amt Continuous\n",
      "S4__F3__amt Continuous\n",
      "S4__F4__amt Continuous\n",
      "S4__F5__amt Continuous\n",
      "\n"
     ]
    }
   ],
   "source": [
    "my_model.show_formulation()"
   ]
  },
  {
   "cell_type": "code",
   "execution_count": 7,
   "metadata": {
    "colab": {
     "base_uri": "https://localhost:8080/"
    },
    "execution": {
     "iopub.execute_input": "2023-08-01T15:21:30.028461Z",
     "iopub.status.busy": "2023-08-01T15:21:30.028264Z",
     "iopub.status.idle": "2023-08-01T15:21:30.031900Z",
     "shell.execute_reply": "2023-08-01T15:21:30.031306Z"
    },
    "executionInfo": {
     "elapsed": 233,
     "status": "ok",
     "timestamp": 1662571124783,
     "user": {
      "displayName": "connor makowski",
      "userId": "10315975988672690851"
     },
     "user_tz": 240
    },
    "id": "a5F_36LGgOpA",
    "outputId": "0a3f6668-b47d-48ff-f140-93140740f861"
   },
   "outputs": [
    {
     "name": "stdout",
     "output_type": "stream",
     "text": [
      "{'objective': 71716.0,\n",
      " 'status': 'Optimal',\n",
      " 'variables': {'S1__F1__amt': 0.0,\n",
      "               'S1__F2__amt': 255.0,\n",
      "               'S1__F3__amt': 0.0,\n",
      "               'S1__F4__amt': 0.0,\n",
      "               'S1__F5__amt': 0.0,\n",
      "               'S2__F1__amt': 0.0,\n",
      "               'S2__F2__amt': 0.0,\n",
      "               'S2__F3__amt': 0.0,\n",
      "               'S2__F4__amt': 0.0,\n",
      "               'S2__F5__amt': 61.0,\n",
      "               'S3__F1__amt': 100.0,\n",
      "               'S3__F2__amt': 0.0,\n",
      "               'S3__F3__amt': 0.0,\n",
      "               'S3__F4__amt': 0.0,\n",
      "               'S3__F5__amt': 0.0,\n",
      "               'S4__F1__amt': 296.0,\n",
      "               'S4__F2__amt': 0.0,\n",
      "               'S4__F3__amt': 289.0,\n",
      "               'S4__F4__amt': 15.0,\n",
      "               'S4__F5__amt': 0.0}}\n"
     ]
    }
   ],
   "source": [
    "# Show the outputs\n",
    "my_model.show_outputs()"
   ]
  }
 ],
 "metadata": {
  "colab": {
   "authorship_tag": "ABX9TyMLQ0NMOIoOvmYc1neNUFlP",
   "collapsed_sections": [],
   "provenance": []
  },
  "kernelspec": {
   "display_name": "Python 3 (ipykernel)",
   "language": "python",
   "name": "python3"
  },
  "language_info": {
   "codemirror_mode": {
    "name": "ipython",
    "version": 3
   },
   "file_extension": ".py",
   "mimetype": "text/x-python",
   "name": "python",
   "nbconvert_exporter": "python",
   "pygments_lexer": "ipython3",
   "version": "3.10.12"
  }
 },
 "nbformat": 4,
 "nbformat_minor": 1
}
