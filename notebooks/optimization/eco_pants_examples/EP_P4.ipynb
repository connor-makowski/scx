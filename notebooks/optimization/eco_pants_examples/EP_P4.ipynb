{
 "cells": [
  {
   "cell_type": "code",
   "execution_count": 1,
   "metadata": {
    "execution": {
     "iopub.execute_input": "2024-07-26T20:13:14.648823Z",
     "iopub.status.busy": "2024-07-26T20:13:14.648460Z",
     "iopub.status.idle": "2024-07-26T20:13:15.679059Z",
     "shell.execute_reply": "2024-07-26T20:13:15.678350Z"
    },
    "executionInfo": {
     "elapsed": 24004,
     "status": "ok",
     "timestamp": 1662571017093,
     "user": {
      "displayName": "connor makowski",
      "userId": "10315975988672690851"
     },
     "user_tz": 240
    },
    "id": "dtAZbhYzc4Tl"
   },
   "outputs": [
    {
     "name": "stdout",
     "output_type": "stream",
     "text": [
      "Note: you may need to restart the kernel to use updated packages.\n"
     ]
    }
   ],
   "source": [
    "pip install scx>=1.2.0 #Note: This may throw an Error in Google Colab since Colab uses an outdated duckdb package. This file should still work in Colab without issues."
   ]
  },
  {
   "cell_type": "markdown",
   "metadata": {},
   "source": [
    "<h1>Eco Pants P4</h1>\n",
    "<p class=\"MsoNormal\">After some market research, Barbara finds out that the level of service of the suppliers differs not only among them but also among the different types of fabric they supply. The results of her findings are in the table below.</p>\n",
    "<p class=\"MsoNormal\"><strong>Table 5: Service Level per Fabric type per supplier</strong></p>\n",
    "<p class=\"MsoNormal\"><span style=\"font-size: 10.0pt; line-height: 107%; mso-fareast-font-family: 'Times New Roman'; mso-bidi-font-family: Calibri; mso-bidi-theme-font: minor-latin;\"></span></p>\n",
    "<table class=\"MsoNormalTable\" border=\"0\" cellspacing=\"0\" cellpadding=\"0\" width=\"320\" height=\"188\" style=\"width: 636px; border-collapse: collapse; height: 180.922px;\">\n",
    "<tbody>\n",
    "<tr style=\"height: 37.125px;\">\n",
    "<td style=\"width: 105.688px; border: 1pt solid; padding: 0in 5.4pt; height: 37.125px;\">\n",
    "<p class=\"MsoNormal\" style=\"margin-bottom: 0in; line-height: normal;\"><b><span style=\"font-size: 10.0pt; mso-fareast-font-family: 'Times New Roman'; mso-bidi-font-family: Calibri; mso-bidi-theme-font: minor-latin;\">Service Level %<o:p></o:p></span></b></p>\n",
    "</td>\n",
    "<td style=\"width: 113.086px; border-top: 1pt solid; border-right: 1pt solid; border-bottom: 1pt solid; border-image: initial; border-left: none; padding: 0in 5.4pt; height: 37.125px;\">\n",
    "<p class=\"MsoNormal\" style=\"margin-bottom: 0in; line-height: normal;\"><b><span style=\"font-size: 10.0pt; mso-fareast-font-family: 'Times New Roman'; mso-bidi-font-family: Calibri; mso-bidi-theme-font: minor-latin;\">Supplier 1<o:p></o:p></span></b></p>\n",
    "</td>\n",
    "<td style=\"width: 113.086px; border-top: 1pt solid; border-right: 1pt solid; border-bottom: 1pt solid; border-image: initial; border-left: none; padding: 0in 5.4pt; height: 37.125px;\">\n",
    "<p class=\"MsoNormal\" style=\"margin-bottom: 0in; line-height: normal;\"><b><span style=\"font-size: 10.0pt; mso-fareast-font-family: 'Times New Roman'; mso-bidi-font-family: Calibri; mso-bidi-theme-font: minor-latin;\">Supplier 2<o:p></o:p></span></b></p>\n",
    "</td>\n",
    "<td style=\"width: 113.086px; border-top: 1pt solid; border-right: 1pt solid; border-bottom: 1pt solid; border-image: initial; border-left: none; padding: 0in 5.4pt; height: 37.125px;\">\n",
    "<p class=\"MsoNormal\" style=\"margin-bottom: 0in; line-height: normal;\"><b><span style=\"font-size: 10.0pt; mso-fareast-font-family: 'Times New Roman'; mso-bidi-font-family: Calibri; mso-bidi-theme-font: minor-latin;\">Supplier 3<o:p></o:p></span></b></p>\n",
    "</td>\n",
    "<td style=\"width: 113.102px; border-top: 1pt solid; border-right: 1pt solid; border-bottom: 1pt solid; border-image: initial; border-left: none; padding: 0in 5.4pt; height: 37.125px;\">\n",
    "<p class=\"MsoNormal\" style=\"margin-bottom: 0in; line-height: normal;\"><b><span style=\"font-size: 10.0pt; mso-fareast-font-family: 'Times New Roman'; mso-bidi-font-family: Calibri; mso-bidi-theme-font: minor-latin;\">Supplier 4<o:p></o:p></span></b></p>\n",
    "</td>\n",
    "</tr>\n",
    "<tr style=\"height: 28.75px;\">\n",
    "<td style=\"width: 105.688px; border-right: 1pt solid; border-bottom: 1pt solid; border-left: 1pt solid; border-image: initial; border-top: none; padding: 0in 5.4pt; height: 28.75px;\">\n",
    "<p class=\"MsoNormal\" style=\"margin-bottom: 0in; line-height: normal;\"><span style=\"font-size: 10.0pt; mso-fareast-font-family: 'Times New Roman'; mso-bidi-font-family: Calibri; mso-bidi-theme-font: minor-latin;\">Fabric 1<o:p></o:p></span></p>\n",
    "</td>\n",
    "<td style=\"width: 113.086px; border-top: none; border-left: none; border-bottom: 1pt solid; border-right: 1pt solid; padding: 0in 5.4pt; height: 28.75px;\">\n",
    "<p class=\"MsoNormal\" align=\"right\" style=\"margin-bottom: 0in; text-align: right; line-height: normal;\"><span style=\"font-size: 10.0pt; mso-fareast-font-family: 'Times New Roman'; mso-bidi-font-family: Calibri; mso-bidi-theme-font: minor-latin;\">95%<o:p></o:p></span></p>\n",
    "</td>\n",
    "<td style=\"width: 113.086px; border-top: none; border-left: none; border-bottom: 1pt solid; border-right: 1pt solid; padding: 0in 5.4pt; height: 28.75px;\">\n",
    "<p class=\"MsoNormal\" align=\"right\" style=\"margin-bottom: 0in; text-align: right; line-height: normal;\"><span style=\"font-size: 10.0pt; mso-fareast-font-family: 'Times New Roman'; mso-bidi-font-family: Calibri; mso-bidi-theme-font: minor-latin;\">97%<o:p></o:p></span></p>\n",
    "</td>\n",
    "<td style=\"width: 113.086px; border-top: none; border-left: none; border-bottom: 1pt solid; border-right: 1pt solid; padding: 0in 5.4pt; height: 28.75px;\">\n",
    "<p class=\"MsoNormal\" align=\"right\" style=\"margin-bottom: 0in; text-align: right; line-height: normal;\"><span style=\"font-size: 10.0pt; mso-fareast-font-family: 'Times New Roman'; mso-bidi-font-family: Calibri; mso-bidi-theme-font: minor-latin;\">98%<o:p></o:p></span></p>\n",
    "</td>\n",
    "<td style=\"width: 113.102px; border-top: none; border-left: none; border-bottom: 1pt solid; border-right: 1pt solid; padding: 0in 5.4pt; height: 28.75px;\">\n",
    "<p class=\"MsoNormal\" align=\"right\" style=\"margin-bottom: 0in; text-align: right; line-height: normal;\"><span style=\"font-size: 10.0pt; mso-fareast-font-family: 'Times New Roman'; mso-bidi-font-family: Calibri; mso-bidi-theme-font: minor-latin;\">99%<o:p></o:p></span></p>\n",
    "</td>\n",
    "</tr>\n",
    "<tr style=\"height: 28.75px;\">\n",
    "<td style=\"width: 105.688px; border-right: 1pt solid; border-bottom: 1pt solid; border-left: 1pt solid; border-image: initial; border-top: none; padding: 0in 5.4pt; height: 28.75px;\">\n",
    "<p class=\"MsoNormal\" style=\"margin-bottom: 0in; line-height: normal;\"><span style=\"font-size: 10.0pt; mso-fareast-font-family: 'Times New Roman'; mso-bidi-font-family: Calibri; mso-bidi-theme-font: minor-latin;\">Fabric 2<o:p></o:p></span></p>\n",
    "</td>\n",
    "<td style=\"width: 113.086px; border-top: none; border-left: none; border-bottom: 1pt solid; border-right: 1pt solid; padding: 0in 5.4pt; height: 28.75px;\">\n",
    "<p class=\"MsoNormal\" align=\"right\" style=\"margin-bottom: 0in; text-align: right; line-height: normal;\"><span style=\"font-size: 10.0pt; mso-fareast-font-family: 'Times New Roman'; mso-bidi-font-family: Calibri; mso-bidi-theme-font: minor-latin;\">99%<o:p></o:p></span></p>\n",
    "</td>\n",
    "<td style=\"width: 113.086px; border-top: none; border-left: none; border-bottom: 1pt solid; border-right: 1pt solid; padding: 0in 5.4pt; height: 28.75px;\">\n",
    "<p class=\"MsoNormal\" align=\"right\" style=\"margin-bottom: 0in; text-align: right; line-height: normal;\"><span style=\"font-size: 10.0pt; mso-fareast-font-family: 'Times New Roman'; mso-bidi-font-family: Calibri; mso-bidi-theme-font: minor-latin;\">96%<o:p></o:p></span></p>\n",
    "</td>\n",
    "<td style=\"width: 113.086px; border-top: none; border-left: none; border-bottom: 1pt solid; border-right: 1pt solid; padding: 0in 5.4pt; height: 28.75px;\">\n",
    "<p class=\"MsoNormal\" align=\"right\" style=\"margin-bottom: 0in; text-align: right; line-height: normal;\"><span style=\"font-size: 10.0pt; mso-fareast-font-family: 'Times New Roman'; mso-bidi-font-family: Calibri; mso-bidi-theme-font: minor-latin;\">90%<o:p></o:p></span></p>\n",
    "</td>\n",
    "<td style=\"width: 113.102px; border-top: none; border-left: none; border-bottom: 1pt solid; border-right: 1pt solid; padding: 0in 5.4pt; height: 28.75px;\">\n",
    "<p class=\"MsoNormal\" align=\"right\" style=\"margin-bottom: 0in; text-align: right; line-height: normal;\"><span style=\"font-size: 10.0pt; mso-fareast-font-family: 'Times New Roman'; mso-bidi-font-family: Calibri; mso-bidi-theme-font: minor-latin;\">95%<o:p></o:p></span></p>\n",
    "</td>\n",
    "</tr>\n",
    "<tr style=\"height: 28.75px;\">\n",
    "<td style=\"width: 105.688px; border-right: 1pt solid; border-bottom: 1pt solid; border-left: 1pt solid; border-image: initial; border-top: none; padding: 0in 5.4pt; height: 28.75px;\">\n",
    "<p class=\"MsoNormal\" style=\"margin-bottom: 0in; line-height: normal;\"><span style=\"font-size: 10.0pt; mso-fareast-font-family: 'Times New Roman'; mso-bidi-font-family: Calibri; mso-bidi-theme-font: minor-latin;\">Fabric 3<o:p></o:p></span></p>\n",
    "</td>\n",
    "<td style=\"width: 113.086px; border-top: none; border-left: none; border-bottom: 1pt solid; border-right: 1pt solid; padding: 0in 5.4pt; height: 28.75px;\">\n",
    "<p class=\"MsoNormal\" align=\"right\" style=\"margin-bottom: 0in; text-align: right; line-height: normal;\"><span style=\"font-size: 10.0pt; mso-fareast-font-family: 'Times New Roman'; mso-bidi-font-family: Calibri; mso-bidi-theme-font: minor-latin;\">99%<o:p></o:p></span></p>\n",
    "</td>\n",
    "<td style=\"width: 113.086px; border-top: none; border-left: none; border-bottom: 1pt solid; border-right: 1pt solid; padding: 0in 5.4pt; height: 28.75px;\">\n",
    "<p class=\"MsoNormal\" align=\"right\" style=\"margin-bottom: 0in; text-align: right; line-height: normal;\"><span style=\"font-size: 10.0pt; mso-fareast-font-family: 'Times New Roman'; mso-bidi-font-family: Calibri; mso-bidi-theme-font: minor-latin;\">95%<o:p></o:p></span></p>\n",
    "</td>\n",
    "<td style=\"width: 113.086px; border-top: none; border-left: none; border-bottom: 1pt solid; border-right: 1pt solid; padding: 0in 5.4pt; height: 28.75px;\">\n",
    "<p class=\"MsoNormal\" align=\"right\" style=\"margin-bottom: 0in; text-align: right; line-height: normal;\"><span style=\"font-size: 10.0pt; mso-fareast-font-family: 'Times New Roman'; mso-bidi-font-family: Calibri; mso-bidi-theme-font: minor-latin;\">96%<o:p></o:p></span></p>\n",
    "</td>\n",
    "<td style=\"width: 113.102px; border-top: none; border-left: none; border-bottom: 1pt solid; border-right: 1pt solid; padding: 0in 5.4pt; height: 28.75px;\">\n",
    "<p class=\"MsoNormal\" align=\"right\" style=\"margin-bottom: 0in; text-align: right; line-height: normal;\"><span style=\"font-size: 10.0pt; mso-fareast-font-family: 'Times New Roman'; mso-bidi-font-family: Calibri; mso-bidi-theme-font: minor-latin;\">94%<o:p></o:p></span></p>\n",
    "</td>\n",
    "</tr>\n",
    "<tr style=\"height: 28.75px;\">\n",
    "<td style=\"width: 105.688px; border-right: 1pt solid; border-bottom: 1pt solid; border-left: 1pt solid; border-image: initial; border-top: none; padding: 0in 5.4pt; height: 28.75px;\">\n",
    "<p class=\"MsoNormal\" style=\"margin-bottom: 0in; line-height: normal;\"><span style=\"font-size: 10.0pt; mso-fareast-font-family: 'Times New Roman'; mso-bidi-font-family: Calibri; mso-bidi-theme-font: minor-latin;\">Fabric 4<o:p></o:p></span></p>\n",
    "</td>\n",
    "<td style=\"width: 113.086px; border-top: none; border-left: none; border-bottom: 1pt solid; border-right: 1pt solid; padding: 0in 5.4pt; height: 28.75px;\">\n",
    "<p class=\"MsoNormal\" align=\"right\" style=\"margin-bottom: 0in; text-align: right; line-height: normal;\"><span style=\"font-size: 10.0pt; mso-fareast-font-family: 'Times New Roman'; mso-bidi-font-family: Calibri; mso-bidi-theme-font: minor-latin;\">95%<o:p></o:p></span></p>\n",
    "</td>\n",
    "<td style=\"width: 113.086px; border-top: none; border-left: none; border-bottom: 1pt solid; border-right: 1pt solid; padding: 0in 5.4pt; height: 28.75px;\">\n",
    "<p class=\"MsoNormal\" align=\"right\" style=\"margin-bottom: 0in; text-align: right; line-height: normal;\"><span style=\"font-size: 10.0pt; mso-fareast-font-family: 'Times New Roman'; mso-bidi-font-family: Calibri; mso-bidi-theme-font: minor-latin;\">98%<o:p></o:p></span></p>\n",
    "</td>\n",
    "<td style=\"width: 113.086px; border-top: none; border-left: none; border-bottom: 1pt solid; border-right: 1pt solid; padding: 0in 5.4pt; height: 28.75px;\">\n",
    "<p class=\"MsoNormal\" align=\"right\" style=\"margin-bottom: 0in; text-align: right; line-height: normal;\"><span style=\"font-size: 10.0pt; mso-fareast-font-family: 'Times New Roman'; mso-bidi-font-family: Calibri; mso-bidi-theme-font: minor-latin;\">92%<o:p></o:p></span></p>\n",
    "</td>\n",
    "<td style=\"width: 113.102px; border-top: none; border-left: none; border-bottom: 1pt solid; border-right: 1pt solid; padding: 0in 5.4pt; height: 28.75px;\">\n",
    "<p class=\"MsoNormal\" align=\"right\" style=\"margin-bottom: 0in; text-align: right; line-height: normal;\"><span style=\"font-size: 10.0pt; mso-fareast-font-family: 'Times New Roman'; mso-bidi-font-family: Calibri; mso-bidi-theme-font: minor-latin;\">93%<o:p></o:p></span></p>\n",
    "</td>\n",
    "</tr>\n",
    "<tr style=\"height: 28.7969px;\">\n",
    "<td style=\"width: 105.688px; border-right: 1pt solid; border-bottom: 1pt solid; border-left: 1pt solid; border-image: initial; border-top: none; padding: 0in 5.4pt; height: 28.7969px;\">\n",
    "<p class=\"MsoNormal\" style=\"margin-bottom: 0in; line-height: normal;\"><span style=\"font-size: 10.0pt; mso-fareast-font-family: 'Times New Roman'; mso-bidi-font-family: Calibri; mso-bidi-theme-font: minor-latin;\">Fabric 5<o:p></o:p></span></p>\n",
    "</td>\n",
    "<td style=\"width: 113.086px; border-top: none; border-left: none; border-bottom: 1pt solid; border-right: 1pt solid; padding: 0in 5.4pt; height: 28.7969px;\">\n",
    "<p class=\"MsoNormal\" align=\"right\" style=\"margin-bottom: 0in; text-align: right; line-height: normal;\"><span style=\"font-size: 10.0pt; mso-fareast-font-family: 'Times New Roman'; mso-bidi-font-family: Calibri; mso-bidi-theme-font: minor-latin;\">96%<o:p></o:p></span></p>\n",
    "</td>\n",
    "<td style=\"width: 113.086px; border-top: none; border-left: none; border-bottom: 1pt solid; border-right: 1pt solid; padding: 0in 5.4pt; height: 28.7969px;\">\n",
    "<p class=\"MsoNormal\" align=\"right\" style=\"margin-bottom: 0in; text-align: right; line-height: normal;\"><span style=\"font-size: 10.0pt; mso-fareast-font-family: 'Times New Roman'; mso-bidi-font-family: Calibri; mso-bidi-theme-font: minor-latin;\">96%<o:p></o:p></span></p>\n",
    "</td>\n",
    "<td style=\"width: 113.086px; border-top: none; border-left: none; border-bottom: 1pt solid; border-right: 1pt solid; padding: 0in 5.4pt; height: 28.7969px;\">\n",
    "<p class=\"MsoNormal\" align=\"right\" style=\"margin-bottom: 0in; text-align: right; line-height: normal;\"><span style=\"font-size: 10.0pt; mso-fareast-font-family: 'Times New Roman'; mso-bidi-font-family: Calibri; mso-bidi-theme-font: minor-latin;\">98%<o:p></o:p></span></p>\n",
    "</td>\n",
    "<td style=\"width: 113.102px; border-top: none; border-left: none; border-bottom: 1pt solid; border-right: 1pt solid; padding: 0in 5.4pt; height: 28.7969px;\">\n",
    "<p class=\"MsoNormal\" align=\"right\" style=\"margin-bottom: 0in; text-align: right; line-height: normal;\"><span style=\"font-size: 10.0pt; mso-fareast-font-family: 'Times New Roman'; mso-bidi-font-family: Calibri; mso-bidi-theme-font: minor-latin;\">98%<o:p></o:p></span></p>\n",
    "</td>\n",
    "</tr>\n",
    "</tbody>\n",
    "</table>\n",
    "<p class=\"MsoNormal\"><span style=\"font-size: 10.0pt; line-height: 107%; mso-fareast-font-family: 'Times New Roman'; mso-bidi-font-family: Calibri; mso-bidi-theme-font: minor-latin;\"></span></p>\n",
    "<p class=\"MsoNormal\" style=\"margin-bottom: 0in; line-height: normal;\">Barbara thinks that 1% increment in service level is roughly equal to $5 per meter of fabric and decides to normalize the level of service to 95% to adjust the model.</p>\n",
    "<p class=\"MsoNormal\" style=\"margin-bottom: 0in; line-height: normal;\">For example, Supplier 2 supplies Fabric 1 at a 97% service level. Given that this is 2% better than the normalized level of 95%, you can create a special 'adjusted price' that is $10 less than the original price. </p>\n",
    "<p class=\"MsoNormal\">Help Barbara adjust the model from Part 3 to help the company incorporate the <strong>LOS policy into the decision-making process.</strong></p>\n",
    "<a href=\"https://youtu.be/jBMVfUyF0Yc\">Eco Pants P4 Video Walkthrough Link</a><br/>\n",
    "<iframe width=\"560\" height=\"315\"\n",
    "    src=\"https://www.youtube.com/embed/jBMVfUyF0Yc\" frameborder=\"0\" allowfullscreen>\n",
    "</iframe>"
   ]
  },
  {
   "cell_type": "code",
   "execution_count": 2,
   "metadata": {
    "execution": {
     "iopub.execute_input": "2024-07-26T20:13:15.732287Z",
     "iopub.status.busy": "2024-07-26T20:13:15.731680Z",
     "iopub.status.idle": "2024-07-26T20:13:15.757540Z",
     "shell.execute_reply": "2024-07-26T20:13:15.756951Z"
    },
    "executionInfo": {
     "elapsed": 10,
     "status": "ok",
     "timestamp": 1662571017094,
     "user": {
      "displayName": "connor makowski",
      "userId": "10315975988672690851"
     },
     "user_tz": 240
    },
    "id": "SFdM7adidA5O"
   },
   "outputs": [],
   "source": [
    "from scx.optimize import Model"
   ]
  },
  {
   "cell_type": "code",
   "execution_count": 3,
   "metadata": {
    "execution": {
     "iopub.execute_input": "2024-07-26T20:13:15.759955Z",
     "iopub.status.busy": "2024-07-26T20:13:15.759710Z",
     "iopub.status.idle": "2024-07-26T20:13:15.769764Z",
     "shell.execute_reply": "2024-07-26T20:13:15.769241Z"
    },
    "executionInfo": {
     "elapsed": 9,
     "status": "ok",
     "timestamp": 1662571017094,
     "user": {
      "displayName": "connor makowski",
      "userId": "10315975988672690851"
     },
     "user_tz": 240
    },
    "id": "rqwrp08wdCdT"
   },
   "outputs": [],
   "source": [
    "\n",
    "supply = [\n",
    "    {\n",
    "        'name': 'S1',\n",
    "        'capacity': 500,\n",
    "        'location': 'local',\n",
    "        'setup_cost': 1500,\n",
    "    },\n",
    "    {\n",
    "        'name': 'S2',\n",
    "        'capacity': 300,\n",
    "        'location': 'local',\n",
    "        'setup_cost': 2500,\n",
    "    },\n",
    "    {\n",
    "        'name': 'S3',\n",
    "        'capacity': 0,\n",
    "        'location': 'foreign',\n",
    "        'setup_cost': 800,\n",
    "    },\n",
    "    {\n",
    "        'name': 'S4',\n",
    "        'capacity': 600,\n",
    "        'location': 'local',\n",
    "        'setup_cost': 1200,\n",
    "    },\n",
    "]\n",
    "\n",
    "demand = [\n",
    "    {\n",
    "        'name':'F1',\n",
    "        'demand':396\n",
    "    },\n",
    "    {\n",
    "        'name':'F2',\n",
    "        'demand':255\n",
    "    },\n",
    "    {\n",
    "        'name':'F3',\n",
    "        'demand':289\n",
    "    },\n",
    "    {\n",
    "        'name':'F4',\n",
    "        'demand':15\n",
    "    },\n",
    "    {\n",
    "        'name':'F5',\n",
    "        'demand':61\n",
    "    },\n",
    "]\n",
    "\n",
    "cost = [\n",
    "    {\n",
    "        'material_name': 'F1',\n",
    "        'supplier_name': 'S1',\n",
    "        'cost': 167,\n",
    "        'service_level': .95\n",
    "    },\n",
    "    {\n",
    "        'material_name': 'F1',\n",
    "        'supplier_name': 'S2',\n",
    "        'cost': 154,\n",
    "        'service_level': .97\n",
    "    },\n",
    "    {\n",
    "        'material_name': 'F1',\n",
    "        'supplier_name': 'S3',\n",
    "        'cost': 70,\n",
    "        'service_level': .98\n",
    "    },\n",
    "    {\n",
    "        'material_name': 'F1',\n",
    "        'supplier_name': 'S4',\n",
    "        'cost': 68,\n",
    "        'service_level': .99\n",
    "    },\n",
    "    {\n",
    "        'material_name': 'F2',\n",
    "        'supplier_name': 'S1',\n",
    "        'cost': 63,\n",
    "        'service_level': .99\n",
    "    },\n",
    "    {\n",
    "        'material_name': 'F2',\n",
    "        'supplier_name': 'S2',\n",
    "        'cost': 196,\n",
    "        'service_level': .96\n",
    "    },\n",
    "    {\n",
    "        'material_name': 'F2',\n",
    "        'supplier_name': 'S3',\n",
    "        'cost': 170,\n",
    "        'service_level': .90\n",
    "    },\n",
    "    {\n",
    "        'material_name': 'F2',\n",
    "        'supplier_name': 'S4',\n",
    "        'cost': 87,\n",
    "        'service_level': .95\n",
    "    },\n",
    "    {\n",
    "        'material_name': 'F3',\n",
    "        'supplier_name': 'S1',\n",
    "        'cost': 93,\n",
    "        'service_level': .99\n",
    "    },\n",
    "    {\n",
    "        'material_name': 'F3',\n",
    "        'supplier_name': 'S2',\n",
    "        'cost': 151,\n",
    "        'service_level': .95\n",
    "    },\n",
    "    {\n",
    "        'material_name': 'F3',\n",
    "        'supplier_name': 'S3',\n",
    "        'cost': 165,\n",
    "        'service_level': .96\n",
    "    },\n",
    "    {\n",
    "        'material_name': 'F3',\n",
    "        'supplier_name': 'S4',\n",
    "        'cost': 73,\n",
    "        'service_level': .94\n",
    "    },\n",
    "    {\n",
    "        'material_name': 'F4',\n",
    "        'supplier_name': 'S1',\n",
    "        'cost': 148,\n",
    "        'service_level': .95\n",
    "    },\n",
    "    {\n",
    "        'material_name': 'F4',\n",
    "        'supplier_name': 'S2',\n",
    "        'cost': 136,\n",
    "        'service_level': .98\n",
    "    },\n",
    "    {\n",
    "        'material_name': 'F4',\n",
    "        'supplier_name': 'S3',\n",
    "        'cost': 72,\n",
    "        'service_level': .92\n",
    "    },\n",
    "    {\n",
    "        'material_name': 'F4',\n",
    "        'supplier_name': 'S4',\n",
    "        'cost': 64,\n",
    "        'service_level': .93\n",
    "    },\n",
    "    {\n",
    "        'material_name': 'F5',\n",
    "        'supplier_name': 'S1',\n",
    "        'cost': 189,\n",
    "        'service_level': .96\n",
    "    },\n",
    "    {\n",
    "        'material_name': 'F5',\n",
    "        'supplier_name': 'S2',\n",
    "        'cost': 106,\n",
    "        'service_level': .96\n",
    "    },\n",
    "    {\n",
    "        'material_name': 'F5',\n",
    "        'supplier_name': 'S3',\n",
    "        'cost': 195,\n",
    "        'service_level': .98\n",
    "    },\n",
    "    {\n",
    "        'material_name': 'F5',\n",
    "        'supplier_name': 'S4',\n",
    "        'cost': 125,\n",
    "        'service_level': .98\n",
    "    },\n",
    "]"
   ]
  },
  {
   "cell_type": "code",
   "execution_count": 4,
   "metadata": {
    "execution": {
     "iopub.execute_input": "2024-07-26T20:13:15.772021Z",
     "iopub.status.busy": "2024-07-26T20:13:15.771821Z",
     "iopub.status.idle": "2024-07-26T20:13:15.775400Z",
     "shell.execute_reply": "2024-07-26T20:13:15.774888Z"
    },
    "executionInfo": {
     "elapsed": 118,
     "status": "ok",
     "timestamp": 1662571121203,
     "user": {
      "displayName": "connor makowski",
      "userId": "10315975988672690851"
     },
     "user_tz": 240
    },
    "id": "t2p2iCc5eaZH"
   },
   "outputs": [],
   "source": [
    "for c in cost:\n",
    "    c['amt']=Model.variable(name=f\"{c['supplier_name']}__{c['material_name']}__amt\", lowBound=0)\n",
    "    c['adj_cost']=(c['service_level']-0.95)*100*-5+c['cost']"
   ]
  },
  {
   "cell_type": "code",
   "execution_count": 5,
   "metadata": {
    "execution": {
     "iopub.execute_input": "2024-07-26T20:13:15.777659Z",
     "iopub.status.busy": "2024-07-26T20:13:15.777416Z",
     "iopub.status.idle": "2024-07-26T20:13:15.780401Z",
     "shell.execute_reply": "2024-07-26T20:13:15.779909Z"
    }
   },
   "outputs": [],
   "source": [
    "for s in supply:\n",
    "    s['use']=Model.variable(name=f\"{s['name']}__use\", cat=\"Binary\")"
   ]
  },
  {
   "cell_type": "code",
   "execution_count": 6,
   "metadata": {
    "execution": {
     "iopub.execute_input": "2024-07-26T20:13:15.782584Z",
     "iopub.status.busy": "2024-07-26T20:13:15.782372Z",
     "iopub.status.idle": "2024-07-26T20:13:15.785002Z",
     "shell.execute_reply": "2024-07-26T20:13:15.784495Z"
    }
   },
   "outputs": [],
   "source": [
    "M=99999999"
   ]
  },
  {
   "cell_type": "code",
   "execution_count": 7,
   "metadata": {
    "execution": {
     "iopub.execute_input": "2024-07-26T20:13:15.787271Z",
     "iopub.status.busy": "2024-07-26T20:13:15.787074Z",
     "iopub.status.idle": "2024-07-26T20:13:15.804319Z",
     "shell.execute_reply": "2024-07-26T20:13:15.803816Z"
    },
    "executionInfo": {
     "elapsed": 116,
     "status": "ok",
     "timestamp": 1662571122971,
     "user": {
      "displayName": "connor makowski",
      "userId": "10315975988672690851"
     },
     "user_tz": 240
    },
    "id": "UyYaJ7YcetBD"
   },
   "outputs": [],
   "source": [
    "# Initialize the model\n",
    "my_model = Model(name=\"EcoPantsP1\", sense='minimize')\n",
    "\n",
    "\n",
    "# Add the Objective Fn\n",
    "my_model.add_objective(\n",
    "    fn=Model.sum([c['amt']*c['adj_cost'] for c in cost]) + Model.sum([s['setup_cost']*s['use'] for s in supply]),\n",
    ")\n",
    "\n",
    "# Add Constraints\n",
    "## Demand Constraint\n",
    "for d in demand:\n",
    "    my_model.add_constraint(\n",
    "        name=f\"{d['name']}__demand\",\n",
    "        fn=Model.sum([c['amt'] for c in cost if c['material_name']==d['name']]) >= d['demand'],\n",
    "    )\n",
    "\n",
    "## Supply Constraints\n",
    "for s in supply:\n",
    "    # Capacity Constraint\n",
    "    my_model.add_constraint(\n",
    "        name=f\"{s['name']}__supply\",\n",
    "        fn=Model.sum([c['amt'] for c in cost if c['supplier_name']==s['name']]) <= (s['capacity'] if s['location']=='local' else 0),\n",
    "    )\n",
    "    # Setup Cost Constraint\n",
    "    my_model.add_constraint(\n",
    "        name=f\"{s['name']}__setup\",\n",
    "        fn=Model.sum([c['amt'] for c in cost if c['supplier_name']==s['name']]) <= M*s['use'],\n",
    "    )\n",
    "\n",
    "# Solve the model\n",
    "my_model.solve()"
   ]
  },
  {
   "cell_type": "code",
   "execution_count": 8,
   "metadata": {
    "colab": {
     "base_uri": "https://localhost:8080/"
    },
    "execution": {
     "iopub.execute_input": "2024-07-26T20:13:15.806496Z",
     "iopub.status.busy": "2024-07-26T20:13:15.806297Z",
     "iopub.status.idle": "2024-07-26T20:13:15.809744Z",
     "shell.execute_reply": "2024-07-26T20:13:15.809222Z"
    },
    "executionInfo": {
     "elapsed": 215,
     "status": "ok",
     "timestamp": 1662571842935,
     "user": {
      "displayName": "connor makowski",
      "userId": "10315975988672690851"
     },
     "user_tz": 240
    },
    "id": "eYyjYe14AAWA",
    "outputId": "900f0bb7-0b1e-4af3-c18b-9c07183e4e6d"
   },
   "outputs": [
    {
     "name": "stdout",
     "output_type": "stream",
     "text": [
      "EcoPantsP1:\n",
      "MINIMIZE\n",
      "167.0*S1__F1__amt + 42.999999999999986*S1__F2__amt + 72.99999999999999*S1__F3__amt + 148.0*S1__F4__amt + 184.0*S1__F5__amt + 1500*S1__use + 144.0*S2__F1__amt + 191.0*S2__F2__amt + 151.0*S2__F3__amt + 120.99999999999999*S2__F4__amt + 101.0*S2__F5__amt + 2500*S2__use + 54.999999999999986*S3__F1__amt + 194.99999999999997*S3__F2__amt + 160.0*S3__F3__amt + 86.99999999999996*S3__F4__amt + 180.0*S3__F5__amt + 800*S3__use + 47.999999999999986*S4__F1__amt + 87.0*S4__F2__amt + 78.0*S4__F3__amt + 73.99999999999996*S4__F4__amt + 109.99999999999999*S4__F5__amt + 1200*S4__use + 0.0\n",
      "SUBJECT TO\n",
      "F1__demand: S1__F1__amt + S2__F1__amt + S3__F1__amt + S4__F1__amt >= 396\n",
      "\n",
      "F2__demand: S1__F2__amt + S2__F2__amt + S3__F2__amt + S4__F2__amt >= 255\n",
      "\n",
      "F3__demand: S1__F3__amt + S2__F3__amt + S3__F3__amt + S4__F3__amt >= 289\n",
      "\n",
      "F4__demand: S1__F4__amt + S2__F4__amt + S3__F4__amt + S4__F4__amt >= 15\n",
      "\n",
      "F5__demand: S1__F5__amt + S2__F5__amt + S3__F5__amt + S4__F5__amt >= 61\n",
      "\n",
      "S1__supply: S1__F1__amt + S1__F2__amt + S1__F3__amt + S1__F4__amt\n",
      " + S1__F5__amt <= 500\n",
      "\n",
      "S1__setup: S1__F1__amt + S1__F2__amt + S1__F3__amt + S1__F4__amt + S1__F5__amt\n",
      " - 99999999 S1__use <= 0\n",
      "\n",
      "S2__supply: S2__F1__amt + S2__F2__amt + S2__F3__amt + S2__F4__amt\n",
      " + S2__F5__amt <= 300\n",
      "\n",
      "S2__setup: S2__F1__amt + S2__F2__amt + S2__F3__amt + S2__F4__amt + S2__F5__amt\n",
      " - 99999999 S2__use <= 0\n",
      "\n",
      "S3__supply: S3__F1__amt + S3__F2__amt + S3__F3__amt + S3__F4__amt\n",
      " + S3__F5__amt <= 0\n",
      "\n",
      "S3__setup: S3__F1__amt + S3__F2__amt + S3__F3__amt + S3__F4__amt + S3__F5__amt\n",
      " - 99999999 S3__use <= 0\n",
      "\n",
      "S4__supply: S4__F1__amt + S4__F2__amt + S4__F3__amt + S4__F4__amt\n",
      " + S4__F5__amt <= 600\n",
      "\n",
      "S4__setup: S4__F1__amt + S4__F2__amt + S4__F3__amt + S4__F4__amt + S4__F5__amt\n",
      " - 99999999 S4__use <= 0\n",
      "\n",
      "VARIABLES\n",
      "S1__F1__amt Continuous\n",
      "S1__F2__amt Continuous\n",
      "S1__F3__amt Continuous\n",
      "S1__F4__amt Continuous\n",
      "S1__F5__amt Continuous\n",
      "0 <= S1__use <= 1 Integer\n",
      "S2__F1__amt Continuous\n",
      "S2__F2__amt Continuous\n",
      "S2__F3__amt Continuous\n",
      "S2__F4__amt Continuous\n",
      "S2__F5__amt Continuous\n",
      "0 <= S2__use <= 1 Integer\n",
      "S3__F1__amt Continuous\n",
      "S3__F2__amt Continuous\n",
      "S3__F3__amt Continuous\n",
      "S3__F4__amt Continuous\n",
      "S3__F5__amt Continuous\n",
      "0 <= S3__use <= 1 Integer\n",
      "S4__F1__amt Continuous\n",
      "S4__F2__amt Continuous\n",
      "S4__F3__amt Continuous\n",
      "S4__F4__amt Continuous\n",
      "S4__F5__amt Continuous\n",
      "0 <= S4__use <= 1 Integer\n",
      "\n"
     ]
    }
   ],
   "source": [
    "my_model.show_formulation()"
   ]
  },
  {
   "cell_type": "code",
   "execution_count": 9,
   "metadata": {
    "colab": {
     "base_uri": "https://localhost:8080/"
    },
    "execution": {
     "iopub.execute_input": "2024-07-26T20:13:15.811973Z",
     "iopub.status.busy": "2024-07-26T20:13:15.811774Z",
     "iopub.status.idle": "2024-07-26T20:13:15.815384Z",
     "shell.execute_reply": "2024-07-26T20:13:15.814883Z"
    },
    "executionInfo": {
     "elapsed": 233,
     "status": "ok",
     "timestamp": 1662571124783,
     "user": {
      "displayName": "connor makowski",
      "userId": "10315975988672690851"
     },
     "user_tz": 240
    },
    "id": "a5F_36LGgOpA",
    "outputId": "0a3f6668-b47d-48ff-f140-93140740f861"
   },
   "outputs": [
    {
     "name": "stdout",
     "output_type": "stream",
     "text": [
      "{'objective': 61809.999999999985,\n",
      " 'status': 'Optimal',\n",
      " 'variables': {'S1__F1__amt': 0.0,\n",
      "               'S1__F2__amt': 255.0,\n",
      "               'S1__F3__amt': 245.0,\n",
      "               'S1__F4__amt': 0.0,\n",
      "               'S1__F5__amt': 0.0,\n",
      "               'S1__use': 1.0,\n",
      "               'S2__F1__amt': 0.0,\n",
      "               'S2__F2__amt': 0.0,\n",
      "               'S2__F3__amt': 0.0,\n",
      "               'S2__F4__amt': 0.0,\n",
      "               'S2__F5__amt': 0.0,\n",
      "               'S2__use': 0.0,\n",
      "               'S3__F1__amt': 0.0,\n",
      "               'S3__F2__amt': 0.0,\n",
      "               'S3__F3__amt': 0.0,\n",
      "               'S3__F4__amt': 0.0,\n",
      "               'S3__F5__amt': 0.0,\n",
      "               'S3__use': 0.0,\n",
      "               'S4__F1__amt': 396.0,\n",
      "               'S4__F2__amt': 0.0,\n",
      "               'S4__F3__amt': 44.0,\n",
      "               'S4__F4__amt': 15.0,\n",
      "               'S4__F5__amt': 61.0,\n",
      "               'S4__use': 1.0}}\n"
     ]
    }
   ],
   "source": [
    "# Show the outputs\n",
    "my_model.show_outputs()"
   ]
  },
  {
   "cell_type": "code",
   "execution_count": 10,
   "metadata": {
    "execution": {
     "iopub.execute_input": "2024-07-26T20:13:15.817653Z",
     "iopub.status.busy": "2024-07-26T20:13:15.817437Z",
     "iopub.status.idle": "2024-07-26T20:13:15.821277Z",
     "shell.execute_reply": "2024-07-26T20:13:15.820769Z"
    }
   },
   "outputs": [
    {
     "name": "stdout",
     "output_type": "stream",
     "text": [
      "Realized cost:  80275.0\n"
     ]
    }
   ],
   "source": [
    "realized_cost = Model.sum([c['amt'].value()*c['cost'] for c in cost]) + Model.sum([s['setup_cost']*s['use'].value() for s in supply])\n",
    "print('Realized cost: ', realized_cost)"
   ]
  }
 ],
 "metadata": {
  "colab": {
   "authorship_tag": "ABX9TyMLQ0NMOIoOvmYc1neNUFlP",
   "collapsed_sections": [],
   "provenance": []
  },
  "kernelspec": {
   "display_name": "Python 3 (ipykernel)",
   "language": "python",
   "name": "python3"
  },
  "language_info": {
   "codemirror_mode": {
    "name": "ipython",
    "version": 3
   },
   "file_extension": ".py",
   "mimetype": "text/x-python",
   "name": "python",
   "nbconvert_exporter": "python",
   "pygments_lexer": "ipython3",
   "version": "3.12.3"
  }
 },
 "nbformat": 4,
 "nbformat_minor": 1
}
