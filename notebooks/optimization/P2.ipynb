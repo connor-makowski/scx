{
 "cells": [
  {
   "cell_type": "code",
   "execution_count": 1,
   "metadata": {
    "execution": {
     "iopub.execute_input": "2022-12-02T16:37:20.038487Z",
     "iopub.status.busy": "2022-12-02T16:37:20.037920Z",
     "iopub.status.idle": "2022-12-02T16:37:20.832886Z",
     "shell.execute_reply": "2022-12-02T16:37:20.832095Z"
    },
    "executionInfo": {
     "elapsed": 22188,
     "status": "ok",
     "timestamp": 1662572041932,
     "user": {
      "displayName": "connor makowski",
      "userId": "10315975988672690851"
     },
     "user_tz": 240
    },
    "id": "dtAZbhYzc4Tl"
   },
   "outputs": [
    {
     "name": "stdout",
     "output_type": "stream",
     "text": [
      "Note: you may need to restart the kernel to use updated packages.\n"
     ]
    }
   ],
   "source": [
    "pip install scx>=1.0.7"
   ]
  },
  {
   "cell_type": "code",
   "execution_count": 2,
   "metadata": {
    "execution": {
     "iopub.execute_input": "2022-12-02T16:37:20.861364Z",
     "iopub.status.busy": "2022-12-02T16:37:20.861099Z",
     "iopub.status.idle": "2022-12-02T16:37:20.873938Z",
     "shell.execute_reply": "2022-12-02T16:37:20.873339Z"
    },
    "executionInfo": {
     "elapsed": 8,
     "status": "ok",
     "timestamp": 1662572041933,
     "user": {
      "displayName": "connor makowski",
      "userId": "10315975988672690851"
     },
     "user_tz": 240
    },
    "id": "SFdM7adidA5O"
   },
   "outputs": [],
   "source": [
    "from scx.optimize import Model"
   ]
  },
  {
   "cell_type": "code",
   "execution_count": 3,
   "metadata": {
    "execution": {
     "iopub.execute_input": "2022-12-02T16:37:20.875732Z",
     "iopub.status.busy": "2022-12-02T16:37:20.875616Z",
     "iopub.status.idle": "2022-12-02T16:37:20.879920Z",
     "shell.execute_reply": "2022-12-02T16:37:20.879398Z"
    },
    "executionInfo": {
     "elapsed": 7,
     "status": "ok",
     "timestamp": 1662572041933,
     "user": {
      "displayName": "connor makowski",
      "userId": "10315975988672690851"
     },
     "user_tz": 240
    },
    "id": "rqwrp08wdCdT"
   },
   "outputs": [],
   "source": [
    "transport = [\n",
    "    {\n",
    "        'origin_name':'A1',\n",
    "        'destination_name':'R1',\n",
    "        'distance': 105,\n",
    "        'cost_per_mile':0.12,\n",
    "    },\n",
    "    {\n",
    "        'origin_name':'A1',\n",
    "        'destination_name':'R2',\n",
    "        'distance': 256,\n",
    "        'cost_per_mile':0.12,\n",
    "    },\n",
    "    {\n",
    "        'origin_name':'A1',\n",
    "        'destination_name':'R3',\n",
    "        'distance': 86,\n",
    "        'cost_per_mile':0.12,\n",
    "    },\n",
    "    {\n",
    "        'origin_name':'A2',\n",
    "        'destination_name':'R1',\n",
    "        'distance': 240,\n",
    "        'cost_per_mile':0.12,\n",
    "    },\n",
    "    {\n",
    "        'origin_name':'A2',\n",
    "        'destination_name':'R2',\n",
    "        'distance': 136,\n",
    "        'cost_per_mile':0.12,\n",
    "    },\n",
    "    {\n",
    "        'origin_name':'A2',\n",
    "        'destination_name':'R3',\n",
    "        'distance': 198,\n",
    "        'cost_per_mile':0.12,\n",
    "    },\n",
    "]\n",
    "\n",
    "demand = [\n",
    "    {\n",
    "        'name':'R1', \n",
    "        'demand':2500\n",
    "    },\n",
    "    {\n",
    "        'name':'R2', \n",
    "        'demand':4350\n",
    "    },\n",
    "    {\n",
    "        'name':'R3', \n",
    "        'demand':3296\n",
    "    },\n",
    "]"
   ]
  },
  {
   "cell_type": "code",
   "execution_count": 4,
   "metadata": {
    "execution": {
     "iopub.execute_input": "2022-12-02T16:37:20.881976Z",
     "iopub.status.busy": "2022-12-02T16:37:20.881846Z",
     "iopub.status.idle": "2022-12-02T16:37:20.884779Z",
     "shell.execute_reply": "2022-12-02T16:37:20.884360Z"
    },
    "executionInfo": {
     "elapsed": 7,
     "status": "ok",
     "timestamp": 1662572041933,
     "user": {
      "displayName": "connor makowski",
      "userId": "10315975988672690851"
     },
     "user_tz": 240
    },
    "id": "t2p2iCc5eaZH"
   },
   "outputs": [],
   "source": [
    "for t in transport:\n",
    "    # Create decision variables for each item in transport\n",
    "    t['amt']=Model.variable(name=f\"{t['origin_name']}__{t['destination_name']}__amt\", lowBound=0)\n",
    "    # Calculate the variable cost of shipping for each item in tranport\n",
    "    t['cost']=t['distance']*t['cost_per_mile']\n",
    "    # Calculate the variable profit per item shipped\n",
    "    t['profit']=45-t['cost']"
   ]
  },
  {
   "cell_type": "code",
   "execution_count": 5,
   "metadata": {
    "execution": {
     "iopub.execute_input": "2022-12-02T16:37:20.886664Z",
     "iopub.status.busy": "2022-12-02T16:37:20.886554Z",
     "iopub.status.idle": "2022-12-02T16:37:20.893947Z",
     "shell.execute_reply": "2022-12-02T16:37:20.893413Z"
    },
    "executionInfo": {
     "elapsed": 7,
     "status": "ok",
     "timestamp": 1662572041934,
     "user": {
      "displayName": "connor makowski",
      "userId": "10315975988672690851"
     },
     "user_tz": 240
    },
    "id": "UyYaJ7YcetBD"
   },
   "outputs": [],
   "source": [
    "# Initialize the my_model\n",
    "my_model = Model(name=\"Blinky22\", sense='maximize')\n",
    "\n",
    "\n",
    "# Add the Objective Fn\n",
    "my_model.add_objective(\n",
    "    fn=Model.sum([t['amt']*t['profit'] for t in transport])\n",
    ")\n",
    "\n",
    "# Add Constraints\n",
    "## Demand Constraint\n",
    "for d in demand:\n",
    "    my_model.add_constraint(\n",
    "        name=f\"{d['name']}__demand\",\n",
    "        fn=Model.sum([t['amt'] for t in transport if t['destination_name']==d['name']]) <= d['demand']\n",
    "    )\n",
    "\n",
    "# Solve the my_model\n",
    "my_model.solve()"
   ]
  },
  {
   "cell_type": "code",
   "execution_count": 6,
   "metadata": {
    "execution": {
     "iopub.execute_input": "2022-12-02T16:37:20.895858Z",
     "iopub.status.busy": "2022-12-02T16:37:20.895749Z",
     "iopub.status.idle": "2022-12-02T16:37:20.898593Z",
     "shell.execute_reply": "2022-12-02T16:37:20.898137Z"
    }
   },
   "outputs": [
    {
     "name": "stdout",
     "output_type": "stream",
     "text": [
      "Blinky22:\n",
      "MAXIMIZE\n",
      "32.4*A1__R1__amt + 14.280000000000001*A1__R2__amt + 34.68*A1__R3__amt + 16.200000000000003*A2__R1__amt + 28.68*A2__R2__amt + 21.240000000000002*A2__R3__amt + 0.0\n",
      "SUBJECT TO\n",
      "R1__demand: A1__R1__amt + A2__R1__amt <= 2500\n",
      "\n",
      "R2__demand: A1__R2__amt + A2__R2__amt <= 4350\n",
      "\n",
      "R3__demand: A1__R3__amt + A2__R3__amt <= 3296\n",
      "\n",
      "VARIABLES\n",
      "A1__R1__amt Continuous\n",
      "A1__R2__amt Continuous\n",
      "A1__R3__amt Continuous\n",
      "A2__R1__amt Continuous\n",
      "A2__R2__amt Continuous\n",
      "A2__R3__amt Continuous\n",
      "\n"
     ]
    }
   ],
   "source": [
    "my_model.show_formulation()"
   ]
  },
  {
   "cell_type": "code",
   "execution_count": 7,
   "metadata": {
    "colab": {
     "base_uri": "https://localhost:8080/"
    },
    "execution": {
     "iopub.execute_input": "2022-12-02T16:37:20.900399Z",
     "iopub.status.busy": "2022-12-02T16:37:20.900290Z",
     "iopub.status.idle": "2022-12-02T16:37:20.902968Z",
     "shell.execute_reply": "2022-12-02T16:37:20.902539Z"
    },
    "executionInfo": {
     "elapsed": 4,
     "status": "ok",
     "timestamp": 1662047740415,
     "user": {
      "displayName": "connor makowski",
      "userId": "10315975988672690851"
     },
     "user_tz": 240
    },
    "id": "a5F_36LGgOpA",
    "outputId": "28ea7ce0-4c4c-4fa5-b35e-71dff75aae75"
   },
   "outputs": [
    {
     "name": "stdout",
     "output_type": "stream",
     "text": [
      "{'objective': 320063.28,\n",
      " 'status': 'Optimal',\n",
      " 'variables': {'A1__R1__amt': 2500.0,\n",
      "               'A1__R2__amt': 0.0,\n",
      "               'A1__R3__amt': 3296.0,\n",
      "               'A2__R1__amt': 0.0,\n",
      "               'A2__R2__amt': 4350.0,\n",
      "               'A2__R3__amt': 0.0}}\n"
     ]
    }
   ],
   "source": [
    "# Show the outputs\n",
    "my_model.show_outputs()"
   ]
  }
 ],
 "metadata": {
  "colab": {
   "authorship_tag": "ABX9TyMlAWUNT5HrRqjBkClQ4AZW",
   "collapsed_sections": [],
   "provenance": []
  },
  "kernelspec": {
   "display_name": "Python 3 (ipykernel)",
   "language": "python",
   "name": "python3"
  },
  "language_info": {
   "codemirror_mode": {
    "name": "ipython",
    "version": 3
   },
   "file_extension": ".py",
   "mimetype": "text/x-python",
   "name": "python",
   "nbconvert_exporter": "python",
   "pygments_lexer": "ipython3",
   "version": "3.10.8"
  }
 },
 "nbformat": 4,
 "nbformat_minor": 1
}
